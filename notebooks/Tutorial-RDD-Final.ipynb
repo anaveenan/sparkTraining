{
 "cells": [
  {
   "cell_type": "markdown",
   "metadata": {},
   "source": [
    "## This notebook is part of Hadoop and Spark training delivered by IT-DB group\n",
    "### SPARK RDD Hands-On Lab\n",
    "_ by Prasanth Kothuri _"
   ]
  },
  {
   "cell_type": "markdown",
   "metadata": {
    "collapsed": true
   },
   "source": [
    "### Hands-On 1 - Load and inspect the data from HDFS"
   ]
  },
  {
   "cell_type": "markdown",
   "metadata": {},
   "source": [
    "#### Please execute the following steps if you are running in Spark local mode\n",
    "*SPARK context must be explicity created in local mode*"
   ]
  },
  {
   "cell_type": "code",
   "execution_count": 1,
   "metadata": {
    "collapsed": true
   },
   "outputs": [],
   "source": [
    "from pyspark import SparkContext"
   ]
  },
  {
   "cell_type": "code",
   "execution_count": 2,
   "metadata": {
    "collapsed": false
   },
   "outputs": [],
   "source": [
    "sc = SparkContext()"
   ]
  },
  {
   "cell_type": "markdown",
   "metadata": {},
   "source": [
    "#### Run the following cell to create an rdd containing the UN Pop Stats data"
   ]
  },
  {
   "cell_type": "code",
   "execution_count": 3,
   "metadata": {
    "collapsed": true
   },
   "outputs": [],
   "source": [
    "rdd = sc.textFile(\"../data/UN_Pop_Stats.csv\")"
   ]
  },
  {
   "cell_type": "markdown",
   "metadata": {
    "collapsed": false
   },
   "source": [
    "#### Lets see if the rdd contains any data; take(n) - returns the first n elements of the RDD"
   ]
  },
  {
   "cell_type": "code",
   "execution_count": 4,
   "metadata": {
    "collapsed": false
   },
   "outputs": [
    {
     "data": {
      "text/plain": [
       "[u'LocID,Location,VarID,Variant,Time,MidPeriod,SexID,Sex,AgeGrp,AgeGrpStart,AgeGrpSpan,Value',\n",
       " u'4,\"Afghanistan\",2,\"Medium\",\"1950\",1950.5,1,\"Male\",\"0-4\",0,5,630.044',\n",
       " u'4,\"Afghanistan\",2,\"Medium\",\"1950\",1950.5,1,\"Male\",\"5-9\",5,5,516.205',\n",
       " u'4,\"Afghanistan\",2,\"Medium\",\"1950\",1950.5,1,\"Male\",\"10-14\",10,5,461.378',\n",
       " u'4,\"Afghanistan\",2,\"Medium\",\"1950\",1950.5,1,\"Male\",\"15-19\",15,5,414.368']"
      ]
     },
     "execution_count": 4,
     "metadata": {},
     "output_type": "execute_result"
    }
   ],
   "source": [
    "rdd.take(5)"
   ]
  },
  {
   "cell_type": "markdown",
   "metadata": {
    "collapsed": true
   },
   "source": [
    "#### oops, there is a header, lets remove it first"
   ]
  },
  {
   "cell_type": "code",
   "execution_count": 5,
   "metadata": {
    "collapsed": true
   },
   "outputs": [],
   "source": [
    "headless_rdd = rdd.filter(lambda line: 'LocID' not in line)"
   ]
  },
  {
   "cell_type": "markdown",
   "metadata": {
    "collapsed": false
   },
   "source": [
    "#### inspect the data to see if the header is still present"
   ]
  },
  {
   "cell_type": "code",
   "execution_count": 6,
   "metadata": {
    "collapsed": false
   },
   "outputs": [
    {
     "data": {
      "text/plain": [
       "[u'4,\"Afghanistan\",2,\"Medium\",\"1950\",1950.5,1,\"Male\",\"0-4\",0,5,630.044',\n",
       " u'4,\"Afghanistan\",2,\"Medium\",\"1950\",1950.5,1,\"Male\",\"5-9\",5,5,516.205',\n",
       " u'4,\"Afghanistan\",2,\"Medium\",\"1950\",1950.5,1,\"Male\",\"10-14\",10,5,461.378',\n",
       " u'4,\"Afghanistan\",2,\"Medium\",\"1950\",1950.5,1,\"Male\",\"15-19\",15,5,414.368',\n",
       " u'4,\"Afghanistan\",2,\"Medium\",\"1950\",1950.5,1,\"Male\",\"20-24\",20,5,374.110']"
      ]
     },
     "execution_count": 6,
     "metadata": {},
     "output_type": "execute_result"
    }
   ],
   "source": [
    "headless_rdd.take(5)"
   ]
  },
  {
   "cell_type": "markdown",
   "metadata": {
    "collapsed": true
   },
   "source": [
    "### Hands-On 2 - Convert headless_rdd to an RDD containing python namedtuple objects"
   ]
  },
  {
   "cell_type": "markdown",
   "metadata": {
    "collapsed": true
   },
   "source": [
    "#### Lets import couple of things we need"
   ]
  },
  {
   "cell_type": "code",
   "execution_count": 7,
   "metadata": {
    "collapsed": true
   },
   "outputs": [],
   "source": [
    "from collections import namedtuple\n",
    "from pprint import pprint"
   ]
  },
  {
   "cell_type": "markdown",
   "metadata": {
    "collapsed": true
   },
   "source": [
    "#### schema for the namedtuple\n",
    "*Named tuples are tuples that allow their elements to be accessed by name instead of just index*"
   ]
  },
  {
   "cell_type": "code",
   "execution_count": 8,
   "metadata": {
    "collapsed": true
   },
   "outputs": [],
   "source": [
    "pData = namedtuple('pData',['LocID','Location','VarID','Variant','Time','MidPeriod','SexID','Sex','AgeGrp','AgeGrpStart','AgeGrpSpan','Value'])"
   ]
  },
  {
   "cell_type": "markdown",
   "metadata": {
    "collapsed": true
   },
   "source": [
    "#### Function to map the data"
   ]
  },
  {
   "cell_type": "code",
   "execution_count": 9,
   "metadata": {
    "collapsed": true
   },
   "outputs": [],
   "source": [
    "def map_record(record):\n",
    "  columns = record.split(\",\")[:12]\n",
    "  return pData(*columns)"
   ]
  },
  {
   "cell_type": "markdown",
   "metadata": {
    "collapsed": true
   },
   "source": [
    "#### The following map created new python namedtuple rdd"
   ]
  },
  {
   "cell_type": "code",
   "execution_count": 10,
   "metadata": {
    "collapsed": true
   },
   "outputs": [],
   "source": [
    "ntuple_rdd = headless_rdd.map(map_record)"
   ]
  },
  {
   "cell_type": "markdown",
   "metadata": {
    "collapsed": false
   },
   "source": [
    "#### Inspect the data"
   ]
  },
  {
   "cell_type": "code",
   "execution_count": 11,
   "metadata": {
    "collapsed": false
   },
   "outputs": [
    {
     "data": {
      "text/plain": [
       "[pData(LocID=u'4', Location=u'\"Afghanistan\"', VarID=u'2', Variant=u'\"Medium\"', Time=u'\"1950\"', MidPeriod=u'1950.5', SexID=u'1', Sex=u'\"Male\"', AgeGrp=u'\"0-4\"', AgeGrpStart=u'0', AgeGrpSpan=u'5', Value=u'630.044'),\n",
       " pData(LocID=u'4', Location=u'\"Afghanistan\"', VarID=u'2', Variant=u'\"Medium\"', Time=u'\"1950\"', MidPeriod=u'1950.5', SexID=u'1', Sex=u'\"Male\"', AgeGrp=u'\"5-9\"', AgeGrpStart=u'5', AgeGrpSpan=u'5', Value=u'516.205'),\n",
       " pData(LocID=u'4', Location=u'\"Afghanistan\"', VarID=u'2', Variant=u'\"Medium\"', Time=u'\"1950\"', MidPeriod=u'1950.5', SexID=u'1', Sex=u'\"Male\"', AgeGrp=u'\"10-14\"', AgeGrpStart=u'10', AgeGrpSpan=u'5', Value=u'461.378'),\n",
       " pData(LocID=u'4', Location=u'\"Afghanistan\"', VarID=u'2', Variant=u'\"Medium\"', Time=u'\"1950\"', MidPeriod=u'1950.5', SexID=u'1', Sex=u'\"Male\"', AgeGrp=u'\"15-19\"', AgeGrpStart=u'15', AgeGrpSpan=u'5', Value=u'414.368'),\n",
       " pData(LocID=u'4', Location=u'\"Afghanistan\"', VarID=u'2', Variant=u'\"Medium\"', Time=u'\"1950\"', MidPeriod=u'1950.5', SexID=u'1', Sex=u'\"Male\"', AgeGrp=u'\"20-24\"', AgeGrpStart=u'20', AgeGrpSpan=u'5', Value=u'374.110')]"
      ]
     },
     "execution_count": 11,
     "metadata": {},
     "output_type": "execute_result"
    }
   ],
   "source": [
    "ntuple_rdd.take(5)"
   ]
  },
  {
   "cell_type": "markdown",
   "metadata": {
    "collapsed": false
   },
   "source": [
    "### Hands-On 3 - Aggregate the population by Age Group for Switzerland for 2015\n",
    "*This introduces filter, map, reduceByKey transformations and collect actions*"
   ]
  },
  {
   "cell_type": "code",
   "execution_count": 12,
   "metadata": {
    "collapsed": false
   },
   "outputs": [],
   "source": [
    "plot_rdd = ntuple_rdd.filter(lambda record: record.Location =='\"Switzerland\"' and record.Time == '\"2015\"' and record.Sex in ['\"Male\"','\"Female\"']) \\\n",
    "    .map(lambda record: (int(record.AgeGrpStart),int(float(record.Value)*1000))) \\\n",
    "    .reduceByKey(lambda x,y: x+y) \\\n",
    "    .sortByKey() \\\n",
    "    .collect()"
   ]
  },
  {
   "cell_type": "markdown",
   "metadata": {
    "collapsed": true
   },
   "source": [
    "#### Lets draw the population distribution histogram"
   ]
  },
  {
   "cell_type": "code",
   "execution_count": 13,
   "metadata": {
    "collapsed": false
   },
   "outputs": [
    {
     "name": "stderr",
     "output_type": "stream",
     "text": [
      "/cvmfs/sft.cern.ch/lcg/releases/matplotlib/1.5.1-763af/x86_64-slc6-gcc49-opt/lib/python2.7/site-packages/matplotlib-1.5.1-py2.7-linux-x86_64.egg/matplotlib/font_manager.py:273: UserWarning: Matplotlib is building the font cache using fc-list. This may take a moment.\n",
      "  warnings.warn('Matplotlib is building the font cache using fc-list. This may take a moment.')\n"
     ]
    }
   ],
   "source": [
    "%matplotlib notebook\n",
    "import matplotlib.pyplot as plt"
   ]
  },
  {
   "cell_type": "code",
   "execution_count": 14,
   "metadata": {
    "collapsed": false
   },
   "outputs": [
    {
     "data": {
      "application/javascript": [
       "/* Put everything inside the global mpl namespace */\n",
       "window.mpl = {};\n",
       "\n",
       "mpl.get_websocket_type = function() {\n",
       "    if (typeof(WebSocket) !== 'undefined') {\n",
       "        return WebSocket;\n",
       "    } else if (typeof(MozWebSocket) !== 'undefined') {\n",
       "        return MozWebSocket;\n",
       "    } else {\n",
       "        alert('Your browser does not have WebSocket support.' +\n",
       "              'Please try Chrome, Safari or Firefox ≥ 6. ' +\n",
       "              'Firefox 4 and 5 are also supported but you ' +\n",
       "              'have to enable WebSockets in about:config.');\n",
       "    };\n",
       "}\n",
       "\n",
       "mpl.figure = function(figure_id, websocket, ondownload, parent_element) {\n",
       "    this.id = figure_id;\n",
       "\n",
       "    this.ws = websocket;\n",
       "\n",
       "    this.supports_binary = (this.ws.binaryType != undefined);\n",
       "\n",
       "    if (!this.supports_binary) {\n",
       "        var warnings = document.getElementById(\"mpl-warnings\");\n",
       "        if (warnings) {\n",
       "            warnings.style.display = 'block';\n",
       "            warnings.textContent = (\n",
       "                \"This browser does not support binary websocket messages. \" +\n",
       "                    \"Performance may be slow.\");\n",
       "        }\n",
       "    }\n",
       "\n",
       "    this.imageObj = new Image();\n",
       "\n",
       "    this.context = undefined;\n",
       "    this.message = undefined;\n",
       "    this.canvas = undefined;\n",
       "    this.rubberband_canvas = undefined;\n",
       "    this.rubberband_context = undefined;\n",
       "    this.format_dropdown = undefined;\n",
       "\n",
       "    this.image_mode = 'full';\n",
       "\n",
       "    this.root = $('<div/>');\n",
       "    this._root_extra_style(this.root)\n",
       "    this.root.attr('style', 'display: inline-block');\n",
       "\n",
       "    $(parent_element).append(this.root);\n",
       "\n",
       "    this._init_header(this);\n",
       "    this._init_canvas(this);\n",
       "    this._init_toolbar(this);\n",
       "\n",
       "    var fig = this;\n",
       "\n",
       "    this.waiting = false;\n",
       "\n",
       "    this.ws.onopen =  function () {\n",
       "            fig.send_message(\"supports_binary\", {value: fig.supports_binary});\n",
       "            fig.send_message(\"send_image_mode\", {});\n",
       "            fig.send_message(\"refresh\", {});\n",
       "        }\n",
       "\n",
       "    this.imageObj.onload = function() {\n",
       "            if (fig.image_mode == 'full') {\n",
       "                // Full images could contain transparency (where diff images\n",
       "                // almost always do), so we need to clear the canvas so that\n",
       "                // there is no ghosting.\n",
       "                fig.context.clearRect(0, 0, fig.canvas.width, fig.canvas.height);\n",
       "            }\n",
       "            fig.context.drawImage(fig.imageObj, 0, 0);\n",
       "        };\n",
       "\n",
       "    this.imageObj.onunload = function() {\n",
       "        this.ws.close();\n",
       "    }\n",
       "\n",
       "    this.ws.onmessage = this._make_on_message_function(this);\n",
       "\n",
       "    this.ondownload = ondownload;\n",
       "}\n",
       "\n",
       "mpl.figure.prototype._init_header = function() {\n",
       "    var titlebar = $(\n",
       "        '<div class=\"ui-dialog-titlebar ui-widget-header ui-corner-all ' +\n",
       "        'ui-helper-clearfix\"/>');\n",
       "    var titletext = $(\n",
       "        '<div class=\"ui-dialog-title\" style=\"width: 100%; ' +\n",
       "        'text-align: center; padding: 3px;\"/>');\n",
       "    titlebar.append(titletext)\n",
       "    this.root.append(titlebar);\n",
       "    this.header = titletext[0];\n",
       "}\n",
       "\n",
       "\n",
       "\n",
       "mpl.figure.prototype._canvas_extra_style = function(canvas_div) {\n",
       "\n",
       "}\n",
       "\n",
       "\n",
       "mpl.figure.prototype._root_extra_style = function(canvas_div) {\n",
       "\n",
       "}\n",
       "\n",
       "mpl.figure.prototype._init_canvas = function() {\n",
       "    var fig = this;\n",
       "\n",
       "    var canvas_div = $('<div/>');\n",
       "\n",
       "    canvas_div.attr('style', 'position: relative; clear: both; outline: 0');\n",
       "\n",
       "    function canvas_keyboard_event(event) {\n",
       "        return fig.key_event(event, event['data']);\n",
       "    }\n",
       "\n",
       "    canvas_div.keydown('key_press', canvas_keyboard_event);\n",
       "    canvas_div.keyup('key_release', canvas_keyboard_event);\n",
       "    this.canvas_div = canvas_div\n",
       "    this._canvas_extra_style(canvas_div)\n",
       "    this.root.append(canvas_div);\n",
       "\n",
       "    var canvas = $('<canvas/>');\n",
       "    canvas.addClass('mpl-canvas');\n",
       "    canvas.attr('style', \"left: 0; top: 0; z-index: 0; outline: 0\")\n",
       "\n",
       "    this.canvas = canvas[0];\n",
       "    this.context = canvas[0].getContext(\"2d\");\n",
       "\n",
       "    var rubberband = $('<canvas/>');\n",
       "    rubberband.attr('style', \"position: absolute; left: 0; top: 0; z-index: 1;\")\n",
       "\n",
       "    var pass_mouse_events = true;\n",
       "\n",
       "    canvas_div.resizable({\n",
       "        start: function(event, ui) {\n",
       "            pass_mouse_events = false;\n",
       "        },\n",
       "        resize: function(event, ui) {\n",
       "            fig.request_resize(ui.size.width, ui.size.height);\n",
       "        },\n",
       "        stop: function(event, ui) {\n",
       "            pass_mouse_events = true;\n",
       "            fig.request_resize(ui.size.width, ui.size.height);\n",
       "        },\n",
       "    });\n",
       "\n",
       "    function mouse_event_fn(event) {\n",
       "        if (pass_mouse_events)\n",
       "            return fig.mouse_event(event, event['data']);\n",
       "    }\n",
       "\n",
       "    rubberband.mousedown('button_press', mouse_event_fn);\n",
       "    rubberband.mouseup('button_release', mouse_event_fn);\n",
       "    // Throttle sequential mouse events to 1 every 20ms.\n",
       "    rubberband.mousemove('motion_notify', mouse_event_fn);\n",
       "\n",
       "    rubberband.mouseenter('figure_enter', mouse_event_fn);\n",
       "    rubberband.mouseleave('figure_leave', mouse_event_fn);\n",
       "\n",
       "    canvas_div.on(\"wheel\", function (event) {\n",
       "        event = event.originalEvent;\n",
       "        event['data'] = 'scroll'\n",
       "        if (event.deltaY < 0) {\n",
       "            event.step = 1;\n",
       "        } else {\n",
       "            event.step = -1;\n",
       "        }\n",
       "        mouse_event_fn(event);\n",
       "    });\n",
       "\n",
       "    canvas_div.append(canvas);\n",
       "    canvas_div.append(rubberband);\n",
       "\n",
       "    this.rubberband = rubberband;\n",
       "    this.rubberband_canvas = rubberband[0];\n",
       "    this.rubberband_context = rubberband[0].getContext(\"2d\");\n",
       "    this.rubberband_context.strokeStyle = \"#000000\";\n",
       "\n",
       "    this._resize_canvas = function(width, height) {\n",
       "        // Keep the size of the canvas, canvas container, and rubber band\n",
       "        // canvas in synch.\n",
       "        canvas_div.css('width', width)\n",
       "        canvas_div.css('height', height)\n",
       "\n",
       "        canvas.attr('width', width);\n",
       "        canvas.attr('height', height);\n",
       "\n",
       "        rubberband.attr('width', width);\n",
       "        rubberband.attr('height', height);\n",
       "    }\n",
       "\n",
       "    // Set the figure to an initial 600x600px, this will subsequently be updated\n",
       "    // upon first draw.\n",
       "    this._resize_canvas(600, 600);\n",
       "\n",
       "    // Disable right mouse context menu.\n",
       "    $(this.rubberband_canvas).bind(\"contextmenu\",function(e){\n",
       "        return false;\n",
       "    });\n",
       "\n",
       "    function set_focus () {\n",
       "        canvas.focus();\n",
       "        canvas_div.focus();\n",
       "    }\n",
       "\n",
       "    window.setTimeout(set_focus, 100);\n",
       "}\n",
       "\n",
       "mpl.figure.prototype._init_toolbar = function() {\n",
       "    var fig = this;\n",
       "\n",
       "    var nav_element = $('<div/>')\n",
       "    nav_element.attr('style', 'width: 100%');\n",
       "    this.root.append(nav_element);\n",
       "\n",
       "    // Define a callback function for later on.\n",
       "    function toolbar_event(event) {\n",
       "        return fig.toolbar_button_onclick(event['data']);\n",
       "    }\n",
       "    function toolbar_mouse_event(event) {\n",
       "        return fig.toolbar_button_onmouseover(event['data']);\n",
       "    }\n",
       "\n",
       "    for(var toolbar_ind in mpl.toolbar_items) {\n",
       "        var name = mpl.toolbar_items[toolbar_ind][0];\n",
       "        var tooltip = mpl.toolbar_items[toolbar_ind][1];\n",
       "        var image = mpl.toolbar_items[toolbar_ind][2];\n",
       "        var method_name = mpl.toolbar_items[toolbar_ind][3];\n",
       "\n",
       "        if (!name) {\n",
       "            // put a spacer in here.\n",
       "            continue;\n",
       "        }\n",
       "        var button = $('<button/>');\n",
       "        button.addClass('ui-button ui-widget ui-state-default ui-corner-all ' +\n",
       "                        'ui-button-icon-only');\n",
       "        button.attr('role', 'button');\n",
       "        button.attr('aria-disabled', 'false');\n",
       "        button.click(method_name, toolbar_event);\n",
       "        button.mouseover(tooltip, toolbar_mouse_event);\n",
       "\n",
       "        var icon_img = $('<span/>');\n",
       "        icon_img.addClass('ui-button-icon-primary ui-icon');\n",
       "        icon_img.addClass(image);\n",
       "        icon_img.addClass('ui-corner-all');\n",
       "\n",
       "        var tooltip_span = $('<span/>');\n",
       "        tooltip_span.addClass('ui-button-text');\n",
       "        tooltip_span.html(tooltip);\n",
       "\n",
       "        button.append(icon_img);\n",
       "        button.append(tooltip_span);\n",
       "\n",
       "        nav_element.append(button);\n",
       "    }\n",
       "\n",
       "    var fmt_picker_span = $('<span/>');\n",
       "\n",
       "    var fmt_picker = $('<select/>');\n",
       "    fmt_picker.addClass('mpl-toolbar-option ui-widget ui-widget-content');\n",
       "    fmt_picker_span.append(fmt_picker);\n",
       "    nav_element.append(fmt_picker_span);\n",
       "    this.format_dropdown = fmt_picker[0];\n",
       "\n",
       "    for (var ind in mpl.extensions) {\n",
       "        var fmt = mpl.extensions[ind];\n",
       "        var option = $(\n",
       "            '<option/>', {selected: fmt === mpl.default_extension}).html(fmt);\n",
       "        fmt_picker.append(option)\n",
       "    }\n",
       "\n",
       "    // Add hover states to the ui-buttons\n",
       "    $( \".ui-button\" ).hover(\n",
       "        function() { $(this).addClass(\"ui-state-hover\");},\n",
       "        function() { $(this).removeClass(\"ui-state-hover\");}\n",
       "    );\n",
       "\n",
       "    var status_bar = $('<span class=\"mpl-message\"/>');\n",
       "    nav_element.append(status_bar);\n",
       "    this.message = status_bar[0];\n",
       "}\n",
       "\n",
       "mpl.figure.prototype.request_resize = function(x_pixels, y_pixels) {\n",
       "    // Request matplotlib to resize the figure. Matplotlib will then trigger a resize in the client,\n",
       "    // which will in turn request a refresh of the image.\n",
       "    this.send_message('resize', {'width': x_pixels, 'height': y_pixels});\n",
       "}\n",
       "\n",
       "mpl.figure.prototype.send_message = function(type, properties) {\n",
       "    properties['type'] = type;\n",
       "    properties['figure_id'] = this.id;\n",
       "    this.ws.send(JSON.stringify(properties));\n",
       "}\n",
       "\n",
       "mpl.figure.prototype.send_draw_message = function() {\n",
       "    if (!this.waiting) {\n",
       "        this.waiting = true;\n",
       "        this.ws.send(JSON.stringify({type: \"draw\", figure_id: this.id}));\n",
       "    }\n",
       "}\n",
       "\n",
       "\n",
       "mpl.figure.prototype.handle_save = function(fig, msg) {\n",
       "    var format_dropdown = fig.format_dropdown;\n",
       "    var format = format_dropdown.options[format_dropdown.selectedIndex].value;\n",
       "    fig.ondownload(fig, format);\n",
       "}\n",
       "\n",
       "\n",
       "mpl.figure.prototype.handle_resize = function(fig, msg) {\n",
       "    var size = msg['size'];\n",
       "    if (size[0] != fig.canvas.width || size[1] != fig.canvas.height) {\n",
       "        fig._resize_canvas(size[0], size[1]);\n",
       "        fig.send_message(\"refresh\", {});\n",
       "    };\n",
       "}\n",
       "\n",
       "mpl.figure.prototype.handle_rubberband = function(fig, msg) {\n",
       "    var x0 = msg['x0'];\n",
       "    var y0 = fig.canvas.height - msg['y0'];\n",
       "    var x1 = msg['x1'];\n",
       "    var y1 = fig.canvas.height - msg['y1'];\n",
       "    x0 = Math.floor(x0) + 0.5;\n",
       "    y0 = Math.floor(y0) + 0.5;\n",
       "    x1 = Math.floor(x1) + 0.5;\n",
       "    y1 = Math.floor(y1) + 0.5;\n",
       "    var min_x = Math.min(x0, x1);\n",
       "    var min_y = Math.min(y0, y1);\n",
       "    var width = Math.abs(x1 - x0);\n",
       "    var height = Math.abs(y1 - y0);\n",
       "\n",
       "    fig.rubberband_context.clearRect(\n",
       "        0, 0, fig.canvas.width, fig.canvas.height);\n",
       "\n",
       "    fig.rubberband_context.strokeRect(min_x, min_y, width, height);\n",
       "}\n",
       "\n",
       "mpl.figure.prototype.handle_figure_label = function(fig, msg) {\n",
       "    // Updates the figure title.\n",
       "    fig.header.textContent = msg['label'];\n",
       "}\n",
       "\n",
       "mpl.figure.prototype.handle_cursor = function(fig, msg) {\n",
       "    var cursor = msg['cursor'];\n",
       "    switch(cursor)\n",
       "    {\n",
       "    case 0:\n",
       "        cursor = 'pointer';\n",
       "        break;\n",
       "    case 1:\n",
       "        cursor = 'default';\n",
       "        break;\n",
       "    case 2:\n",
       "        cursor = 'crosshair';\n",
       "        break;\n",
       "    case 3:\n",
       "        cursor = 'move';\n",
       "        break;\n",
       "    }\n",
       "    fig.rubberband_canvas.style.cursor = cursor;\n",
       "}\n",
       "\n",
       "mpl.figure.prototype.handle_message = function(fig, msg) {\n",
       "    fig.message.textContent = msg['message'];\n",
       "}\n",
       "\n",
       "mpl.figure.prototype.handle_draw = function(fig, msg) {\n",
       "    // Request the server to send over a new figure.\n",
       "    fig.send_draw_message();\n",
       "}\n",
       "\n",
       "mpl.figure.prototype.handle_image_mode = function(fig, msg) {\n",
       "    fig.image_mode = msg['mode'];\n",
       "}\n",
       "\n",
       "mpl.figure.prototype.updated_canvas_event = function() {\n",
       "    // Called whenever the canvas gets updated.\n",
       "    this.send_message(\"ack\", {});\n",
       "}\n",
       "\n",
       "// A function to construct a web socket function for onmessage handling.\n",
       "// Called in the figure constructor.\n",
       "mpl.figure.prototype._make_on_message_function = function(fig) {\n",
       "    return function socket_on_message(evt) {\n",
       "        if (evt.data instanceof Blob) {\n",
       "            /* FIXME: We get \"Resource interpreted as Image but\n",
       "             * transferred with MIME type text/plain:\" errors on\n",
       "             * Chrome.  But how to set the MIME type?  It doesn't seem\n",
       "             * to be part of the websocket stream */\n",
       "            evt.data.type = \"image/png\";\n",
       "\n",
       "            /* Free the memory for the previous frames */\n",
       "            if (fig.imageObj.src) {\n",
       "                (window.URL || window.webkitURL).revokeObjectURL(\n",
       "                    fig.imageObj.src);\n",
       "            }\n",
       "\n",
       "            fig.imageObj.src = (window.URL || window.webkitURL).createObjectURL(\n",
       "                evt.data);\n",
       "            fig.updated_canvas_event();\n",
       "            fig.waiting = false;\n",
       "            return;\n",
       "        }\n",
       "        else if (typeof evt.data === 'string' && evt.data.slice(0, 21) == \"data:image/png;base64\") {\n",
       "            fig.imageObj.src = evt.data;\n",
       "            fig.updated_canvas_event();\n",
       "            fig.waiting = false;\n",
       "            return;\n",
       "        }\n",
       "\n",
       "        var msg = JSON.parse(evt.data);\n",
       "        var msg_type = msg['type'];\n",
       "\n",
       "        // Call the  \"handle_{type}\" callback, which takes\n",
       "        // the figure and JSON message as its only arguments.\n",
       "        try {\n",
       "            var callback = fig[\"handle_\" + msg_type];\n",
       "        } catch (e) {\n",
       "            console.log(\"No handler for the '\" + msg_type + \"' message type: \", msg);\n",
       "            return;\n",
       "        }\n",
       "\n",
       "        if (callback) {\n",
       "            try {\n",
       "                // console.log(\"Handling '\" + msg_type + \"' message: \", msg);\n",
       "                callback(fig, msg);\n",
       "            } catch (e) {\n",
       "                console.log(\"Exception inside the 'handler_\" + msg_type + \"' callback:\", e, e.stack, msg);\n",
       "            }\n",
       "        }\n",
       "    };\n",
       "}\n",
       "\n",
       "// from http://stackoverflow.com/questions/1114465/getting-mouse-location-in-canvas\n",
       "mpl.findpos = function(e) {\n",
       "    //this section is from http://www.quirksmode.org/js/events_properties.html\n",
       "    var targ;\n",
       "    if (!e)\n",
       "        e = window.event;\n",
       "    if (e.target)\n",
       "        targ = e.target;\n",
       "    else if (e.srcElement)\n",
       "        targ = e.srcElement;\n",
       "    if (targ.nodeType == 3) // defeat Safari bug\n",
       "        targ = targ.parentNode;\n",
       "\n",
       "    // jQuery normalizes the pageX and pageY\n",
       "    // pageX,Y are the mouse positions relative to the document\n",
       "    // offset() returns the position of the element relative to the document\n",
       "    var x = e.pageX - $(targ).offset().left;\n",
       "    var y = e.pageY - $(targ).offset().top;\n",
       "\n",
       "    return {\"x\": x, \"y\": y};\n",
       "};\n",
       "\n",
       "/*\n",
       " * return a copy of an object with only non-object keys\n",
       " * we need this to avoid circular references\n",
       " * http://stackoverflow.com/a/24161582/3208463\n",
       " */\n",
       "function simpleKeys (original) {\n",
       "  return Object.keys(original).reduce(function (obj, key) {\n",
       "    if (typeof original[key] !== 'object')\n",
       "        obj[key] = original[key]\n",
       "    return obj;\n",
       "  }, {});\n",
       "}\n",
       "\n",
       "mpl.figure.prototype.mouse_event = function(event, name) {\n",
       "    var canvas_pos = mpl.findpos(event)\n",
       "\n",
       "    if (name === 'button_press')\n",
       "    {\n",
       "        this.canvas.focus();\n",
       "        this.canvas_div.focus();\n",
       "    }\n",
       "\n",
       "    var x = canvas_pos.x;\n",
       "    var y = canvas_pos.y;\n",
       "\n",
       "    this.send_message(name, {x: x, y: y, button: event.button,\n",
       "                             step: event.step,\n",
       "                             guiEvent: simpleKeys(event)});\n",
       "\n",
       "    /* This prevents the web browser from automatically changing to\n",
       "     * the text insertion cursor when the button is pressed.  We want\n",
       "     * to control all of the cursor setting manually through the\n",
       "     * 'cursor' event from matplotlib */\n",
       "    event.preventDefault();\n",
       "    return false;\n",
       "}\n",
       "\n",
       "mpl.figure.prototype._key_event_extra = function(event, name) {\n",
       "    // Handle any extra behaviour associated with a key event\n",
       "}\n",
       "\n",
       "mpl.figure.prototype.key_event = function(event, name) {\n",
       "\n",
       "    // Prevent repeat events\n",
       "    if (name == 'key_press')\n",
       "    {\n",
       "        if (event.which === this._key)\n",
       "            return;\n",
       "        else\n",
       "            this._key = event.which;\n",
       "    }\n",
       "    if (name == 'key_release')\n",
       "        this._key = null;\n",
       "\n",
       "    var value = '';\n",
       "    if (event.ctrlKey && event.which != 17)\n",
       "        value += \"ctrl+\";\n",
       "    if (event.altKey && event.which != 18)\n",
       "        value += \"alt+\";\n",
       "    if (event.shiftKey && event.which != 16)\n",
       "        value += \"shift+\";\n",
       "\n",
       "    value += 'k';\n",
       "    value += event.which.toString();\n",
       "\n",
       "    this._key_event_extra(event, name);\n",
       "\n",
       "    this.send_message(name, {key: value,\n",
       "                             guiEvent: simpleKeys(event)});\n",
       "    return false;\n",
       "}\n",
       "\n",
       "mpl.figure.prototype.toolbar_button_onclick = function(name) {\n",
       "    if (name == 'download') {\n",
       "        this.handle_save(this, null);\n",
       "    } else {\n",
       "        this.send_message(\"toolbar_button\", {name: name});\n",
       "    }\n",
       "};\n",
       "\n",
       "mpl.figure.prototype.toolbar_button_onmouseover = function(tooltip) {\n",
       "    this.message.textContent = tooltip;\n",
       "};\n",
       "mpl.toolbar_items = [[\"Home\", \"Reset original view\", \"fa fa-home icon-home\", \"home\"], [\"Back\", \"Back to  previous view\", \"fa fa-arrow-left icon-arrow-left\", \"back\"], [\"Forward\", \"Forward to next view\", \"fa fa-arrow-right icon-arrow-right\", \"forward\"], [\"\", \"\", \"\", \"\"], [\"Pan\", \"Pan axes with left mouse, zoom with right\", \"fa fa-arrows icon-move\", \"pan\"], [\"Zoom\", \"Zoom to rectangle\", \"fa fa-square-o icon-check-empty\", \"zoom\"], [\"\", \"\", \"\", \"\"], [\"Download\", \"Download plot\", \"fa fa-floppy-o icon-save\", \"download\"]];\n",
       "\n",
       "mpl.extensions = [\"eps\", \"pdf\", \"png\", \"ps\", \"raw\", \"svg\"];\n",
       "\n",
       "mpl.default_extension = \"png\";var comm_websocket_adapter = function(comm) {\n",
       "    // Create a \"websocket\"-like object which calls the given IPython comm\n",
       "    // object with the appropriate methods. Currently this is a non binary\n",
       "    // socket, so there is still some room for performance tuning.\n",
       "    var ws = {};\n",
       "\n",
       "    ws.close = function() {\n",
       "        comm.close()\n",
       "    };\n",
       "    ws.send = function(m) {\n",
       "        //console.log('sending', m);\n",
       "        comm.send(m);\n",
       "    };\n",
       "    // Register the callback with on_msg.\n",
       "    comm.on_msg(function(msg) {\n",
       "        //console.log('receiving', msg['content']['data'], msg);\n",
       "        // Pass the mpl event to the overriden (by mpl) onmessage function.\n",
       "        ws.onmessage(msg['content']['data'])\n",
       "    });\n",
       "    return ws;\n",
       "}\n",
       "\n",
       "mpl.mpl_figure_comm = function(comm, msg) {\n",
       "    // This is the function which gets called when the mpl process\n",
       "    // starts-up an IPython Comm through the \"matplotlib\" channel.\n",
       "\n",
       "    var id = msg.content.data.id;\n",
       "    // Get hold of the div created by the display call when the Comm\n",
       "    // socket was opened in Python.\n",
       "    var element = $(\"#\" + id);\n",
       "    var ws_proxy = comm_websocket_adapter(comm)\n",
       "\n",
       "    function ondownload(figure, format) {\n",
       "        window.open(figure.imageObj.src);\n",
       "    }\n",
       "\n",
       "    var fig = new mpl.figure(id, ws_proxy,\n",
       "                           ondownload,\n",
       "                           element.get(0));\n",
       "\n",
       "    // Call onopen now - mpl needs it, as it is assuming we've passed it a real\n",
       "    // web socket which is closed, not our websocket->open comm proxy.\n",
       "    ws_proxy.onopen();\n",
       "\n",
       "    fig.parent_element = element.get(0);\n",
       "    fig.cell_info = mpl.find_output_cell(\"<div id='\" + id + \"'></div>\");\n",
       "    if (!fig.cell_info) {\n",
       "        console.error(\"Failed to find cell for figure\", id, fig);\n",
       "        return;\n",
       "    }\n",
       "\n",
       "    var output_index = fig.cell_info[2]\n",
       "    var cell = fig.cell_info[0];\n",
       "\n",
       "};\n",
       "\n",
       "mpl.figure.prototype.handle_close = function(fig, msg) {\n",
       "    fig.root.unbind('remove')\n",
       "\n",
       "    // Update the output cell to use the data from the current canvas.\n",
       "    fig.push_to_output();\n",
       "    var dataURL = fig.canvas.toDataURL();\n",
       "    // Re-enable the keyboard manager in IPython - without this line, in FF,\n",
       "    // the notebook keyboard shortcuts fail.\n",
       "    IPython.keyboard_manager.enable()\n",
       "    $(fig.parent_element).html('<img src=\"' + dataURL + '\">');\n",
       "    fig.close_ws(fig, msg);\n",
       "}\n",
       "\n",
       "mpl.figure.prototype.close_ws = function(fig, msg){\n",
       "    fig.send_message('closing', msg);\n",
       "    // fig.ws.close()\n",
       "}\n",
       "\n",
       "mpl.figure.prototype.push_to_output = function(remove_interactive) {\n",
       "    // Turn the data on the canvas into data in the output cell.\n",
       "    var dataURL = this.canvas.toDataURL();\n",
       "    this.cell_info[1]['text/html'] = '<img src=\"' + dataURL + '\">';\n",
       "}\n",
       "\n",
       "mpl.figure.prototype.updated_canvas_event = function() {\n",
       "    // Tell IPython that the notebook contents must change.\n",
       "    IPython.notebook.set_dirty(true);\n",
       "    this.send_message(\"ack\", {});\n",
       "    var fig = this;\n",
       "    // Wait a second, then push the new image to the DOM so\n",
       "    // that it is saved nicely (might be nice to debounce this).\n",
       "    setTimeout(function () { fig.push_to_output() }, 1000);\n",
       "}\n",
       "\n",
       "mpl.figure.prototype._init_toolbar = function() {\n",
       "    var fig = this;\n",
       "\n",
       "    var nav_element = $('<div/>')\n",
       "    nav_element.attr('style', 'width: 100%');\n",
       "    this.root.append(nav_element);\n",
       "\n",
       "    // Define a callback function for later on.\n",
       "    function toolbar_event(event) {\n",
       "        return fig.toolbar_button_onclick(event['data']);\n",
       "    }\n",
       "    function toolbar_mouse_event(event) {\n",
       "        return fig.toolbar_button_onmouseover(event['data']);\n",
       "    }\n",
       "\n",
       "    for(var toolbar_ind in mpl.toolbar_items){\n",
       "        var name = mpl.toolbar_items[toolbar_ind][0];\n",
       "        var tooltip = mpl.toolbar_items[toolbar_ind][1];\n",
       "        var image = mpl.toolbar_items[toolbar_ind][2];\n",
       "        var method_name = mpl.toolbar_items[toolbar_ind][3];\n",
       "\n",
       "        if (!name) { continue; };\n",
       "\n",
       "        var button = $('<button class=\"btn btn-default\" href=\"#\" title=\"' + name + '\"><i class=\"fa ' + image + ' fa-lg\"></i></button>');\n",
       "        button.click(method_name, toolbar_event);\n",
       "        button.mouseover(tooltip, toolbar_mouse_event);\n",
       "        nav_element.append(button);\n",
       "    }\n",
       "\n",
       "    // Add the status bar.\n",
       "    var status_bar = $('<span class=\"mpl-message\" style=\"text-align:right; float: right;\"/>');\n",
       "    nav_element.append(status_bar);\n",
       "    this.message = status_bar[0];\n",
       "\n",
       "    // Add the close button to the window.\n",
       "    var buttongrp = $('<div class=\"btn-group inline pull-right\"></div>');\n",
       "    var button = $('<button class=\"btn btn-mini btn-primary\" href=\"#\" title=\"Stop Interaction\"><i class=\"fa fa-power-off icon-remove icon-large\"></i></button>');\n",
       "    button.click(function (evt) { fig.handle_close(fig, {}); } );\n",
       "    button.mouseover('Stop Interaction', toolbar_mouse_event);\n",
       "    buttongrp.append(button);\n",
       "    var titlebar = this.root.find($('.ui-dialog-titlebar'));\n",
       "    titlebar.prepend(buttongrp);\n",
       "}\n",
       "\n",
       "mpl.figure.prototype._root_extra_style = function(el){\n",
       "    var fig = this\n",
       "    el.on(\"remove\", function(){\n",
       "\tfig.close_ws(fig, {});\n",
       "    });\n",
       "}\n",
       "\n",
       "mpl.figure.prototype._canvas_extra_style = function(el){\n",
       "    // this is important to make the div 'focusable\n",
       "    el.attr('tabindex', 0)\n",
       "    // reach out to IPython and tell the keyboard manager to turn it's self\n",
       "    // off when our div gets focus\n",
       "\n",
       "    // location in version 3\n",
       "    if (IPython.notebook.keyboard_manager) {\n",
       "        IPython.notebook.keyboard_manager.register_events(el);\n",
       "    }\n",
       "    else {\n",
       "        // location in version 2\n",
       "        IPython.keyboard_manager.register_events(el);\n",
       "    }\n",
       "\n",
       "}\n",
       "\n",
       "mpl.figure.prototype._key_event_extra = function(event, name) {\n",
       "    var manager = IPython.notebook.keyboard_manager;\n",
       "    if (!manager)\n",
       "        manager = IPython.keyboard_manager;\n",
       "\n",
       "    // Check for shift+enter\n",
       "    if (event.shiftKey && event.which == 13) {\n",
       "        this.canvas_div.blur();\n",
       "        event.shiftKey = false;\n",
       "        // Send a \"J\" for go to next cell\n",
       "        event.which = 74;\n",
       "        event.keyCode = 74;\n",
       "        manager.command_mode();\n",
       "        manager.handle_keydown(event);\n",
       "    }\n",
       "}\n",
       "\n",
       "mpl.figure.prototype.handle_save = function(fig, msg) {\n",
       "    fig.ondownload(fig, null);\n",
       "}\n",
       "\n",
       "\n",
       "mpl.find_output_cell = function(html_output) {\n",
       "    // Return the cell and output element which can be found *uniquely* in the notebook.\n",
       "    // Note - this is a bit hacky, but it is done because the \"notebook_saving.Notebook\"\n",
       "    // IPython event is triggered only after the cells have been serialised, which for\n",
       "    // our purposes (turning an active figure into a static one), is too late.\n",
       "    var cells = IPython.notebook.get_cells();\n",
       "    var ncells = cells.length;\n",
       "    for (var i=0; i<ncells; i++) {\n",
       "        var cell = cells[i];\n",
       "        if (cell.cell_type === 'code'){\n",
       "            for (var j=0; j<cell.output_area.outputs.length; j++) {\n",
       "                var data = cell.output_area.outputs[j];\n",
       "                if (data.data) {\n",
       "                    // IPython >= 3 moved mimebundle to data attribute of output\n",
       "                    data = data.data;\n",
       "                }\n",
       "                if (data['text/html'] == html_output) {\n",
       "                    return [cell, data, j];\n",
       "                }\n",
       "            }\n",
       "        }\n",
       "    }\n",
       "}\n",
       "\n",
       "// Register the function which deals with the matplotlib target/channel.\n",
       "// The kernel may be null if the page has been refreshed.\n",
       "if (IPython.notebook.kernel != null) {\n",
       "    IPython.notebook.kernel.comm_manager.register_target('matplotlib', mpl.mpl_figure_comm);\n",
       "}\n"
      ],
      "text/plain": [
       "<IPython.core.display.Javascript object>"
      ]
     },
     "metadata": {},
     "output_type": "display_data"
    },
    {
     "data": {
      "text/html": [
       "<img src=\"data:image/png;base64,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\">"
      ],
      "text/plain": [
       "<IPython.core.display.HTML object>"
      ]
     },
     "metadata": {},
     "output_type": "display_data"
    },
    {
     "name": "stdout",
     "output_type": "stream",
     "text": [
      "[(0, 423175), (5, 405366), (10, 397616), (15, 435016), (20, 509516), (25, 557227), (30, 591613), (35, 557624), (40, 589307), (45, 677384), (50, 651470), (55, 548059), (60, 458058), (65, 445100), (70, 362208), (75, 273224), (80, 209059), (85, 136121), (90, 57859), (95, 12047), (100, 1614)]\n"
     ]
    }
   ],
   "source": [
    "plt.figure(figsize=(14,6))\n",
    "x_val = [x[0] for x in sorted(plot_rdd)]\n",
    "y_val = [x[1] for x in sorted(plot_rdd)]\n",
    "print plot_rdd\n",
    "plt.bar(range(len(y_val)), y_val)\n",
    "plt.xticks(range(len(x_val)), x_val, size='small')\n",
    "plt.show()"
   ]
  },
  {
   "cell_type": "markdown",
   "metadata": {
    "collapsed": true
   },
   "source": [
    "### Exercise 1 - show the centenarian populations by country for 2015 ordered by values in the decending order \n",
    "*Hint - this requires use of filter, map, reduceByKey and sortByKey*"
   ]
  },
  {
   "cell_type": "code",
   "execution_count": 15,
   "metadata": {
    "collapsed": false
   },
   "outputs": [
    {
     "data": {
      "text/plain": [
       "[(450895, u'\"WORLD\"'),\n",
       " (265497, u'\"More developed regions\"'),\n",
       " (188964, u'\"ASIA\"'),\n",
       " (185398, u'\"Less developed regions\"'),\n",
       " (120820, u'\"EUROPE\"'),\n",
       " (116299, u'\"Eastern Asia\"'),\n",
       " (79724, u'\"NORTHERN AMERICA\"'),\n",
       " (71972, u'\"United States of America\"'),\n",
       " (60630, u'\"Japan\"'),\n",
       " (52418, u'\"LATIN AMERICA AND THE CARIBBEAN\"'),\n",
       " (47657, u'\"China\"'),\n",
       " (43016, u'\"Western Europe\"'),\n",
       " (40113, u'\"Southern Europe\"'),\n",
       " (37957, u'\"South-Central Asia\"'),\n",
       " (35490, u'\"Southern Asia\"'),\n",
       " (30926, u'\"South-Eastern Asia\"'),\n",
       " (29501, u'\"South America\"'),\n",
       " (27266, u'\"India\"'),\n",
       " (24592, u'\"Italy\"'),\n",
       " (23838, u'\"Viet Nam\"'),\n",
       " (21103, u'\"Northern Europe\"'),\n",
       " (19768, u'\"France\"'),\n",
       " (16588, u'\"Eastern Europe\"'),\n",
       " (16227, u'\"United Kingdom\"'),\n",
       " (16096, u'\"Germany\"'),\n",
       " (13556, u'\"Central America\"'),\n",
       " (11090, u'\"Mexico\"'),\n",
       " (9860, u'\"Spain\"'),\n",
       " (9361, u'\"Caribbean\"'),\n",
       " (7739, u'\"Canada\"'),\n",
       " (7629, u'\"Least developed countries\"'),\n",
       " (6077, u'\"Brazil\"'),\n",
       " (5956, u'\"Argentina\"'),\n",
       " (5733, u'\"Bangladesh\"'),\n",
       " (5586, u'\"Chile\"'),\n",
       " (5471, u'\"Russian Federation\"'),\n",
       " (4681, u'\"Thailand\"'),\n",
       " (4580, u'\"AFRICA\"'),\n",
       " (4530, u'\"Poland\"'),\n",
       " (4389, u'\"OCEANIA\"'),\n",
       " (4323, u'\"Australia/New Zealand\"'),\n",
       " (4051, u'\"Venezuela (Bolivarian Republic of)\"'),\n",
       " (3782, u'\"Western Asia\"'),\n",
       " (3739, u'\"Australia\"'),\n",
       " (3463, u'\"Cuba\"'),\n",
       " (3297, u'\"Republic of Korea\"'),\n",
       " (2880, u'\"Dominican Republic\"'),\n",
       " (2682, u'\"Colombia\"'),\n",
       " (2548, u'\"Greece\"'),\n",
       " (2507, u'\"Other non-specified areas\"'),\n",
       " (2467, u'\"Central Asia\"'),\n",
       " (2336, u'\"Sub-Saharan Africa\"'),\n",
       " (2244, u'\"Northern Africa\"'),\n",
       " (2213, u'\"Netherlands\"'),\n",
       " (2156, u'\"Peru\"'),\n",
       " (2153, u'\"Ukraine\"'),\n",
       " (1826, u'\"Sweden\"'),\n",
       " (1763, u'\"Uzbekistan\"'),\n",
       " (1755, u'\"Belgium\"'),\n",
       " (1657, u'\"Puerto Rico\"'),\n",
       " (1614, u'\"Switzerland\"'),\n",
       " (1604, u'\"Portugal\"'),\n",
       " (1446, u'\"Austria\"'),\n",
       " (1288, u'\"Hungary\"'),\n",
       " (1282, u'\"Eastern Africa\"'),\n",
       " (1273, u'\"Israel\"'),\n",
       " (1209, u'\"Romania\"'),\n",
       " (1185, u'\"Ecuador\"'),\n",
       " (1166, u'\"Uruguay\"'),\n",
       " (1129, u'\"Singapore\"'),\n",
       " (1010, u'\"Sri Lanka\"'),\n",
       " (886, u'\"Egypt\"'),\n",
       " (849, u'\"Pakistan\"'),\n",
       " (839, u'\"Czech Republic\"'),\n",
       " (766, u'\"Turkey\"'),\n",
       " (742, u'\"Algeria\"'),\n",
       " (734, u'\"Finland\"'),\n",
       " (715, u'\"Norway\"'),\n",
       " (670, u'\"Southern Africa\"'),\n",
       " (648, u'\"South Africa\"'),\n",
       " (633, u'\"Indonesia\"'),\n",
       " (584, u'\"New Zealand\"'),\n",
       " (552, u'\"Panama\"'),\n",
       " (545, u'\"Ireland\"'),\n",
       " (532, u'\"Croatia\"'),\n",
       " (493, u'\"Nicaragua\"'),\n",
       " (493, u'\"Jamaica\"'),\n",
       " (492, u'\"Iran (Islamic Republic of)\"'),\n",
       " (441, u'\"Guatemala\"'),\n",
       " (434, u'\"Costa Rica\"'),\n",
       " (425, u'\"Belarus\"'),\n",
       " (392, u'\"Georgia\"'),\n",
       " (357, u'\"Armenia\"'),\n",
       " (350, u'\"Honduras\"'),\n",
       " (347, u'\"Denmark\"'),\n",
       " (341, u'\"Slovakia\"'),\n",
       " (339, u'\"Bolivia (Plurinational State of)\"'),\n",
       " (303, u'\"Middle Africa\"'),\n",
       " (300, u'\"Kazakhstan\"'),\n",
       " (288, u'\"Tajikistan\"'),\n",
       " (284, u'\"Slovenia\"'),\n",
       " (277, u'\"Paraguay\"'),\n",
       " (274, u'\"Ethiopia\"'),\n",
       " (266, u'\"Serbia\"'),\n",
       " (264, u'\"Lithuania\"'),\n",
       " (235, u'\"Bosnia and Herzegovina\"'),\n",
       " (232, u'\"Bulgaria\"'),\n",
       " (209, u'\"Myanmar\"'),\n",
       " (206, u'\"Tunisia\"'),\n",
       " (205, u'\"Philippines\"'),\n",
       " (205, u'\"Guadeloupe\"'),\n",
       " (201, u'\"Haiti\"'),\n",
       " (201, u'\"Morocco\"'),\n",
       " (194, u'\"El Salvador\"'),\n",
       " (189, u'\"Saudi Arabia\"'),\n",
       " (188, u'\"Sudan\"'),\n",
       " (180, u'\"Malaysia\"'),\n",
       " (175, u'\"Latvia\"'),\n",
       " (157, u'\"Martinique\"'),\n",
       " (154, u'\"Kenya\"'),\n",
       " (149, u'\"R\\ufffdunion\"'),\n",
       " (145, u'\"United Republic of Tanzania\"'),\n",
       " (139, u'\"Iraq\"'),\n",
       " (137, u'\"Estonia\"'),\n",
       " (132, u'\"Democratic Republic of the Congo\"'),\n",
       " (122, u'\"Dem. People\\'s Republic of Korea\"'),\n",
       " (116, u'\"Oman\"'),\n",
       " (113, u'\"Syrian Arab Republic\"'),\n",
       " (110, u'\"Azerbaijan\"'),\n",
       " (104, u'\"Madagascar\"'),\n",
       " (103, u'\"Lebanon\"'),\n",
       " (100, u'\"Republic of Moldova\"'),\n",
       " (93, u'\"Zimbabwe\"'),\n",
       " (90, u'\"Trinidad and Tobago\"'),\n",
       " (85, u'\"Luxembourg\"'),\n",
       " (83, u'\"Albania\"'),\n",
       " (82, u'\"Turkmenistan\"'),\n",
       " (81, u'\"Western Africa\"'),\n",
       " (78, u'\"Uganda\"'),\n",
       " (77, u'\"Cyprus\"'),\n",
       " (76, u'\"Yemen\"'),\n",
       " (74, u'\"Nepal\"'),\n",
       " (68, u'\"Cameroon\"'),\n",
       " (65, u'\"Mauritius\"'),\n",
       " (55, u'\"Mozambique\"'),\n",
       " (53, u'\"Saint Lucia\"'),\n",
       " (40, u'\"Zambia\"'),\n",
       " (40, u'\"Channel Islands\"'),\n",
       " (40, u'\"Melanesia\"'),\n",
       " (37, u'\"TFYR Macedonia\"'),\n",
       " (34, u'\"Bhutan\"'),\n",
       " (34, u'\"Kyrgyzstan\"'),\n",
       " (33, u'\"Cura\\ufffdao\"'),\n",
       " (30, u'\"Cambodia\"'),\n",
       " (28, u'\"United States Virgin Islands\"'),\n",
       " (28, u'\"Angola\"'),\n",
       " (28, u'\"Afghanistan\"'),\n",
       " (27, u'\"Jordan\"'),\n",
       " (27, u'\"Nigeria\"'),\n",
       " (26, u'\"Malta\"'),\n",
       " (26, u'\"Papua New Guinea\"'),\n",
       " (26, u'\"Iceland\"'),\n",
       " (26, u'\"Somalia\"'),\n",
       " (22, u'\"Burundi\"'),\n",
       " (22, u'\"Chad\"'),\n",
       " (22, u'\"South Sudan\"'),\n",
       " (21, u'\"Libya\"'),\n",
       " (21, u'\"Polynesia\"'),\n",
       " (20, u'\"Suriname\"'),\n",
       " (19, u'\"Congo\"'),\n",
       " (19, u'\"United Arab Emirates\"'),\n",
       " (18, u'\"Bahamas\"'),\n",
       " (16, u'\"Lao People\\'s Democratic Republic\"'),\n",
       " (15, u'\"Barbados\"'),\n",
       " (15, u'\"Gabon\"'),\n",
       " (15, u'\"Central African Republic\"'),\n",
       " (14, u'\"C\\ufffdte d\\'Ivoire\"'),\n",
       " (13, u'\"Mayotte\"'),\n",
       " (12, u'\"Saint Vincent and the Grenadines\"'),\n",
       " (11, u'\"Malawi\"'),\n",
       " (11, u'\"Eritrea\"'),\n",
       " (10, u'\"Qatar\"'),\n",
       " (9, u'\"Mongolia\"'),\n",
       " (9, u'\"Montenegro\"'),\n",
       " (9, u'\"Lesotho\"'),\n",
       " (8, u'\"Ghana\"'),\n",
       " (8, u'\"French Polynesia\"'),\n",
       " (8, u'\"State of Palestine\"'),\n",
       " (8, u'\"Rwanda\"'),\n",
       " (8, u'\"Seychelles\"'),\n",
       " (7, u'\"Bahrain\"'),\n",
       " (7, u'\"Fiji\"'),\n",
       " (6, u'\"Samoa\"'),\n",
       " (6, u'\"Namibia\"'),\n",
       " (6, u'\"Antigua and Barbuda\"'),\n",
       " (5, u'\"French Guiana\"'),\n",
       " (5, u'\"Micronesia\"'),\n",
       " (5, u'\"Senegal\"'),\n",
       " (5, u'\"New Caledonia\"'),\n",
       " (5, u'\"Mali\"'),\n",
       " (4, u'\"Tonga\"'),\n",
       " (4, u'\"Maldives\"'),\n",
       " (4, u'\"Benin\"'),\n",
       " (4, u'\"Botswana\"'),\n",
       " (4, u'\"Burkina Faso\"'),\n",
       " (4, u'\"Cabo Verde\"'),\n",
       " (4, u'\"Brunei Darussalam\"'),\n",
       " (3, u'\"Aruba\"'),\n",
       " (3, u'\"Swaziland\"'),\n",
       " (3, u'\"Djibouti\"'),\n",
       " (3, u'\"Guam\"'),\n",
       " (3, u'\"Niger\"'),\n",
       " (3, u'\"Equatorial Guinea\"'),\n",
       " (3, u'\"Guinea\"'),\n",
       " (3, u'\"Grenada\"'),\n",
       " (2, u'\"Belize\"'),\n",
       " (1, u'\"Sao Tome and Principe\"'),\n",
       " (1, u'\"Timor-Leste\"'),\n",
       " (1, u'\"Solomon Islands\"'),\n",
       " (1, u'\"Liberia\"'),\n",
       " (1, u'\"Comoros\"'),\n",
       " (1, u'\"Vanuatu\"'),\n",
       " (1, u'\"Mauritania\"'),\n",
       " (1, u'\"Togo\"'),\n",
       " (1, u'\"Guyana\"'),\n",
       " (0, u'\"Micronesia (Fed. States of)\"'),\n",
       " (0, u'\"Western Sahara\"'),\n",
       " (0, u'\"Guinea-Bissau\"'),\n",
       " (0, u'\"Gambia\"'),\n",
       " (0, u'\"Kuwait\"'),\n",
       " (0, u'\"Kiribati\"'),\n",
       " (0, u'\"Sierra Leone\"')]"
      ]
     },
     "execution_count": 15,
     "metadata": {},
     "output_type": "execute_result"
    }
   ],
   "source": [
    "# %load key/solution1.py\n",
    "ntuple_rdd.filter(lambda record: record.AgeGrp =='\"100+\"' and record.Time == '\"2015\"' and record.Sex == '\"Both\"') \\\n",
    "    .map(lambda record: (record.Location,int(float(record.Value)*1000))) \\\n",
    "    .reduceByKey(lambda x,y: x+y) \\\n",
    "    .map(lambda (x,y):(y,x)).sortByKey(False) \\\n",
    "    .collect() \\\n"
   ]
  },
  {
   "cell_type": "markdown",
   "metadata": {
    "collapsed": true
   },
   "source": [
    "### Hands-On 4 - Calculate the male to female ratio across Locations (countries) and Time (years)\n",
    "*This introduces transformations join rdd, combineByKey, groupByKey and reduceByKey*"
   ]
  },
  {
   "cell_type": "markdown",
   "metadata": {
    "collapsed": true
   },
   "source": [
    "#### First, lets import couple of bits we need"
   ]
  },
  {
   "cell_type": "code",
   "execution_count": 15,
   "metadata": {
    "collapsed": true
   },
   "outputs": [],
   "source": [
    "from operator import add"
   ]
  },
  {
   "cell_type": "markdown",
   "metadata": {
    "collapsed": true
   },
   "source": [
    "#### calculate the total male population for each Location (country) and Time (year)"
   ]
  },
  {
   "cell_type": "code",
   "execution_count": 16,
   "metadata": {
    "collapsed": true
   },
   "outputs": [],
   "source": [
    "m_rdd = ntuple_rdd.filter(lambda record: record.Sex == '\"Male\"') \\\n",
    "    .map(lambda record: ((record.Location,record.Time,record.Sex),float(record.Value))) \\\n",
    "    .reduceByKey(add) \\\n",
    "    .map(lambda record: ((record[0][0],record[0][1]),(record[0][2],record[1])))"
   ]
  },
  {
   "cell_type": "markdown",
   "metadata": {
    "collapsed": false
   },
   "source": [
    "#### inspect the rdd"
   ]
  },
  {
   "cell_type": "code",
   "execution_count": 17,
   "metadata": {
    "collapsed": false
   },
   "outputs": [
    {
     "data": {
      "text/plain": [
       "[((u'\"Slovenia\"', u'\"2050\"'), (u'\"Male\"', 966.206)),\n",
       " ((u'\"Cyprus\"', u'\"1980\"'), (u'\"Male\"', 345.128)),\n",
       " ((u'\"Denmark\"', u'\"1990\"'), (u'\"Male\"', 2534.6839999999993)),\n",
       " ((u'\"Djibouti\"', u'\"2040\"'), (u'\"Male\"', 565.81)),\n",
       " ((u'\"South America\"', u'\"1975\"'), (u'\"Male\"', 108229.85500000001))]"
      ]
     },
     "execution_count": 17,
     "metadata": {},
     "output_type": "execute_result"
    }
   ],
   "source": [
    "m_rdd.take(5)"
   ]
  },
  {
   "cell_type": "markdown",
   "metadata": {
    "collapsed": true
   },
   "source": [
    "#### calculate the total female population for each Location (country) and Time (year)"
   ]
  },
  {
   "cell_type": "code",
   "execution_count": 18,
   "metadata": {
    "collapsed": true
   },
   "outputs": [],
   "source": [
    "f_rdd = ntuple_rdd.filter(lambda record: record.Sex == '\"Female\"') \\\n",
    "    .map(lambda record: ((record.Location,record.Time,record.Sex),float(record.Value))) \\\n",
    "    .reduceByKey(add) \\\n",
    "    .map(lambda record: ((record[0][0],record[0][1]),(record[0][2],record[1])))"
   ]
  },
  {
   "cell_type": "markdown",
   "metadata": {
    "collapsed": false
   },
   "source": [
    "#### inspect how the data looks in the rdd"
   ]
  },
  {
   "cell_type": "code",
   "execution_count": 20,
   "metadata": {
    "collapsed": false
   },
   "outputs": [
    {
     "data": {
      "text/plain": [
       "[((u'\"OCEANIA\"', u'\"2075\"'), (u'\"Female\"', 32741.462000000003)),\n",
       " ((u'\"Northern Africa\"', u'\"2000\"'), (u'\"Female\"', 85484.0)),\n",
       " ((u'\"Botswana\"', u'\"2095\"'), (u'\"Female\"', 1868.8210000000004)),\n",
       " ((u'\"New Caledonia\"', u'\"1960\"'), (u'\"Female\"', 36.908)),\n",
       " ((u'\"Bulgaria\"', u'\"2060\"'), (u'\"Female\"', 2378.8529999999996))]"
      ]
     },
     "execution_count": 20,
     "metadata": {},
     "output_type": "execute_result"
    }
   ],
   "source": [
    "f_rdd.take(5)"
   ]
  },
  {
   "cell_type": "markdown",
   "metadata": {
    "collapsed": false
   },
   "source": [
    "#### join the rdd's"
   ]
  },
  {
   "cell_type": "code",
   "execution_count": 21,
   "metadata": {
    "collapsed": true
   },
   "outputs": [],
   "source": [
    "join_rdd = m_rdd.join(f_rdd)"
   ]
  },
  {
   "cell_type": "markdown",
   "metadata": {
    "collapsed": false
   },
   "source": [
    "#### inspect the data in the join_rdd"
   ]
  },
  {
   "cell_type": "code",
   "execution_count": 22,
   "metadata": {
    "collapsed": false
   },
   "outputs": [
    {
     "data": {
      "text/plain": [
       "[((u'\"Aruba\"', u'\"1955\"'),\n",
       "  ((u'\"Male\"', 21.275), (u'\"Female\"', 22.451999999999998))),\n",
       " ((u'\"Western Africa\"', u'\"2020\"'),\n",
       "  ((u'\"Male\"', 203617.22200000004), (u'\"Female\"', 199213.89299999998))),\n",
       " ((u'\"Fiji\"', u'\"1980\"'),\n",
       "  ((u'\"Male\"', 321.61099999999993), (u'\"Female\"', 313.645))),\n",
       " ((u'\"Brunei Darussalam\"', u'\"2045\"'),\n",
       "  ((u'\"Male\"', 275.21299999999997), (u'\"Female\"', 263.73199999999997))),\n",
       " ((u'\"Romania\"', u'\"1980\"'),\n",
       "  ((u'\"Male\"', 11152.395), (u'\"Female\"', 11459.754)))]"
      ]
     },
     "execution_count": 22,
     "metadata": {},
     "output_type": "execute_result"
    }
   ],
   "source": [
    "join_rdd.take(5)"
   ]
  },
  {
   "cell_type": "markdown",
   "metadata": {
    "collapsed": true
   },
   "source": [
    "#### final rdd containing the male to female ratio for each country and year"
   ]
  },
  {
   "cell_type": "code",
   "execution_count": 23,
   "metadata": {
    "collapsed": true
   },
   "outputs": [],
   "source": [
    "fn_rdd = join_rdd.map(lambda record: (record[1][0][1]/record[1][1][1],(record[0][0],record[0][1])))"
   ]
  },
  {
   "cell_type": "markdown",
   "metadata": {
    "collapsed": false
   },
   "source": [
    "#### since the output is going to be huge, lets just filer for Estonia"
   ]
  },
  {
   "cell_type": "code",
   "execution_count": 24,
   "metadata": {
    "collapsed": false
   },
   "outputs": [],
   "source": [
    "ratio_rdd = fn_rdd.filter(lambda record: record[1][0] == '\"Estonia\"').map(lambda (x,y): (y,x)).sortByKey().collect()"
   ]
  },
  {
   "cell_type": "code",
   "execution_count": 25,
   "metadata": {
    "collapsed": false
   },
   "outputs": [
    {
     "data": {
      "application/javascript": [
       "/* Put everything inside the global mpl namespace */\n",
       "window.mpl = {};\n",
       "\n",
       "mpl.get_websocket_type = function() {\n",
       "    if (typeof(WebSocket) !== 'undefined') {\n",
       "        return WebSocket;\n",
       "    } else if (typeof(MozWebSocket) !== 'undefined') {\n",
       "        return MozWebSocket;\n",
       "    } else {\n",
       "        alert('Your browser does not have WebSocket support.' +\n",
       "              'Please try Chrome, Safari or Firefox ≥ 6. ' +\n",
       "              'Firefox 4 and 5 are also supported but you ' +\n",
       "              'have to enable WebSockets in about:config.');\n",
       "    };\n",
       "}\n",
       "\n",
       "mpl.figure = function(figure_id, websocket, ondownload, parent_element) {\n",
       "    this.id = figure_id;\n",
       "\n",
       "    this.ws = websocket;\n",
       "\n",
       "    this.supports_binary = (this.ws.binaryType != undefined);\n",
       "\n",
       "    if (!this.supports_binary) {\n",
       "        var warnings = document.getElementById(\"mpl-warnings\");\n",
       "        if (warnings) {\n",
       "            warnings.style.display = 'block';\n",
       "            warnings.textContent = (\n",
       "                \"This browser does not support binary websocket messages. \" +\n",
       "                    \"Performance may be slow.\");\n",
       "        }\n",
       "    }\n",
       "\n",
       "    this.imageObj = new Image();\n",
       "\n",
       "    this.context = undefined;\n",
       "    this.message = undefined;\n",
       "    this.canvas = undefined;\n",
       "    this.rubberband_canvas = undefined;\n",
       "    this.rubberband_context = undefined;\n",
       "    this.format_dropdown = undefined;\n",
       "\n",
       "    this.image_mode = 'full';\n",
       "\n",
       "    this.root = $('<div/>');\n",
       "    this._root_extra_style(this.root)\n",
       "    this.root.attr('style', 'display: inline-block');\n",
       "\n",
       "    $(parent_element).append(this.root);\n",
       "\n",
       "    this._init_header(this);\n",
       "    this._init_canvas(this);\n",
       "    this._init_toolbar(this);\n",
       "\n",
       "    var fig = this;\n",
       "\n",
       "    this.waiting = false;\n",
       "\n",
       "    this.ws.onopen =  function () {\n",
       "            fig.send_message(\"supports_binary\", {value: fig.supports_binary});\n",
       "            fig.send_message(\"send_image_mode\", {});\n",
       "            fig.send_message(\"refresh\", {});\n",
       "        }\n",
       "\n",
       "    this.imageObj.onload = function() {\n",
       "            if (fig.image_mode == 'full') {\n",
       "                // Full images could contain transparency (where diff images\n",
       "                // almost always do), so we need to clear the canvas so that\n",
       "                // there is no ghosting.\n",
       "                fig.context.clearRect(0, 0, fig.canvas.width, fig.canvas.height);\n",
       "            }\n",
       "            fig.context.drawImage(fig.imageObj, 0, 0);\n",
       "        };\n",
       "\n",
       "    this.imageObj.onunload = function() {\n",
       "        this.ws.close();\n",
       "    }\n",
       "\n",
       "    this.ws.onmessage = this._make_on_message_function(this);\n",
       "\n",
       "    this.ondownload = ondownload;\n",
       "}\n",
       "\n",
       "mpl.figure.prototype._init_header = function() {\n",
       "    var titlebar = $(\n",
       "        '<div class=\"ui-dialog-titlebar ui-widget-header ui-corner-all ' +\n",
       "        'ui-helper-clearfix\"/>');\n",
       "    var titletext = $(\n",
       "        '<div class=\"ui-dialog-title\" style=\"width: 100%; ' +\n",
       "        'text-align: center; padding: 3px;\"/>');\n",
       "    titlebar.append(titletext)\n",
       "    this.root.append(titlebar);\n",
       "    this.header = titletext[0];\n",
       "}\n",
       "\n",
       "\n",
       "\n",
       "mpl.figure.prototype._canvas_extra_style = function(canvas_div) {\n",
       "\n",
       "}\n",
       "\n",
       "\n",
       "mpl.figure.prototype._root_extra_style = function(canvas_div) {\n",
       "\n",
       "}\n",
       "\n",
       "mpl.figure.prototype._init_canvas = function() {\n",
       "    var fig = this;\n",
       "\n",
       "    var canvas_div = $('<div/>');\n",
       "\n",
       "    canvas_div.attr('style', 'position: relative; clear: both; outline: 0');\n",
       "\n",
       "    function canvas_keyboard_event(event) {\n",
       "        return fig.key_event(event, event['data']);\n",
       "    }\n",
       "\n",
       "    canvas_div.keydown('key_press', canvas_keyboard_event);\n",
       "    canvas_div.keyup('key_release', canvas_keyboard_event);\n",
       "    this.canvas_div = canvas_div\n",
       "    this._canvas_extra_style(canvas_div)\n",
       "    this.root.append(canvas_div);\n",
       "\n",
       "    var canvas = $('<canvas/>');\n",
       "    canvas.addClass('mpl-canvas');\n",
       "    canvas.attr('style', \"left: 0; top: 0; z-index: 0; outline: 0\")\n",
       "\n",
       "    this.canvas = canvas[0];\n",
       "    this.context = canvas[0].getContext(\"2d\");\n",
       "\n",
       "    var rubberband = $('<canvas/>');\n",
       "    rubberband.attr('style', \"position: absolute; left: 0; top: 0; z-index: 1;\")\n",
       "\n",
       "    var pass_mouse_events = true;\n",
       "\n",
       "    canvas_div.resizable({\n",
       "        start: function(event, ui) {\n",
       "            pass_mouse_events = false;\n",
       "        },\n",
       "        resize: function(event, ui) {\n",
       "            fig.request_resize(ui.size.width, ui.size.height);\n",
       "        },\n",
       "        stop: function(event, ui) {\n",
       "            pass_mouse_events = true;\n",
       "            fig.request_resize(ui.size.width, ui.size.height);\n",
       "        },\n",
       "    });\n",
       "\n",
       "    function mouse_event_fn(event) {\n",
       "        if (pass_mouse_events)\n",
       "            return fig.mouse_event(event, event['data']);\n",
       "    }\n",
       "\n",
       "    rubberband.mousedown('button_press', mouse_event_fn);\n",
       "    rubberband.mouseup('button_release', mouse_event_fn);\n",
       "    // Throttle sequential mouse events to 1 every 20ms.\n",
       "    rubberband.mousemove('motion_notify', mouse_event_fn);\n",
       "\n",
       "    rubberband.mouseenter('figure_enter', mouse_event_fn);\n",
       "    rubberband.mouseleave('figure_leave', mouse_event_fn);\n",
       "\n",
       "    canvas_div.on(\"wheel\", function (event) {\n",
       "        event = event.originalEvent;\n",
       "        event['data'] = 'scroll'\n",
       "        if (event.deltaY < 0) {\n",
       "            event.step = 1;\n",
       "        } else {\n",
       "            event.step = -1;\n",
       "        }\n",
       "        mouse_event_fn(event);\n",
       "    });\n",
       "\n",
       "    canvas_div.append(canvas);\n",
       "    canvas_div.append(rubberband);\n",
       "\n",
       "    this.rubberband = rubberband;\n",
       "    this.rubberband_canvas = rubberband[0];\n",
       "    this.rubberband_context = rubberband[0].getContext(\"2d\");\n",
       "    this.rubberband_context.strokeStyle = \"#000000\";\n",
       "\n",
       "    this._resize_canvas = function(width, height) {\n",
       "        // Keep the size of the canvas, canvas container, and rubber band\n",
       "        // canvas in synch.\n",
       "        canvas_div.css('width', width)\n",
       "        canvas_div.css('height', height)\n",
       "\n",
       "        canvas.attr('width', width);\n",
       "        canvas.attr('height', height);\n",
       "\n",
       "        rubberband.attr('width', width);\n",
       "        rubberband.attr('height', height);\n",
       "    }\n",
       "\n",
       "    // Set the figure to an initial 600x600px, this will subsequently be updated\n",
       "    // upon first draw.\n",
       "    this._resize_canvas(600, 600);\n",
       "\n",
       "    // Disable right mouse context menu.\n",
       "    $(this.rubberband_canvas).bind(\"contextmenu\",function(e){\n",
       "        return false;\n",
       "    });\n",
       "\n",
       "    function set_focus () {\n",
       "        canvas.focus();\n",
       "        canvas_div.focus();\n",
       "    }\n",
       "\n",
       "    window.setTimeout(set_focus, 100);\n",
       "}\n",
       "\n",
       "mpl.figure.prototype._init_toolbar = function() {\n",
       "    var fig = this;\n",
       "\n",
       "    var nav_element = $('<div/>')\n",
       "    nav_element.attr('style', 'width: 100%');\n",
       "    this.root.append(nav_element);\n",
       "\n",
       "    // Define a callback function for later on.\n",
       "    function toolbar_event(event) {\n",
       "        return fig.toolbar_button_onclick(event['data']);\n",
       "    }\n",
       "    function toolbar_mouse_event(event) {\n",
       "        return fig.toolbar_button_onmouseover(event['data']);\n",
       "    }\n",
       "\n",
       "    for(var toolbar_ind in mpl.toolbar_items) {\n",
       "        var name = mpl.toolbar_items[toolbar_ind][0];\n",
       "        var tooltip = mpl.toolbar_items[toolbar_ind][1];\n",
       "        var image = mpl.toolbar_items[toolbar_ind][2];\n",
       "        var method_name = mpl.toolbar_items[toolbar_ind][3];\n",
       "\n",
       "        if (!name) {\n",
       "            // put a spacer in here.\n",
       "            continue;\n",
       "        }\n",
       "        var button = $('<button/>');\n",
       "        button.addClass('ui-button ui-widget ui-state-default ui-corner-all ' +\n",
       "                        'ui-button-icon-only');\n",
       "        button.attr('role', 'button');\n",
       "        button.attr('aria-disabled', 'false');\n",
       "        button.click(method_name, toolbar_event);\n",
       "        button.mouseover(tooltip, toolbar_mouse_event);\n",
       "\n",
       "        var icon_img = $('<span/>');\n",
       "        icon_img.addClass('ui-button-icon-primary ui-icon');\n",
       "        icon_img.addClass(image);\n",
       "        icon_img.addClass('ui-corner-all');\n",
       "\n",
       "        var tooltip_span = $('<span/>');\n",
       "        tooltip_span.addClass('ui-button-text');\n",
       "        tooltip_span.html(tooltip);\n",
       "\n",
       "        button.append(icon_img);\n",
       "        button.append(tooltip_span);\n",
       "\n",
       "        nav_element.append(button);\n",
       "    }\n",
       "\n",
       "    var fmt_picker_span = $('<span/>');\n",
       "\n",
       "    var fmt_picker = $('<select/>');\n",
       "    fmt_picker.addClass('mpl-toolbar-option ui-widget ui-widget-content');\n",
       "    fmt_picker_span.append(fmt_picker);\n",
       "    nav_element.append(fmt_picker_span);\n",
       "    this.format_dropdown = fmt_picker[0];\n",
       "\n",
       "    for (var ind in mpl.extensions) {\n",
       "        var fmt = mpl.extensions[ind];\n",
       "        var option = $(\n",
       "            '<option/>', {selected: fmt === mpl.default_extension}).html(fmt);\n",
       "        fmt_picker.append(option)\n",
       "    }\n",
       "\n",
       "    // Add hover states to the ui-buttons\n",
       "    $( \".ui-button\" ).hover(\n",
       "        function() { $(this).addClass(\"ui-state-hover\");},\n",
       "        function() { $(this).removeClass(\"ui-state-hover\");}\n",
       "    );\n",
       "\n",
       "    var status_bar = $('<span class=\"mpl-message\"/>');\n",
       "    nav_element.append(status_bar);\n",
       "    this.message = status_bar[0];\n",
       "}\n",
       "\n",
       "mpl.figure.prototype.request_resize = function(x_pixels, y_pixels) {\n",
       "    // Request matplotlib to resize the figure. Matplotlib will then trigger a resize in the client,\n",
       "    // which will in turn request a refresh of the image.\n",
       "    this.send_message('resize', {'width': x_pixels, 'height': y_pixels});\n",
       "}\n",
       "\n",
       "mpl.figure.prototype.send_message = function(type, properties) {\n",
       "    properties['type'] = type;\n",
       "    properties['figure_id'] = this.id;\n",
       "    this.ws.send(JSON.stringify(properties));\n",
       "}\n",
       "\n",
       "mpl.figure.prototype.send_draw_message = function() {\n",
       "    if (!this.waiting) {\n",
       "        this.waiting = true;\n",
       "        this.ws.send(JSON.stringify({type: \"draw\", figure_id: this.id}));\n",
       "    }\n",
       "}\n",
       "\n",
       "\n",
       "mpl.figure.prototype.handle_save = function(fig, msg) {\n",
       "    var format_dropdown = fig.format_dropdown;\n",
       "    var format = format_dropdown.options[format_dropdown.selectedIndex].value;\n",
       "    fig.ondownload(fig, format);\n",
       "}\n",
       "\n",
       "\n",
       "mpl.figure.prototype.handle_resize = function(fig, msg) {\n",
       "    var size = msg['size'];\n",
       "    if (size[0] != fig.canvas.width || size[1] != fig.canvas.height) {\n",
       "        fig._resize_canvas(size[0], size[1]);\n",
       "        fig.send_message(\"refresh\", {});\n",
       "    };\n",
       "}\n",
       "\n",
       "mpl.figure.prototype.handle_rubberband = function(fig, msg) {\n",
       "    var x0 = msg['x0'];\n",
       "    var y0 = fig.canvas.height - msg['y0'];\n",
       "    var x1 = msg['x1'];\n",
       "    var y1 = fig.canvas.height - msg['y1'];\n",
       "    x0 = Math.floor(x0) + 0.5;\n",
       "    y0 = Math.floor(y0) + 0.5;\n",
       "    x1 = Math.floor(x1) + 0.5;\n",
       "    y1 = Math.floor(y1) + 0.5;\n",
       "    var min_x = Math.min(x0, x1);\n",
       "    var min_y = Math.min(y0, y1);\n",
       "    var width = Math.abs(x1 - x0);\n",
       "    var height = Math.abs(y1 - y0);\n",
       "\n",
       "    fig.rubberband_context.clearRect(\n",
       "        0, 0, fig.canvas.width, fig.canvas.height);\n",
       "\n",
       "    fig.rubberband_context.strokeRect(min_x, min_y, width, height);\n",
       "}\n",
       "\n",
       "mpl.figure.prototype.handle_figure_label = function(fig, msg) {\n",
       "    // Updates the figure title.\n",
       "    fig.header.textContent = msg['label'];\n",
       "}\n",
       "\n",
       "mpl.figure.prototype.handle_cursor = function(fig, msg) {\n",
       "    var cursor = msg['cursor'];\n",
       "    switch(cursor)\n",
       "    {\n",
       "    case 0:\n",
       "        cursor = 'pointer';\n",
       "        break;\n",
       "    case 1:\n",
       "        cursor = 'default';\n",
       "        break;\n",
       "    case 2:\n",
       "        cursor = 'crosshair';\n",
       "        break;\n",
       "    case 3:\n",
       "        cursor = 'move';\n",
       "        break;\n",
       "    }\n",
       "    fig.rubberband_canvas.style.cursor = cursor;\n",
       "}\n",
       "\n",
       "mpl.figure.prototype.handle_message = function(fig, msg) {\n",
       "    fig.message.textContent = msg['message'];\n",
       "}\n",
       "\n",
       "mpl.figure.prototype.handle_draw = function(fig, msg) {\n",
       "    // Request the server to send over a new figure.\n",
       "    fig.send_draw_message();\n",
       "}\n",
       "\n",
       "mpl.figure.prototype.handle_image_mode = function(fig, msg) {\n",
       "    fig.image_mode = msg['mode'];\n",
       "}\n",
       "\n",
       "mpl.figure.prototype.updated_canvas_event = function() {\n",
       "    // Called whenever the canvas gets updated.\n",
       "    this.send_message(\"ack\", {});\n",
       "}\n",
       "\n",
       "// A function to construct a web socket function for onmessage handling.\n",
       "// Called in the figure constructor.\n",
       "mpl.figure.prototype._make_on_message_function = function(fig) {\n",
       "    return function socket_on_message(evt) {\n",
       "        if (evt.data instanceof Blob) {\n",
       "            /* FIXME: We get \"Resource interpreted as Image but\n",
       "             * transferred with MIME type text/plain:\" errors on\n",
       "             * Chrome.  But how to set the MIME type?  It doesn't seem\n",
       "             * to be part of the websocket stream */\n",
       "            evt.data.type = \"image/png\";\n",
       "\n",
       "            /* Free the memory for the previous frames */\n",
       "            if (fig.imageObj.src) {\n",
       "                (window.URL || window.webkitURL).revokeObjectURL(\n",
       "                    fig.imageObj.src);\n",
       "            }\n",
       "\n",
       "            fig.imageObj.src = (window.URL || window.webkitURL).createObjectURL(\n",
       "                evt.data);\n",
       "            fig.updated_canvas_event();\n",
       "            fig.waiting = false;\n",
       "            return;\n",
       "        }\n",
       "        else if (typeof evt.data === 'string' && evt.data.slice(0, 21) == \"data:image/png;base64\") {\n",
       "            fig.imageObj.src = evt.data;\n",
       "            fig.updated_canvas_event();\n",
       "            fig.waiting = false;\n",
       "            return;\n",
       "        }\n",
       "\n",
       "        var msg = JSON.parse(evt.data);\n",
       "        var msg_type = msg['type'];\n",
       "\n",
       "        // Call the  \"handle_{type}\" callback, which takes\n",
       "        // the figure and JSON message as its only arguments.\n",
       "        try {\n",
       "            var callback = fig[\"handle_\" + msg_type];\n",
       "        } catch (e) {\n",
       "            console.log(\"No handler for the '\" + msg_type + \"' message type: \", msg);\n",
       "            return;\n",
       "        }\n",
       "\n",
       "        if (callback) {\n",
       "            try {\n",
       "                // console.log(\"Handling '\" + msg_type + \"' message: \", msg);\n",
       "                callback(fig, msg);\n",
       "            } catch (e) {\n",
       "                console.log(\"Exception inside the 'handler_\" + msg_type + \"' callback:\", e, e.stack, msg);\n",
       "            }\n",
       "        }\n",
       "    };\n",
       "}\n",
       "\n",
       "// from http://stackoverflow.com/questions/1114465/getting-mouse-location-in-canvas\n",
       "mpl.findpos = function(e) {\n",
       "    //this section is from http://www.quirksmode.org/js/events_properties.html\n",
       "    var targ;\n",
       "    if (!e)\n",
       "        e = window.event;\n",
       "    if (e.target)\n",
       "        targ = e.target;\n",
       "    else if (e.srcElement)\n",
       "        targ = e.srcElement;\n",
       "    if (targ.nodeType == 3) // defeat Safari bug\n",
       "        targ = targ.parentNode;\n",
       "\n",
       "    // jQuery normalizes the pageX and pageY\n",
       "    // pageX,Y are the mouse positions relative to the document\n",
       "    // offset() returns the position of the element relative to the document\n",
       "    var x = e.pageX - $(targ).offset().left;\n",
       "    var y = e.pageY - $(targ).offset().top;\n",
       "\n",
       "    return {\"x\": x, \"y\": y};\n",
       "};\n",
       "\n",
       "/*\n",
       " * return a copy of an object with only non-object keys\n",
       " * we need this to avoid circular references\n",
       " * http://stackoverflow.com/a/24161582/3208463\n",
       " */\n",
       "function simpleKeys (original) {\n",
       "  return Object.keys(original).reduce(function (obj, key) {\n",
       "    if (typeof original[key] !== 'object')\n",
       "        obj[key] = original[key]\n",
       "    return obj;\n",
       "  }, {});\n",
       "}\n",
       "\n",
       "mpl.figure.prototype.mouse_event = function(event, name) {\n",
       "    var canvas_pos = mpl.findpos(event)\n",
       "\n",
       "    if (name === 'button_press')\n",
       "    {\n",
       "        this.canvas.focus();\n",
       "        this.canvas_div.focus();\n",
       "    }\n",
       "\n",
       "    var x = canvas_pos.x;\n",
       "    var y = canvas_pos.y;\n",
       "\n",
       "    this.send_message(name, {x: x, y: y, button: event.button,\n",
       "                             step: event.step,\n",
       "                             guiEvent: simpleKeys(event)});\n",
       "\n",
       "    /* This prevents the web browser from automatically changing to\n",
       "     * the text insertion cursor when the button is pressed.  We want\n",
       "     * to control all of the cursor setting manually through the\n",
       "     * 'cursor' event from matplotlib */\n",
       "    event.preventDefault();\n",
       "    return false;\n",
       "}\n",
       "\n",
       "mpl.figure.prototype._key_event_extra = function(event, name) {\n",
       "    // Handle any extra behaviour associated with a key event\n",
       "}\n",
       "\n",
       "mpl.figure.prototype.key_event = function(event, name) {\n",
       "\n",
       "    // Prevent repeat events\n",
       "    if (name == 'key_press')\n",
       "    {\n",
       "        if (event.which === this._key)\n",
       "            return;\n",
       "        else\n",
       "            this._key = event.which;\n",
       "    }\n",
       "    if (name == 'key_release')\n",
       "        this._key = null;\n",
       "\n",
       "    var value = '';\n",
       "    if (event.ctrlKey && event.which != 17)\n",
       "        value += \"ctrl+\";\n",
       "    if (event.altKey && event.which != 18)\n",
       "        value += \"alt+\";\n",
       "    if (event.shiftKey && event.which != 16)\n",
       "        value += \"shift+\";\n",
       "\n",
       "    value += 'k';\n",
       "    value += event.which.toString();\n",
       "\n",
       "    this._key_event_extra(event, name);\n",
       "\n",
       "    this.send_message(name, {key: value,\n",
       "                             guiEvent: simpleKeys(event)});\n",
       "    return false;\n",
       "}\n",
       "\n",
       "mpl.figure.prototype.toolbar_button_onclick = function(name) {\n",
       "    if (name == 'download') {\n",
       "        this.handle_save(this, null);\n",
       "    } else {\n",
       "        this.send_message(\"toolbar_button\", {name: name});\n",
       "    }\n",
       "};\n",
       "\n",
       "mpl.figure.prototype.toolbar_button_onmouseover = function(tooltip) {\n",
       "    this.message.textContent = tooltip;\n",
       "};\n",
       "mpl.toolbar_items = [[\"Home\", \"Reset original view\", \"fa fa-home icon-home\", \"home\"], [\"Back\", \"Back to  previous view\", \"fa fa-arrow-left icon-arrow-left\", \"back\"], [\"Forward\", \"Forward to next view\", \"fa fa-arrow-right icon-arrow-right\", \"forward\"], [\"\", \"\", \"\", \"\"], [\"Pan\", \"Pan axes with left mouse, zoom with right\", \"fa fa-arrows icon-move\", \"pan\"], [\"Zoom\", \"Zoom to rectangle\", \"fa fa-square-o icon-check-empty\", \"zoom\"], [\"\", \"\", \"\", \"\"], [\"Download\", \"Download plot\", \"fa fa-floppy-o icon-save\", \"download\"]];\n",
       "\n",
       "mpl.extensions = [\"eps\", \"pdf\", \"png\", \"ps\", \"raw\", \"svg\"];\n",
       "\n",
       "mpl.default_extension = \"png\";var comm_websocket_adapter = function(comm) {\n",
       "    // Create a \"websocket\"-like object which calls the given IPython comm\n",
       "    // object with the appropriate methods. Currently this is a non binary\n",
       "    // socket, so there is still some room for performance tuning.\n",
       "    var ws = {};\n",
       "\n",
       "    ws.close = function() {\n",
       "        comm.close()\n",
       "    };\n",
       "    ws.send = function(m) {\n",
       "        //console.log('sending', m);\n",
       "        comm.send(m);\n",
       "    };\n",
       "    // Register the callback with on_msg.\n",
       "    comm.on_msg(function(msg) {\n",
       "        //console.log('receiving', msg['content']['data'], msg);\n",
       "        // Pass the mpl event to the overriden (by mpl) onmessage function.\n",
       "        ws.onmessage(msg['content']['data'])\n",
       "    });\n",
       "    return ws;\n",
       "}\n",
       "\n",
       "mpl.mpl_figure_comm = function(comm, msg) {\n",
       "    // This is the function which gets called when the mpl process\n",
       "    // starts-up an IPython Comm through the \"matplotlib\" channel.\n",
       "\n",
       "    var id = msg.content.data.id;\n",
       "    // Get hold of the div created by the display call when the Comm\n",
       "    // socket was opened in Python.\n",
       "    var element = $(\"#\" + id);\n",
       "    var ws_proxy = comm_websocket_adapter(comm)\n",
       "\n",
       "    function ondownload(figure, format) {\n",
       "        window.open(figure.imageObj.src);\n",
       "    }\n",
       "\n",
       "    var fig = new mpl.figure(id, ws_proxy,\n",
       "                           ondownload,\n",
       "                           element.get(0));\n",
       "\n",
       "    // Call onopen now - mpl needs it, as it is assuming we've passed it a real\n",
       "    // web socket which is closed, not our websocket->open comm proxy.\n",
       "    ws_proxy.onopen();\n",
       "\n",
       "    fig.parent_element = element.get(0);\n",
       "    fig.cell_info = mpl.find_output_cell(\"<div id='\" + id + \"'></div>\");\n",
       "    if (!fig.cell_info) {\n",
       "        console.error(\"Failed to find cell for figure\", id, fig);\n",
       "        return;\n",
       "    }\n",
       "\n",
       "    var output_index = fig.cell_info[2]\n",
       "    var cell = fig.cell_info[0];\n",
       "\n",
       "};\n",
       "\n",
       "mpl.figure.prototype.handle_close = function(fig, msg) {\n",
       "    fig.root.unbind('remove')\n",
       "\n",
       "    // Update the output cell to use the data from the current canvas.\n",
       "    fig.push_to_output();\n",
       "    var dataURL = fig.canvas.toDataURL();\n",
       "    // Re-enable the keyboard manager in IPython - without this line, in FF,\n",
       "    // the notebook keyboard shortcuts fail.\n",
       "    IPython.keyboard_manager.enable()\n",
       "    $(fig.parent_element).html('<img src=\"' + dataURL + '\">');\n",
       "    fig.close_ws(fig, msg);\n",
       "}\n",
       "\n",
       "mpl.figure.prototype.close_ws = function(fig, msg){\n",
       "    fig.send_message('closing', msg);\n",
       "    // fig.ws.close()\n",
       "}\n",
       "\n",
       "mpl.figure.prototype.push_to_output = function(remove_interactive) {\n",
       "    // Turn the data on the canvas into data in the output cell.\n",
       "    var dataURL = this.canvas.toDataURL();\n",
       "    this.cell_info[1]['text/html'] = '<img src=\"' + dataURL + '\">';\n",
       "}\n",
       "\n",
       "mpl.figure.prototype.updated_canvas_event = function() {\n",
       "    // Tell IPython that the notebook contents must change.\n",
       "    IPython.notebook.set_dirty(true);\n",
       "    this.send_message(\"ack\", {});\n",
       "    var fig = this;\n",
       "    // Wait a second, then push the new image to the DOM so\n",
       "    // that it is saved nicely (might be nice to debounce this).\n",
       "    setTimeout(function () { fig.push_to_output() }, 1000);\n",
       "}\n",
       "\n",
       "mpl.figure.prototype._init_toolbar = function() {\n",
       "    var fig = this;\n",
       "\n",
       "    var nav_element = $('<div/>')\n",
       "    nav_element.attr('style', 'width: 100%');\n",
       "    this.root.append(nav_element);\n",
       "\n",
       "    // Define a callback function for later on.\n",
       "    function toolbar_event(event) {\n",
       "        return fig.toolbar_button_onclick(event['data']);\n",
       "    }\n",
       "    function toolbar_mouse_event(event) {\n",
       "        return fig.toolbar_button_onmouseover(event['data']);\n",
       "    }\n",
       "\n",
       "    for(var toolbar_ind in mpl.toolbar_items){\n",
       "        var name = mpl.toolbar_items[toolbar_ind][0];\n",
       "        var tooltip = mpl.toolbar_items[toolbar_ind][1];\n",
       "        var image = mpl.toolbar_items[toolbar_ind][2];\n",
       "        var method_name = mpl.toolbar_items[toolbar_ind][3];\n",
       "\n",
       "        if (!name) { continue; };\n",
       "\n",
       "        var button = $('<button class=\"btn btn-default\" href=\"#\" title=\"' + name + '\"><i class=\"fa ' + image + ' fa-lg\"></i></button>');\n",
       "        button.click(method_name, toolbar_event);\n",
       "        button.mouseover(tooltip, toolbar_mouse_event);\n",
       "        nav_element.append(button);\n",
       "    }\n",
       "\n",
       "    // Add the status bar.\n",
       "    var status_bar = $('<span class=\"mpl-message\" style=\"text-align:right; float: right;\"/>');\n",
       "    nav_element.append(status_bar);\n",
       "    this.message = status_bar[0];\n",
       "\n",
       "    // Add the close button to the window.\n",
       "    var buttongrp = $('<div class=\"btn-group inline pull-right\"></div>');\n",
       "    var button = $('<button class=\"btn btn-mini btn-primary\" href=\"#\" title=\"Stop Interaction\"><i class=\"fa fa-power-off icon-remove icon-large\"></i></button>');\n",
       "    button.click(function (evt) { fig.handle_close(fig, {}); } );\n",
       "    button.mouseover('Stop Interaction', toolbar_mouse_event);\n",
       "    buttongrp.append(button);\n",
       "    var titlebar = this.root.find($('.ui-dialog-titlebar'));\n",
       "    titlebar.prepend(buttongrp);\n",
       "}\n",
       "\n",
       "mpl.figure.prototype._root_extra_style = function(el){\n",
       "    var fig = this\n",
       "    el.on(\"remove\", function(){\n",
       "\tfig.close_ws(fig, {});\n",
       "    });\n",
       "}\n",
       "\n",
       "mpl.figure.prototype._canvas_extra_style = function(el){\n",
       "    // this is important to make the div 'focusable\n",
       "    el.attr('tabindex', 0)\n",
       "    // reach out to IPython and tell the keyboard manager to turn it's self\n",
       "    // off when our div gets focus\n",
       "\n",
       "    // location in version 3\n",
       "    if (IPython.notebook.keyboard_manager) {\n",
       "        IPython.notebook.keyboard_manager.register_events(el);\n",
       "    }\n",
       "    else {\n",
       "        // location in version 2\n",
       "        IPython.keyboard_manager.register_events(el);\n",
       "    }\n",
       "\n",
       "}\n",
       "\n",
       "mpl.figure.prototype._key_event_extra = function(event, name) {\n",
       "    var manager = IPython.notebook.keyboard_manager;\n",
       "    if (!manager)\n",
       "        manager = IPython.keyboard_manager;\n",
       "\n",
       "    // Check for shift+enter\n",
       "    if (event.shiftKey && event.which == 13) {\n",
       "        this.canvas_div.blur();\n",
       "        event.shiftKey = false;\n",
       "        // Send a \"J\" for go to next cell\n",
       "        event.which = 74;\n",
       "        event.keyCode = 74;\n",
       "        manager.command_mode();\n",
       "        manager.handle_keydown(event);\n",
       "    }\n",
       "}\n",
       "\n",
       "mpl.figure.prototype.handle_save = function(fig, msg) {\n",
       "    fig.ondownload(fig, null);\n",
       "}\n",
       "\n",
       "\n",
       "mpl.find_output_cell = function(html_output) {\n",
       "    // Return the cell and output element which can be found *uniquely* in the notebook.\n",
       "    // Note - this is a bit hacky, but it is done because the \"notebook_saving.Notebook\"\n",
       "    // IPython event is triggered only after the cells have been serialised, which for\n",
       "    // our purposes (turning an active figure into a static one), is too late.\n",
       "    var cells = IPython.notebook.get_cells();\n",
       "    var ncells = cells.length;\n",
       "    for (var i=0; i<ncells; i++) {\n",
       "        var cell = cells[i];\n",
       "        if (cell.cell_type === 'code'){\n",
       "            for (var j=0; j<cell.output_area.outputs.length; j++) {\n",
       "                var data = cell.output_area.outputs[j];\n",
       "                if (data.data) {\n",
       "                    // IPython >= 3 moved mimebundle to data attribute of output\n",
       "                    data = data.data;\n",
       "                }\n",
       "                if (data['text/html'] == html_output) {\n",
       "                    return [cell, data, j];\n",
       "                }\n",
       "            }\n",
       "        }\n",
       "    }\n",
       "}\n",
       "\n",
       "// Register the function which deals with the matplotlib target/channel.\n",
       "// The kernel may be null if the page has been refreshed.\n",
       "if (IPython.notebook.kernel != null) {\n",
       "    IPython.notebook.kernel.comm_manager.register_target('matplotlib', mpl.mpl_figure_comm);\n",
       "}\n"
      ],
      "text/plain": [
       "<IPython.core.display.Javascript object>"
      ]
     },
     "metadata": {},
     "output_type": "display_data"
    },
    {
     "data": {
      "text/html": [
       "<img src=\"data:image/png;base64,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\">"
      ],
      "text/plain": [
       "<IPython.core.display.HTML object>"
      ]
     },
     "metadata": {},
     "output_type": "display_data"
    },
    {
     "name": "stdout",
     "output_type": "stream",
     "text": [
      "[(0, 423175), (5, 405366), (10, 397616), (15, 435016), (20, 509516), (25, 557227), (30, 591613), (35, 557624), (40, 589307), (45, 677384), (50, 651470), (55, 548059), (60, 458058), (65, 445100), (70, 362208), (75, 273224), (80, 209059), (85, 136121), (90, 57859), (95, 12047), (100, 1614)]\n"
     ]
    }
   ],
   "source": [
    "plt.figure(figsize=(14,6))\n",
    "x_val = [x[0][1] for x in sorted(ratio_rdd)]\n",
    "y_val = [x[1] for x in sorted(ratio_rdd)]\n",
    "print plot_rdd\n",
    "plt.plot(range(len(y_val)), y_val)\n",
    "plt.xticks(range(len(x_val)), x_val, size='small')\n",
    "plt.show()"
   ]
  },
  {
   "cell_type": "markdown",
   "metadata": {
    "collapsed": false
   },
   "source": [
    "#### And finally countries with extreme ratios!"
   ]
  },
  {
   "cell_type": "code",
   "execution_count": 26,
   "metadata": {
    "collapsed": false
   },
   "outputs": [
    {
     "data": {
      "text/plain": [
       "[(0.7435255068268413, (u'\"Estonia\"', u'\"1950\"')),\n",
       " (0.7519791094575811, (u'\"Ukraine\"', u'\"1950\"')),\n",
       " (0.7616614030742755, (u'\"Latvia\"', u'\"1950\"')),\n",
       " (0.7656062654146911, (u'\"Russian Federation\"', u'\"1950\"')),\n",
       " (0.7693076696484855, (u'\"Estonia\"', u'\"1955\"')),\n",
       " (0.7786593567288499, (u'\"Ukraine\"', u'\"1955\"')),\n",
       " (0.7818550487288757, (u'\"Latvia\"', u'\"1955\"')),\n",
       " (0.7904025801857155, (u'\"Estonia\"', u'\"1960\"')),\n",
       " (0.790463501357167, (u'\"Russian Federation\"', u'\"1955\"')),\n",
       " (0.7920474390414033, (u'\"Latvia\"', u'\"1960\"')),\n",
       " (0.7924057107018961, (u'\"Belarus\"', u'\"1950\"')),\n",
       " (0.7926861628890858, (u'\"Martinique\"', u'\"2050\"')),\n",
       " (0.7951457618687366, (u'\"Martinique\"', u'\"2055\"')),\n",
       " (0.7963798926115795, (u'\"Martinique\"', u'\"2045\"')),\n",
       " (2.5201461958857134, (u'\"United Arab Emirates\"', u'\"2020\"')),\n",
       " (2.6547145687958205, (u'\"Qatar\"', u'\"2015\"')),\n",
       " (2.739509463565873, (u'\"United Arab Emirates\"', u'\"2015\"')),\n",
       " (2.9712132495620898, (u'\"United Arab Emirates\"', u'\"2010\"')),\n",
       " (3.056841316746095, (u'\"Qatar\"', u'\"2010\"'))]"
      ]
     },
     "execution_count": 26,
     "metadata": {},
     "output_type": "execute_result"
    }
   ],
   "source": [
    "fn_rdd.filter(lambda record: record[0] > 2.5 or record[0] < 0.8).sortByKey().collect()"
   ]
  },
  {
   "cell_type": "markdown",
   "metadata": {
    "collapsed": false
   },
   "source": [
    "#### Exercise 2 - how to achieve the same with groupByKey"
   ]
  },
  {
   "cell_type": "code",
   "execution_count": null,
   "metadata": {
    "collapsed": true
   },
   "outputs": [],
   "source": [
    "%load key/solution2.py"
   ]
  },
  {
   "cell_type": "markdown",
   "metadata": {
    "collapsed": false
   },
   "source": [
    "#### Exercise 3 - how to achieve the same with reduceByKey "
   ]
  },
  {
   "cell_type": "code",
   "execution_count": null,
   "metadata": {
    "collapsed": true
   },
   "outputs": [],
   "source": [
    "%load key/solution3.py"
   ]
  },
  {
   "cell_type": "markdown",
   "metadata": {
    "collapsed": false
   },
   "source": [
    "#### Exercise 4 - how to achieve the same with combineByKey "
   ]
  },
  {
   "cell_type": "code",
   "execution_count": null,
   "metadata": {
    "collapsed": false
   },
   "outputs": [],
   "source": [
    "%load key/solution4.py"
   ]
  },
  {
   "cell_type": "markdown",
   "metadata": {
    "collapsed": true
   },
   "source": [
    "### HandsOn 5 - Calculate the old-age dependency ratio (ratio of pop between 65+ to 25-64)\n",
    "*This introduces brodcast variables*"
   ]
  },
  {
   "cell_type": "markdown",
   "metadata": {},
   "source": [
    "#### create broadcast variable, good for performance for map-side join (for lookup table or feature vector)"
   ]
  },
  {
   "cell_type": "code",
   "execution_count": 27,
   "metadata": {
    "collapsed": true
   },
   "outputs": [],
   "source": [
    "broadcastWorkingAge = sc.broadcast([25,30,35,40,45,50,55,60])"
   ]
  },
  {
   "cell_type": "markdown",
   "metadata": {
    "collapsed": false
   },
   "source": [
    "#### Function to map the record as WORKING or RETIRED based on age"
   ]
  },
  {
   "cell_type": "code",
   "execution_count": 28,
   "metadata": {
    "collapsed": true
   },
   "outputs": [],
   "source": [
    "def map_agegrp(record):\n",
    "    if int(record.AgeGrpStart) in broadcastWorkingAge.value:\n",
    "         AgeGroup = 'WORKING'\n",
    "    else:\n",
    "         AgeGroup = 'RETIRED'\n",
    "    return ((record.Location,record.Time,AgeGroup),float(record.Value))"
   ]
  },
  {
   "cell_type": "markdown",
   "metadata": {
    "collapsed": false
   },
   "source": [
    "#### Function to calculate the ratio"
   ]
  },
  {
   "cell_type": "code",
   "execution_count": 29,
   "metadata": {
    "collapsed": true
   },
   "outputs": [],
   "source": [
    "def cal_ratio(record):\n",
    "    if record[1][0] == 'WORKING':\n",
    "         ratio = record[1][3] / record[1][1]\n",
    "    else:\n",
    "         ratio = record[1][1] / record[1][3]\n",
    "    return (ratio,(record[0][0],record[0][1]))"
   ]
  },
  {
   "cell_type": "markdown",
   "metadata": {},
   "source": [
    "#### rdd holding the old-age dependency ratio for each country and for each year"
   ]
  },
  {
   "cell_type": "code",
   "execution_count": 30,
   "metadata": {
    "collapsed": false
   },
   "outputs": [
    {
     "data": {
      "text/plain": [
       "[(0.05178322122096713, (u'\"Aruba\"', u'\"1955\"')),\n",
       " (0.3030251557114507, (u'\"Kazakhstan\"', u'\"2060\"')),\n",
       " (0.07844674506650585, (u'\"Nepal\"', u'\"1970\"')),\n",
       " (0.14458087541014408, (u'\"Nepal\"', u'\"2030\"')),\n",
       " (0.08148086607991036, (u'\"Western Africa\"', u'\"2020\"')),\n",
       " (0.1511617660018212, (u'\"Tonga\"', u'\"1995\"')),\n",
       " (0.07089940611032879, (u'\"Fiji\"', u'\"1980\"')),\n",
       " (0.0912807078099758, (u'\"Iran (Islamic Republic of)\"', u'\"2015\"')),\n",
       " (0.09640098842572788, (u'\"Mozambique\"', u'\"2000\"')),\n",
       " (0.23670364293021603, (u'\"Togo\"', u'\"2090\"'))]"
      ]
     },
     "execution_count": 30,
     "metadata": {},
     "output_type": "execute_result"
    }
   ],
   "source": [
    "ntuple_rdd.filter(lambda record: record.Sex == '\"Both\"' and int(record.AgeGrpStart) not in [0,5,10,15,20]) \\\n",
    "    .map(map_agegrp) \\\n",
    "    .reduceByKey(add) \\\n",
    "    .map(lambda record: ((record[0][0],record[0][1]),(record[0][2],record[1]))) \\\n",
    "    .reduceByKey(lambda a, b: a + b) \\\n",
    "    .map(cal_ratio) \\\n",
    "    .take(10)"
   ]
  },
  {
   "cell_type": "markdown",
   "metadata": {
    "collapsed": true
   },
   "source": [
    "### HandsOn 6 - some misc. rdd functions"
   ]
  },
  {
   "cell_type": "markdown",
   "metadata": {
    "collapsed": false
   },
   "source": [
    "#### check the number of partitions in RDD"
   ]
  },
  {
   "cell_type": "code",
   "execution_count": 27,
   "metadata": {
    "collapsed": false
   },
   "outputs": [
    {
     "data": {
      "text/plain": [
       "2"
      ]
     },
     "execution_count": 27,
     "metadata": {},
     "output_type": "execute_result"
    }
   ],
   "source": [
    "ntuple_rdd.getNumPartitions()"
   ]
  },
  {
   "cell_type": "markdown",
   "metadata": {
    "collapsed": false
   },
   "source": [
    "#### repartition the RDD"
   ]
  },
  {
   "cell_type": "code",
   "execution_count": 28,
   "metadata": {
    "collapsed": true
   },
   "outputs": [],
   "source": [
    "rep_rdd = ntuple_rdd.repartition(5)"
   ]
  },
  {
   "cell_type": "markdown",
   "metadata": {
    "collapsed": false
   },
   "source": [
    "#### check again the number of partitions"
   ]
  },
  {
   "cell_type": "code",
   "execution_count": 29,
   "metadata": {
    "collapsed": false
   },
   "outputs": [
    {
     "data": {
      "text/plain": [
       "5"
      ]
     },
     "execution_count": 29,
     "metadata": {},
     "output_type": "execute_result"
    }
   ],
   "source": [
    "rep_rdd.getNumPartitions()"
   ]
  },
  {
   "cell_type": "markdown",
   "metadata": {
    "collapsed": false
   },
   "source": [
    "#### which rdd to cache?"
   ]
  },
  {
   "cell_type": "code",
   "execution_count": 30,
   "metadata": {
    "collapsed": false
   },
   "outputs": [
    {
     "data": {
      "text/plain": [
       "PythonRDD[54] at RDD at PythonRDD.scala:48"
      ]
     },
     "execution_count": 30,
     "metadata": {},
     "output_type": "execute_result"
    }
   ],
   "source": [
    "ntuple_rdd.cache()"
   ]
  },
  {
   "cell_type": "markdown",
   "metadata": {},
   "source": [
    "#### each rdd has an id and can be given a friendly name"
   ]
  },
  {
   "cell_type": "code",
   "execution_count": 31,
   "metadata": {
    "collapsed": false
   },
   "outputs": [
    {
     "data": {
      "text/plain": [
       "1"
      ]
     },
     "execution_count": 31,
     "metadata": {},
     "output_type": "execute_result"
    }
   ],
   "source": [
    "rdd.id()"
   ]
  },
  {
   "cell_type": "code",
   "execution_count": 32,
   "metadata": {
    "collapsed": false
   },
   "outputs": [
    {
     "data": {
      "text/plain": [
       "u'../data/UN_Pop_Stats.csv'"
      ]
     },
     "execution_count": 32,
     "metadata": {},
     "output_type": "execute_result"
    }
   ],
   "source": [
    "rdd.name()"
   ]
  },
  {
   "cell_type": "markdown",
   "metadata": {
    "collapsed": false
   },
   "source": [
    "#### get distinct values of a column"
   ]
  },
  {
   "cell_type": "code",
   "execution_count": 33,
   "metadata": {
    "collapsed": false
   },
   "outputs": [
    {
     "data": {
      "text/plain": [
       "[u'\"Bahrain\"',\n",
       " u'\"Dominican Republic\"',\n",
       " u'\"Fiji\"',\n",
       " u'\"Caribbean\"',\n",
       " u'\"Armenia\"',\n",
       " u'\"Aruba\"',\n",
       " u'\"Uganda\"',\n",
       " u'\"Western Europe\"',\n",
       " u'\"Paraguay\"',\n",
       " u'\"Micronesia (Fed. States of)\"',\n",
       " u'\"Ghana\"',\n",
       " u'\"Lithuania\"',\n",
       " u'\"Canada\"',\n",
       " u'\"Venezuela (Bolivarian Republic of)\"',\n",
       " u'\"Spain\"',\n",
       " u'\"Swaziland\"',\n",
       " u'\"Samoa\"',\n",
       " u'\"Ecuador\"',\n",
       " u'\"Bahamas\"',\n",
       " u'\"Romania\"',\n",
       " u'\"Republic of Korea\"',\n",
       " u'\"India\"',\n",
       " u'\"Tajikistan\"',\n",
       " u'\"Sudan\"',\n",
       " u'\"Slovakia\"',\n",
       " u'\"United States Virgin Islands\"',\n",
       " u'\"Iran (Islamic Republic of)\"',\n",
       " u'\"NORTHERN AMERICA\"',\n",
       " u'\"Malta\"',\n",
       " u'\"Mongolia\"',\n",
       " u'\"Belgium\"',\n",
       " u'\"Western Sahara\"',\n",
       " u'\"United Kingdom\"',\n",
       " u'\"Nicaragua\"',\n",
       " u'\"Turkey\"',\n",
       " u'\"Barbados\"',\n",
       " u'\"Egypt\"',\n",
       " u'\"Angola\"',\n",
       " u'\"Jordan\"',\n",
       " u'\"Djibouti\"',\n",
       " u'\"Italy\"',\n",
       " u'\"Saudi Arabia\"',\n",
       " u'\"AFRICA\"',\n",
       " u'\"Mozambique\"',\n",
       " u'\"Croatia\"',\n",
       " u'\"Sao Tome and Principe\"',\n",
       " u'\"Gabon\"',\n",
       " u'\"Middle Africa\"',\n",
       " u'\"Tonga\"',\n",
       " u'\"French Guiana\"',\n",
       " u'\"Poland\"',\n",
       " u'\"Austria\"',\n",
       " u'\"Bhutan\"',\n",
       " u'\"Burundi\"',\n",
       " u'\"Libya\"',\n",
       " u'\"Tunisia\"',\n",
       " u'\"Zambia\"',\n",
       " u'\"Uzbekistan\"',\n",
       " u'\"Channel Islands\"',\n",
       " u'\"ASIA\"',\n",
       " u'\"Cyprus\"',\n",
       " u'\"Central America\"',\n",
       " u'\"Mauritius\"',\n",
       " u'\"Germany\"',\n",
       " u'\"United States of America\"',\n",
       " u'\"Ukraine\"',\n",
       " u'\"Israel\"',\n",
       " u'\"Sri Lanka\"',\n",
       " u'\"Ireland\"',\n",
       " u'\"Melanesia\"',\n",
       " u'\"Western Africa\"',\n",
       " u'\"LATIN AMERICA AND THE CARIBBEAN\"',\n",
       " u'\"Kyrgyzstan\"',\n",
       " u'\"Syrian Arab Republic\"',\n",
       " u'\"Saint Vincent and the Grenadines\"',\n",
       " u'\"Lao People\\'s Democratic Republic\"',\n",
       " u'\"Serbia\"',\n",
       " u'\"Chad\"',\n",
       " u'\"South America\"',\n",
       " u'\"Portugal\"',\n",
       " u'\"Qatar\"',\n",
       " u'\"Madagascar\"',\n",
       " u'\"Guam\"',\n",
       " u'\"Less developed regions\"',\n",
       " u'\"Estonia\"',\n",
       " u'\"Suriname\"',\n",
       " u'\"Myanmar\"',\n",
       " u'\"Micronesia\"',\n",
       " u'\"Kazakhstan\"',\n",
       " u'\"Saint Lucia\"',\n",
       " u'\"Namibia\"',\n",
       " u'\"Least developed countries\"',\n",
       " u'\"Haiti\"',\n",
       " u'\"South-Eastern Asia\"',\n",
       " u'\"Montenegro\"',\n",
       " u'\"Eastern Asia\"',\n",
       " u'\"Mayotte\"',\n",
       " u'\"New Zealand\"',\n",
       " u'\"Nigeria\"',\n",
       " u'\"Antigua and Barbuda\"',\n",
       " u'\"Chile\"',\n",
       " u'\"Sweden\"',\n",
       " u'\"Eastern Europe\"',\n",
       " u'\"China\"',\n",
       " u'\"Argentina\"',\n",
       " u'\"Russian Federation\"',\n",
       " u'\"Luxembourg\"',\n",
       " u'\"Switzerland\"',\n",
       " u'\"Lebanon\"',\n",
       " u'\"Timor-Leste\"',\n",
       " u'\"Eastern Africa\"',\n",
       " u'\"Peru\"',\n",
       " u'\"Papua New Guinea\"',\n",
       " u'\"Honduras\"',\n",
       " u'\"Cambodia\"',\n",
       " u'\"Guatemala\"',\n",
       " u'\"French Polynesia\"',\n",
       " u'\"Cameroon\"',\n",
       " u'\"Guinea-Bissau\"',\n",
       " u'\"Republic of Moldova\"',\n",
       " u'\"Solomon Islands\"',\n",
       " u'\"TFYR Macedonia\"',\n",
       " u'\"Viet Nam\"',\n",
       " u'\"Colombia\"',\n",
       " u'\"El Salvador\"',\n",
       " u'\"Niger\"',\n",
       " u'\"Panama\"',\n",
       " u'\"EUROPE\"',\n",
       " u'\"Norway\"',\n",
       " u'\"More developed regions\"',\n",
       " u'\"Algeria\"',\n",
       " u'\"Brazil\"',\n",
       " u'\"Western Asia\"',\n",
       " u'\"Philippines\"',\n",
       " u'\"Senegal\"',\n",
       " u'\"Bosnia and Herzegovina\"',\n",
       " u'\"Gambia\"',\n",
       " u'\"Iraq\"',\n",
       " u'\"Equatorial Guinea\"',\n",
       " u'\"Uruguay\"',\n",
       " u'\"Belize\"',\n",
       " u'\"Yemen\"',\n",
       " u'\"Congo\"',\n",
       " u'\"Jamaica\"',\n",
       " u'\"Liberia\"',\n",
       " u'\"Northern Europe\"',\n",
       " u'\"Indonesia\"',\n",
       " u'\"New Caledonia\"',\n",
       " u'\"Iceland\"',\n",
       " u'\"Cuba\"',\n",
       " u'\"Albania\"',\n",
       " u'\"Dem. People\\'s Republic of Korea\"',\n",
       " u'\"Southern Asia\"',\n",
       " u'\"Bolivia (Plurinational State of)\"',\n",
       " u'\"Polynesia\"',\n",
       " u'\"United Arab Emirates\"',\n",
       " u'\"Trinidad and Tobago\"',\n",
       " u'\"Maldives\"',\n",
       " u'\"Hungary\"',\n",
       " u'\"Bangladesh\"',\n",
       " u'\"Australia\"',\n",
       " u'\"Afghanistan\"',\n",
       " u'\"Mexico\"',\n",
       " u'\"Greece\"',\n",
       " u'\"Belarus\"',\n",
       " u'\"Comoros\"',\n",
       " u'\"R\\ufffdunion\"',\n",
       " u'\"Martinique\"',\n",
       " u'\"Georgia\"',\n",
       " u'\"Slovenia\"',\n",
       " u'\"Central African Republic\"',\n",
       " u'\"Benin\"',\n",
       " u'\"Latvia\"',\n",
       " u'\"Vanuatu\"',\n",
       " u'\"Botswana\"',\n",
       " u'\"South Sudan\"',\n",
       " u'\"Guinea\"',\n",
       " u'\"France\"',\n",
       " u'\"Malaysia\"',\n",
       " u'\"Malawi\"',\n",
       " u'\"Japan\"',\n",
       " u'\"Northern Africa\"',\n",
       " u'\"Kuwait\"',\n",
       " u'\"South-Central Asia\"',\n",
       " u'\"State of Palestine\"',\n",
       " u'\"Rwanda\"',\n",
       " u'\"Mauritania\"',\n",
       " u'\"Kenya\"',\n",
       " u'\"China',\n",
       " u'\"Australia/New Zealand\"',\n",
       " u'\"Seychelles\"',\n",
       " u'\"Less developed regions',\n",
       " u'\"Zimbabwe\"',\n",
       " u'\"Denmark\"',\n",
       " u'\"Costa Rica\"',\n",
       " u'\"Togo\"',\n",
       " u'\"Other non-specified areas\"',\n",
       " u'\"Nepal\"',\n",
       " u'\"Burkina Faso\"',\n",
       " u'\"Czech Republic\"',\n",
       " u'\"Pakistan\"',\n",
       " u'\"Guadeloupe\"',\n",
       " u'\"Bulgaria\"',\n",
       " u'\"Grenada\"',\n",
       " u'\"Cabo Verde\"',\n",
       " u'\"Morocco\"',\n",
       " u'\"South Africa\"',\n",
       " u'\"Turkmenistan\"',\n",
       " u'\"Mali\"',\n",
       " u'\"Finland\"',\n",
       " u'\"Southern Europe\"',\n",
       " u'\"Kiribati\"',\n",
       " u'\"Puerto Rico\"',\n",
       " u'\"Central Asia\"',\n",
       " u'\"Brunei Darussalam\"',\n",
       " u'\"C\\ufffdte d\\'Ivoire\"',\n",
       " u'\"Lesotho\"',\n",
       " u'\"Sub-Saharan Africa\"',\n",
       " u'\"Somalia\"',\n",
       " u'\"Thailand\"',\n",
       " u'\"WORLD\"',\n",
       " u'\"Eritrea\"',\n",
       " u'\"Singapore\"',\n",
       " u'\"Ethiopia\"',\n",
       " u'\"Democratic Republic of the Congo\"',\n",
       " u'\"Guyana\"',\n",
       " u'\"Azerbaijan\"',\n",
       " u'\"Cura\\ufffdao\"',\n",
       " u'\"OCEANIA\"',\n",
       " u'\"Netherlands\"',\n",
       " u'\"Oman\"',\n",
       " u'\"Southern Africa\"',\n",
       " u'\"Sierra Leone\"',\n",
       " u'\"United Republic of Tanzania\"']"
      ]
     },
     "execution_count": 33,
     "metadata": {},
     "output_type": "execute_result"
    }
   ],
   "source": [
    "ntuple_rdd.map(lambda record: record.Location).distinct().collect()"
   ]
  },
  {
   "cell_type": "markdown",
   "metadata": {},
   "source": [
    "### Hands-On 7 - Convert the ntuple_rdd to DataFrame and save the DF as parquet file"
   ]
  },
  {
   "cell_type": "markdown",
   "metadata": {},
   "source": [
    "#### Create sqlContext\n",
    "*This is only required if you are running in SPARK local mode*"
   ]
  },
  {
   "cell_type": "code",
   "execution_count": 34,
   "metadata": {
    "collapsed": true
   },
   "outputs": [],
   "source": [
    "from pyspark import SQLContext"
   ]
  },
  {
   "cell_type": "code",
   "execution_count": 35,
   "metadata": {
    "collapsed": true
   },
   "outputs": [],
   "source": [
    "sqlContext = SQLContext(sc)"
   ]
  },
  {
   "cell_type": "markdown",
   "metadata": {},
   "source": [
    "#### Convert RDD to DF and inspect the data"
   ]
  },
  {
   "cell_type": "code",
   "execution_count": 36,
   "metadata": {
    "collapsed": true
   },
   "outputs": [],
   "source": [
    "df = ntuple_rdd.toDF()"
   ]
  },
  {
   "cell_type": "code",
   "execution_count": 37,
   "metadata": {
    "collapsed": false
   },
   "outputs": [
    {
     "name": "stdout",
     "output_type": "stream",
     "text": [
      "+-----+-------------+-----+--------+------+---------+-----+--------+-------+-----------+----------+-------+\n",
      "|LocID|     Location|VarID| Variant|  Time|MidPeriod|SexID|     Sex| AgeGrp|AgeGrpStart|AgeGrpSpan|  Value|\n",
      "+-----+-------------+-----+--------+------+---------+-----+--------+-------+-----------+----------+-------+\n",
      "|    4|\"Afghanistan\"|    2|\"Medium\"|\"1950\"|   1950.5|    1|  \"Male\"|  \"0-4\"|          0|         5|630.044|\n",
      "|    4|\"Afghanistan\"|    2|\"Medium\"|\"1950\"|   1950.5|    1|  \"Male\"|  \"5-9\"|          5|         5|516.205|\n",
      "|    4|\"Afghanistan\"|    2|\"Medium\"|\"1950\"|   1950.5|    1|  \"Male\"|\"10-14\"|         10|         5|461.378|\n",
      "|    4|\"Afghanistan\"|    2|\"Medium\"|\"1950\"|   1950.5|    1|  \"Male\"|\"15-19\"|         15|         5|414.368|\n",
      "|    4|\"Afghanistan\"|    2|\"Medium\"|\"1950\"|   1950.5|    1|  \"Male\"|\"20-24\"|         20|         5|374.110|\n",
      "|    4|\"Afghanistan\"|    2|\"Medium\"|\"1950\"|   1950.5|    1|  \"Male\"|\"25-29\"|         25|         5|321.312|\n",
      "|    4|\"Afghanistan\"|    2|\"Medium\"|\"1950\"|   1950.5|    1|  \"Male\"|\"30-34\"|         30|         5|276.279|\n",
      "|    4|\"Afghanistan\"|    2|\"Medium\"|\"1950\"|   1950.5|    1|  \"Male\"|\"35-39\"|         35|         5|236.792|\n",
      "|    4|\"Afghanistan\"|    2|\"Medium\"|\"1950\"|   1950.5|    1|  \"Male\"|\"40-44\"|         40|         5|200.616|\n",
      "|    4|\"Afghanistan\"|    2|\"Medium\"|\"1950\"|   1950.5|    1|  \"Male\"|\"45-49\"|         45|         5|176.525|\n",
      "|    4|\"Afghanistan\"|    2|\"Medium\"|\"1950\"|   1950.5|    1|  \"Male\"|\"50-54\"|         50|         5|147.125|\n",
      "|    4|\"Afghanistan\"|    2|\"Medium\"|\"1950\"|   1950.5|    1|  \"Male\"|\"55-59\"|         55|         5|123.896|\n",
      "|    4|\"Afghanistan\"|    2|\"Medium\"|\"1950\"|   1950.5|    1|  \"Male\"|\"60-64\"|         60|         5| 94.573|\n",
      "|    4|\"Afghanistan\"|    2|\"Medium\"|\"1950\"|   1950.5|    1|  \"Male\"|\"65-69\"|         65|         5| 65.058|\n",
      "|    4|\"Afghanistan\"|    2|\"Medium\"|\"1950\"|   1950.5|    1|  \"Male\"|\"70-74\"|         70|         5| 37.982|\n",
      "|    4|\"Afghanistan\"|    2|\"Medium\"|\"1950\"|   1950.5|    1|  \"Male\"|\"75-79\"|         75|         5| 17.011|\n",
      "|    4|\"Afghanistan\"|    2|\"Medium\"|\"1950\"|   1950.5|    1|  \"Male\"|  \"80+\"|         80|        20|  5.967|\n",
      "|    4|\"Afghanistan\"|    2|\"Medium\"|\"1950\"|   1950.5|    2|\"Female\"|  \"0-4\"|          0|         5|661.578|\n",
      "|    4|\"Afghanistan\"|    2|\"Medium\"|\"1950\"|   1950.5|    2|\"Female\"|  \"5-9\"|          5|         5|487.335|\n",
      "|    4|\"Afghanistan\"|    2|\"Medium\"|\"1950\"|   1950.5|    2|\"Female\"|\"10-14\"|         10|         5|423.326|\n",
      "+-----+-------------+-----+--------+------+---------+-----+--------+-------+-----------+----------+-------+\n",
      "only showing top 20 rows\n",
      "\n"
     ]
    }
   ],
   "source": [
    "df.show()"
   ]
  },
  {
   "cell_type": "code",
   "execution_count": null,
   "metadata": {
    "collapsed": true
   },
   "outputs": [],
   "source": []
  }
 ],
 "metadata": {
  "kernelspec": {
   "display_name": "Python 2",
   "language": "python",
   "name": "python2"
  },
  "language_info": {
   "codemirror_mode": {
    "name": "ipython",
    "version": 2
   },
   "file_extension": ".py",
   "mimetype": "text/x-python",
   "name": "python",
   "nbconvert_exporter": "python",
   "pygments_lexer": "ipython2",
   "version": "2.7.13"
  }
 },
 "nbformat": 4,
 "nbformat_minor": 0
}
