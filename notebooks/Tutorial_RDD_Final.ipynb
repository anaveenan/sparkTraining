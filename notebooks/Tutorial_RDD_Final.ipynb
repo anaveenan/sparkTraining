{
 "cells": [
  {
   "cell_type": "markdown",
   "metadata": {},
   "source": [
    "## This notebook is part of Hadoop and Spark training delivered by IT-DB group\n",
    "### SPARK RDD Hands-On Lab\n",
    "_ by Prasanth Kothuri _"
   ]
  },
  {
   "cell_type": "markdown",
   "metadata": {
    "collapsed": true
   },
   "source": [
    "### Hands-On 1 - Load and inspect the data from HDFS"
   ]
  },
  {
   "cell_type": "markdown",
   "metadata": {},
   "source": [
    "#### Please execute the following steps if you are running in Spark local mode\n",
    "*SPARK context must be explicity created in local mode*"
   ]
  },
  {
   "cell_type": "code",
   "execution_count": 1,
   "metadata": {
    "collapsed": true
   },
   "outputs": [],
   "source": [
    "from pyspark import SparkContext"
   ]
  },
  {
   "cell_type": "code",
   "execution_count": 2,
   "metadata": {
    "collapsed": false
   },
   "outputs": [],
   "source": [
    "sc = SparkContext()"
   ]
  },
  {
   "cell_type": "markdown",
   "metadata": {},
   "source": [
    "#### Run the following cell to create an rdd containing the UN Pop Stats data"
   ]
  },
  {
   "cell_type": "code",
   "execution_count": 3,
   "metadata": {
    "collapsed": true
   },
   "outputs": [],
   "source": [
    "rdd = sc.textFile(\"../data/UN_Pop_Stats.csv\")"
   ]
  },
  {
   "cell_type": "markdown",
   "metadata": {
    "collapsed": false
   },
   "source": [
    "#### Lets see if the rdd contains any data; take(n) - returns the first n elements of the RDD"
   ]
  },
  {
   "cell_type": "code",
   "execution_count": 4,
   "metadata": {
    "collapsed": false
   },
   "outputs": [
    {
     "data": {
      "text/plain": [
       "[u'LocID,Location,VarID,Variant,Time,MidPeriod,SexID,Sex,AgeGrp,AgeGrpStart,AgeGrpSpan,Value',\n",
       " u'4,\"Afghanistan\",2,\"Medium\",\"1950\",1950.5,1,\"Male\",\"0-4\",0,5,630.044',\n",
       " u'4,\"Afghanistan\",2,\"Medium\",\"1950\",1950.5,1,\"Male\",\"5-9\",5,5,516.205',\n",
       " u'4,\"Afghanistan\",2,\"Medium\",\"1950\",1950.5,1,\"Male\",\"10-14\",10,5,461.378',\n",
       " u'4,\"Afghanistan\",2,\"Medium\",\"1950\",1950.5,1,\"Male\",\"15-19\",15,5,414.368']"
      ]
     },
     "execution_count": 4,
     "metadata": {},
     "output_type": "execute_result"
    }
   ],
   "source": [
    "rdd.take(5)"
   ]
  },
  {
   "cell_type": "markdown",
   "metadata": {
    "collapsed": true
   },
   "source": [
    "#### oops, there is a header, lets remove it first"
   ]
  },
  {
   "cell_type": "code",
   "execution_count": 5,
   "metadata": {
    "collapsed": true
   },
   "outputs": [],
   "source": [
    "headless_rdd = rdd.filter(lambda line: 'LocID' not in line)"
   ]
  },
  {
   "cell_type": "markdown",
   "metadata": {
    "collapsed": false
   },
   "source": [
    "#### inspect the data to see if the header is still present"
   ]
  },
  {
   "cell_type": "code",
   "execution_count": 6,
   "metadata": {
    "collapsed": false
   },
   "outputs": [
    {
     "data": {
      "text/plain": [
       "[u'4,\"Afghanistan\",2,\"Medium\",\"1950\",1950.5,1,\"Male\",\"0-4\",0,5,630.044',\n",
       " u'4,\"Afghanistan\",2,\"Medium\",\"1950\",1950.5,1,\"Male\",\"5-9\",5,5,516.205',\n",
       " u'4,\"Afghanistan\",2,\"Medium\",\"1950\",1950.5,1,\"Male\",\"10-14\",10,5,461.378',\n",
       " u'4,\"Afghanistan\",2,\"Medium\",\"1950\",1950.5,1,\"Male\",\"15-19\",15,5,414.368',\n",
       " u'4,\"Afghanistan\",2,\"Medium\",\"1950\",1950.5,1,\"Male\",\"20-24\",20,5,374.110']"
      ]
     },
     "execution_count": 6,
     "metadata": {},
     "output_type": "execute_result"
    }
   ],
   "source": [
    "headless_rdd.take(5)"
   ]
  },
  {
   "cell_type": "markdown",
   "metadata": {
    "collapsed": true
   },
   "source": [
    "### Hands-On 2 - Convert headless_rdd to an RDD containing python namedtuple objects"
   ]
  },
  {
   "cell_type": "markdown",
   "metadata": {
    "collapsed": true
   },
   "source": [
    "#### Lets import couple of things we need"
   ]
  },
  {
   "cell_type": "code",
   "execution_count": 7,
   "metadata": {
    "collapsed": true
   },
   "outputs": [],
   "source": [
    "from collections import namedtuple\n",
    "from pprint import pprint"
   ]
  },
  {
   "cell_type": "markdown",
   "metadata": {
    "collapsed": true
   },
   "source": [
    "#### schema for the namedtuple\n",
    "*Named tuples are tuples that allow their elements to be accessed by name instead of just index*"
   ]
  },
  {
   "cell_type": "code",
   "execution_count": 8,
   "metadata": {
    "collapsed": true
   },
   "outputs": [],
   "source": [
    "pData = namedtuple('pData',['LocID','Location','VarID','Variant','Time','MidPeriod','SexID','Sex','AgeGrp','AgeGrpStart','AgeGrpSpan','Value'])"
   ]
  },
  {
   "cell_type": "markdown",
   "metadata": {
    "collapsed": true
   },
   "source": [
    "#### Function to map the data"
   ]
  },
  {
   "cell_type": "code",
   "execution_count": 9,
   "metadata": {
    "collapsed": true
   },
   "outputs": [],
   "source": [
    "def map_record(record):\n",
    "  columns = record.split(\",\")[:12]\n",
    "  return pData(*columns)"
   ]
  },
  {
   "cell_type": "markdown",
   "metadata": {
    "collapsed": true
   },
   "source": [
    "#### The following map created new python namedtuple rdd"
   ]
  },
  {
   "cell_type": "code",
   "execution_count": 10,
   "metadata": {
    "collapsed": true
   },
   "outputs": [],
   "source": [
    "ntuple_rdd = headless_rdd.map(map_record)"
   ]
  },
  {
   "cell_type": "markdown",
   "metadata": {
    "collapsed": false
   },
   "source": [
    "#### Inspect the data"
   ]
  },
  {
   "cell_type": "code",
   "execution_count": 11,
   "metadata": {
    "collapsed": false
   },
   "outputs": [
    {
     "data": {
      "text/plain": [
       "[pData(LocID=u'4', Location=u'\"Afghanistan\"', VarID=u'2', Variant=u'\"Medium\"', Time=u'\"1950\"', MidPeriod=u'1950.5', SexID=u'1', Sex=u'\"Male\"', AgeGrp=u'\"0-4\"', AgeGrpStart=u'0', AgeGrpSpan=u'5', Value=u'630.044'),\n",
       " pData(LocID=u'4', Location=u'\"Afghanistan\"', VarID=u'2', Variant=u'\"Medium\"', Time=u'\"1950\"', MidPeriod=u'1950.5', SexID=u'1', Sex=u'\"Male\"', AgeGrp=u'\"5-9\"', AgeGrpStart=u'5', AgeGrpSpan=u'5', Value=u'516.205'),\n",
       " pData(LocID=u'4', Location=u'\"Afghanistan\"', VarID=u'2', Variant=u'\"Medium\"', Time=u'\"1950\"', MidPeriod=u'1950.5', SexID=u'1', Sex=u'\"Male\"', AgeGrp=u'\"10-14\"', AgeGrpStart=u'10', AgeGrpSpan=u'5', Value=u'461.378'),\n",
       " pData(LocID=u'4', Location=u'\"Afghanistan\"', VarID=u'2', Variant=u'\"Medium\"', Time=u'\"1950\"', MidPeriod=u'1950.5', SexID=u'1', Sex=u'\"Male\"', AgeGrp=u'\"15-19\"', AgeGrpStart=u'15', AgeGrpSpan=u'5', Value=u'414.368'),\n",
       " pData(LocID=u'4', Location=u'\"Afghanistan\"', VarID=u'2', Variant=u'\"Medium\"', Time=u'\"1950\"', MidPeriod=u'1950.5', SexID=u'1', Sex=u'\"Male\"', AgeGrp=u'\"20-24\"', AgeGrpStart=u'20', AgeGrpSpan=u'5', Value=u'374.110')]"
      ]
     },
     "execution_count": 11,
     "metadata": {},
     "output_type": "execute_result"
    }
   ],
   "source": [
    "ntuple_rdd.take(5)"
   ]
  },
  {
   "cell_type": "markdown",
   "metadata": {
    "collapsed": false
   },
   "source": [
    "### Hands-On 3 - Aggregate the population by Age Group for Switzerland for 2015\n",
    "*This introduces filter, map, reduceByKey transformations and collect actions*"
   ]
  },
  {
   "cell_type": "code",
   "execution_count": 12,
   "metadata": {
    "collapsed": false
   },
   "outputs": [],
   "source": [
    "plot_rdd = ntuple_rdd.filter(lambda record: record.Location =='\"Switzerland\"' and record.Time == '\"2015\"' and record.Sex in ['\"Male\"','\"Female\"']) \\\n",
    "    .map(lambda record: (int(record.AgeGrpStart),int(float(record.Value)*1000))) \\\n",
    "    .reduceByKey(lambda x,y: x+y) \\\n",
    "    .sortByKey() \\\n",
    "    .collect()"
   ]
  },
  {
   "cell_type": "markdown",
   "metadata": {
    "collapsed": true
   },
   "source": [
    "#### Lets draw the population distribution histogram"
   ]
  },
  {
   "cell_type": "code",
   "execution_count": 13,
   "metadata": {
    "collapsed": false
   },
   "outputs": [
    {
     "name": "stderr",
     "output_type": "stream",
     "text": [
      "/cvmfs/sft.cern.ch/lcg/releases/matplotlib/1.5.1-763af/x86_64-slc6-gcc49-opt/lib/python2.7/site-packages/matplotlib-1.5.1-py2.7-linux-x86_64.egg/matplotlib/font_manager.py:273: UserWarning: Matplotlib is building the font cache using fc-list. This may take a moment.\n",
      "  warnings.warn('Matplotlib is building the font cache using fc-list. This may take a moment.')\n"
     ]
    }
   ],
   "source": [
    "%matplotlib notebook\n",
    "import matplotlib.pyplot as plt"
   ]
  },
  {
   "cell_type": "code",
   "execution_count": 14,
   "metadata": {
    "collapsed": false
   },
   "outputs": [
    {
     "data": {
      "application/javascript": [
       "/* Put everything inside the global mpl namespace */\n",
       "window.mpl = {};\n",
       "\n",
       "mpl.get_websocket_type = function() {\n",
       "    if (typeof(WebSocket) !== 'undefined') {\n",
       "        return WebSocket;\n",
       "    } else if (typeof(MozWebSocket) !== 'undefined') {\n",
       "        return MozWebSocket;\n",
       "    } else {\n",
       "        alert('Your browser does not have WebSocket support.' +\n",
       "              'Please try Chrome, Safari or Firefox ≥ 6. ' +\n",
       "              'Firefox 4 and 5 are also supported but you ' +\n",
       "              'have to enable WebSockets in about:config.');\n",
       "    };\n",
       "}\n",
       "\n",
       "mpl.figure = function(figure_id, websocket, ondownload, parent_element) {\n",
       "    this.id = figure_id;\n",
       "\n",
       "    this.ws = websocket;\n",
       "\n",
       "    this.supports_binary = (this.ws.binaryType != undefined);\n",
       "\n",
       "    if (!this.supports_binary) {\n",
       "        var warnings = document.getElementById(\"mpl-warnings\");\n",
       "        if (warnings) {\n",
       "            warnings.style.display = 'block';\n",
       "            warnings.textContent = (\n",
       "                \"This browser does not support binary websocket messages. \" +\n",
       "                    \"Performance may be slow.\");\n",
       "        }\n",
       "    }\n",
       "\n",
       "    this.imageObj = new Image();\n",
       "\n",
       "    this.context = undefined;\n",
       "    this.message = undefined;\n",
       "    this.canvas = undefined;\n",
       "    this.rubberband_canvas = undefined;\n",
       "    this.rubberband_context = undefined;\n",
       "    this.format_dropdown = undefined;\n",
       "\n",
       "    this.image_mode = 'full';\n",
       "\n",
       "    this.root = $('<div/>');\n",
       "    this._root_extra_style(this.root)\n",
       "    this.root.attr('style', 'display: inline-block');\n",
       "\n",
       "    $(parent_element).append(this.root);\n",
       "\n",
       "    this._init_header(this);\n",
       "    this._init_canvas(this);\n",
       "    this._init_toolbar(this);\n",
       "\n",
       "    var fig = this;\n",
       "\n",
       "    this.waiting = false;\n",
       "\n",
       "    this.ws.onopen =  function () {\n",
       "            fig.send_message(\"supports_binary\", {value: fig.supports_binary});\n",
       "            fig.send_message(\"send_image_mode\", {});\n",
       "            fig.send_message(\"refresh\", {});\n",
       "        }\n",
       "\n",
       "    this.imageObj.onload = function() {\n",
       "            if (fig.image_mode == 'full') {\n",
       "                // Full images could contain transparency (where diff images\n",
       "                // almost always do), so we need to clear the canvas so that\n",
       "                // there is no ghosting.\n",
       "                fig.context.clearRect(0, 0, fig.canvas.width, fig.canvas.height);\n",
       "            }\n",
       "            fig.context.drawImage(fig.imageObj, 0, 0);\n",
       "        };\n",
       "\n",
       "    this.imageObj.onunload = function() {\n",
       "        this.ws.close();\n",
       "    }\n",
       "\n",
       "    this.ws.onmessage = this._make_on_message_function(this);\n",
       "\n",
       "    this.ondownload = ondownload;\n",
       "}\n",
       "\n",
       "mpl.figure.prototype._init_header = function() {\n",
       "    var titlebar = $(\n",
       "        '<div class=\"ui-dialog-titlebar ui-widget-header ui-corner-all ' +\n",
       "        'ui-helper-clearfix\"/>');\n",
       "    var titletext = $(\n",
       "        '<div class=\"ui-dialog-title\" style=\"width: 100%; ' +\n",
       "        'text-align: center; padding: 3px;\"/>');\n",
       "    titlebar.append(titletext)\n",
       "    this.root.append(titlebar);\n",
       "    this.header = titletext[0];\n",
       "}\n",
       "\n",
       "\n",
       "\n",
       "mpl.figure.prototype._canvas_extra_style = function(canvas_div) {\n",
       "\n",
       "}\n",
       "\n",
       "\n",
       "mpl.figure.prototype._root_extra_style = function(canvas_div) {\n",
       "\n",
       "}\n",
       "\n",
       "mpl.figure.prototype._init_canvas = function() {\n",
       "    var fig = this;\n",
       "\n",
       "    var canvas_div = $('<div/>');\n",
       "\n",
       "    canvas_div.attr('style', 'position: relative; clear: both; outline: 0');\n",
       "\n",
       "    function canvas_keyboard_event(event) {\n",
       "        return fig.key_event(event, event['data']);\n",
       "    }\n",
       "\n",
       "    canvas_div.keydown('key_press', canvas_keyboard_event);\n",
       "    canvas_div.keyup('key_release', canvas_keyboard_event);\n",
       "    this.canvas_div = canvas_div\n",
       "    this._canvas_extra_style(canvas_div)\n",
       "    this.root.append(canvas_div);\n",
       "\n",
       "    var canvas = $('<canvas/>');\n",
       "    canvas.addClass('mpl-canvas');\n",
       "    canvas.attr('style', \"left: 0; top: 0; z-index: 0; outline: 0\")\n",
       "\n",
       "    this.canvas = canvas[0];\n",
       "    this.context = canvas[0].getContext(\"2d\");\n",
       "\n",
       "    var rubberband = $('<canvas/>');\n",
       "    rubberband.attr('style', \"position: absolute; left: 0; top: 0; z-index: 1;\")\n",
       "\n",
       "    var pass_mouse_events = true;\n",
       "\n",
       "    canvas_div.resizable({\n",
       "        start: function(event, ui) {\n",
       "            pass_mouse_events = false;\n",
       "        },\n",
       "        resize: function(event, ui) {\n",
       "            fig.request_resize(ui.size.width, ui.size.height);\n",
       "        },\n",
       "        stop: function(event, ui) {\n",
       "            pass_mouse_events = true;\n",
       "            fig.request_resize(ui.size.width, ui.size.height);\n",
       "        },\n",
       "    });\n",
       "\n",
       "    function mouse_event_fn(event) {\n",
       "        if (pass_mouse_events)\n",
       "            return fig.mouse_event(event, event['data']);\n",
       "    }\n",
       "\n",
       "    rubberband.mousedown('button_press', mouse_event_fn);\n",
       "    rubberband.mouseup('button_release', mouse_event_fn);\n",
       "    // Throttle sequential mouse events to 1 every 20ms.\n",
       "    rubberband.mousemove('motion_notify', mouse_event_fn);\n",
       "\n",
       "    rubberband.mouseenter('figure_enter', mouse_event_fn);\n",
       "    rubberband.mouseleave('figure_leave', mouse_event_fn);\n",
       "\n",
       "    canvas_div.on(\"wheel\", function (event) {\n",
       "        event = event.originalEvent;\n",
       "        event['data'] = 'scroll'\n",
       "        if (event.deltaY < 0) {\n",
       "            event.step = 1;\n",
       "        } else {\n",
       "            event.step = -1;\n",
       "        }\n",
       "        mouse_event_fn(event);\n",
       "    });\n",
       "\n",
       "    canvas_div.append(canvas);\n",
       "    canvas_div.append(rubberband);\n",
       "\n",
       "    this.rubberband = rubberband;\n",
       "    this.rubberband_canvas = rubberband[0];\n",
       "    this.rubberband_context = rubberband[0].getContext(\"2d\");\n",
       "    this.rubberband_context.strokeStyle = \"#000000\";\n",
       "\n",
       "    this._resize_canvas = function(width, height) {\n",
       "        // Keep the size of the canvas, canvas container, and rubber band\n",
       "        // canvas in synch.\n",
       "        canvas_div.css('width', width)\n",
       "        canvas_div.css('height', height)\n",
       "\n",
       "        canvas.attr('width', width);\n",
       "        canvas.attr('height', height);\n",
       "\n",
       "        rubberband.attr('width', width);\n",
       "        rubberband.attr('height', height);\n",
       "    }\n",
       "\n",
       "    // Set the figure to an initial 600x600px, this will subsequently be updated\n",
       "    // upon first draw.\n",
       "    this._resize_canvas(600, 600);\n",
       "\n",
       "    // Disable right mouse context menu.\n",
       "    $(this.rubberband_canvas).bind(\"contextmenu\",function(e){\n",
       "        return false;\n",
       "    });\n",
       "\n",
       "    function set_focus () {\n",
       "        canvas.focus();\n",
       "        canvas_div.focus();\n",
       "    }\n",
       "\n",
       "    window.setTimeout(set_focus, 100);\n",
       "}\n",
       "\n",
       "mpl.figure.prototype._init_toolbar = function() {\n",
       "    var fig = this;\n",
       "\n",
       "    var nav_element = $('<div/>')\n",
       "    nav_element.attr('style', 'width: 100%');\n",
       "    this.root.append(nav_element);\n",
       "\n",
       "    // Define a callback function for later on.\n",
       "    function toolbar_event(event) {\n",
       "        return fig.toolbar_button_onclick(event['data']);\n",
       "    }\n",
       "    function toolbar_mouse_event(event) {\n",
       "        return fig.toolbar_button_onmouseover(event['data']);\n",
       "    }\n",
       "\n",
       "    for(var toolbar_ind in mpl.toolbar_items) {\n",
       "        var name = mpl.toolbar_items[toolbar_ind][0];\n",
       "        var tooltip = mpl.toolbar_items[toolbar_ind][1];\n",
       "        var image = mpl.toolbar_items[toolbar_ind][2];\n",
       "        var method_name = mpl.toolbar_items[toolbar_ind][3];\n",
       "\n",
       "        if (!name) {\n",
       "            // put a spacer in here.\n",
       "            continue;\n",
       "        }\n",
       "        var button = $('<button/>');\n",
       "        button.addClass('ui-button ui-widget ui-state-default ui-corner-all ' +\n",
       "                        'ui-button-icon-only');\n",
       "        button.attr('role', 'button');\n",
       "        button.attr('aria-disabled', 'false');\n",
       "        button.click(method_name, toolbar_event);\n",
       "        button.mouseover(tooltip, toolbar_mouse_event);\n",
       "\n",
       "        var icon_img = $('<span/>');\n",
       "        icon_img.addClass('ui-button-icon-primary ui-icon');\n",
       "        icon_img.addClass(image);\n",
       "        icon_img.addClass('ui-corner-all');\n",
       "\n",
       "        var tooltip_span = $('<span/>');\n",
       "        tooltip_span.addClass('ui-button-text');\n",
       "        tooltip_span.html(tooltip);\n",
       "\n",
       "        button.append(icon_img);\n",
       "        button.append(tooltip_span);\n",
       "\n",
       "        nav_element.append(button);\n",
       "    }\n",
       "\n",
       "    var fmt_picker_span = $('<span/>');\n",
       "\n",
       "    var fmt_picker = $('<select/>');\n",
       "    fmt_picker.addClass('mpl-toolbar-option ui-widget ui-widget-content');\n",
       "    fmt_picker_span.append(fmt_picker);\n",
       "    nav_element.append(fmt_picker_span);\n",
       "    this.format_dropdown = fmt_picker[0];\n",
       "\n",
       "    for (var ind in mpl.extensions) {\n",
       "        var fmt = mpl.extensions[ind];\n",
       "        var option = $(\n",
       "            '<option/>', {selected: fmt === mpl.default_extension}).html(fmt);\n",
       "        fmt_picker.append(option)\n",
       "    }\n",
       "\n",
       "    // Add hover states to the ui-buttons\n",
       "    $( \".ui-button\" ).hover(\n",
       "        function() { $(this).addClass(\"ui-state-hover\");},\n",
       "        function() { $(this).removeClass(\"ui-state-hover\");}\n",
       "    );\n",
       "\n",
       "    var status_bar = $('<span class=\"mpl-message\"/>');\n",
       "    nav_element.append(status_bar);\n",
       "    this.message = status_bar[0];\n",
       "}\n",
       "\n",
       "mpl.figure.prototype.request_resize = function(x_pixels, y_pixels) {\n",
       "    // Request matplotlib to resize the figure. Matplotlib will then trigger a resize in the client,\n",
       "    // which will in turn request a refresh of the image.\n",
       "    this.send_message('resize', {'width': x_pixels, 'height': y_pixels});\n",
       "}\n",
       "\n",
       "mpl.figure.prototype.send_message = function(type, properties) {\n",
       "    properties['type'] = type;\n",
       "    properties['figure_id'] = this.id;\n",
       "    this.ws.send(JSON.stringify(properties));\n",
       "}\n",
       "\n",
       "mpl.figure.prototype.send_draw_message = function() {\n",
       "    if (!this.waiting) {\n",
       "        this.waiting = true;\n",
       "        this.ws.send(JSON.stringify({type: \"draw\", figure_id: this.id}));\n",
       "    }\n",
       "}\n",
       "\n",
       "\n",
       "mpl.figure.prototype.handle_save = function(fig, msg) {\n",
       "    var format_dropdown = fig.format_dropdown;\n",
       "    var format = format_dropdown.options[format_dropdown.selectedIndex].value;\n",
       "    fig.ondownload(fig, format);\n",
       "}\n",
       "\n",
       "\n",
       "mpl.figure.prototype.handle_resize = function(fig, msg) {\n",
       "    var size = msg['size'];\n",
       "    if (size[0] != fig.canvas.width || size[1] != fig.canvas.height) {\n",
       "        fig._resize_canvas(size[0], size[1]);\n",
       "        fig.send_message(\"refresh\", {});\n",
       "    };\n",
       "}\n",
       "\n",
       "mpl.figure.prototype.handle_rubberband = function(fig, msg) {\n",
       "    var x0 = msg['x0'];\n",
       "    var y0 = fig.canvas.height - msg['y0'];\n",
       "    var x1 = msg['x1'];\n",
       "    var y1 = fig.canvas.height - msg['y1'];\n",
       "    x0 = Math.floor(x0) + 0.5;\n",
       "    y0 = Math.floor(y0) + 0.5;\n",
       "    x1 = Math.floor(x1) + 0.5;\n",
       "    y1 = Math.floor(y1) + 0.5;\n",
       "    var min_x = Math.min(x0, x1);\n",
       "    var min_y = Math.min(y0, y1);\n",
       "    var width = Math.abs(x1 - x0);\n",
       "    var height = Math.abs(y1 - y0);\n",
       "\n",
       "    fig.rubberband_context.clearRect(\n",
       "        0, 0, fig.canvas.width, fig.canvas.height);\n",
       "\n",
       "    fig.rubberband_context.strokeRect(min_x, min_y, width, height);\n",
       "}\n",
       "\n",
       "mpl.figure.prototype.handle_figure_label = function(fig, msg) {\n",
       "    // Updates the figure title.\n",
       "    fig.header.textContent = msg['label'];\n",
       "}\n",
       "\n",
       "mpl.figure.prototype.handle_cursor = function(fig, msg) {\n",
       "    var cursor = msg['cursor'];\n",
       "    switch(cursor)\n",
       "    {\n",
       "    case 0:\n",
       "        cursor = 'pointer';\n",
       "        break;\n",
       "    case 1:\n",
       "        cursor = 'default';\n",
       "        break;\n",
       "    case 2:\n",
       "        cursor = 'crosshair';\n",
       "        break;\n",
       "    case 3:\n",
       "        cursor = 'move';\n",
       "        break;\n",
       "    }\n",
       "    fig.rubberband_canvas.style.cursor = cursor;\n",
       "}\n",
       "\n",
       "mpl.figure.prototype.handle_message = function(fig, msg) {\n",
       "    fig.message.textContent = msg['message'];\n",
       "}\n",
       "\n",
       "mpl.figure.prototype.handle_draw = function(fig, msg) {\n",
       "    // Request the server to send over a new figure.\n",
       "    fig.send_draw_message();\n",
       "}\n",
       "\n",
       "mpl.figure.prototype.handle_image_mode = function(fig, msg) {\n",
       "    fig.image_mode = msg['mode'];\n",
       "}\n",
       "\n",
       "mpl.figure.prototype.updated_canvas_event = function() {\n",
       "    // Called whenever the canvas gets updated.\n",
       "    this.send_message(\"ack\", {});\n",
       "}\n",
       "\n",
       "// A function to construct a web socket function for onmessage handling.\n",
       "// Called in the figure constructor.\n",
       "mpl.figure.prototype._make_on_message_function = function(fig) {\n",
       "    return function socket_on_message(evt) {\n",
       "        if (evt.data instanceof Blob) {\n",
       "            /* FIXME: We get \"Resource interpreted as Image but\n",
       "             * transferred with MIME type text/plain:\" errors on\n",
       "             * Chrome.  But how to set the MIME type?  It doesn't seem\n",
       "             * to be part of the websocket stream */\n",
       "            evt.data.type = \"image/png\";\n",
       "\n",
       "            /* Free the memory for the previous frames */\n",
       "            if (fig.imageObj.src) {\n",
       "                (window.URL || window.webkitURL).revokeObjectURL(\n",
       "                    fig.imageObj.src);\n",
       "            }\n",
       "\n",
       "            fig.imageObj.src = (window.URL || window.webkitURL).createObjectURL(\n",
       "                evt.data);\n",
       "            fig.updated_canvas_event();\n",
       "            fig.waiting = false;\n",
       "            return;\n",
       "        }\n",
       "        else if (typeof evt.data === 'string' && evt.data.slice(0, 21) == \"data:image/png;base64\") {\n",
       "            fig.imageObj.src = evt.data;\n",
       "            fig.updated_canvas_event();\n",
       "            fig.waiting = false;\n",
       "            return;\n",
       "        }\n",
       "\n",
       "        var msg = JSON.parse(evt.data);\n",
       "        var msg_type = msg['type'];\n",
       "\n",
       "        // Call the  \"handle_{type}\" callback, which takes\n",
       "        // the figure and JSON message as its only arguments.\n",
       "        try {\n",
       "            var callback = fig[\"handle_\" + msg_type];\n",
       "        } catch (e) {\n",
       "            console.log(\"No handler for the '\" + msg_type + \"' message type: \", msg);\n",
       "            return;\n",
       "        }\n",
       "\n",
       "        if (callback) {\n",
       "            try {\n",
       "                // console.log(\"Handling '\" + msg_type + \"' message: \", msg);\n",
       "                callback(fig, msg);\n",
       "            } catch (e) {\n",
       "                console.log(\"Exception inside the 'handler_\" + msg_type + \"' callback:\", e, e.stack, msg);\n",
       "            }\n",
       "        }\n",
       "    };\n",
       "}\n",
       "\n",
       "// from http://stackoverflow.com/questions/1114465/getting-mouse-location-in-canvas\n",
       "mpl.findpos = function(e) {\n",
       "    //this section is from http://www.quirksmode.org/js/events_properties.html\n",
       "    var targ;\n",
       "    if (!e)\n",
       "        e = window.event;\n",
       "    if (e.target)\n",
       "        targ = e.target;\n",
       "    else if (e.srcElement)\n",
       "        targ = e.srcElement;\n",
       "    if (targ.nodeType == 3) // defeat Safari bug\n",
       "        targ = targ.parentNode;\n",
       "\n",
       "    // jQuery normalizes the pageX and pageY\n",
       "    // pageX,Y are the mouse positions relative to the document\n",
       "    // offset() returns the position of the element relative to the document\n",
       "    var x = e.pageX - $(targ).offset().left;\n",
       "    var y = e.pageY - $(targ).offset().top;\n",
       "\n",
       "    return {\"x\": x, \"y\": y};\n",
       "};\n",
       "\n",
       "/*\n",
       " * return a copy of an object with only non-object keys\n",
       " * we need this to avoid circular references\n",
       " * http://stackoverflow.com/a/24161582/3208463\n",
       " */\n",
       "function simpleKeys (original) {\n",
       "  return Object.keys(original).reduce(function (obj, key) {\n",
       "    if (typeof original[key] !== 'object')\n",
       "        obj[key] = original[key]\n",
       "    return obj;\n",
       "  }, {});\n",
       "}\n",
       "\n",
       "mpl.figure.prototype.mouse_event = function(event, name) {\n",
       "    var canvas_pos = mpl.findpos(event)\n",
       "\n",
       "    if (name === 'button_press')\n",
       "    {\n",
       "        this.canvas.focus();\n",
       "        this.canvas_div.focus();\n",
       "    }\n",
       "\n",
       "    var x = canvas_pos.x;\n",
       "    var y = canvas_pos.y;\n",
       "\n",
       "    this.send_message(name, {x: x, y: y, button: event.button,\n",
       "                             step: event.step,\n",
       "                             guiEvent: simpleKeys(event)});\n",
       "\n",
       "    /* This prevents the web browser from automatically changing to\n",
       "     * the text insertion cursor when the button is pressed.  We want\n",
       "     * to control all of the cursor setting manually through the\n",
       "     * 'cursor' event from matplotlib */\n",
       "    event.preventDefault();\n",
       "    return false;\n",
       "}\n",
       "\n",
       "mpl.figure.prototype._key_event_extra = function(event, name) {\n",
       "    // Handle any extra behaviour associated with a key event\n",
       "}\n",
       "\n",
       "mpl.figure.prototype.key_event = function(event, name) {\n",
       "\n",
       "    // Prevent repeat events\n",
       "    if (name == 'key_press')\n",
       "    {\n",
       "        if (event.which === this._key)\n",
       "            return;\n",
       "        else\n",
       "            this._key = event.which;\n",
       "    }\n",
       "    if (name == 'key_release')\n",
       "        this._key = null;\n",
       "\n",
       "    var value = '';\n",
       "    if (event.ctrlKey && event.which != 17)\n",
       "        value += \"ctrl+\";\n",
       "    if (event.altKey && event.which != 18)\n",
       "        value += \"alt+\";\n",
       "    if (event.shiftKey && event.which != 16)\n",
       "        value += \"shift+\";\n",
       "\n",
       "    value += 'k';\n",
       "    value += event.which.toString();\n",
       "\n",
       "    this._key_event_extra(event, name);\n",
       "\n",
       "    this.send_message(name, {key: value,\n",
       "                             guiEvent: simpleKeys(event)});\n",
       "    return false;\n",
       "}\n",
       "\n",
       "mpl.figure.prototype.toolbar_button_onclick = function(name) {\n",
       "    if (name == 'download') {\n",
       "        this.handle_save(this, null);\n",
       "    } else {\n",
       "        this.send_message(\"toolbar_button\", {name: name});\n",
       "    }\n",
       "};\n",
       "\n",
       "mpl.figure.prototype.toolbar_button_onmouseover = function(tooltip) {\n",
       "    this.message.textContent = tooltip;\n",
       "};\n",
       "mpl.toolbar_items = [[\"Home\", \"Reset original view\", \"fa fa-home icon-home\", \"home\"], [\"Back\", \"Back to  previous view\", \"fa fa-arrow-left icon-arrow-left\", \"back\"], [\"Forward\", \"Forward to next view\", \"fa fa-arrow-right icon-arrow-right\", \"forward\"], [\"\", \"\", \"\", \"\"], [\"Pan\", \"Pan axes with left mouse, zoom with right\", \"fa fa-arrows icon-move\", \"pan\"], [\"Zoom\", \"Zoom to rectangle\", \"fa fa-square-o icon-check-empty\", \"zoom\"], [\"\", \"\", \"\", \"\"], [\"Download\", \"Download plot\", \"fa fa-floppy-o icon-save\", \"download\"]];\n",
       "\n",
       "mpl.extensions = [\"eps\", \"pdf\", \"png\", \"ps\", \"raw\", \"svg\"];\n",
       "\n",
       "mpl.default_extension = \"png\";var comm_websocket_adapter = function(comm) {\n",
       "    // Create a \"websocket\"-like object which calls the given IPython comm\n",
       "    // object with the appropriate methods. Currently this is a non binary\n",
       "    // socket, so there is still some room for performance tuning.\n",
       "    var ws = {};\n",
       "\n",
       "    ws.close = function() {\n",
       "        comm.close()\n",
       "    };\n",
       "    ws.send = function(m) {\n",
       "        //console.log('sending', m);\n",
       "        comm.send(m);\n",
       "    };\n",
       "    // Register the callback with on_msg.\n",
       "    comm.on_msg(function(msg) {\n",
       "        //console.log('receiving', msg['content']['data'], msg);\n",
       "        // Pass the mpl event to the overriden (by mpl) onmessage function.\n",
       "        ws.onmessage(msg['content']['data'])\n",
       "    });\n",
       "    return ws;\n",
       "}\n",
       "\n",
       "mpl.mpl_figure_comm = function(comm, msg) {\n",
       "    // This is the function which gets called when the mpl process\n",
       "    // starts-up an IPython Comm through the \"matplotlib\" channel.\n",
       "\n",
       "    var id = msg.content.data.id;\n",
       "    // Get hold of the div created by the display call when the Comm\n",
       "    // socket was opened in Python.\n",
       "    var element = $(\"#\" + id);\n",
       "    var ws_proxy = comm_websocket_adapter(comm)\n",
       "\n",
       "    function ondownload(figure, format) {\n",
       "        window.open(figure.imageObj.src);\n",
       "    }\n",
       "\n",
       "    var fig = new mpl.figure(id, ws_proxy,\n",
       "                           ondownload,\n",
       "                           element.get(0));\n",
       "\n",
       "    // Call onopen now - mpl needs it, as it is assuming we've passed it a real\n",
       "    // web socket which is closed, not our websocket->open comm proxy.\n",
       "    ws_proxy.onopen();\n",
       "\n",
       "    fig.parent_element = element.get(0);\n",
       "    fig.cell_info = mpl.find_output_cell(\"<div id='\" + id + \"'></div>\");\n",
       "    if (!fig.cell_info) {\n",
       "        console.error(\"Failed to find cell for figure\", id, fig);\n",
       "        return;\n",
       "    }\n",
       "\n",
       "    var output_index = fig.cell_info[2]\n",
       "    var cell = fig.cell_info[0];\n",
       "\n",
       "};\n",
       "\n",
       "mpl.figure.prototype.handle_close = function(fig, msg) {\n",
       "    fig.root.unbind('remove')\n",
       "\n",
       "    // Update the output cell to use the data from the current canvas.\n",
       "    fig.push_to_output();\n",
       "    var dataURL = fig.canvas.toDataURL();\n",
       "    // Re-enable the keyboard manager in IPython - without this line, in FF,\n",
       "    // the notebook keyboard shortcuts fail.\n",
       "    IPython.keyboard_manager.enable()\n",
       "    $(fig.parent_element).html('<img src=\"' + dataURL + '\">');\n",
       "    fig.close_ws(fig, msg);\n",
       "}\n",
       "\n",
       "mpl.figure.prototype.close_ws = function(fig, msg){\n",
       "    fig.send_message('closing', msg);\n",
       "    // fig.ws.close()\n",
       "}\n",
       "\n",
       "mpl.figure.prototype.push_to_output = function(remove_interactive) {\n",
       "    // Turn the data on the canvas into data in the output cell.\n",
       "    var dataURL = this.canvas.toDataURL();\n",
       "    this.cell_info[1]['text/html'] = '<img src=\"' + dataURL + '\">';\n",
       "}\n",
       "\n",
       "mpl.figure.prototype.updated_canvas_event = function() {\n",
       "    // Tell IPython that the notebook contents must change.\n",
       "    IPython.notebook.set_dirty(true);\n",
       "    this.send_message(\"ack\", {});\n",
       "    var fig = this;\n",
       "    // Wait a second, then push the new image to the DOM so\n",
       "    // that it is saved nicely (might be nice to debounce this).\n",
       "    setTimeout(function () { fig.push_to_output() }, 1000);\n",
       "}\n",
       "\n",
       "mpl.figure.prototype._init_toolbar = function() {\n",
       "    var fig = this;\n",
       "\n",
       "    var nav_element = $('<div/>')\n",
       "    nav_element.attr('style', 'width: 100%');\n",
       "    this.root.append(nav_element);\n",
       "\n",
       "    // Define a callback function for later on.\n",
       "    function toolbar_event(event) {\n",
       "        return fig.toolbar_button_onclick(event['data']);\n",
       "    }\n",
       "    function toolbar_mouse_event(event) {\n",
       "        return fig.toolbar_button_onmouseover(event['data']);\n",
       "    }\n",
       "\n",
       "    for(var toolbar_ind in mpl.toolbar_items){\n",
       "        var name = mpl.toolbar_items[toolbar_ind][0];\n",
       "        var tooltip = mpl.toolbar_items[toolbar_ind][1];\n",
       "        var image = mpl.toolbar_items[toolbar_ind][2];\n",
       "        var method_name = mpl.toolbar_items[toolbar_ind][3];\n",
       "\n",
       "        if (!name) { continue; };\n",
       "\n",
       "        var button = $('<button class=\"btn btn-default\" href=\"#\" title=\"' + name + '\"><i class=\"fa ' + image + ' fa-lg\"></i></button>');\n",
       "        button.click(method_name, toolbar_event);\n",
       "        button.mouseover(tooltip, toolbar_mouse_event);\n",
       "        nav_element.append(button);\n",
       "    }\n",
       "\n",
       "    // Add the status bar.\n",
       "    var status_bar = $('<span class=\"mpl-message\" style=\"text-align:right; float: right;\"/>');\n",
       "    nav_element.append(status_bar);\n",
       "    this.message = status_bar[0];\n",
       "\n",
       "    // Add the close button to the window.\n",
       "    var buttongrp = $('<div class=\"btn-group inline pull-right\"></div>');\n",
       "    var button = $('<button class=\"btn btn-mini btn-primary\" href=\"#\" title=\"Stop Interaction\"><i class=\"fa fa-power-off icon-remove icon-large\"></i></button>');\n",
       "    button.click(function (evt) { fig.handle_close(fig, {}); } );\n",
       "    button.mouseover('Stop Interaction', toolbar_mouse_event);\n",
       "    buttongrp.append(button);\n",
       "    var titlebar = this.root.find($('.ui-dialog-titlebar'));\n",
       "    titlebar.prepend(buttongrp);\n",
       "}\n",
       "\n",
       "mpl.figure.prototype._root_extra_style = function(el){\n",
       "    var fig = this\n",
       "    el.on(\"remove\", function(){\n",
       "\tfig.close_ws(fig, {});\n",
       "    });\n",
       "}\n",
       "\n",
       "mpl.figure.prototype._canvas_extra_style = function(el){\n",
       "    // this is important to make the div 'focusable\n",
       "    el.attr('tabindex', 0)\n",
       "    // reach out to IPython and tell the keyboard manager to turn it's self\n",
       "    // off when our div gets focus\n",
       "\n",
       "    // location in version 3\n",
       "    if (IPython.notebook.keyboard_manager) {\n",
       "        IPython.notebook.keyboard_manager.register_events(el);\n",
       "    }\n",
       "    else {\n",
       "        // location in version 2\n",
       "        IPython.keyboard_manager.register_events(el);\n",
       "    }\n",
       "\n",
       "}\n",
       "\n",
       "mpl.figure.prototype._key_event_extra = function(event, name) {\n",
       "    var manager = IPython.notebook.keyboard_manager;\n",
       "    if (!manager)\n",
       "        manager = IPython.keyboard_manager;\n",
       "\n",
       "    // Check for shift+enter\n",
       "    if (event.shiftKey && event.which == 13) {\n",
       "        this.canvas_div.blur();\n",
       "        event.shiftKey = false;\n",
       "        // Send a \"J\" for go to next cell\n",
       "        event.which = 74;\n",
       "        event.keyCode = 74;\n",
       "        manager.command_mode();\n",
       "        manager.handle_keydown(event);\n",
       "    }\n",
       "}\n",
       "\n",
       "mpl.figure.prototype.handle_save = function(fig, msg) {\n",
       "    fig.ondownload(fig, null);\n",
       "}\n",
       "\n",
       "\n",
       "mpl.find_output_cell = function(html_output) {\n",
       "    // Return the cell and output element which can be found *uniquely* in the notebook.\n",
       "    // Note - this is a bit hacky, but it is done because the \"notebook_saving.Notebook\"\n",
       "    // IPython event is triggered only after the cells have been serialised, which for\n",
       "    // our purposes (turning an active figure into a static one), is too late.\n",
       "    var cells = IPython.notebook.get_cells();\n",
       "    var ncells = cells.length;\n",
       "    for (var i=0; i<ncells; i++) {\n",
       "        var cell = cells[i];\n",
       "        if (cell.cell_type === 'code'){\n",
       "            for (var j=0; j<cell.output_area.outputs.length; j++) {\n",
       "                var data = cell.output_area.outputs[j];\n",
       "                if (data.data) {\n",
       "                    // IPython >= 3 moved mimebundle to data attribute of output\n",
       "                    data = data.data;\n",
       "                }\n",
       "                if (data['text/html'] == html_output) {\n",
       "                    return [cell, data, j];\n",
       "                }\n",
       "            }\n",
       "        }\n",
       "    }\n",
       "}\n",
       "\n",
       "// Register the function which deals with the matplotlib target/channel.\n",
       "// The kernel may be null if the page has been refreshed.\n",
       "if (IPython.notebook.kernel != null) {\n",
       "    IPython.notebook.kernel.comm_manager.register_target('matplotlib', mpl.mpl_figure_comm);\n",
       "}\n"
      ],
      "text/plain": [
       "<IPython.core.display.Javascript object>"
      ]
     },
     "metadata": {},
     "output_type": "display_data"
    },
    {
     "data": {
      "text/html": [
       "<img src=\"data:image/png;base64,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\">"
      ],
      "text/plain": [
       "<IPython.core.display.HTML object>"
      ]
     },
     "metadata": {},
     "output_type": "display_data"
    },
    {
     "name": "stdout",
     "output_type": "stream",
     "text": [
      "[(0, 423175), (5, 405366), (10, 397616), (15, 435016), (20, 509516), (25, 557227), (30, 591613), (35, 557624), (40, 589307), (45, 677384), (50, 651470), (55, 548059), (60, 458058), (65, 445100), (70, 362208), (75, 273224), (80, 209059), (85, 136121), (90, 57859), (95, 12047), (100, 1614)]\n"
     ]
    }
   ],
   "source": [
    "plt.figure(figsize=(14,6))\n",
    "x_val = [x[0] for x in sorted(plot_rdd)]\n",
    "y_val = [x[1] for x in sorted(plot_rdd)]\n",
    "print plot_rdd\n",
    "plt.bar(range(len(y_val)), y_val)\n",
    "plt.xticks(range(len(x_val)), x_val, size='small')\n",
    "plt.show()"
   ]
  },
  {
   "cell_type": "markdown",
   "metadata": {
    "collapsed": true
   },
   "source": [
    "### Exercise 1 - show the centenarian populations by country for 2015 ordered by values in the decending order \n",
    "*Hint - this requires use of filter, map, reduceByKey and sortByKey*"
   ]
  },
  {
   "cell_type": "code",
   "execution_count": 17,
   "metadata": {
    "collapsed": false
   },
   "outputs": [
    {
     "data": {
      "text/plain": [
       "[(450895, u'\"WORLD\"'),\n",
       " (265497, u'\"More developed regions\"'),\n",
       " (188964, u'\"ASIA\"'),\n",
       " (185398, u'\"Less developed regions\"'),\n",
       " (120820, u'\"EUROPE\"'),\n",
       " (116299, u'\"Eastern Asia\"'),\n",
       " (79724, u'\"NORTHERN AMERICA\"'),\n",
       " (71972, u'\"United States of America\"'),\n",
       " (60630, u'\"Japan\"'),\n",
       " (52418, u'\"LATIN AMERICA AND THE CARIBBEAN\"'),\n",
       " (47657, u'\"China\"'),\n",
       " (43016, u'\"Western Europe\"'),\n",
       " (40113, u'\"Southern Europe\"'),\n",
       " (37957, u'\"South-Central Asia\"'),\n",
       " (35490, u'\"Southern Asia\"'),\n",
       " (30926, u'\"South-Eastern Asia\"'),\n",
       " (29501, u'\"South America\"'),\n",
       " (27266, u'\"India\"'),\n",
       " (24592, u'\"Italy\"'),\n",
       " (23838, u'\"Viet Nam\"'),\n",
       " (21103, u'\"Northern Europe\"'),\n",
       " (19768, u'\"France\"'),\n",
       " (16588, u'\"Eastern Europe\"'),\n",
       " (16227, u'\"United Kingdom\"'),\n",
       " (16096, u'\"Germany\"'),\n",
       " (13556, u'\"Central America\"'),\n",
       " (11090, u'\"Mexico\"'),\n",
       " (9860, u'\"Spain\"'),\n",
       " (9361, u'\"Caribbean\"'),\n",
       " (7739, u'\"Canada\"'),\n",
       " (7629, u'\"Least developed countries\"'),\n",
       " (6077, u'\"Brazil\"'),\n",
       " (5956, u'\"Argentina\"'),\n",
       " (5733, u'\"Bangladesh\"'),\n",
       " (5586, u'\"Chile\"'),\n",
       " (5471, u'\"Russian Federation\"'),\n",
       " (4681, u'\"Thailand\"'),\n",
       " (4580, u'\"AFRICA\"'),\n",
       " (4530, u'\"Poland\"'),\n",
       " (4389, u'\"OCEANIA\"'),\n",
       " (4323, u'\"Australia/New Zealand\"'),\n",
       " (4051, u'\"Venezuela (Bolivarian Republic of)\"'),\n",
       " (3782, u'\"Western Asia\"'),\n",
       " (3739, u'\"Australia\"'),\n",
       " (3463, u'\"Cuba\"'),\n",
       " (3297, u'\"Republic of Korea\"'),\n",
       " (2880, u'\"Dominican Republic\"'),\n",
       " (2682, u'\"Colombia\"'),\n",
       " (2548, u'\"Greece\"'),\n",
       " (2507, u'\"Other non-specified areas\"'),\n",
       " (2467, u'\"Central Asia\"'),\n",
       " (2336, u'\"Sub-Saharan Africa\"'),\n",
       " (2244, u'\"Northern Africa\"'),\n",
       " (2213, u'\"Netherlands\"'),\n",
       " (2156, u'\"Peru\"'),\n",
       " (2153, u'\"Ukraine\"'),\n",
       " (1826, u'\"Sweden\"'),\n",
       " (1763, u'\"Uzbekistan\"'),\n",
       " (1755, u'\"Belgium\"'),\n",
       " (1657, u'\"Puerto Rico\"'),\n",
       " (1614, u'\"Switzerland\"'),\n",
       " (1604, u'\"Portugal\"'),\n",
       " (1446, u'\"Austria\"'),\n",
       " (1288, u'\"Hungary\"'),\n",
       " (1282, u'\"Eastern Africa\"'),\n",
       " (1273, u'\"Israel\"'),\n",
       " (1209, u'\"Romania\"'),\n",
       " (1185, u'\"Ecuador\"'),\n",
       " (1166, u'\"Uruguay\"'),\n",
       " (1129, u'\"Singapore\"'),\n",
       " (1010, u'\"Sri Lanka\"'),\n",
       " (886, u'\"Egypt\"'),\n",
       " (849, u'\"Pakistan\"'),\n",
       " (839, u'\"Czech Republic\"'),\n",
       " (766, u'\"Turkey\"'),\n",
       " (742, u'\"Algeria\"'),\n",
       " (734, u'\"Finland\"'),\n",
       " (715, u'\"Norway\"'),\n",
       " (670, u'\"Southern Africa\"'),\n",
       " (648, u'\"South Africa\"'),\n",
       " (633, u'\"Indonesia\"'),\n",
       " (584, u'\"New Zealand\"'),\n",
       " (552, u'\"Panama\"'),\n",
       " (545, u'\"Ireland\"'),\n",
       " (532, u'\"Croatia\"'),\n",
       " (493, u'\"Nicaragua\"'),\n",
       " (493, u'\"Jamaica\"'),\n",
       " (492, u'\"Iran (Islamic Republic of)\"'),\n",
       " (441, u'\"Guatemala\"'),\n",
       " (434, u'\"Costa Rica\"'),\n",
       " (425, u'\"Belarus\"'),\n",
       " (392, u'\"Georgia\"'),\n",
       " (357, u'\"Armenia\"'),\n",
       " (350, u'\"Honduras\"'),\n",
       " (347, u'\"Denmark\"'),\n",
       " (341, u'\"Slovakia\"'),\n",
       " (339, u'\"Bolivia (Plurinational State of)\"'),\n",
       " (303, u'\"Middle Africa\"'),\n",
       " (300, u'\"Kazakhstan\"'),\n",
       " (288, u'\"Tajikistan\"'),\n",
       " (284, u'\"Slovenia\"'),\n",
       " (277, u'\"Paraguay\"'),\n",
       " (274, u'\"Ethiopia\"'),\n",
       " (266, u'\"Serbia\"'),\n",
       " (264, u'\"Lithuania\"'),\n",
       " (235, u'\"Bosnia and Herzegovina\"'),\n",
       " (232, u'\"Bulgaria\"'),\n",
       " (209, u'\"Myanmar\"'),\n",
       " (206, u'\"Tunisia\"'),\n",
       " (205, u'\"Philippines\"'),\n",
       " (205, u'\"Guadeloupe\"'),\n",
       " (201, u'\"Haiti\"'),\n",
       " (201, u'\"Morocco\"'),\n",
       " (194, u'\"El Salvador\"'),\n",
       " (189, u'\"Saudi Arabia\"'),\n",
       " (188, u'\"Sudan\"'),\n",
       " (180, u'\"Malaysia\"'),\n",
       " (175, u'\"Latvia\"'),\n",
       " (157, u'\"Martinique\"'),\n",
       " (154, u'\"Kenya\"'),\n",
       " (149, u'\"R\\ufffdunion\"'),\n",
       " (145, u'\"United Republic of Tanzania\"'),\n",
       " (139, u'\"Iraq\"'),\n",
       " (137, u'\"Estonia\"'),\n",
       " (132, u'\"Democratic Republic of the Congo\"'),\n",
       " (122, u'\"Dem. People\\'s Republic of Korea\"'),\n",
       " (116, u'\"Oman\"'),\n",
       " (113, u'\"Syrian Arab Republic\"'),\n",
       " (110, u'\"Azerbaijan\"'),\n",
       " (104, u'\"Madagascar\"'),\n",
       " (103, u'\"Lebanon\"'),\n",
       " (100, u'\"Republic of Moldova\"'),\n",
       " (93, u'\"Zimbabwe\"'),\n",
       " (90, u'\"Trinidad and Tobago\"'),\n",
       " (85, u'\"Luxembourg\"'),\n",
       " (83, u'\"Albania\"'),\n",
       " (82, u'\"Turkmenistan\"'),\n",
       " (81, u'\"Western Africa\"'),\n",
       " (78, u'\"Uganda\"'),\n",
       " (77, u'\"Cyprus\"'),\n",
       " (76, u'\"Yemen\"'),\n",
       " (74, u'\"Nepal\"'),\n",
       " (68, u'\"Cameroon\"'),\n",
       " (65, u'\"Mauritius\"'),\n",
       " (55, u'\"Mozambique\"'),\n",
       " (53, u'\"Saint Lucia\"'),\n",
       " (40, u'\"Zambia\"'),\n",
       " (40, u'\"Channel Islands\"'),\n",
       " (40, u'\"Melanesia\"'),\n",
       " (37, u'\"TFYR Macedonia\"'),\n",
       " (34, u'\"Bhutan\"'),\n",
       " (34, u'\"Kyrgyzstan\"'),\n",
       " (33, u'\"Cura\\ufffdao\"'),\n",
       " (30, u'\"Cambodia\"'),\n",
       " (28, u'\"United States Virgin Islands\"'),\n",
       " (28, u'\"Angola\"'),\n",
       " (28, u'\"Afghanistan\"'),\n",
       " (27, u'\"Jordan\"'),\n",
       " (27, u'\"Nigeria\"'),\n",
       " (26, u'\"Malta\"'),\n",
       " (26, u'\"Papua New Guinea\"'),\n",
       " (26, u'\"Iceland\"'),\n",
       " (26, u'\"Somalia\"'),\n",
       " (22, u'\"Burundi\"'),\n",
       " (22, u'\"Chad\"'),\n",
       " (22, u'\"South Sudan\"'),\n",
       " (21, u'\"Libya\"'),\n",
       " (21, u'\"Polynesia\"'),\n",
       " (20, u'\"Suriname\"'),\n",
       " (19, u'\"Congo\"'),\n",
       " (19, u'\"United Arab Emirates\"'),\n",
       " (18, u'\"Bahamas\"'),\n",
       " (16, u'\"Lao People\\'s Democratic Republic\"'),\n",
       " (15, u'\"Barbados\"'),\n",
       " (15, u'\"Gabon\"'),\n",
       " (15, u'\"Central African Republic\"'),\n",
       " (14, u'\"C\\ufffdte d\\'Ivoire\"'),\n",
       " (13, u'\"Mayotte\"'),\n",
       " (12, u'\"Saint Vincent and the Grenadines\"'),\n",
       " (11, u'\"Malawi\"'),\n",
       " (11, u'\"Eritrea\"'),\n",
       " (10, u'\"Qatar\"'),\n",
       " (9, u'\"Mongolia\"'),\n",
       " (9, u'\"Montenegro\"'),\n",
       " (9, u'\"Lesotho\"'),\n",
       " (8, u'\"Ghana\"'),\n",
       " (8, u'\"French Polynesia\"'),\n",
       " (8, u'\"State of Palestine\"'),\n",
       " (8, u'\"Rwanda\"'),\n",
       " (8, u'\"Seychelles\"'),\n",
       " (7, u'\"Bahrain\"'),\n",
       " (7, u'\"Fiji\"'),\n",
       " (6, u'\"Samoa\"'),\n",
       " (6, u'\"Namibia\"'),\n",
       " (6, u'\"Antigua and Barbuda\"'),\n",
       " (5, u'\"French Guiana\"'),\n",
       " (5, u'\"Micronesia\"'),\n",
       " (5, u'\"Senegal\"'),\n",
       " (5, u'\"New Caledonia\"'),\n",
       " (5, u'\"Mali\"'),\n",
       " (4, u'\"Tonga\"'),\n",
       " (4, u'\"Maldives\"'),\n",
       " (4, u'\"Benin\"'),\n",
       " (4, u'\"Botswana\"'),\n",
       " (4, u'\"Burkina Faso\"'),\n",
       " (4, u'\"Cabo Verde\"'),\n",
       " (4, u'\"Brunei Darussalam\"'),\n",
       " (3, u'\"Aruba\"'),\n",
       " (3, u'\"Swaziland\"'),\n",
       " (3, u'\"Djibouti\"'),\n",
       " (3, u'\"Guam\"'),\n",
       " (3, u'\"Niger\"'),\n",
       " (3, u'\"Equatorial Guinea\"'),\n",
       " (3, u'\"Guinea\"'),\n",
       " (3, u'\"Grenada\"'),\n",
       " (2, u'\"Belize\"'),\n",
       " (1, u'\"Sao Tome and Principe\"'),\n",
       " (1, u'\"Timor-Leste\"'),\n",
       " (1, u'\"Solomon Islands\"'),\n",
       " (1, u'\"Liberia\"'),\n",
       " (1, u'\"Comoros\"'),\n",
       " (1, u'\"Vanuatu\"'),\n",
       " (1, u'\"Mauritania\"'),\n",
       " (1, u'\"Togo\"'),\n",
       " (1, u'\"Guyana\"'),\n",
       " (0, u'\"Micronesia (Fed. States of)\"'),\n",
       " (0, u'\"Western Sahara\"'),\n",
       " (0, u'\"Guinea-Bissau\"'),\n",
       " (0, u'\"Gambia\"'),\n",
       " (0, u'\"Kuwait\"'),\n",
       " (0, u'\"Kiribati\"'),\n",
       " (0, u'\"Sierra Leone\"')]"
      ]
     },
     "execution_count": 17,
     "metadata": {},
     "output_type": "execute_result"
    }
   ],
   "source": [
    "# %load key/solution1.py\n",
    "ntuple_rdd.filter(lambda record: record.AgeGrp =='\"100+\"' and record.Time == '\"2015\"' and record.Sex == '\"Both\"') \\\n",
    "    .map(lambda record: (record.Location,int(float(record.Value)*1000))) \\\n",
    "    .reduceByKey(lambda x,y: x+y) \\\n",
    "    .map(lambda (x,y):(y,x)).sortByKey(False) \\\n",
    "    .collect() \\\n"
   ]
  },
  {
   "cell_type": "markdown",
   "metadata": {
    "collapsed": true
   },
   "source": [
    "### Hands-On 4 - Calculate the male to female ratio across Locations (countries) and Time (years)\n",
    "*This introduces transformations join rdd, combineByKey, groupByKey and reduceByKey*"
   ]
  },
  {
   "cell_type": "markdown",
   "metadata": {
    "collapsed": true
   },
   "source": [
    "#### First, lets import couple of bits we need"
   ]
  },
  {
   "cell_type": "code",
   "execution_count": 18,
   "metadata": {
    "collapsed": true
   },
   "outputs": [],
   "source": [
    "from operator import add"
   ]
  },
  {
   "cell_type": "markdown",
   "metadata": {
    "collapsed": true
   },
   "source": [
    "#### calculate the total male population for each Location (country) and Time (year)"
   ]
  },
  {
   "cell_type": "code",
   "execution_count": 19,
   "metadata": {
    "collapsed": true
   },
   "outputs": [],
   "source": [
    "m_rdd = ntuple_rdd.filter(lambda record: record.Sex == '\"Male\"') \\\n",
    "    .map(lambda record: ((record.Location,record.Time,record.Sex),float(record.Value))) \\\n",
    "    .reduceByKey(add) \\\n",
    "    .map(lambda record: ((record[0][0],record[0][1]),(record[0][2],record[1])))"
   ]
  },
  {
   "cell_type": "markdown",
   "metadata": {
    "collapsed": false
   },
   "source": [
    "#### inspect the rdd"
   ]
  },
  {
   "cell_type": "code",
   "execution_count": 20,
   "metadata": {
    "collapsed": false
   },
   "outputs": [
    {
     "data": {
      "text/plain": [
       "[((u'\"Slovenia\"', u'\"2050\"'), (u'\"Male\"', 966.206)),\n",
       " ((u'\"Cyprus\"', u'\"1980\"'), (u'\"Male\"', 345.128)),\n",
       " ((u'\"Denmark\"', u'\"1990\"'), (u'\"Male\"', 2534.6839999999993)),\n",
       " ((u'\"Djibouti\"', u'\"2040\"'), (u'\"Male\"', 565.81)),\n",
       " ((u'\"South America\"', u'\"1975\"'), (u'\"Male\"', 108229.85500000001))]"
      ]
     },
     "execution_count": 20,
     "metadata": {},
     "output_type": "execute_result"
    }
   ],
   "source": [
    "m_rdd.take(5)"
   ]
  },
  {
   "cell_type": "markdown",
   "metadata": {
    "collapsed": true
   },
   "source": [
    "#### calculate the total female population for each Location (country) and Time (year)"
   ]
  },
  {
   "cell_type": "code",
   "execution_count": 21,
   "metadata": {
    "collapsed": true
   },
   "outputs": [],
   "source": [
    "f_rdd = ntuple_rdd.filter(lambda record: record.Sex == '\"Female\"') \\\n",
    "    .map(lambda record: ((record.Location,record.Time,record.Sex),float(record.Value))) \\\n",
    "    .reduceByKey(add) \\\n",
    "    .map(lambda record: ((record[0][0],record[0][1]),(record[0][2],record[1])))"
   ]
  },
  {
   "cell_type": "markdown",
   "metadata": {
    "collapsed": false
   },
   "source": [
    "#### inspect how the data looks in the rdd"
   ]
  },
  {
   "cell_type": "code",
   "execution_count": 22,
   "metadata": {
    "collapsed": false
   },
   "outputs": [
    {
     "data": {
      "text/plain": [
       "[((u'\"OCEANIA\"', u'\"2075\"'), (u'\"Female\"', 32741.462000000003)),\n",
       " ((u'\"Northern Africa\"', u'\"2000\"'), (u'\"Female\"', 85484.0)),\n",
       " ((u'\"Botswana\"', u'\"2095\"'), (u'\"Female\"', 1868.8210000000004)),\n",
       " ((u'\"New Caledonia\"', u'\"1960\"'), (u'\"Female\"', 36.908)),\n",
       " ((u'\"Bulgaria\"', u'\"2060\"'), (u'\"Female\"', 2378.8529999999996))]"
      ]
     },
     "execution_count": 22,
     "metadata": {},
     "output_type": "execute_result"
    }
   ],
   "source": [
    "f_rdd.take(5)"
   ]
  },
  {
   "cell_type": "markdown",
   "metadata": {
    "collapsed": false
   },
   "source": [
    "#### join the rdd's"
   ]
  },
  {
   "cell_type": "code",
   "execution_count": 23,
   "metadata": {
    "collapsed": true
   },
   "outputs": [],
   "source": [
    "join_rdd = m_rdd.join(f_rdd)"
   ]
  },
  {
   "cell_type": "markdown",
   "metadata": {
    "collapsed": false
   },
   "source": [
    "#### inspect the data in the join_rdd"
   ]
  },
  {
   "cell_type": "code",
   "execution_count": 24,
   "metadata": {
    "collapsed": false
   },
   "outputs": [
    {
     "data": {
      "text/plain": [
       "[((u'\"Aruba\"', u'\"1955\"'),\n",
       "  ((u'\"Male\"', 21.275), (u'\"Female\"', 22.451999999999998))),\n",
       " ((u'\"Western Africa\"', u'\"2020\"'),\n",
       "  ((u'\"Male\"', 203617.22200000004), (u'\"Female\"', 199213.89299999998))),\n",
       " ((u'\"Fiji\"', u'\"1980\"'),\n",
       "  ((u'\"Male\"', 321.61099999999993), (u'\"Female\"', 313.645))),\n",
       " ((u'\"Brunei Darussalam\"', u'\"2045\"'),\n",
       "  ((u'\"Male\"', 275.21299999999997), (u'\"Female\"', 263.73199999999997))),\n",
       " ((u'\"Romania\"', u'\"1980\"'),\n",
       "  ((u'\"Male\"', 11152.395), (u'\"Female\"', 11459.754)))]"
      ]
     },
     "execution_count": 24,
     "metadata": {},
     "output_type": "execute_result"
    }
   ],
   "source": [
    "join_rdd.take(5)"
   ]
  },
  {
   "cell_type": "markdown",
   "metadata": {
    "collapsed": true
   },
   "source": [
    "#### final rdd containing the male to female ratio for each country and year"
   ]
  },
  {
   "cell_type": "code",
   "execution_count": 25,
   "metadata": {
    "collapsed": true
   },
   "outputs": [],
   "source": [
    "fn_rdd = join_rdd.map(lambda record: (record[1][0][1]/record[1][1][1],(record[0][0],record[0][1])))"
   ]
  },
  {
   "cell_type": "markdown",
   "metadata": {
    "collapsed": false
   },
   "source": [
    "#### since the output is going to be huge, lets just filer for Estonia"
   ]
  },
  {
   "cell_type": "code",
   "execution_count": 26,
   "metadata": {
    "collapsed": false
   },
   "outputs": [],
   "source": [
    "ratio_rdd = fn_rdd.filter(lambda record: record[1][0] == '\"Estonia\"').map(lambda (x,y): (y,x)).sortByKey().collect()"
   ]
  },
  {
   "cell_type": "code",
   "execution_count": 27,
   "metadata": {
    "collapsed": false
   },
   "outputs": [
    {
     "data": {
      "application/javascript": [
       "/* Put everything inside the global mpl namespace */\n",
       "window.mpl = {};\n",
       "\n",
       "mpl.get_websocket_type = function() {\n",
       "    if (typeof(WebSocket) !== 'undefined') {\n",
       "        return WebSocket;\n",
       "    } else if (typeof(MozWebSocket) !== 'undefined') {\n",
       "        return MozWebSocket;\n",
       "    } else {\n",
       "        alert('Your browser does not have WebSocket support.' +\n",
       "              'Please try Chrome, Safari or Firefox ≥ 6. ' +\n",
       "              'Firefox 4 and 5 are also supported but you ' +\n",
       "              'have to enable WebSockets in about:config.');\n",
       "    };\n",
       "}\n",
       "\n",
       "mpl.figure = function(figure_id, websocket, ondownload, parent_element) {\n",
       "    this.id = figure_id;\n",
       "\n",
       "    this.ws = websocket;\n",
       "\n",
       "    this.supports_binary = (this.ws.binaryType != undefined);\n",
       "\n",
       "    if (!this.supports_binary) {\n",
       "        var warnings = document.getElementById(\"mpl-warnings\");\n",
       "        if (warnings) {\n",
       "            warnings.style.display = 'block';\n",
       "            warnings.textContent = (\n",
       "                \"This browser does not support binary websocket messages. \" +\n",
       "                    \"Performance may be slow.\");\n",
       "        }\n",
       "    }\n",
       "\n",
       "    this.imageObj = new Image();\n",
       "\n",
       "    this.context = undefined;\n",
       "    this.message = undefined;\n",
       "    this.canvas = undefined;\n",
       "    this.rubberband_canvas = undefined;\n",
       "    this.rubberband_context = undefined;\n",
       "    this.format_dropdown = undefined;\n",
       "\n",
       "    this.image_mode = 'full';\n",
       "\n",
       "    this.root = $('<div/>');\n",
       "    this._root_extra_style(this.root)\n",
       "    this.root.attr('style', 'display: inline-block');\n",
       "\n",
       "    $(parent_element).append(this.root);\n",
       "\n",
       "    this._init_header(this);\n",
       "    this._init_canvas(this);\n",
       "    this._init_toolbar(this);\n",
       "\n",
       "    var fig = this;\n",
       "\n",
       "    this.waiting = false;\n",
       "\n",
       "    this.ws.onopen =  function () {\n",
       "            fig.send_message(\"supports_binary\", {value: fig.supports_binary});\n",
       "            fig.send_message(\"send_image_mode\", {});\n",
       "            fig.send_message(\"refresh\", {});\n",
       "        }\n",
       "\n",
       "    this.imageObj.onload = function() {\n",
       "            if (fig.image_mode == 'full') {\n",
       "                // Full images could contain transparency (where diff images\n",
       "                // almost always do), so we need to clear the canvas so that\n",
       "                // there is no ghosting.\n",
       "                fig.context.clearRect(0, 0, fig.canvas.width, fig.canvas.height);\n",
       "            }\n",
       "            fig.context.drawImage(fig.imageObj, 0, 0);\n",
       "        };\n",
       "\n",
       "    this.imageObj.onunload = function() {\n",
       "        this.ws.close();\n",
       "    }\n",
       "\n",
       "    this.ws.onmessage = this._make_on_message_function(this);\n",
       "\n",
       "    this.ondownload = ondownload;\n",
       "}\n",
       "\n",
       "mpl.figure.prototype._init_header = function() {\n",
       "    var titlebar = $(\n",
       "        '<div class=\"ui-dialog-titlebar ui-widget-header ui-corner-all ' +\n",
       "        'ui-helper-clearfix\"/>');\n",
       "    var titletext = $(\n",
       "        '<div class=\"ui-dialog-title\" style=\"width: 100%; ' +\n",
       "        'text-align: center; padding: 3px;\"/>');\n",
       "    titlebar.append(titletext)\n",
       "    this.root.append(titlebar);\n",
       "    this.header = titletext[0];\n",
       "}\n",
       "\n",
       "\n",
       "\n",
       "mpl.figure.prototype._canvas_extra_style = function(canvas_div) {\n",
       "\n",
       "}\n",
       "\n",
       "\n",
       "mpl.figure.prototype._root_extra_style = function(canvas_div) {\n",
       "\n",
       "}\n",
       "\n",
       "mpl.figure.prototype._init_canvas = function() {\n",
       "    var fig = this;\n",
       "\n",
       "    var canvas_div = $('<div/>');\n",
       "\n",
       "    canvas_div.attr('style', 'position: relative; clear: both; outline: 0');\n",
       "\n",
       "    function canvas_keyboard_event(event) {\n",
       "        return fig.key_event(event, event['data']);\n",
       "    }\n",
       "\n",
       "    canvas_div.keydown('key_press', canvas_keyboard_event);\n",
       "    canvas_div.keyup('key_release', canvas_keyboard_event);\n",
       "    this.canvas_div = canvas_div\n",
       "    this._canvas_extra_style(canvas_div)\n",
       "    this.root.append(canvas_div);\n",
       "\n",
       "    var canvas = $('<canvas/>');\n",
       "    canvas.addClass('mpl-canvas');\n",
       "    canvas.attr('style', \"left: 0; top: 0; z-index: 0; outline: 0\")\n",
       "\n",
       "    this.canvas = canvas[0];\n",
       "    this.context = canvas[0].getContext(\"2d\");\n",
       "\n",
       "    var rubberband = $('<canvas/>');\n",
       "    rubberband.attr('style', \"position: absolute; left: 0; top: 0; z-index: 1;\")\n",
       "\n",
       "    var pass_mouse_events = true;\n",
       "\n",
       "    canvas_div.resizable({\n",
       "        start: function(event, ui) {\n",
       "            pass_mouse_events = false;\n",
       "        },\n",
       "        resize: function(event, ui) {\n",
       "            fig.request_resize(ui.size.width, ui.size.height);\n",
       "        },\n",
       "        stop: function(event, ui) {\n",
       "            pass_mouse_events = true;\n",
       "            fig.request_resize(ui.size.width, ui.size.height);\n",
       "        },\n",
       "    });\n",
       "\n",
       "    function mouse_event_fn(event) {\n",
       "        if (pass_mouse_events)\n",
       "            return fig.mouse_event(event, event['data']);\n",
       "    }\n",
       "\n",
       "    rubberband.mousedown('button_press', mouse_event_fn);\n",
       "    rubberband.mouseup('button_release', mouse_event_fn);\n",
       "    // Throttle sequential mouse events to 1 every 20ms.\n",
       "    rubberband.mousemove('motion_notify', mouse_event_fn);\n",
       "\n",
       "    rubberband.mouseenter('figure_enter', mouse_event_fn);\n",
       "    rubberband.mouseleave('figure_leave', mouse_event_fn);\n",
       "\n",
       "    canvas_div.on(\"wheel\", function (event) {\n",
       "        event = event.originalEvent;\n",
       "        event['data'] = 'scroll'\n",
       "        if (event.deltaY < 0) {\n",
       "            event.step = 1;\n",
       "        } else {\n",
       "            event.step = -1;\n",
       "        }\n",
       "        mouse_event_fn(event);\n",
       "    });\n",
       "\n",
       "    canvas_div.append(canvas);\n",
       "    canvas_div.append(rubberband);\n",
       "\n",
       "    this.rubberband = rubberband;\n",
       "    this.rubberband_canvas = rubberband[0];\n",
       "    this.rubberband_context = rubberband[0].getContext(\"2d\");\n",
       "    this.rubberband_context.strokeStyle = \"#000000\";\n",
       "\n",
       "    this._resize_canvas = function(width, height) {\n",
       "        // Keep the size of the canvas, canvas container, and rubber band\n",
       "        // canvas in synch.\n",
       "        canvas_div.css('width', width)\n",
       "        canvas_div.css('height', height)\n",
       "\n",
       "        canvas.attr('width', width);\n",
       "        canvas.attr('height', height);\n",
       "\n",
       "        rubberband.attr('width', width);\n",
       "        rubberband.attr('height', height);\n",
       "    }\n",
       "\n",
       "    // Set the figure to an initial 600x600px, this will subsequently be updated\n",
       "    // upon first draw.\n",
       "    this._resize_canvas(600, 600);\n",
       "\n",
       "    // Disable right mouse context menu.\n",
       "    $(this.rubberband_canvas).bind(\"contextmenu\",function(e){\n",
       "        return false;\n",
       "    });\n",
       "\n",
       "    function set_focus () {\n",
       "        canvas.focus();\n",
       "        canvas_div.focus();\n",
       "    }\n",
       "\n",
       "    window.setTimeout(set_focus, 100);\n",
       "}\n",
       "\n",
       "mpl.figure.prototype._init_toolbar = function() {\n",
       "    var fig = this;\n",
       "\n",
       "    var nav_element = $('<div/>')\n",
       "    nav_element.attr('style', 'width: 100%');\n",
       "    this.root.append(nav_element);\n",
       "\n",
       "    // Define a callback function for later on.\n",
       "    function toolbar_event(event) {\n",
       "        return fig.toolbar_button_onclick(event['data']);\n",
       "    }\n",
       "    function toolbar_mouse_event(event) {\n",
       "        return fig.toolbar_button_onmouseover(event['data']);\n",
       "    }\n",
       "\n",
       "    for(var toolbar_ind in mpl.toolbar_items) {\n",
       "        var name = mpl.toolbar_items[toolbar_ind][0];\n",
       "        var tooltip = mpl.toolbar_items[toolbar_ind][1];\n",
       "        var image = mpl.toolbar_items[toolbar_ind][2];\n",
       "        var method_name = mpl.toolbar_items[toolbar_ind][3];\n",
       "\n",
       "        if (!name) {\n",
       "            // put a spacer in here.\n",
       "            continue;\n",
       "        }\n",
       "        var button = $('<button/>');\n",
       "        button.addClass('ui-button ui-widget ui-state-default ui-corner-all ' +\n",
       "                        'ui-button-icon-only');\n",
       "        button.attr('role', 'button');\n",
       "        button.attr('aria-disabled', 'false');\n",
       "        button.click(method_name, toolbar_event);\n",
       "        button.mouseover(tooltip, toolbar_mouse_event);\n",
       "\n",
       "        var icon_img = $('<span/>');\n",
       "        icon_img.addClass('ui-button-icon-primary ui-icon');\n",
       "        icon_img.addClass(image);\n",
       "        icon_img.addClass('ui-corner-all');\n",
       "\n",
       "        var tooltip_span = $('<span/>');\n",
       "        tooltip_span.addClass('ui-button-text');\n",
       "        tooltip_span.html(tooltip);\n",
       "\n",
       "        button.append(icon_img);\n",
       "        button.append(tooltip_span);\n",
       "\n",
       "        nav_element.append(button);\n",
       "    }\n",
       "\n",
       "    var fmt_picker_span = $('<span/>');\n",
       "\n",
       "    var fmt_picker = $('<select/>');\n",
       "    fmt_picker.addClass('mpl-toolbar-option ui-widget ui-widget-content');\n",
       "    fmt_picker_span.append(fmt_picker);\n",
       "    nav_element.append(fmt_picker_span);\n",
       "    this.format_dropdown = fmt_picker[0];\n",
       "\n",
       "    for (var ind in mpl.extensions) {\n",
       "        var fmt = mpl.extensions[ind];\n",
       "        var option = $(\n",
       "            '<option/>', {selected: fmt === mpl.default_extension}).html(fmt);\n",
       "        fmt_picker.append(option)\n",
       "    }\n",
       "\n",
       "    // Add hover states to the ui-buttons\n",
       "    $( \".ui-button\" ).hover(\n",
       "        function() { $(this).addClass(\"ui-state-hover\");},\n",
       "        function() { $(this).removeClass(\"ui-state-hover\");}\n",
       "    );\n",
       "\n",
       "    var status_bar = $('<span class=\"mpl-message\"/>');\n",
       "    nav_element.append(status_bar);\n",
       "    this.message = status_bar[0];\n",
       "}\n",
       "\n",
       "mpl.figure.prototype.request_resize = function(x_pixels, y_pixels) {\n",
       "    // Request matplotlib to resize the figure. Matplotlib will then trigger a resize in the client,\n",
       "    // which will in turn request a refresh of the image.\n",
       "    this.send_message('resize', {'width': x_pixels, 'height': y_pixels});\n",
       "}\n",
       "\n",
       "mpl.figure.prototype.send_message = function(type, properties) {\n",
       "    properties['type'] = type;\n",
       "    properties['figure_id'] = this.id;\n",
       "    this.ws.send(JSON.stringify(properties));\n",
       "}\n",
       "\n",
       "mpl.figure.prototype.send_draw_message = function() {\n",
       "    if (!this.waiting) {\n",
       "        this.waiting = true;\n",
       "        this.ws.send(JSON.stringify({type: \"draw\", figure_id: this.id}));\n",
       "    }\n",
       "}\n",
       "\n",
       "\n",
       "mpl.figure.prototype.handle_save = function(fig, msg) {\n",
       "    var format_dropdown = fig.format_dropdown;\n",
       "    var format = format_dropdown.options[format_dropdown.selectedIndex].value;\n",
       "    fig.ondownload(fig, format);\n",
       "}\n",
       "\n",
       "\n",
       "mpl.figure.prototype.handle_resize = function(fig, msg) {\n",
       "    var size = msg['size'];\n",
       "    if (size[0] != fig.canvas.width || size[1] != fig.canvas.height) {\n",
       "        fig._resize_canvas(size[0], size[1]);\n",
       "        fig.send_message(\"refresh\", {});\n",
       "    };\n",
       "}\n",
       "\n",
       "mpl.figure.prototype.handle_rubberband = function(fig, msg) {\n",
       "    var x0 = msg['x0'];\n",
       "    var y0 = fig.canvas.height - msg['y0'];\n",
       "    var x1 = msg['x1'];\n",
       "    var y1 = fig.canvas.height - msg['y1'];\n",
       "    x0 = Math.floor(x0) + 0.5;\n",
       "    y0 = Math.floor(y0) + 0.5;\n",
       "    x1 = Math.floor(x1) + 0.5;\n",
       "    y1 = Math.floor(y1) + 0.5;\n",
       "    var min_x = Math.min(x0, x1);\n",
       "    var min_y = Math.min(y0, y1);\n",
       "    var width = Math.abs(x1 - x0);\n",
       "    var height = Math.abs(y1 - y0);\n",
       "\n",
       "    fig.rubberband_context.clearRect(\n",
       "        0, 0, fig.canvas.width, fig.canvas.height);\n",
       "\n",
       "    fig.rubberband_context.strokeRect(min_x, min_y, width, height);\n",
       "}\n",
       "\n",
       "mpl.figure.prototype.handle_figure_label = function(fig, msg) {\n",
       "    // Updates the figure title.\n",
       "    fig.header.textContent = msg['label'];\n",
       "}\n",
       "\n",
       "mpl.figure.prototype.handle_cursor = function(fig, msg) {\n",
       "    var cursor = msg['cursor'];\n",
       "    switch(cursor)\n",
       "    {\n",
       "    case 0:\n",
       "        cursor = 'pointer';\n",
       "        break;\n",
       "    case 1:\n",
       "        cursor = 'default';\n",
       "        break;\n",
       "    case 2:\n",
       "        cursor = 'crosshair';\n",
       "        break;\n",
       "    case 3:\n",
       "        cursor = 'move';\n",
       "        break;\n",
       "    }\n",
       "    fig.rubberband_canvas.style.cursor = cursor;\n",
       "}\n",
       "\n",
       "mpl.figure.prototype.handle_message = function(fig, msg) {\n",
       "    fig.message.textContent = msg['message'];\n",
       "}\n",
       "\n",
       "mpl.figure.prototype.handle_draw = function(fig, msg) {\n",
       "    // Request the server to send over a new figure.\n",
       "    fig.send_draw_message();\n",
       "}\n",
       "\n",
       "mpl.figure.prototype.handle_image_mode = function(fig, msg) {\n",
       "    fig.image_mode = msg['mode'];\n",
       "}\n",
       "\n",
       "mpl.figure.prototype.updated_canvas_event = function() {\n",
       "    // Called whenever the canvas gets updated.\n",
       "    this.send_message(\"ack\", {});\n",
       "}\n",
       "\n",
       "// A function to construct a web socket function for onmessage handling.\n",
       "// Called in the figure constructor.\n",
       "mpl.figure.prototype._make_on_message_function = function(fig) {\n",
       "    return function socket_on_message(evt) {\n",
       "        if (evt.data instanceof Blob) {\n",
       "            /* FIXME: We get \"Resource interpreted as Image but\n",
       "             * transferred with MIME type text/plain:\" errors on\n",
       "             * Chrome.  But how to set the MIME type?  It doesn't seem\n",
       "             * to be part of the websocket stream */\n",
       "            evt.data.type = \"image/png\";\n",
       "\n",
       "            /* Free the memory for the previous frames */\n",
       "            if (fig.imageObj.src) {\n",
       "                (window.URL || window.webkitURL).revokeObjectURL(\n",
       "                    fig.imageObj.src);\n",
       "            }\n",
       "\n",
       "            fig.imageObj.src = (window.URL || window.webkitURL).createObjectURL(\n",
       "                evt.data);\n",
       "            fig.updated_canvas_event();\n",
       "            fig.waiting = false;\n",
       "            return;\n",
       "        }\n",
       "        else if (typeof evt.data === 'string' && evt.data.slice(0, 21) == \"data:image/png;base64\") {\n",
       "            fig.imageObj.src = evt.data;\n",
       "            fig.updated_canvas_event();\n",
       "            fig.waiting = false;\n",
       "            return;\n",
       "        }\n",
       "\n",
       "        var msg = JSON.parse(evt.data);\n",
       "        var msg_type = msg['type'];\n",
       "\n",
       "        // Call the  \"handle_{type}\" callback, which takes\n",
       "        // the figure and JSON message as its only arguments.\n",
       "        try {\n",
       "            var callback = fig[\"handle_\" + msg_type];\n",
       "        } catch (e) {\n",
       "            console.log(\"No handler for the '\" + msg_type + \"' message type: \", msg);\n",
       "            return;\n",
       "        }\n",
       "\n",
       "        if (callback) {\n",
       "            try {\n",
       "                // console.log(\"Handling '\" + msg_type + \"' message: \", msg);\n",
       "                callback(fig, msg);\n",
       "            } catch (e) {\n",
       "                console.log(\"Exception inside the 'handler_\" + msg_type + \"' callback:\", e, e.stack, msg);\n",
       "            }\n",
       "        }\n",
       "    };\n",
       "}\n",
       "\n",
       "// from http://stackoverflow.com/questions/1114465/getting-mouse-location-in-canvas\n",
       "mpl.findpos = function(e) {\n",
       "    //this section is from http://www.quirksmode.org/js/events_properties.html\n",
       "    var targ;\n",
       "    if (!e)\n",
       "        e = window.event;\n",
       "    if (e.target)\n",
       "        targ = e.target;\n",
       "    else if (e.srcElement)\n",
       "        targ = e.srcElement;\n",
       "    if (targ.nodeType == 3) // defeat Safari bug\n",
       "        targ = targ.parentNode;\n",
       "\n",
       "    // jQuery normalizes the pageX and pageY\n",
       "    // pageX,Y are the mouse positions relative to the document\n",
       "    // offset() returns the position of the element relative to the document\n",
       "    var x = e.pageX - $(targ).offset().left;\n",
       "    var y = e.pageY - $(targ).offset().top;\n",
       "\n",
       "    return {\"x\": x, \"y\": y};\n",
       "};\n",
       "\n",
       "/*\n",
       " * return a copy of an object with only non-object keys\n",
       " * we need this to avoid circular references\n",
       " * http://stackoverflow.com/a/24161582/3208463\n",
       " */\n",
       "function simpleKeys (original) {\n",
       "  return Object.keys(original).reduce(function (obj, key) {\n",
       "    if (typeof original[key] !== 'object')\n",
       "        obj[key] = original[key]\n",
       "    return obj;\n",
       "  }, {});\n",
       "}\n",
       "\n",
       "mpl.figure.prototype.mouse_event = function(event, name) {\n",
       "    var canvas_pos = mpl.findpos(event)\n",
       "\n",
       "    if (name === 'button_press')\n",
       "    {\n",
       "        this.canvas.focus();\n",
       "        this.canvas_div.focus();\n",
       "    }\n",
       "\n",
       "    var x = canvas_pos.x;\n",
       "    var y = canvas_pos.y;\n",
       "\n",
       "    this.send_message(name, {x: x, y: y, button: event.button,\n",
       "                             step: event.step,\n",
       "                             guiEvent: simpleKeys(event)});\n",
       "\n",
       "    /* This prevents the web browser from automatically changing to\n",
       "     * the text insertion cursor when the button is pressed.  We want\n",
       "     * to control all of the cursor setting manually through the\n",
       "     * 'cursor' event from matplotlib */\n",
       "    event.preventDefault();\n",
       "    return false;\n",
       "}\n",
       "\n",
       "mpl.figure.prototype._key_event_extra = function(event, name) {\n",
       "    // Handle any extra behaviour associated with a key event\n",
       "}\n",
       "\n",
       "mpl.figure.prototype.key_event = function(event, name) {\n",
       "\n",
       "    // Prevent repeat events\n",
       "    if (name == 'key_press')\n",
       "    {\n",
       "        if (event.which === this._key)\n",
       "            return;\n",
       "        else\n",
       "            this._key = event.which;\n",
       "    }\n",
       "    if (name == 'key_release')\n",
       "        this._key = null;\n",
       "\n",
       "    var value = '';\n",
       "    if (event.ctrlKey && event.which != 17)\n",
       "        value += \"ctrl+\";\n",
       "    if (event.altKey && event.which != 18)\n",
       "        value += \"alt+\";\n",
       "    if (event.shiftKey && event.which != 16)\n",
       "        value += \"shift+\";\n",
       "\n",
       "    value += 'k';\n",
       "    value += event.which.toString();\n",
       "\n",
       "    this._key_event_extra(event, name);\n",
       "\n",
       "    this.send_message(name, {key: value,\n",
       "                             guiEvent: simpleKeys(event)});\n",
       "    return false;\n",
       "}\n",
       "\n",
       "mpl.figure.prototype.toolbar_button_onclick = function(name) {\n",
       "    if (name == 'download') {\n",
       "        this.handle_save(this, null);\n",
       "    } else {\n",
       "        this.send_message(\"toolbar_button\", {name: name});\n",
       "    }\n",
       "};\n",
       "\n",
       "mpl.figure.prototype.toolbar_button_onmouseover = function(tooltip) {\n",
       "    this.message.textContent = tooltip;\n",
       "};\n",
       "mpl.toolbar_items = [[\"Home\", \"Reset original view\", \"fa fa-home icon-home\", \"home\"], [\"Back\", \"Back to  previous view\", \"fa fa-arrow-left icon-arrow-left\", \"back\"], [\"Forward\", \"Forward to next view\", \"fa fa-arrow-right icon-arrow-right\", \"forward\"], [\"\", \"\", \"\", \"\"], [\"Pan\", \"Pan axes with left mouse, zoom with right\", \"fa fa-arrows icon-move\", \"pan\"], [\"Zoom\", \"Zoom to rectangle\", \"fa fa-square-o icon-check-empty\", \"zoom\"], [\"\", \"\", \"\", \"\"], [\"Download\", \"Download plot\", \"fa fa-floppy-o icon-save\", \"download\"]];\n",
       "\n",
       "mpl.extensions = [\"eps\", \"pdf\", \"png\", \"ps\", \"raw\", \"svg\"];\n",
       "\n",
       "mpl.default_extension = \"png\";var comm_websocket_adapter = function(comm) {\n",
       "    // Create a \"websocket\"-like object which calls the given IPython comm\n",
       "    // object with the appropriate methods. Currently this is a non binary\n",
       "    // socket, so there is still some room for performance tuning.\n",
       "    var ws = {};\n",
       "\n",
       "    ws.close = function() {\n",
       "        comm.close()\n",
       "    };\n",
       "    ws.send = function(m) {\n",
       "        //console.log('sending', m);\n",
       "        comm.send(m);\n",
       "    };\n",
       "    // Register the callback with on_msg.\n",
       "    comm.on_msg(function(msg) {\n",
       "        //console.log('receiving', msg['content']['data'], msg);\n",
       "        // Pass the mpl event to the overriden (by mpl) onmessage function.\n",
       "        ws.onmessage(msg['content']['data'])\n",
       "    });\n",
       "    return ws;\n",
       "}\n",
       "\n",
       "mpl.mpl_figure_comm = function(comm, msg) {\n",
       "    // This is the function which gets called when the mpl process\n",
       "    // starts-up an IPython Comm through the \"matplotlib\" channel.\n",
       "\n",
       "    var id = msg.content.data.id;\n",
       "    // Get hold of the div created by the display call when the Comm\n",
       "    // socket was opened in Python.\n",
       "    var element = $(\"#\" + id);\n",
       "    var ws_proxy = comm_websocket_adapter(comm)\n",
       "\n",
       "    function ondownload(figure, format) {\n",
       "        window.open(figure.imageObj.src);\n",
       "    }\n",
       "\n",
       "    var fig = new mpl.figure(id, ws_proxy,\n",
       "                           ondownload,\n",
       "                           element.get(0));\n",
       "\n",
       "    // Call onopen now - mpl needs it, as it is assuming we've passed it a real\n",
       "    // web socket which is closed, not our websocket->open comm proxy.\n",
       "    ws_proxy.onopen();\n",
       "\n",
       "    fig.parent_element = element.get(0);\n",
       "    fig.cell_info = mpl.find_output_cell(\"<div id='\" + id + \"'></div>\");\n",
       "    if (!fig.cell_info) {\n",
       "        console.error(\"Failed to find cell for figure\", id, fig);\n",
       "        return;\n",
       "    }\n",
       "\n",
       "    var output_index = fig.cell_info[2]\n",
       "    var cell = fig.cell_info[0];\n",
       "\n",
       "};\n",
       "\n",
       "mpl.figure.prototype.handle_close = function(fig, msg) {\n",
       "    fig.root.unbind('remove')\n",
       "\n",
       "    // Update the output cell to use the data from the current canvas.\n",
       "    fig.push_to_output();\n",
       "    var dataURL = fig.canvas.toDataURL();\n",
       "    // Re-enable the keyboard manager in IPython - without this line, in FF,\n",
       "    // the notebook keyboard shortcuts fail.\n",
       "    IPython.keyboard_manager.enable()\n",
       "    $(fig.parent_element).html('<img src=\"' + dataURL + '\">');\n",
       "    fig.close_ws(fig, msg);\n",
       "}\n",
       "\n",
       "mpl.figure.prototype.close_ws = function(fig, msg){\n",
       "    fig.send_message('closing', msg);\n",
       "    // fig.ws.close()\n",
       "}\n",
       "\n",
       "mpl.figure.prototype.push_to_output = function(remove_interactive) {\n",
       "    // Turn the data on the canvas into data in the output cell.\n",
       "    var dataURL = this.canvas.toDataURL();\n",
       "    this.cell_info[1]['text/html'] = '<img src=\"' + dataURL + '\">';\n",
       "}\n",
       "\n",
       "mpl.figure.prototype.updated_canvas_event = function() {\n",
       "    // Tell IPython that the notebook contents must change.\n",
       "    IPython.notebook.set_dirty(true);\n",
       "    this.send_message(\"ack\", {});\n",
       "    var fig = this;\n",
       "    // Wait a second, then push the new image to the DOM so\n",
       "    // that it is saved nicely (might be nice to debounce this).\n",
       "    setTimeout(function () { fig.push_to_output() }, 1000);\n",
       "}\n",
       "\n",
       "mpl.figure.prototype._init_toolbar = function() {\n",
       "    var fig = this;\n",
       "\n",
       "    var nav_element = $('<div/>')\n",
       "    nav_element.attr('style', 'width: 100%');\n",
       "    this.root.append(nav_element);\n",
       "\n",
       "    // Define a callback function for later on.\n",
       "    function toolbar_event(event) {\n",
       "        return fig.toolbar_button_onclick(event['data']);\n",
       "    }\n",
       "    function toolbar_mouse_event(event) {\n",
       "        return fig.toolbar_button_onmouseover(event['data']);\n",
       "    }\n",
       "\n",
       "    for(var toolbar_ind in mpl.toolbar_items){\n",
       "        var name = mpl.toolbar_items[toolbar_ind][0];\n",
       "        var tooltip = mpl.toolbar_items[toolbar_ind][1];\n",
       "        var image = mpl.toolbar_items[toolbar_ind][2];\n",
       "        var method_name = mpl.toolbar_items[toolbar_ind][3];\n",
       "\n",
       "        if (!name) { continue; };\n",
       "\n",
       "        var button = $('<button class=\"btn btn-default\" href=\"#\" title=\"' + name + '\"><i class=\"fa ' + image + ' fa-lg\"></i></button>');\n",
       "        button.click(method_name, toolbar_event);\n",
       "        button.mouseover(tooltip, toolbar_mouse_event);\n",
       "        nav_element.append(button);\n",
       "    }\n",
       "\n",
       "    // Add the status bar.\n",
       "    var status_bar = $('<span class=\"mpl-message\" style=\"text-align:right; float: right;\"/>');\n",
       "    nav_element.append(status_bar);\n",
       "    this.message = status_bar[0];\n",
       "\n",
       "    // Add the close button to the window.\n",
       "    var buttongrp = $('<div class=\"btn-group inline pull-right\"></div>');\n",
       "    var button = $('<button class=\"btn btn-mini btn-primary\" href=\"#\" title=\"Stop Interaction\"><i class=\"fa fa-power-off icon-remove icon-large\"></i></button>');\n",
       "    button.click(function (evt) { fig.handle_close(fig, {}); } );\n",
       "    button.mouseover('Stop Interaction', toolbar_mouse_event);\n",
       "    buttongrp.append(button);\n",
       "    var titlebar = this.root.find($('.ui-dialog-titlebar'));\n",
       "    titlebar.prepend(buttongrp);\n",
       "}\n",
       "\n",
       "mpl.figure.prototype._root_extra_style = function(el){\n",
       "    var fig = this\n",
       "    el.on(\"remove\", function(){\n",
       "\tfig.close_ws(fig, {});\n",
       "    });\n",
       "}\n",
       "\n",
       "mpl.figure.prototype._canvas_extra_style = function(el){\n",
       "    // this is important to make the div 'focusable\n",
       "    el.attr('tabindex', 0)\n",
       "    // reach out to IPython and tell the keyboard manager to turn it's self\n",
       "    // off when our div gets focus\n",
       "\n",
       "    // location in version 3\n",
       "    if (IPython.notebook.keyboard_manager) {\n",
       "        IPython.notebook.keyboard_manager.register_events(el);\n",
       "    }\n",
       "    else {\n",
       "        // location in version 2\n",
       "        IPython.keyboard_manager.register_events(el);\n",
       "    }\n",
       "\n",
       "}\n",
       "\n",
       "mpl.figure.prototype._key_event_extra = function(event, name) {\n",
       "    var manager = IPython.notebook.keyboard_manager;\n",
       "    if (!manager)\n",
       "        manager = IPython.keyboard_manager;\n",
       "\n",
       "    // Check for shift+enter\n",
       "    if (event.shiftKey && event.which == 13) {\n",
       "        this.canvas_div.blur();\n",
       "        event.shiftKey = false;\n",
       "        // Send a \"J\" for go to next cell\n",
       "        event.which = 74;\n",
       "        event.keyCode = 74;\n",
       "        manager.command_mode();\n",
       "        manager.handle_keydown(event);\n",
       "    }\n",
       "}\n",
       "\n",
       "mpl.figure.prototype.handle_save = function(fig, msg) {\n",
       "    fig.ondownload(fig, null);\n",
       "}\n",
       "\n",
       "\n",
       "mpl.find_output_cell = function(html_output) {\n",
       "    // Return the cell and output element which can be found *uniquely* in the notebook.\n",
       "    // Note - this is a bit hacky, but it is done because the \"notebook_saving.Notebook\"\n",
       "    // IPython event is triggered only after the cells have been serialised, which for\n",
       "    // our purposes (turning an active figure into a static one), is too late.\n",
       "    var cells = IPython.notebook.get_cells();\n",
       "    var ncells = cells.length;\n",
       "    for (var i=0; i<ncells; i++) {\n",
       "        var cell = cells[i];\n",
       "        if (cell.cell_type === 'code'){\n",
       "            for (var j=0; j<cell.output_area.outputs.length; j++) {\n",
       "                var data = cell.output_area.outputs[j];\n",
       "                if (data.data) {\n",
       "                    // IPython >= 3 moved mimebundle to data attribute of output\n",
       "                    data = data.data;\n",
       "                }\n",
       "                if (data['text/html'] == html_output) {\n",
       "                    return [cell, data, j];\n",
       "                }\n",
       "            }\n",
       "        }\n",
       "    }\n",
       "}\n",
       "\n",
       "// Register the function which deals with the matplotlib target/channel.\n",
       "// The kernel may be null if the page has been refreshed.\n",
       "if (IPython.notebook.kernel != null) {\n",
       "    IPython.notebook.kernel.comm_manager.register_target('matplotlib', mpl.mpl_figure_comm);\n",
       "}\n"
      ],
      "text/plain": [
       "<IPython.core.display.Javascript object>"
      ]
     },
     "metadata": {},
     "output_type": "display_data"
    },
    {
     "data": {
      "text/html": [
       "<img src=\"data:image/png;base64,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\">"
      ],
      "text/plain": [
       "<IPython.core.display.HTML object>"
      ]
     },
     "metadata": {},
     "output_type": "display_data"
    },
    {
     "name": "stdout",
     "output_type": "stream",
     "text": [
      "[(0, 423175), (5, 405366), (10, 397616), (15, 435016), (20, 509516), (25, 557227), (30, 591613), (35, 557624), (40, 589307), (45, 677384), (50, 651470), (55, 548059), (60, 458058), (65, 445100), (70, 362208), (75, 273224), (80, 209059), (85, 136121), (90, 57859), (95, 12047), (100, 1614)]\n"
     ]
    }
   ],
   "source": [
    "plt.figure(figsize=(14,6))\n",
    "x_val = [x[0][1] for x in sorted(ratio_rdd)]\n",
    "y_val = [x[1] for x in sorted(ratio_rdd)]\n",
    "print plot_rdd\n",
    "plt.plot(range(len(y_val)), y_val)\n",
    "plt.xticks(range(len(x_val)), x_val, size='small')\n",
    "plt.show()"
   ]
  },
  {
   "cell_type": "markdown",
   "metadata": {
    "collapsed": false
   },
   "source": [
    "#### And finally countries with extreme ratios!"
   ]
  },
  {
   "cell_type": "code",
   "execution_count": 28,
   "metadata": {
    "collapsed": false
   },
   "outputs": [
    {
     "data": {
      "text/plain": [
       "[(0.7435255068268413, (u'\"Estonia\"', u'\"1950\"')),\n",
       " (0.7519791094575811, (u'\"Ukraine\"', u'\"1950\"')),\n",
       " (0.7616614030742755, (u'\"Latvia\"', u'\"1950\"')),\n",
       " (0.7656062654146911, (u'\"Russian Federation\"', u'\"1950\"')),\n",
       " (0.7693076696484855, (u'\"Estonia\"', u'\"1955\"')),\n",
       " (0.7786593567288499, (u'\"Ukraine\"', u'\"1955\"')),\n",
       " (0.7818550487288757, (u'\"Latvia\"', u'\"1955\"')),\n",
       " (0.7904025801857155, (u'\"Estonia\"', u'\"1960\"')),\n",
       " (0.790463501357167, (u'\"Russian Federation\"', u'\"1955\"')),\n",
       " (0.7920474390414033, (u'\"Latvia\"', u'\"1960\"')),\n",
       " (0.7924057107018961, (u'\"Belarus\"', u'\"1950\"')),\n",
       " (0.7926861628890858, (u'\"Martinique\"', u'\"2050\"')),\n",
       " (0.7951457618687366, (u'\"Martinique\"', u'\"2055\"')),\n",
       " (0.7963798926115795, (u'\"Martinique\"', u'\"2045\"')),\n",
       " (2.5201461958857134, (u'\"United Arab Emirates\"', u'\"2020\"')),\n",
       " (2.6547145687958205, (u'\"Qatar\"', u'\"2015\"')),\n",
       " (2.739509463565873, (u'\"United Arab Emirates\"', u'\"2015\"')),\n",
       " (2.9712132495620898, (u'\"United Arab Emirates\"', u'\"2010\"')),\n",
       " (3.056841316746095, (u'\"Qatar\"', u'\"2010\"'))]"
      ]
     },
     "execution_count": 28,
     "metadata": {},
     "output_type": "execute_result"
    }
   ],
   "source": [
    "fn_rdd.filter(lambda record: record[0] > 2.5 or record[0] < 0.8).sortByKey().collect()"
   ]
  },
  {
   "cell_type": "markdown",
   "metadata": {
    "collapsed": false
   },
   "source": [
    "#### Exercise 2 - how to achieve the same with groupByKey"
   ]
  },
  {
   "cell_type": "code",
   "execution_count": null,
   "metadata": {
    "collapsed": true
   },
   "outputs": [],
   "source": [
    "%load key/solution2.py"
   ]
  },
  {
   "cell_type": "markdown",
   "metadata": {
    "collapsed": false
   },
   "source": [
    "#### Exercise 3 - how to achieve the same with reduceByKey "
   ]
  },
  {
   "cell_type": "code",
   "execution_count": null,
   "metadata": {
    "collapsed": true
   },
   "outputs": [],
   "source": [
    "%load key/solution3.py"
   ]
  },
  {
   "cell_type": "markdown",
   "metadata": {
    "collapsed": false
   },
   "source": [
    "#### Exercise 4 - how to achieve the same with combineByKey "
   ]
  },
  {
   "cell_type": "code",
   "execution_count": null,
   "metadata": {
    "collapsed": false
   },
   "outputs": [],
   "source": [
    "%load key/solution4.py"
   ]
  },
  {
   "cell_type": "markdown",
   "metadata": {
    "collapsed": true
   },
   "source": [
    "### HandsOn 5 - Calculate the old-age dependency ratio (ratio of pop between 65+ to 25-64)\n",
    "*This introduces brodcast variables*"
   ]
  },
  {
   "cell_type": "markdown",
   "metadata": {},
   "source": [
    "#### create broadcast variable, good for performance for map-side join (for lookup table or feature vector)"
   ]
  },
  {
   "cell_type": "code",
   "execution_count": 29,
   "metadata": {
    "collapsed": true
   },
   "outputs": [],
   "source": [
    "broadcastWorkingAge = sc.broadcast([25,30,35,40,45,50,55,60])"
   ]
  },
  {
   "cell_type": "markdown",
   "metadata": {
    "collapsed": false
   },
   "source": [
    "#### Function to map the record as WORKING or RETIRED based on age"
   ]
  },
  {
   "cell_type": "code",
   "execution_count": 30,
   "metadata": {
    "collapsed": true
   },
   "outputs": [],
   "source": [
    "def map_agegrp(record):\n",
    "    if int(record.AgeGrpStart) in broadcastWorkingAge.value:\n",
    "         AgeGroup = 'WORKING'\n",
    "    else:\n",
    "         AgeGroup = 'RETIRED'\n",
    "    return ((record.Location,record.Time,AgeGroup),float(record.Value))"
   ]
  },
  {
   "cell_type": "markdown",
   "metadata": {
    "collapsed": false
   },
   "source": [
    "#### Function to calculate the ratio"
   ]
  },
  {
   "cell_type": "code",
   "execution_count": 31,
   "metadata": {
    "collapsed": true
   },
   "outputs": [],
   "source": [
    "def cal_ratio(record):\n",
    "    if record[1][0] == 'WORKING':\n",
    "         ratio = record[1][3] / record[1][1]\n",
    "    else:\n",
    "         ratio = record[1][1] / record[1][3]\n",
    "    return (ratio,(record[0][0],record[0][1]))"
   ]
  },
  {
   "cell_type": "markdown",
   "metadata": {},
   "source": [
    "#### rdd holding the old-age dependency ratio for each country and for each year"
   ]
  },
  {
   "cell_type": "code",
   "execution_count": 32,
   "metadata": {
    "collapsed": false
   },
   "outputs": [
    {
     "data": {
      "text/plain": [
       "[(0.05178322122096713, (u'\"Aruba\"', u'\"1955\"')),\n",
       " (0.3030251557114507, (u'\"Kazakhstan\"', u'\"2060\"')),\n",
       " (0.07844674506650585, (u'\"Nepal\"', u'\"1970\"')),\n",
       " (0.14458087541014408, (u'\"Nepal\"', u'\"2030\"')),\n",
       " (0.08148086607991036, (u'\"Western Africa\"', u'\"2020\"')),\n",
       " (0.1511617660018212, (u'\"Tonga\"', u'\"1995\"')),\n",
       " (0.07089940611032879, (u'\"Fiji\"', u'\"1980\"')),\n",
       " (0.0912807078099758, (u'\"Iran (Islamic Republic of)\"', u'\"2015\"')),\n",
       " (0.09640098842572788, (u'\"Mozambique\"', u'\"2000\"')),\n",
       " (0.23670364293021603, (u'\"Togo\"', u'\"2090\"'))]"
      ]
     },
     "execution_count": 32,
     "metadata": {},
     "output_type": "execute_result"
    }
   ],
   "source": [
    "ntuple_rdd.filter(lambda record: record.Sex == '\"Both\"' and int(record.AgeGrpStart) not in [0,5,10,15,20]) \\\n",
    "    .map(map_agegrp) \\\n",
    "    .reduceByKey(add) \\\n",
    "    .map(lambda record: ((record[0][0],record[0][1]),(record[0][2],record[1]))) \\\n",
    "    .reduceByKey(lambda a, b: a + b) \\\n",
    "    .map(cal_ratio) \\\n",
    "    .take(10)"
   ]
  },
  {
   "cell_type": "markdown",
   "metadata": {
    "collapsed": true
   },
   "source": [
    "### HandsOn 6 - some misc. rdd functions"
   ]
  },
  {
   "cell_type": "markdown",
   "metadata": {
    "collapsed": false
   },
   "source": [
    "#### check the number of partitions in RDD"
   ]
  },
  {
   "cell_type": "code",
   "execution_count": 33,
   "metadata": {
    "collapsed": false
   },
   "outputs": [
    {
     "data": {
      "text/plain": [
       "2"
      ]
     },
     "execution_count": 33,
     "metadata": {},
     "output_type": "execute_result"
    }
   ],
   "source": [
    "ntuple_rdd.getNumPartitions()"
   ]
  },
  {
   "cell_type": "markdown",
   "metadata": {
    "collapsed": false
   },
   "source": [
    "#### repartition the RDD"
   ]
  },
  {
   "cell_type": "code",
   "execution_count": 34,
   "metadata": {
    "collapsed": true
   },
   "outputs": [],
   "source": [
    "rep_rdd = ntuple_rdd.repartition(5)"
   ]
  },
  {
   "cell_type": "markdown",
   "metadata": {
    "collapsed": false
   },
   "source": [
    "#### check again the number of partitions"
   ]
  },
  {
   "cell_type": "code",
   "execution_count": 35,
   "metadata": {
    "collapsed": false
   },
   "outputs": [
    {
     "data": {
      "text/plain": [
       "5"
      ]
     },
     "execution_count": 35,
     "metadata": {},
     "output_type": "execute_result"
    }
   ],
   "source": [
    "rep_rdd.getNumPartitions()"
   ]
  },
  {
   "cell_type": "markdown",
   "metadata": {
    "collapsed": false
   },
   "source": [
    "#### which rdd to cache?"
   ]
  },
  {
   "cell_type": "code",
   "execution_count": 36,
   "metadata": {
    "collapsed": false
   },
   "outputs": [
    {
     "data": {
      "text/plain": [
       "PythonRDD[84] at RDD at PythonRDD.scala:48"
      ]
     },
     "execution_count": 36,
     "metadata": {},
     "output_type": "execute_result"
    }
   ],
   "source": [
    "ntuple_rdd.cache()"
   ]
  },
  {
   "cell_type": "markdown",
   "metadata": {},
   "source": [
    "#### each rdd has an id and can be given a friendly name"
   ]
  },
  {
   "cell_type": "code",
   "execution_count": 37,
   "metadata": {
    "collapsed": false
   },
   "outputs": [
    {
     "data": {
      "text/plain": [
       "1"
      ]
     },
     "execution_count": 37,
     "metadata": {},
     "output_type": "execute_result"
    }
   ],
   "source": [
    "rdd.id()"
   ]
  },
  {
   "cell_type": "code",
   "execution_count": 38,
   "metadata": {
    "collapsed": false
   },
   "outputs": [
    {
     "data": {
      "text/plain": [
       "u'../data/UN_Pop_Stats.csv'"
      ]
     },
     "execution_count": 38,
     "metadata": {},
     "output_type": "execute_result"
    }
   ],
   "source": [
    "rdd.name()"
   ]
  },
  {
   "cell_type": "markdown",
   "metadata": {
    "collapsed": false
   },
   "source": [
    "#### get distinct values of a column"
   ]
  },
  {
   "cell_type": "code",
   "execution_count": 39,
   "metadata": {
    "collapsed": false
   },
   "outputs": [
    {
     "data": {
      "text/plain": [
       "[u'\"Bahrain\"',\n",
       " u'\"Dominican Republic\"',\n",
       " u'\"Fiji\"',\n",
       " u'\"Caribbean\"',\n",
       " u'\"Armenia\"',\n",
       " u'\"Aruba\"',\n",
       " u'\"Uganda\"',\n",
       " u'\"Western Europe\"',\n",
       " u'\"Paraguay\"',\n",
       " u'\"Micronesia (Fed. States of)\"',\n",
       " u'\"Ghana\"',\n",
       " u'\"Lithuania\"',\n",
       " u'\"Canada\"',\n",
       " u'\"Venezuela (Bolivarian Republic of)\"',\n",
       " u'\"Spain\"',\n",
       " u'\"Swaziland\"',\n",
       " u'\"Samoa\"',\n",
       " u'\"Ecuador\"',\n",
       " u'\"Bahamas\"',\n",
       " u'\"Romania\"',\n",
       " u'\"Republic of Korea\"',\n",
       " u'\"India\"',\n",
       " u'\"Tajikistan\"',\n",
       " u'\"Sudan\"',\n",
       " u'\"Slovakia\"',\n",
       " u'\"United States Virgin Islands\"',\n",
       " u'\"Iran (Islamic Republic of)\"',\n",
       " u'\"NORTHERN AMERICA\"',\n",
       " u'\"Malta\"',\n",
       " u'\"Mongolia\"',\n",
       " u'\"Belgium\"',\n",
       " u'\"Western Sahara\"',\n",
       " u'\"United Kingdom\"',\n",
       " u'\"Nicaragua\"',\n",
       " u'\"Turkey\"',\n",
       " u'\"Barbados\"',\n",
       " u'\"Egypt\"',\n",
       " u'\"Angola\"',\n",
       " u'\"Jordan\"',\n",
       " u'\"Djibouti\"',\n",
       " u'\"Italy\"',\n",
       " u'\"Saudi Arabia\"',\n",
       " u'\"AFRICA\"',\n",
       " u'\"Mozambique\"',\n",
       " u'\"Croatia\"',\n",
       " u'\"Sao Tome and Principe\"',\n",
       " u'\"Gabon\"',\n",
       " u'\"Middle Africa\"',\n",
       " u'\"Tonga\"',\n",
       " u'\"French Guiana\"',\n",
       " u'\"Poland\"',\n",
       " u'\"Austria\"',\n",
       " u'\"Bhutan\"',\n",
       " u'\"Burundi\"',\n",
       " u'\"Libya\"',\n",
       " u'\"Tunisia\"',\n",
       " u'\"Zambia\"',\n",
       " u'\"Uzbekistan\"',\n",
       " u'\"Channel Islands\"',\n",
       " u'\"ASIA\"',\n",
       " u'\"Cyprus\"',\n",
       " u'\"Central America\"',\n",
       " u'\"Mauritius\"',\n",
       " u'\"Germany\"',\n",
       " u'\"United States of America\"',\n",
       " u'\"Ukraine\"',\n",
       " u'\"Israel\"',\n",
       " u'\"Sri Lanka\"',\n",
       " u'\"Ireland\"',\n",
       " u'\"Melanesia\"',\n",
       " u'\"Western Africa\"',\n",
       " u'\"LATIN AMERICA AND THE CARIBBEAN\"',\n",
       " u'\"Kyrgyzstan\"',\n",
       " u'\"Syrian Arab Republic\"',\n",
       " u'\"Saint Vincent and the Grenadines\"',\n",
       " u'\"Lao People\\'s Democratic Republic\"',\n",
       " u'\"Serbia\"',\n",
       " u'\"Chad\"',\n",
       " u'\"South America\"',\n",
       " u'\"Portugal\"',\n",
       " u'\"Qatar\"',\n",
       " u'\"Madagascar\"',\n",
       " u'\"Guam\"',\n",
       " u'\"Less developed regions\"',\n",
       " u'\"Estonia\"',\n",
       " u'\"Suriname\"',\n",
       " u'\"Myanmar\"',\n",
       " u'\"Micronesia\"',\n",
       " u'\"Kazakhstan\"',\n",
       " u'\"Saint Lucia\"',\n",
       " u'\"Namibia\"',\n",
       " u'\"Least developed countries\"',\n",
       " u'\"Haiti\"',\n",
       " u'\"South-Eastern Asia\"',\n",
       " u'\"Montenegro\"',\n",
       " u'\"Eastern Asia\"',\n",
       " u'\"Mayotte\"',\n",
       " u'\"New Zealand\"',\n",
       " u'\"Nigeria\"',\n",
       " u'\"Antigua and Barbuda\"',\n",
       " u'\"Chile\"',\n",
       " u'\"Sweden\"',\n",
       " u'\"Eastern Europe\"',\n",
       " u'\"China\"',\n",
       " u'\"Argentina\"',\n",
       " u'\"Russian Federation\"',\n",
       " u'\"Luxembourg\"',\n",
       " u'\"Switzerland\"',\n",
       " u'\"Lebanon\"',\n",
       " u'\"Timor-Leste\"',\n",
       " u'\"Eastern Africa\"',\n",
       " u'\"Peru\"',\n",
       " u'\"Papua New Guinea\"',\n",
       " u'\"Honduras\"',\n",
       " u'\"Cambodia\"',\n",
       " u'\"Guatemala\"',\n",
       " u'\"French Polynesia\"',\n",
       " u'\"Cameroon\"',\n",
       " u'\"Guinea-Bissau\"',\n",
       " u'\"Republic of Moldova\"',\n",
       " u'\"Solomon Islands\"',\n",
       " u'\"TFYR Macedonia\"',\n",
       " u'\"Viet Nam\"',\n",
       " u'\"Colombia\"',\n",
       " u'\"El Salvador\"',\n",
       " u'\"Niger\"',\n",
       " u'\"Panama\"',\n",
       " u'\"EUROPE\"',\n",
       " u'\"Norway\"',\n",
       " u'\"More developed regions\"',\n",
       " u'\"Algeria\"',\n",
       " u'\"Brazil\"',\n",
       " u'\"Western Asia\"',\n",
       " u'\"Philippines\"',\n",
       " u'\"Senegal\"',\n",
       " u'\"Bosnia and Herzegovina\"',\n",
       " u'\"Gambia\"',\n",
       " u'\"Iraq\"',\n",
       " u'\"Equatorial Guinea\"',\n",
       " u'\"Uruguay\"',\n",
       " u'\"Belize\"',\n",
       " u'\"Yemen\"',\n",
       " u'\"Congo\"',\n",
       " u'\"Jamaica\"',\n",
       " u'\"Liberia\"',\n",
       " u'\"Northern Europe\"',\n",
       " u'\"Indonesia\"',\n",
       " u'\"New Caledonia\"',\n",
       " u'\"Iceland\"',\n",
       " u'\"Cuba\"',\n",
       " u'\"Albania\"',\n",
       " u'\"Dem. People\\'s Republic of Korea\"',\n",
       " u'\"Southern Asia\"',\n",
       " u'\"Bolivia (Plurinational State of)\"',\n",
       " u'\"Polynesia\"',\n",
       " u'\"United Arab Emirates\"',\n",
       " u'\"Trinidad and Tobago\"',\n",
       " u'\"Maldives\"',\n",
       " u'\"Hungary\"',\n",
       " u'\"Bangladesh\"',\n",
       " u'\"Australia\"',\n",
       " u'\"Afghanistan\"',\n",
       " u'\"Mexico\"',\n",
       " u'\"Greece\"',\n",
       " u'\"Belarus\"',\n",
       " u'\"Comoros\"',\n",
       " u'\"R\\ufffdunion\"',\n",
       " u'\"Martinique\"',\n",
       " u'\"Georgia\"',\n",
       " u'\"Slovenia\"',\n",
       " u'\"Central African Republic\"',\n",
       " u'\"Benin\"',\n",
       " u'\"Latvia\"',\n",
       " u'\"Vanuatu\"',\n",
       " u'\"Botswana\"',\n",
       " u'\"South Sudan\"',\n",
       " u'\"Guinea\"',\n",
       " u'\"France\"',\n",
       " u'\"Malaysia\"',\n",
       " u'\"Malawi\"',\n",
       " u'\"Japan\"',\n",
       " u'\"Northern Africa\"',\n",
       " u'\"Kuwait\"',\n",
       " u'\"South-Central Asia\"',\n",
       " u'\"State of Palestine\"',\n",
       " u'\"Rwanda\"',\n",
       " u'\"Mauritania\"',\n",
       " u'\"Kenya\"',\n",
       " u'\"China',\n",
       " u'\"Australia/New Zealand\"',\n",
       " u'\"Seychelles\"',\n",
       " u'\"Less developed regions',\n",
       " u'\"Zimbabwe\"',\n",
       " u'\"Denmark\"',\n",
       " u'\"Costa Rica\"',\n",
       " u'\"Togo\"',\n",
       " u'\"Other non-specified areas\"',\n",
       " u'\"Nepal\"',\n",
       " u'\"Burkina Faso\"',\n",
       " u'\"Czech Republic\"',\n",
       " u'\"Pakistan\"',\n",
       " u'\"Guadeloupe\"',\n",
       " u'\"Bulgaria\"',\n",
       " u'\"Grenada\"',\n",
       " u'\"Cabo Verde\"',\n",
       " u'\"Morocco\"',\n",
       " u'\"South Africa\"',\n",
       " u'\"Turkmenistan\"',\n",
       " u'\"Mali\"',\n",
       " u'\"Finland\"',\n",
       " u'\"Southern Europe\"',\n",
       " u'\"Kiribati\"',\n",
       " u'\"Puerto Rico\"',\n",
       " u'\"Central Asia\"',\n",
       " u'\"Brunei Darussalam\"',\n",
       " u'\"C\\ufffdte d\\'Ivoire\"',\n",
       " u'\"Lesotho\"',\n",
       " u'\"Sub-Saharan Africa\"',\n",
       " u'\"Somalia\"',\n",
       " u'\"Thailand\"',\n",
       " u'\"WORLD\"',\n",
       " u'\"Eritrea\"',\n",
       " u'\"Singapore\"',\n",
       " u'\"Ethiopia\"',\n",
       " u'\"Democratic Republic of the Congo\"',\n",
       " u'\"Guyana\"',\n",
       " u'\"Azerbaijan\"',\n",
       " u'\"Cura\\ufffdao\"',\n",
       " u'\"OCEANIA\"',\n",
       " u'\"Netherlands\"',\n",
       " u'\"Oman\"',\n",
       " u'\"Southern Africa\"',\n",
       " u'\"Sierra Leone\"',\n",
       " u'\"United Republic of Tanzania\"']"
      ]
     },
     "execution_count": 39,
     "metadata": {},
     "output_type": "execute_result"
    }
   ],
   "source": [
    "ntuple_rdd.map(lambda record: record.Location).distinct().collect()"
   ]
  },
  {
   "cell_type": "markdown",
   "metadata": {},
   "source": [
    "### Hands-On 7 - Convert the ntuple_rdd to DataFrame and save the DF as parquet file"
   ]
  },
  {
   "cell_type": "markdown",
   "metadata": {},
   "source": [
    "#### Create sqlContext\n",
    "*This is only required if you are running in SPARK local mode*"
   ]
  },
  {
   "cell_type": "code",
   "execution_count": 40,
   "metadata": {
    "collapsed": true
   },
   "outputs": [],
   "source": [
    "from pyspark import SQLContext"
   ]
  },
  {
   "cell_type": "code",
   "execution_count": 41,
   "metadata": {
    "collapsed": true
   },
   "outputs": [],
   "source": [
    "sqlContext = SQLContext(sc)"
   ]
  },
  {
   "cell_type": "markdown",
   "metadata": {},
   "source": [
    "#### Convert RDD to DF and inspect the data"
   ]
  },
  {
   "cell_type": "code",
   "execution_count": 42,
   "metadata": {
    "collapsed": true
   },
   "outputs": [],
   "source": [
    "df = ntuple_rdd.toDF()"
   ]
  },
  {
   "cell_type": "code",
   "execution_count": 43,
   "metadata": {
    "collapsed": false
   },
   "outputs": [
    {
     "name": "stdout",
     "output_type": "stream",
     "text": [
      "+-----+-------------+-----+--------+------+---------+-----+--------+-------+-----------+----------+-------+\n",
      "|LocID|     Location|VarID| Variant|  Time|MidPeriod|SexID|     Sex| AgeGrp|AgeGrpStart|AgeGrpSpan|  Value|\n",
      "+-----+-------------+-----+--------+------+---------+-----+--------+-------+-----------+----------+-------+\n",
      "|    4|\"Afghanistan\"|    2|\"Medium\"|\"1950\"|   1950.5|    1|  \"Male\"|  \"0-4\"|          0|         5|630.044|\n",
      "|    4|\"Afghanistan\"|    2|\"Medium\"|\"1950\"|   1950.5|    1|  \"Male\"|  \"5-9\"|          5|         5|516.205|\n",
      "|    4|\"Afghanistan\"|    2|\"Medium\"|\"1950\"|   1950.5|    1|  \"Male\"|\"10-14\"|         10|         5|461.378|\n",
      "|    4|\"Afghanistan\"|    2|\"Medium\"|\"1950\"|   1950.5|    1|  \"Male\"|\"15-19\"|         15|         5|414.368|\n",
      "|    4|\"Afghanistan\"|    2|\"Medium\"|\"1950\"|   1950.5|    1|  \"Male\"|\"20-24\"|         20|         5|374.110|\n",
      "|    4|\"Afghanistan\"|    2|\"Medium\"|\"1950\"|   1950.5|    1|  \"Male\"|\"25-29\"|         25|         5|321.312|\n",
      "|    4|\"Afghanistan\"|    2|\"Medium\"|\"1950\"|   1950.5|    1|  \"Male\"|\"30-34\"|         30|         5|276.279|\n",
      "|    4|\"Afghanistan\"|    2|\"Medium\"|\"1950\"|   1950.5|    1|  \"Male\"|\"35-39\"|         35|         5|236.792|\n",
      "|    4|\"Afghanistan\"|    2|\"Medium\"|\"1950\"|   1950.5|    1|  \"Male\"|\"40-44\"|         40|         5|200.616|\n",
      "|    4|\"Afghanistan\"|    2|\"Medium\"|\"1950\"|   1950.5|    1|  \"Male\"|\"45-49\"|         45|         5|176.525|\n",
      "|    4|\"Afghanistan\"|    2|\"Medium\"|\"1950\"|   1950.5|    1|  \"Male\"|\"50-54\"|         50|         5|147.125|\n",
      "|    4|\"Afghanistan\"|    2|\"Medium\"|\"1950\"|   1950.5|    1|  \"Male\"|\"55-59\"|         55|         5|123.896|\n",
      "|    4|\"Afghanistan\"|    2|\"Medium\"|\"1950\"|   1950.5|    1|  \"Male\"|\"60-64\"|         60|         5| 94.573|\n",
      "|    4|\"Afghanistan\"|    2|\"Medium\"|\"1950\"|   1950.5|    1|  \"Male\"|\"65-69\"|         65|         5| 65.058|\n",
      "|    4|\"Afghanistan\"|    2|\"Medium\"|\"1950\"|   1950.5|    1|  \"Male\"|\"70-74\"|         70|         5| 37.982|\n",
      "|    4|\"Afghanistan\"|    2|\"Medium\"|\"1950\"|   1950.5|    1|  \"Male\"|\"75-79\"|         75|         5| 17.011|\n",
      "|    4|\"Afghanistan\"|    2|\"Medium\"|\"1950\"|   1950.5|    1|  \"Male\"|  \"80+\"|         80|        20|  5.967|\n",
      "|    4|\"Afghanistan\"|    2|\"Medium\"|\"1950\"|   1950.5|    2|\"Female\"|  \"0-4\"|          0|         5|661.578|\n",
      "|    4|\"Afghanistan\"|    2|\"Medium\"|\"1950\"|   1950.5|    2|\"Female\"|  \"5-9\"|          5|         5|487.335|\n",
      "|    4|\"Afghanistan\"|    2|\"Medium\"|\"1950\"|   1950.5|    2|\"Female\"|\"10-14\"|         10|         5|423.326|\n",
      "+-----+-------------+-----+--------+------+---------+-----+--------+-------+-----------+----------+-------+\n",
      "only showing top 20 rows\n",
      "\n"
     ]
    }
   ],
   "source": [
    "df.show()"
   ]
  }
 ],
 "metadata": {
  "kernelspec": {
   "display_name": "Python 2",
   "language": "python",
   "name": "python2"
  },
  "language_info": {
   "codemirror_mode": {
    "name": "ipython",
    "version": 2
   },
   "file_extension": ".py",
   "mimetype": "text/x-python",
   "name": "python",
   "nbconvert_exporter": "python",
   "pygments_lexer": "ipython2",
   "version": "2.7.13"
  }
 },
 "nbformat": 4,
 "nbformat_minor": 0
}
