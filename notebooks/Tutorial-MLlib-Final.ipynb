{
 "cells": [
  {
   "cell_type": "markdown",
   "metadata": {},
   "source": [
    "## This notebook is part of Hadoop and Spark training delivered by IT-DB group\n",
    "### SPARK MLlib Hands-On Lab\n",
    "_ by Prasanth Kothuri _"
   ]
  },
  {
   "cell_type": "markdown",
   "metadata": {},
   "source": [
    " ### Import the required libraries"
   ]
  },
  {
   "cell_type": "code",
   "execution_count": 1,
   "metadata": {
    "collapsed": true
   },
   "outputs": [],
   "source": [
    "from pyspark import SparkContext\n",
    "from pyspark.mllib.regression import LabeledPoint\n",
    "from pyspark.mllib.linalg import Vectors\n",
    "from pyspark.mllib.tree import DecisionTree\n",
    "from pyspark.mllib.tree import DecisionTreeModel\n",
    "from pyspark.mllib.util import MLUtils\n",
    "from collections import namedtuple\n",
    "from pprint import pprint"
   ]
  },
  {
   "cell_type": "markdown",
   "metadata": {},
   "source": [
    "### create spark context"
   ]
  },
  {
   "cell_type": "code",
   "execution_count": 2,
   "metadata": {
    "collapsed": false
   },
   "outputs": [],
   "source": [
    "sc = SparkContext()"
   ]
  },
  {
   "cell_type": "markdown",
   "metadata": {},
   "source": [
    "### define column mapping function"
   ]
  },
  {
   "cell_type": "code",
   "execution_count": 3,
   "metadata": {
    "collapsed": true
   },
   "outputs": [],
   "source": [
    "def map_record(record):\n",
    "  columns = record.split(\",\")[:17]\n",
    "  return flight(*columns)"
   ]
  },
  {
   "cell_type": "markdown",
   "metadata": {},
   "source": [
    "### schema for named tuple"
   ]
  },
  {
   "cell_type": "code",
   "execution_count": 4,
   "metadata": {
    "collapsed": true
   },
   "outputs": [],
   "source": [
    "flight = namedtuple('flight',['dofM', 'dofW', 'carrier', 'tailnum', 'flnum', 'org_id', 'origin', 'dest_id', 'dest', 'crsdeptime', 'deptime', 'depdelaymins', 'crsarrtime', 'arrtime', 'arrdelay', 'crselapsedtime', 'dist'])"
   ]
  },
  {
   "cell_type": "markdown",
   "metadata": {},
   "source": [
    "### load and map flight data"
   ]
  },
  {
   "cell_type": "code",
   "execution_count": 5,
   "metadata": {
    "collapsed": false
   },
   "outputs": [
    {
     "data": {
      "text/plain": [
       "[flight(dofM=u'1', dofW=u'7', carrier=u'\"AA\"', tailnum=u'\"N3CGAA\"', flnum=u'\"307\"', org_id=u'11292', origin=u'\"DEN\"', dest_id=u'14107', dest=u'\"PHX\"', crsdeptime=u'\"1145\"', deptime=u'\"1135\"', depdelaymins=u'0.00', crsarrtime=u'\"1345\"', arrtime=u'\"1328\"', arrdelay=u'-17.00', crselapsedtime=u'120.00', dist=u'602.00'),\n",
       " flight(dofM=u'1', dofW=u'7', carrier=u'\"AA\"', tailnum=u'\"N3CGAA\"', flnum=u'\"307\"', org_id=u'14107', origin=u'\"PHX\"', dest_id=u'14057', dest=u'\"PDX\"', crsdeptime=u'\"1510\"', deptime=u'\"1502\"', depdelaymins=u'0.00', crsarrtime=u'\"1701\"', arrtime=u'\"1653\"', arrdelay=u'-8.00', crselapsedtime=u'171.00', dist=u'1009.00')]"
      ]
     },
     "execution_count": 5,
     "metadata": {},
     "output_type": "execute_result"
    }
   ],
   "source": [
    "rdd = sc.textFile(\"../data/flightdata.csv\")\n",
    "flights_rdd = rdd.map(map_record).cache()\n",
    "flights_rdd.take(2)"
   ]
  },
  {
   "cell_type": "markdown",
   "metadata": {},
   "source": [
    "### convert string data to numeric\n",
    "_ define dict mapping for  carrier, origin and destination _"
   ]
  },
  {
   "cell_type": "code",
   "execution_count": 6,
   "metadata": {
    "collapsed": false
   },
   "outputs": [],
   "source": [
    "carrierMap = {}\n",
    "for i in flights_rdd.map(lambda flight : flight.carrier.strip('\"')).distinct().collect():\n",
    "    carrierMap[i] = len(carrierMap)+1"
   ]
  },
  {
   "cell_type": "code",
   "execution_count": 7,
   "metadata": {
    "collapsed": false
   },
   "outputs": [],
   "source": [
    "originMap = {}\n",
    "for i in flights_rdd.map(lambda flight : flight.origin.strip('\"')).distinct().collect():\n",
    "    originMap[i] = len(originMap)+1"
   ]
  },
  {
   "cell_type": "code",
   "execution_count": 8,
   "metadata": {
    "collapsed": true
   },
   "outputs": [],
   "source": [
    "destMap = {}\n",
    "for i in flights_rdd.map(lambda flight : flight.dest.strip('\"')).distinct().collect():\n",
    "    destMap[i] = len(destMap)+1"
   ]
  },
  {
   "cell_type": "code",
   "execution_count": 9,
   "metadata": {
    "collapsed": false
   },
   "outputs": [
    {
     "name": "stdout",
     "output_type": "stream",
     "text": [
      "{u'ABE': 280,\n",
      " u'ABI': 281,\n",
      " u'ABQ': 283,\n",
      " u'ABR': 138,\n",
      " u'ABY': 288,\n",
      " u'ACT': 234,\n",
      " u'ACV': 192,\n",
      " u'ACY': 80,\n",
      " u'ADK': 252,\n",
      " u'ADQ': 275,\n",
      " u'AEX': 196,\n",
      " u'AGS': 10,\n",
      " u'ALB': 99,\n",
      " u'AMA': 42,\n",
      " u'ANC': 220,\n",
      " u'APN': 32,\n",
      " u'ASE': 87,\n",
      " u'ATL': 77,\n",
      " u'ATW': 232,\n",
      " u'AUS': 91,\n",
      " u'AVL': 67,\n",
      " u'AVP': 64,\n",
      " u'AZO': 262,\n",
      " u'BDL': 210,\n",
      " u'BET': 128,\n",
      " u'BFL': 289,\n",
      " u'BGM': 256,\n",
      " u'BHM': 145,\n",
      " u'BIL': 119,\n",
      " u'BIS': 277,\n",
      " u'BJI': 100,\n",
      " u'BLI': 71,\n",
      " u'BMI': 204,\n",
      " u'BNA': 25,\n",
      " u'BOI': 161,\n",
      " u'BOS': 159,\n",
      " u'BPT': 268,\n",
      " u'BQK': 177,\n",
      " u'BQN': 18,\n",
      " u'BRD': 261,\n",
      " u'BRO': 101,\n",
      " u'BRW': 30,\n",
      " u'BTM': 137,\n",
      " u'BTR': 255,\n",
      " u'BTV': 218,\n",
      " u'BUF': 49,\n",
      " u'BUR': 60,\n",
      " u'BWI': 170,\n",
      " u'BZN': 235,\n",
      " u'CAE': 117,\n",
      " u'CAK': 95,\n",
      " u'CDC': 254,\n",
      " u'CDV': 102,\n",
      " u'CHA': 173,\n",
      " u'CHO': 181,\n",
      " u'CHS': 180,\n",
      " u'CID': 238,\n",
      " u'CIU': 116,\n",
      " u'CLE': 245,\n",
      " u'CLL': 110,\n",
      " u'CLT': 5,\n",
      " u'CMH': 195,\n",
      " u'CMX': 264,\n",
      " u'COD': 233,\n",
      " u'COS': 75,\n",
      " u'CPR': 9,\n",
      " u'CRP': 35,\n",
      " u'CRW': 194,\n",
      " u'CSG': 55,\n",
      " u'CVG': 269,\n",
      " u'CWA': 140,\n",
      " u'DAB': 146,\n",
      " u'DAL': 45,\n",
      " u'DAY': 187,\n",
      " u'DCA': 166,\n",
      " u'DEN': 39,\n",
      " u'DFW': 89,\n",
      " u'DHN': 279,\n",
      " u'DLH': 211,\n",
      " u'DRO': 7,\n",
      " u'DSM': 212,\n",
      " u'DTW': 40,\n",
      " u'DVL': 227,\n",
      " u'EAU': 129,\n",
      " u'ECP': 241,\n",
      " u'EGE': 11,\n",
      " u'EKO': 74,\n",
      " u'ELM': 284,\n",
      " u'ELP': 94,\n",
      " u'ERI': 271,\n",
      " u'ESC': 139,\n",
      " u'EUG': 130,\n",
      " u'EVV': 41,\n",
      " u'EWN': 209,\n",
      " u'EWR': 215,\n",
      " u'EYW': 23,\n",
      " u'FAI': 276,\n",
      " u'FAR': 123,\n",
      " u'FAT': 126,\n",
      " u'FAY': 273,\n",
      " u'FCA': 237,\n",
      " u'FLG': 142,\n",
      " u'FLL': 197,\n",
      " u'FNT': 156,\n",
      " u'FSD': 76,\n",
      " u'FSM': 295,\n",
      " u'FWA': 178,\n",
      " u'GCC': 52,\n",
      " u'GCK': 50,\n",
      " u'GEG': 46,\n",
      " u'GFK': 294,\n",
      " u'GGG': 81,\n",
      " u'GJT': 37,\n",
      " u'GNV': 79,\n",
      " u'GPT': 24,\n",
      " u'GRB': 58,\n",
      " u'GRI': 217,\n",
      " u'GRK': 216,\n",
      " u'GRR': 53,\n",
      " u'GSO': 47,\n",
      " u'GSP': 155,\n",
      " u'GTF': 88,\n",
      " u'GTR': 150,\n",
      " u'GUC': 34,\n",
      " u'GUM': 38,\n",
      " u'HDN': 199,\n",
      " u'HIB': 127,\n",
      " u'HLN': 224,\n",
      " u'HNL': 231,\n",
      " u'HOB': 133,\n",
      " u'HOU': 285,\n",
      " u'HPN': 286,\n",
      " u'HRL': 179,\n",
      " u'HSV': 14,\n",
      " u'HYS': 267,\n",
      " u'IAD': 176,\n",
      " u'IAG': 20,\n",
      " u'IAH': 175,\n",
      " u'ICT': 290,\n",
      " u'IDA': 236,\n",
      " u'ILM': 174,\n",
      " u'IMT': 249,\n",
      " u'IND': 70,\n",
      " u'INL': 118,\n",
      " u'ISN': 213,\n",
      " u'ISP': 230,\n",
      " u'ITH': 97,\n",
      " u'ITO': 253,\n",
      " u'JAC': 182,\n",
      " u'JAN': 22,\n",
      " u'JAX': 17,\n",
      " u'JFK': 1,\n",
      " u'JMS': 296,\n",
      " u'JNU': 28,\n",
      " u'KOA': 114,\n",
      " u'KTN': 65,\n",
      " u'LAN': 26,\n",
      " u'LAR': 69,\n",
      " u'LAS': 214,\n",
      " u'LAW': 191,\n",
      " u'LAX': 48,\n",
      " u'LBB': 168,\n",
      " u'LBE': 83,\n",
      " u'LCH': 73,\n",
      " u'LEX': 56,\n",
      " u'LFT': 239,\n",
      " u'LGA': 293,\n",
      " u'LGB': 148,\n",
      " u'LIH': 3,\n",
      " u'LIT': 4,\n",
      " u'LNK': 31,\n",
      " u'LRD': 219,\n",
      " u'LSE': 200,\n",
      " u'LWS': 263,\n",
      " u'MAF': 190,\n",
      " u'MBS': 278,\n",
      " u'MCI': 147,\n",
      " u'MCO': 86,\n",
      " u'MDT': 84,\n",
      " u'MDW': 243,\n",
      " u'MEI': 36,\n",
      " u'MEM': 98,\n",
      " u'MFE': 201,\n",
      " u'MFR': 44,\n",
      " u'MGM': 66,\n",
      " u'MHT': 59,\n",
      " u'MIA': 2,\n",
      " u'MKE': 111,\n",
      " u'MKG': 109,\n",
      " u'MLB': 132,\n",
      " u'MLI': 282,\n",
      " u'MLU': 287,\n",
      " u'MMH': 259,\n",
      " u'MOB': 225,\n",
      " u'MOT': 270,\n",
      " u'MQT': 169,\n",
      " u'MRY': 272,\n",
      " u'MSN': 266,\n",
      " u'MSO': 115,\n",
      " u'MSP': 208,\n",
      " u'MSY': 113,\n",
      " u'MTJ': 136,\n",
      " u'MYR': 228,\n",
      " u'OAJ': 160,\n",
      " u'OAK': 19,\n",
      " u'OGG': 154,\n",
      " u'OKC': 68,\n",
      " u'OMA': 21,\n",
      " u'OME': 27,\n",
      " u'ONT': 131,\n",
      " u'ORD': 107,\n",
      " u'ORF': 106,\n",
      " u'ORH': 105,\n",
      " u'OTH': 144,\n",
      " u'OTZ': 152,\n",
      " u'PAH': 8,\n",
      " u'PBG': 57,\n",
      " u'PBI': 61,\n",
      " u'PDX': 244,\n",
      " u'PGD': 135,\n",
      " u'PHF': 186,\n",
      " u'PHL': 184,\n",
      " u'PHX': 189,\n",
      " u'PIA': 163,\n",
      " u'PIB': 13,\n",
      " u'PIH': 12,\n",
      " u'PIT': 16,\n",
      " u'PLN': 260,\n",
      " u'PNS': 149,\n",
      " u'PPG': 120,\n",
      " u'PSC': 221,\n",
      " u'PSE': 223,\n",
      " u'PSG': 222,\n",
      " u'PSP': 72,\n",
      " u'PVD': 240,\n",
      " u'PWM': 291,\n",
      " u'RAP': 15,\n",
      " u'RDD': 247,\n",
      " u'RDM': 93,\n",
      " u'RDU': 85,\n",
      " u'RHI': 29,\n",
      " u'RIC': 171,\n",
      " u'RKS': 274,\n",
      " u'RNO': 63,\n",
      " u'ROA': 203,\n",
      " u'ROC': 157,\n",
      " u'ROW': 207,\n",
      " u'RST': 153,\n",
      " u'RSW': 297,\n",
      " u'SAF': 165,\n",
      " u'SAN': 162,\n",
      " u'SAT': 172,\n",
      " u'SAV': 257,\n",
      " u'SBA': 258,\n",
      " u'SBN': 108,\n",
      " u'SBP': 96,\n",
      " u'SCC': 43,\n",
      " u'SCE': 151,\n",
      " u'SDF': 125,\n",
      " u'SEA': 82,\n",
      " u'SFO': 188,\n",
      " u'SGF': 292,\n",
      " u'SGU': 124,\n",
      " u'SHV': 54,\n",
      " u'SIT': 158,\n",
      " u'SJC': 250,\n",
      " u'SJT': 90,\n",
      " u'SJU': 246,\n",
      " u'SLC': 242,\n",
      " u'SMF': 198,\n",
      " u'SNA': 185,\n",
      " u'SPI': 167,\n",
      " u'SPS': 164,\n",
      " u'SRQ': 248,\n",
      " u'STL': 134,\n",
      " u'STT': 62,\n",
      " u'STX': 143,\n",
      " u'SUN': 229,\n",
      " u'SWF': 265,\n",
      " u'SYR': 202,\n",
      " u'TLH': 251,\n",
      " u'TPA': 121,\n",
      " u'TRI': 51,\n",
      " u'TTN': 206,\n",
      " u'TUL': 103,\n",
      " u'TUS': 193,\n",
      " u'TVC': 104,\n",
      " u'TWF': 112,\n",
      " u'TXK': 141,\n",
      " u'TYR': 33,\n",
      " u'TYS': 226,\n",
      " u'VLD': 205,\n",
      " u'VPS': 122,\n",
      " u'WRG': 183,\n",
      " u'XNA': 78,\n",
      " u'YAK': 92,\n",
      " u'YUM': 6}\n"
     ]
    }
   ],
   "source": [
    "pprint(destMap)"
   ]
  },
  {
   "cell_type": "markdown",
   "metadata": {},
   "source": [
    "### create delayed label ###"
   ]
  },
  {
   "cell_type": "code",
   "execution_count": 10,
   "metadata": {
    "collapsed": false
   },
   "outputs": [],
   "source": [
    "def delayed(record):\n",
    "  if record:\n",
    "        if float(record) > 40:\n",
    "            return 1.0\n",
    "        else:\n",
    "            return 0.0\n",
    "  else:\n",
    "    return 0.0"
   ]
  },
  {
   "cell_type": "markdown",
   "metadata": {},
   "source": [
    "### build the features rdd"
   ]
  },
  {
   "cell_type": "code",
   "execution_count": 11,
   "metadata": {
    "collapsed": false
   },
   "outputs": [],
   "source": [
    "features_rdd = flights_rdd.map(lambda flight : [delayed(flight.depdelaymins), float(int(flight.dofM)), float(int(flight.dofW)), float(int(flight.crsdeptime.strip('\"'))), float(int(flight.crsarrtime.strip('\"'))), float(carrierMap[flight.carrier.strip('\"')]), float(flight.crselapsedtime.strip('\"')) if flight.crselapsedtime else 0.0, float(originMap[flight.origin.strip('\"')]), float(destMap[flight.dest.strip('\"')])])"
   ]
  },
  {
   "cell_type": "code",
   "execution_count": 12,
   "metadata": {
    "collapsed": false
   },
   "outputs": [],
   "source": [
    "mldata = features_rdd.map(lambda x : LabeledPoint(x[0], Vectors.dense(x[1], x[2], x[3], x[4], x[5], x[6], x[7], x[8])))\n",
    "#mldata.take(5)"
   ]
  },
  {
   "cell_type": "markdown",
   "metadata": {},
   "source": [
    "### split the data into training and test"
   ]
  },
  {
   "cell_type": "code",
   "execution_count": 13,
   "metadata": {
    "collapsed": false
   },
   "outputs": [
    {
     "data": {
      "text/plain": [
       "[LabeledPoint(0.0, [1.0,7.0,2129.0,2344.0,1.0,195.0,2.0,107.0])]"
      ]
     },
     "execution_count": 13,
     "metadata": {},
     "output_type": "execute_result"
    }
   ],
   "source": [
    "mldata0 = mldata.filter(lambda x : x.label == 0).randomSplit([0.85, 0.15])[1]\n",
    "mldata1 = mldata.filter(lambda x : x.label != 0)\n",
    "mldata2 = mldata0 + mldata1\n",
    "splits = mldata2.randomSplit([0.7, 0.3])\n",
    "(trainingData, testData) = (splits[0], splits[1])\n",
    "\n",
    "testData.take(1)"
   ]
  },
  {
   "cell_type": "markdown",
   "metadata": {},
   "source": [
    "### build (train) the model"
   ]
  },
  {
   "cell_type": "code",
   "execution_count": 14,
   "metadata": {
    "collapsed": false
   },
   "outputs": [],
   "source": [
    "model = DecisionTree.trainClassifier(trainingData, 2, {}, \"gini\", 9, 7000)"
   ]
  },
  {
   "cell_type": "code",
   "execution_count": 15,
   "metadata": {
    "collapsed": false
   },
   "outputs": [
    {
     "data": {
      "text/plain": [
       "<bound method DecisionTreeModel.toDebugString of DecisionTreeModel classifier of depth 9 with 889 nodes>"
      ]
     },
     "execution_count": 15,
     "metadata": {},
     "output_type": "execute_result"
    }
   ],
   "source": [
    "model.toDebugString"
   ]
  },
  {
   "cell_type": "markdown",
   "metadata": {},
   "source": [
    "### test the model"
   ]
  },
  {
   "cell_type": "code",
   "execution_count": 16,
   "metadata": {
    "collapsed": false
   },
   "outputs": [],
   "source": [
    "predictions = model.predict(testData.map(lambda x: x.features))\n",
    "labelsAndPredictions = testData.map(lambda lp: lp.label).zip(predictions)"
   ]
  },
  {
   "cell_type": "markdown",
   "metadata": {},
   "source": [
    "### What is the accuracy?"
   ]
  },
  {
   "cell_type": "code",
   "execution_count": 17,
   "metadata": {
    "collapsed": false
   },
   "outputs": [
    {
     "name": "stdout",
     "output_type": "stream",
     "text": [
      "Test Error = 0.330051555997\n"
     ]
    }
   ],
   "source": [
    "testErr = labelsAndPredictions.filter(lambda (v, p): v != p).count() / float(testData.count())\n",
    "print('Test Error = ' + str(testErr))"
   ]
  },
  {
   "cell_type": "markdown",
   "metadata": {
    "collapsed": true
   },
   "source": [
    "### build (train) the model"
   ]
  },
  {
   "cell_type": "code",
   "execution_count": 18,
   "metadata": {
    "collapsed": false
   },
   "outputs": [],
   "source": [
    "from pyspark.mllib.tree import RandomForest, RandomForestModel\n",
    "model = RandomForest.trainClassifier(trainingData, 2, {}, 20, \"auto\", \"gini\", 9, 7000)"
   ]
  },
  {
   "cell_type": "code",
   "execution_count": 19,
   "metadata": {
    "collapsed": false
   },
   "outputs": [
    {
     "name": "stdout",
     "output_type": "stream",
     "text": [
      "Test Error = 0.327194235667\n"
     ]
    }
   ],
   "source": [
    "predictions = model.predict(testData.map(lambda x: x.features))\n",
    "labelsAndPredictions = testData.map(lambda lp: lp.label).zip(predictions)\n",
    "testErr = labelsAndPredictions.filter(lambda (v, p): v != p).count() / float(testData.count())\n",
    "print('Test Error = ' + str(testErr))"
   ]
  },
  {
   "cell_type": "code",
   "execution_count": null,
   "metadata": {
    "collapsed": true
   },
   "outputs": [],
   "source": []
  }
 ],
 "metadata": {
  "kernelspec": {
   "display_name": "Python 2",
   "language": "python",
   "name": "python2"
  },
  "language_info": {
   "codemirror_mode": {
    "name": "ipython",
    "version": 2
   },
   "file_extension": ".py",
   "mimetype": "text/x-python",
   "name": "python",
   "nbconvert_exporter": "python",
   "pygments_lexer": "ipython2",
   "version": "2.7.13"
  }
 },
 "nbformat": 4,
 "nbformat_minor": 1
}
