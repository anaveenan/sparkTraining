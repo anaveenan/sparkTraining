{
 "cells": [
  {
   "cell_type": "markdown",
   "metadata": {},
   "source": [
    "## This notebook is part of Hadoop and Spark training delivered by IT-DB group\n",
    "### SPARK DataFrame Hands-On Lab\n",
    "_ by Prasanth Kothuri _"
   ]
  },
  {
   "cell_type": "markdown",
   "metadata": {},
   "source": [
    "### Hands-On 1 - Construct a DataFrame from parquet file\n",
    "*This demostrates how to read a parquet file and construct a DataFrame*"
   ]
  },
  {
   "cell_type": "markdown",
   "metadata": {},
   "source": [
    "#### First lets create sparkcontext (sc) and SQLContext (sqlContext)"
   ]
  },
  {
   "cell_type": "code",
   "execution_count": 1,
   "metadata": {
    "collapsed": true,
    "scrolled": true
   },
   "outputs": [],
   "source": [
    "from pyspark import SparkContext, SQLContext, SparkConf"
   ]
  },
  {
   "cell_type": "code",
   "execution_count": 2,
   "metadata": {
    "collapsed": false
   },
   "outputs": [],
   "source": [
    "conf = SparkConf().setMaster(\"local\").set(\"spark.driver.memory\", \"1g\").set(\"spark.executor.memory\", \"1g\")"
   ]
  },
  {
   "cell_type": "code",
   "execution_count": 3,
   "metadata": {
    "collapsed": false,
    "scrolled": true
   },
   "outputs": [],
   "source": [
    "sc = SparkContext(conf = conf)"
   ]
  },
  {
   "cell_type": "code",
   "execution_count": 4,
   "metadata": {
    "collapsed": true,
    "scrolled": true
   },
   "outputs": [],
   "source": [
    "sqlContext = SQLContext(sc)"
   ]
  },
  {
   "cell_type": "markdown",
   "metadata": {},
   "source": [
    "#### Read the parquet file into DataFrame"
   ]
  },
  {
   "cell_type": "code",
   "execution_count": 6,
   "metadata": {
    "collapsed": false,
    "scrolled": true
   },
   "outputs": [],
   "source": [
    "df = sqlContext.read.parquet('../data/UN_Pop_Stats.parquet')"
   ]
  },
  {
   "cell_type": "markdown",
   "metadata": {},
   "source": [
    "#### Inspect the data"
   ]
  },
  {
   "cell_type": "code",
   "execution_count": 7,
   "metadata": {
    "collapsed": false,
    "scrolled": true
   },
   "outputs": [
    {
     "name": "stdout",
     "output_type": "stream",
     "text": [
      "+-----+-------------+-----+--------+------+---------+-----+------+------+-----------+----------+-------+\n",
      "|LocID|     Location|VarID| Variant|  Time|MidPeriod|SexID|   Sex|AgeGrp|AgeGrpStart|AgeGrpSpan|  Value|\n",
      "+-----+-------------+-----+--------+------+---------+-----+------+------+-----------+----------+-------+\n",
      "|    4|\"Afghanistan\"|    2|\"Medium\"|\"1950\"|   1950.5|    1|\"Male\"| \"0-4\"|          0|         5|630.044|\n",
      "|    4|\"Afghanistan\"|    2|\"Medium\"|\"1950\"|   1950.5|    1|\"Male\"| \"5-9\"|          5|         5|516.205|\n",
      "+-----+-------------+-----+--------+------+---------+-----+------+------+-----------+----------+-------+\n",
      "only showing top 2 rows\n",
      "\n"
     ]
    }
   ],
   "source": [
    "df.show(2)"
   ]
  },
  {
   "cell_type": "markdown",
   "metadata": {},
   "source": [
    "#### Print the schema of the DataFrame"
   ]
  },
  {
   "cell_type": "code",
   "execution_count": 8,
   "metadata": {
    "collapsed": false,
    "scrolled": true
   },
   "outputs": [
    {
     "name": "stdout",
     "output_type": "stream",
     "text": [
      "root\n",
      " |-- LocID: string (nullable = true)\n",
      " |-- Location: string (nullable = true)\n",
      " |-- VarID: string (nullable = true)\n",
      " |-- Variant: string (nullable = true)\n",
      " |-- Time: string (nullable = true)\n",
      " |-- MidPeriod: string (nullable = true)\n",
      " |-- SexID: string (nullable = true)\n",
      " |-- Sex: string (nullable = true)\n",
      " |-- AgeGrp: string (nullable = true)\n",
      " |-- AgeGrpStart: string (nullable = true)\n",
      " |-- AgeGrpSpan: string (nullable = true)\n",
      " |-- Value: string (nullable = true)\n",
      "\n"
     ]
    }
   ],
   "source": [
    "df.printSchema()"
   ]
  },
  {
   "cell_type": "markdown",
   "metadata": {},
   "source": [
    "#### Hands-On 2 - Calculate the year wise population of switzerland\n",
    "*This shows how to query dataframes and how to show explain plan*"
   ]
  },
  {
   "cell_type": "markdown",
   "metadata": {},
   "source": [
    "#### first, lets import the bits we need"
   ]
  },
  {
   "cell_type": "code",
   "execution_count": 9,
   "metadata": {
    "collapsed": true,
    "scrolled": true
   },
   "outputs": [],
   "source": [
    "import pyspark.sql.functions as func"
   ]
  },
  {
   "cell_type": "markdown",
   "metadata": {},
   "source": [
    "#### year wise population for all countries\n",
    "*you can see how you can filter, groupBy, aggregate and sort the dataframe*"
   ]
  },
  {
   "cell_type": "code",
   "execution_count": 10,
   "metadata": {
    "collapsed": false,
    "scrolled": true
   },
   "outputs": [],
   "source": [
    "y_df = df.filter(df.Sex == '\"Both\"') \\\n",
    "    .groupBy(df.Location,df.Time) \\\n",
    "    .agg(func.sum(df.Value*1000) \\\n",
    "        .alias(\"Sum\")) \\\n",
    "    .orderBy(df.Time)"
   ]
  },
  {
   "cell_type": "markdown",
   "metadata": {},
   "source": [
    "#### filter out for switzerland (or for that matter your country of choice)\n",
    "*you can see how select can be used on dataframes to select the columns you need*"
   ]
  },
  {
   "cell_type": "code",
   "execution_count": 14,
   "metadata": {
    "collapsed": false,
    "scrolled": true
   },
   "outputs": [],
   "source": [
    "c_df = y_df.filter(df.Location == '\"Switzerland\"') \\\n",
    "    .select(df.Time,\"Sum\") \\\n",
    "    .collect()"
   ]
  },
  {
   "cell_type": "code",
   "execution_count": 15,
   "metadata": {
    "collapsed": false,
    "scrolled": true
   },
   "outputs": [
    {
     "name": "stdout",
     "output_type": "stream",
     "text": [
      "[Row(Time=u'\"1950\"', Sum=4668088.0), Row(Time=u'\"1955\"', Sum=4970810.0), Row(Time=u'\"1960\"', Sum=5296120.0), Row(Time=u'\"1965\"', Sum=5829958.0), Row(Time=u'\"1970\"', Sum=6169357.0), Row(Time=u'\"1975\"', Sum=6356178.0), Row(Time=u'\"1980\"', Sum=6303608.0), Row(Time=u'\"1985\"', Sum=6455680.0), Row(Time=u'\"1990\"', Sum=6673920.0), Row(Time=u'\"1995\"', Sum=7017042.0), Row(Time=u'\"2000\"', Sum=7165581.0), Row(Time=u'\"2005\"', Sum=7408608.0), Row(Time=u'\"2010\"', Sum=7830534.0), Row(Time=u'\"2015\"', Sum=8298663.0), Row(Time=u'\"2020\"', Sum=8654271.0), Row(Time=u'\"2025\"', Sum=8951789.0), Row(Time=u'\"2030\"', Sum=9222938.0), Row(Time=u'\"2035\"', Sum=9456989.0), Row(Time=u'\"2040\"', Sum=9660020.0), Row(Time=u'\"2045\"', Sum=9844509.0), Row(Time=u'\"2050\"', Sum=10019102.0), Row(Time=u'\"2055\"', Sum=10172276.0), Row(Time=u'\"2060\"', Sum=10304082.0), Row(Time=u'\"2065\"', Sum=10424466.0), Row(Time=u'\"2070\"', Sum=10542609.0), Row(Time=u'\"2075\"', Sum=10660384.0), Row(Time=u'\"2080\"', Sum=10775329.0), Row(Time=u'\"2085\"', Sum=10891187.0), Row(Time=u'\"2090\"', Sum=11010819.0), Row(Time=u'\"2095\"', Sum=11130943.0), Row(Time=u'\"2100\"', Sum=11244704.0)]\n"
     ]
    }
   ],
   "source": [
    "print(c_df)"
   ]
  },
  {
   "cell_type": "markdown",
   "metadata": {},
   "source": [
    "#### plot the results using matlibplot"
   ]
  },
  {
   "cell_type": "code",
   "execution_count": 16,
   "metadata": {
    "collapsed": false
   },
   "outputs": [],
   "source": [
    "%matplotlib notebook\n",
    "import matplotlib.pyplot as plt"
   ]
  },
  {
   "cell_type": "code",
   "execution_count": 17,
   "metadata": {
    "collapsed": false,
    "scrolled": true
   },
   "outputs": [
    {
     "data": {
      "application/javascript": [
       "/* Put everything inside the global mpl namespace */\n",
       "window.mpl = {};\n",
       "\n",
       "mpl.get_websocket_type = function() {\n",
       "    if (typeof(WebSocket) !== 'undefined') {\n",
       "        return WebSocket;\n",
       "    } else if (typeof(MozWebSocket) !== 'undefined') {\n",
       "        return MozWebSocket;\n",
       "    } else {\n",
       "        alert('Your browser does not have WebSocket support.' +\n",
       "              'Please try Chrome, Safari or Firefox ≥ 6. ' +\n",
       "              'Firefox 4 and 5 are also supported but you ' +\n",
       "              'have to enable WebSockets in about:config.');\n",
       "    };\n",
       "}\n",
       "\n",
       "mpl.figure = function(figure_id, websocket, ondownload, parent_element) {\n",
       "    this.id = figure_id;\n",
       "\n",
       "    this.ws = websocket;\n",
       "\n",
       "    this.supports_binary = (this.ws.binaryType != undefined);\n",
       "\n",
       "    if (!this.supports_binary) {\n",
       "        var warnings = document.getElementById(\"mpl-warnings\");\n",
       "        if (warnings) {\n",
       "            warnings.style.display = 'block';\n",
       "            warnings.textContent = (\n",
       "                \"This browser does not support binary websocket messages. \" +\n",
       "                    \"Performance may be slow.\");\n",
       "        }\n",
       "    }\n",
       "\n",
       "    this.imageObj = new Image();\n",
       "\n",
       "    this.context = undefined;\n",
       "    this.message = undefined;\n",
       "    this.canvas = undefined;\n",
       "    this.rubberband_canvas = undefined;\n",
       "    this.rubberband_context = undefined;\n",
       "    this.format_dropdown = undefined;\n",
       "\n",
       "    this.image_mode = 'full';\n",
       "\n",
       "    this.root = $('<div/>');\n",
       "    this._root_extra_style(this.root)\n",
       "    this.root.attr('style', 'display: inline-block');\n",
       "\n",
       "    $(parent_element).append(this.root);\n",
       "\n",
       "    this._init_header(this);\n",
       "    this._init_canvas(this);\n",
       "    this._init_toolbar(this);\n",
       "\n",
       "    var fig = this;\n",
       "\n",
       "    this.waiting = false;\n",
       "\n",
       "    this.ws.onopen =  function () {\n",
       "            fig.send_message(\"supports_binary\", {value: fig.supports_binary});\n",
       "            fig.send_message(\"send_image_mode\", {});\n",
       "            fig.send_message(\"refresh\", {});\n",
       "        }\n",
       "\n",
       "    this.imageObj.onload = function() {\n",
       "            if (fig.image_mode == 'full') {\n",
       "                // Full images could contain transparency (where diff images\n",
       "                // almost always do), so we need to clear the canvas so that\n",
       "                // there is no ghosting.\n",
       "                fig.context.clearRect(0, 0, fig.canvas.width, fig.canvas.height);\n",
       "            }\n",
       "            fig.context.drawImage(fig.imageObj, 0, 0);\n",
       "        };\n",
       "\n",
       "    this.imageObj.onunload = function() {\n",
       "        this.ws.close();\n",
       "    }\n",
       "\n",
       "    this.ws.onmessage = this._make_on_message_function(this);\n",
       "\n",
       "    this.ondownload = ondownload;\n",
       "}\n",
       "\n",
       "mpl.figure.prototype._init_header = function() {\n",
       "    var titlebar = $(\n",
       "        '<div class=\"ui-dialog-titlebar ui-widget-header ui-corner-all ' +\n",
       "        'ui-helper-clearfix\"/>');\n",
       "    var titletext = $(\n",
       "        '<div class=\"ui-dialog-title\" style=\"width: 100%; ' +\n",
       "        'text-align: center; padding: 3px;\"/>');\n",
       "    titlebar.append(titletext)\n",
       "    this.root.append(titlebar);\n",
       "    this.header = titletext[0];\n",
       "}\n",
       "\n",
       "\n",
       "\n",
       "mpl.figure.prototype._canvas_extra_style = function(canvas_div) {\n",
       "\n",
       "}\n",
       "\n",
       "\n",
       "mpl.figure.prototype._root_extra_style = function(canvas_div) {\n",
       "\n",
       "}\n",
       "\n",
       "mpl.figure.prototype._init_canvas = function() {\n",
       "    var fig = this;\n",
       "\n",
       "    var canvas_div = $('<div/>');\n",
       "\n",
       "    canvas_div.attr('style', 'position: relative; clear: both; outline: 0');\n",
       "\n",
       "    function canvas_keyboard_event(event) {\n",
       "        return fig.key_event(event, event['data']);\n",
       "    }\n",
       "\n",
       "    canvas_div.keydown('key_press', canvas_keyboard_event);\n",
       "    canvas_div.keyup('key_release', canvas_keyboard_event);\n",
       "    this.canvas_div = canvas_div\n",
       "    this._canvas_extra_style(canvas_div)\n",
       "    this.root.append(canvas_div);\n",
       "\n",
       "    var canvas = $('<canvas/>');\n",
       "    canvas.addClass('mpl-canvas');\n",
       "    canvas.attr('style', \"left: 0; top: 0; z-index: 0; outline: 0\")\n",
       "\n",
       "    this.canvas = canvas[0];\n",
       "    this.context = canvas[0].getContext(\"2d\");\n",
       "\n",
       "    var rubberband = $('<canvas/>');\n",
       "    rubberband.attr('style', \"position: absolute; left: 0; top: 0; z-index: 1;\")\n",
       "\n",
       "    var pass_mouse_events = true;\n",
       "\n",
       "    canvas_div.resizable({\n",
       "        start: function(event, ui) {\n",
       "            pass_mouse_events = false;\n",
       "        },\n",
       "        resize: function(event, ui) {\n",
       "            fig.request_resize(ui.size.width, ui.size.height);\n",
       "        },\n",
       "        stop: function(event, ui) {\n",
       "            pass_mouse_events = true;\n",
       "            fig.request_resize(ui.size.width, ui.size.height);\n",
       "        },\n",
       "    });\n",
       "\n",
       "    function mouse_event_fn(event) {\n",
       "        if (pass_mouse_events)\n",
       "            return fig.mouse_event(event, event['data']);\n",
       "    }\n",
       "\n",
       "    rubberband.mousedown('button_press', mouse_event_fn);\n",
       "    rubberband.mouseup('button_release', mouse_event_fn);\n",
       "    // Throttle sequential mouse events to 1 every 20ms.\n",
       "    rubberband.mousemove('motion_notify', mouse_event_fn);\n",
       "\n",
       "    rubberband.mouseenter('figure_enter', mouse_event_fn);\n",
       "    rubberband.mouseleave('figure_leave', mouse_event_fn);\n",
       "\n",
       "    canvas_div.on(\"wheel\", function (event) {\n",
       "        event = event.originalEvent;\n",
       "        event['data'] = 'scroll'\n",
       "        if (event.deltaY < 0) {\n",
       "            event.step = 1;\n",
       "        } else {\n",
       "            event.step = -1;\n",
       "        }\n",
       "        mouse_event_fn(event);\n",
       "    });\n",
       "\n",
       "    canvas_div.append(canvas);\n",
       "    canvas_div.append(rubberband);\n",
       "\n",
       "    this.rubberband = rubberband;\n",
       "    this.rubberband_canvas = rubberband[0];\n",
       "    this.rubberband_context = rubberband[0].getContext(\"2d\");\n",
       "    this.rubberband_context.strokeStyle = \"#000000\";\n",
       "\n",
       "    this._resize_canvas = function(width, height) {\n",
       "        // Keep the size of the canvas, canvas container, and rubber band\n",
       "        // canvas in synch.\n",
       "        canvas_div.css('width', width)\n",
       "        canvas_div.css('height', height)\n",
       "\n",
       "        canvas.attr('width', width);\n",
       "        canvas.attr('height', height);\n",
       "\n",
       "        rubberband.attr('width', width);\n",
       "        rubberband.attr('height', height);\n",
       "    }\n",
       "\n",
       "    // Set the figure to an initial 600x600px, this will subsequently be updated\n",
       "    // upon first draw.\n",
       "    this._resize_canvas(600, 600);\n",
       "\n",
       "    // Disable right mouse context menu.\n",
       "    $(this.rubberband_canvas).bind(\"contextmenu\",function(e){\n",
       "        return false;\n",
       "    });\n",
       "\n",
       "    function set_focus () {\n",
       "        canvas.focus();\n",
       "        canvas_div.focus();\n",
       "    }\n",
       "\n",
       "    window.setTimeout(set_focus, 100);\n",
       "}\n",
       "\n",
       "mpl.figure.prototype._init_toolbar = function() {\n",
       "    var fig = this;\n",
       "\n",
       "    var nav_element = $('<div/>')\n",
       "    nav_element.attr('style', 'width: 100%');\n",
       "    this.root.append(nav_element);\n",
       "\n",
       "    // Define a callback function for later on.\n",
       "    function toolbar_event(event) {\n",
       "        return fig.toolbar_button_onclick(event['data']);\n",
       "    }\n",
       "    function toolbar_mouse_event(event) {\n",
       "        return fig.toolbar_button_onmouseover(event['data']);\n",
       "    }\n",
       "\n",
       "    for(var toolbar_ind in mpl.toolbar_items) {\n",
       "        var name = mpl.toolbar_items[toolbar_ind][0];\n",
       "        var tooltip = mpl.toolbar_items[toolbar_ind][1];\n",
       "        var image = mpl.toolbar_items[toolbar_ind][2];\n",
       "        var method_name = mpl.toolbar_items[toolbar_ind][3];\n",
       "\n",
       "        if (!name) {\n",
       "            // put a spacer in here.\n",
       "            continue;\n",
       "        }\n",
       "        var button = $('<button/>');\n",
       "        button.addClass('ui-button ui-widget ui-state-default ui-corner-all ' +\n",
       "                        'ui-button-icon-only');\n",
       "        button.attr('role', 'button');\n",
       "        button.attr('aria-disabled', 'false');\n",
       "        button.click(method_name, toolbar_event);\n",
       "        button.mouseover(tooltip, toolbar_mouse_event);\n",
       "\n",
       "        var icon_img = $('<span/>');\n",
       "        icon_img.addClass('ui-button-icon-primary ui-icon');\n",
       "        icon_img.addClass(image);\n",
       "        icon_img.addClass('ui-corner-all');\n",
       "\n",
       "        var tooltip_span = $('<span/>');\n",
       "        tooltip_span.addClass('ui-button-text');\n",
       "        tooltip_span.html(tooltip);\n",
       "\n",
       "        button.append(icon_img);\n",
       "        button.append(tooltip_span);\n",
       "\n",
       "        nav_element.append(button);\n",
       "    }\n",
       "\n",
       "    var fmt_picker_span = $('<span/>');\n",
       "\n",
       "    var fmt_picker = $('<select/>');\n",
       "    fmt_picker.addClass('mpl-toolbar-option ui-widget ui-widget-content');\n",
       "    fmt_picker_span.append(fmt_picker);\n",
       "    nav_element.append(fmt_picker_span);\n",
       "    this.format_dropdown = fmt_picker[0];\n",
       "\n",
       "    for (var ind in mpl.extensions) {\n",
       "        var fmt = mpl.extensions[ind];\n",
       "        var option = $(\n",
       "            '<option/>', {selected: fmt === mpl.default_extension}).html(fmt);\n",
       "        fmt_picker.append(option)\n",
       "    }\n",
       "\n",
       "    // Add hover states to the ui-buttons\n",
       "    $( \".ui-button\" ).hover(\n",
       "        function() { $(this).addClass(\"ui-state-hover\");},\n",
       "        function() { $(this).removeClass(\"ui-state-hover\");}\n",
       "    );\n",
       "\n",
       "    var status_bar = $('<span class=\"mpl-message\"/>');\n",
       "    nav_element.append(status_bar);\n",
       "    this.message = status_bar[0];\n",
       "}\n",
       "\n",
       "mpl.figure.prototype.request_resize = function(x_pixels, y_pixels) {\n",
       "    // Request matplotlib to resize the figure. Matplotlib will then trigger a resize in the client,\n",
       "    // which will in turn request a refresh of the image.\n",
       "    this.send_message('resize', {'width': x_pixels, 'height': y_pixels});\n",
       "}\n",
       "\n",
       "mpl.figure.prototype.send_message = function(type, properties) {\n",
       "    properties['type'] = type;\n",
       "    properties['figure_id'] = this.id;\n",
       "    this.ws.send(JSON.stringify(properties));\n",
       "}\n",
       "\n",
       "mpl.figure.prototype.send_draw_message = function() {\n",
       "    if (!this.waiting) {\n",
       "        this.waiting = true;\n",
       "        this.ws.send(JSON.stringify({type: \"draw\", figure_id: this.id}));\n",
       "    }\n",
       "}\n",
       "\n",
       "\n",
       "mpl.figure.prototype.handle_save = function(fig, msg) {\n",
       "    var format_dropdown = fig.format_dropdown;\n",
       "    var format = format_dropdown.options[format_dropdown.selectedIndex].value;\n",
       "    fig.ondownload(fig, format);\n",
       "}\n",
       "\n",
       "\n",
       "mpl.figure.prototype.handle_resize = function(fig, msg) {\n",
       "    var size = msg['size'];\n",
       "    if (size[0] != fig.canvas.width || size[1] != fig.canvas.height) {\n",
       "        fig._resize_canvas(size[0], size[1]);\n",
       "        fig.send_message(\"refresh\", {});\n",
       "    };\n",
       "}\n",
       "\n",
       "mpl.figure.prototype.handle_rubberband = function(fig, msg) {\n",
       "    var x0 = msg['x0'];\n",
       "    var y0 = fig.canvas.height - msg['y0'];\n",
       "    var x1 = msg['x1'];\n",
       "    var y1 = fig.canvas.height - msg['y1'];\n",
       "    x0 = Math.floor(x0) + 0.5;\n",
       "    y0 = Math.floor(y0) + 0.5;\n",
       "    x1 = Math.floor(x1) + 0.5;\n",
       "    y1 = Math.floor(y1) + 0.5;\n",
       "    var min_x = Math.min(x0, x1);\n",
       "    var min_y = Math.min(y0, y1);\n",
       "    var width = Math.abs(x1 - x0);\n",
       "    var height = Math.abs(y1 - y0);\n",
       "\n",
       "    fig.rubberband_context.clearRect(\n",
       "        0, 0, fig.canvas.width, fig.canvas.height);\n",
       "\n",
       "    fig.rubberband_context.strokeRect(min_x, min_y, width, height);\n",
       "}\n",
       "\n",
       "mpl.figure.prototype.handle_figure_label = function(fig, msg) {\n",
       "    // Updates the figure title.\n",
       "    fig.header.textContent = msg['label'];\n",
       "}\n",
       "\n",
       "mpl.figure.prototype.handle_cursor = function(fig, msg) {\n",
       "    var cursor = msg['cursor'];\n",
       "    switch(cursor)\n",
       "    {\n",
       "    case 0:\n",
       "        cursor = 'pointer';\n",
       "        break;\n",
       "    case 1:\n",
       "        cursor = 'default';\n",
       "        break;\n",
       "    case 2:\n",
       "        cursor = 'crosshair';\n",
       "        break;\n",
       "    case 3:\n",
       "        cursor = 'move';\n",
       "        break;\n",
       "    }\n",
       "    fig.rubberband_canvas.style.cursor = cursor;\n",
       "}\n",
       "\n",
       "mpl.figure.prototype.handle_message = function(fig, msg) {\n",
       "    fig.message.textContent = msg['message'];\n",
       "}\n",
       "\n",
       "mpl.figure.prototype.handle_draw = function(fig, msg) {\n",
       "    // Request the server to send over a new figure.\n",
       "    fig.send_draw_message();\n",
       "}\n",
       "\n",
       "mpl.figure.prototype.handle_image_mode = function(fig, msg) {\n",
       "    fig.image_mode = msg['mode'];\n",
       "}\n",
       "\n",
       "mpl.figure.prototype.updated_canvas_event = function() {\n",
       "    // Called whenever the canvas gets updated.\n",
       "    this.send_message(\"ack\", {});\n",
       "}\n",
       "\n",
       "// A function to construct a web socket function for onmessage handling.\n",
       "// Called in the figure constructor.\n",
       "mpl.figure.prototype._make_on_message_function = function(fig) {\n",
       "    return function socket_on_message(evt) {\n",
       "        if (evt.data instanceof Blob) {\n",
       "            /* FIXME: We get \"Resource interpreted as Image but\n",
       "             * transferred with MIME type text/plain:\" errors on\n",
       "             * Chrome.  But how to set the MIME type?  It doesn't seem\n",
       "             * to be part of the websocket stream */\n",
       "            evt.data.type = \"image/png\";\n",
       "\n",
       "            /* Free the memory for the previous frames */\n",
       "            if (fig.imageObj.src) {\n",
       "                (window.URL || window.webkitURL).revokeObjectURL(\n",
       "                    fig.imageObj.src);\n",
       "            }\n",
       "\n",
       "            fig.imageObj.src = (window.URL || window.webkitURL).createObjectURL(\n",
       "                evt.data);\n",
       "            fig.updated_canvas_event();\n",
       "            fig.waiting = false;\n",
       "            return;\n",
       "        }\n",
       "        else if (typeof evt.data === 'string' && evt.data.slice(0, 21) == \"data:image/png;base64\") {\n",
       "            fig.imageObj.src = evt.data;\n",
       "            fig.updated_canvas_event();\n",
       "            fig.waiting = false;\n",
       "            return;\n",
       "        }\n",
       "\n",
       "        var msg = JSON.parse(evt.data);\n",
       "        var msg_type = msg['type'];\n",
       "\n",
       "        // Call the  \"handle_{type}\" callback, which takes\n",
       "        // the figure and JSON message as its only arguments.\n",
       "        try {\n",
       "            var callback = fig[\"handle_\" + msg_type];\n",
       "        } catch (e) {\n",
       "            console.log(\"No handler for the '\" + msg_type + \"' message type: \", msg);\n",
       "            return;\n",
       "        }\n",
       "\n",
       "        if (callback) {\n",
       "            try {\n",
       "                // console.log(\"Handling '\" + msg_type + \"' message: \", msg);\n",
       "                callback(fig, msg);\n",
       "            } catch (e) {\n",
       "                console.log(\"Exception inside the 'handler_\" + msg_type + \"' callback:\", e, e.stack, msg);\n",
       "            }\n",
       "        }\n",
       "    };\n",
       "}\n",
       "\n",
       "// from http://stackoverflow.com/questions/1114465/getting-mouse-location-in-canvas\n",
       "mpl.findpos = function(e) {\n",
       "    //this section is from http://www.quirksmode.org/js/events_properties.html\n",
       "    var targ;\n",
       "    if (!e)\n",
       "        e = window.event;\n",
       "    if (e.target)\n",
       "        targ = e.target;\n",
       "    else if (e.srcElement)\n",
       "        targ = e.srcElement;\n",
       "    if (targ.nodeType == 3) // defeat Safari bug\n",
       "        targ = targ.parentNode;\n",
       "\n",
       "    // jQuery normalizes the pageX and pageY\n",
       "    // pageX,Y are the mouse positions relative to the document\n",
       "    // offset() returns the position of the element relative to the document\n",
       "    var x = e.pageX - $(targ).offset().left;\n",
       "    var y = e.pageY - $(targ).offset().top;\n",
       "\n",
       "    return {\"x\": x, \"y\": y};\n",
       "};\n",
       "\n",
       "/*\n",
       " * return a copy of an object with only non-object keys\n",
       " * we need this to avoid circular references\n",
       " * http://stackoverflow.com/a/24161582/3208463\n",
       " */\n",
       "function simpleKeys (original) {\n",
       "  return Object.keys(original).reduce(function (obj, key) {\n",
       "    if (typeof original[key] !== 'object')\n",
       "        obj[key] = original[key]\n",
       "    return obj;\n",
       "  }, {});\n",
       "}\n",
       "\n",
       "mpl.figure.prototype.mouse_event = function(event, name) {\n",
       "    var canvas_pos = mpl.findpos(event)\n",
       "\n",
       "    if (name === 'button_press')\n",
       "    {\n",
       "        this.canvas.focus();\n",
       "        this.canvas_div.focus();\n",
       "    }\n",
       "\n",
       "    var x = canvas_pos.x;\n",
       "    var y = canvas_pos.y;\n",
       "\n",
       "    this.send_message(name, {x: x, y: y, button: event.button,\n",
       "                             step: event.step,\n",
       "                             guiEvent: simpleKeys(event)});\n",
       "\n",
       "    /* This prevents the web browser from automatically changing to\n",
       "     * the text insertion cursor when the button is pressed.  We want\n",
       "     * to control all of the cursor setting manually through the\n",
       "     * 'cursor' event from matplotlib */\n",
       "    event.preventDefault();\n",
       "    return false;\n",
       "}\n",
       "\n",
       "mpl.figure.prototype._key_event_extra = function(event, name) {\n",
       "    // Handle any extra behaviour associated with a key event\n",
       "}\n",
       "\n",
       "mpl.figure.prototype.key_event = function(event, name) {\n",
       "\n",
       "    // Prevent repeat events\n",
       "    if (name == 'key_press')\n",
       "    {\n",
       "        if (event.which === this._key)\n",
       "            return;\n",
       "        else\n",
       "            this._key = event.which;\n",
       "    }\n",
       "    if (name == 'key_release')\n",
       "        this._key = null;\n",
       "\n",
       "    var value = '';\n",
       "    if (event.ctrlKey && event.which != 17)\n",
       "        value += \"ctrl+\";\n",
       "    if (event.altKey && event.which != 18)\n",
       "        value += \"alt+\";\n",
       "    if (event.shiftKey && event.which != 16)\n",
       "        value += \"shift+\";\n",
       "\n",
       "    value += 'k';\n",
       "    value += event.which.toString();\n",
       "\n",
       "    this._key_event_extra(event, name);\n",
       "\n",
       "    this.send_message(name, {key: value,\n",
       "                             guiEvent: simpleKeys(event)});\n",
       "    return false;\n",
       "}\n",
       "\n",
       "mpl.figure.prototype.toolbar_button_onclick = function(name) {\n",
       "    if (name == 'download') {\n",
       "        this.handle_save(this, null);\n",
       "    } else {\n",
       "        this.send_message(\"toolbar_button\", {name: name});\n",
       "    }\n",
       "};\n",
       "\n",
       "mpl.figure.prototype.toolbar_button_onmouseover = function(tooltip) {\n",
       "    this.message.textContent = tooltip;\n",
       "};\n",
       "mpl.toolbar_items = [[\"Home\", \"Reset original view\", \"fa fa-home icon-home\", \"home\"], [\"Back\", \"Back to  previous view\", \"fa fa-arrow-left icon-arrow-left\", \"back\"], [\"Forward\", \"Forward to next view\", \"fa fa-arrow-right icon-arrow-right\", \"forward\"], [\"\", \"\", \"\", \"\"], [\"Pan\", \"Pan axes with left mouse, zoom with right\", \"fa fa-arrows icon-move\", \"pan\"], [\"Zoom\", \"Zoom to rectangle\", \"fa fa-square-o icon-check-empty\", \"zoom\"], [\"\", \"\", \"\", \"\"], [\"Download\", \"Download plot\", \"fa fa-floppy-o icon-save\", \"download\"]];\n",
       "\n",
       "mpl.extensions = [\"eps\", \"pdf\", \"png\", \"ps\", \"raw\", \"svg\"];\n",
       "\n",
       "mpl.default_extension = \"png\";var comm_websocket_adapter = function(comm) {\n",
       "    // Create a \"websocket\"-like object which calls the given IPython comm\n",
       "    // object with the appropriate methods. Currently this is a non binary\n",
       "    // socket, so there is still some room for performance tuning.\n",
       "    var ws = {};\n",
       "\n",
       "    ws.close = function() {\n",
       "        comm.close()\n",
       "    };\n",
       "    ws.send = function(m) {\n",
       "        //console.log('sending', m);\n",
       "        comm.send(m);\n",
       "    };\n",
       "    // Register the callback with on_msg.\n",
       "    comm.on_msg(function(msg) {\n",
       "        //console.log('receiving', msg['content']['data'], msg);\n",
       "        // Pass the mpl event to the overriden (by mpl) onmessage function.\n",
       "        ws.onmessage(msg['content']['data'])\n",
       "    });\n",
       "    return ws;\n",
       "}\n",
       "\n",
       "mpl.mpl_figure_comm = function(comm, msg) {\n",
       "    // This is the function which gets called when the mpl process\n",
       "    // starts-up an IPython Comm through the \"matplotlib\" channel.\n",
       "\n",
       "    var id = msg.content.data.id;\n",
       "    // Get hold of the div created by the display call when the Comm\n",
       "    // socket was opened in Python.\n",
       "    var element = $(\"#\" + id);\n",
       "    var ws_proxy = comm_websocket_adapter(comm)\n",
       "\n",
       "    function ondownload(figure, format) {\n",
       "        window.open(figure.imageObj.src);\n",
       "    }\n",
       "\n",
       "    var fig = new mpl.figure(id, ws_proxy,\n",
       "                           ondownload,\n",
       "                           element.get(0));\n",
       "\n",
       "    // Call onopen now - mpl needs it, as it is assuming we've passed it a real\n",
       "    // web socket which is closed, not our websocket->open comm proxy.\n",
       "    ws_proxy.onopen();\n",
       "\n",
       "    fig.parent_element = element.get(0);\n",
       "    fig.cell_info = mpl.find_output_cell(\"<div id='\" + id + \"'></div>\");\n",
       "    if (!fig.cell_info) {\n",
       "        console.error(\"Failed to find cell for figure\", id, fig);\n",
       "        return;\n",
       "    }\n",
       "\n",
       "    var output_index = fig.cell_info[2]\n",
       "    var cell = fig.cell_info[0];\n",
       "\n",
       "};\n",
       "\n",
       "mpl.figure.prototype.handle_close = function(fig, msg) {\n",
       "    fig.root.unbind('remove')\n",
       "\n",
       "    // Update the output cell to use the data from the current canvas.\n",
       "    fig.push_to_output();\n",
       "    var dataURL = fig.canvas.toDataURL();\n",
       "    // Re-enable the keyboard manager in IPython - without this line, in FF,\n",
       "    // the notebook keyboard shortcuts fail.\n",
       "    IPython.keyboard_manager.enable()\n",
       "    $(fig.parent_element).html('<img src=\"' + dataURL + '\">');\n",
       "    fig.close_ws(fig, msg);\n",
       "}\n",
       "\n",
       "mpl.figure.prototype.close_ws = function(fig, msg){\n",
       "    fig.send_message('closing', msg);\n",
       "    // fig.ws.close()\n",
       "}\n",
       "\n",
       "mpl.figure.prototype.push_to_output = function(remove_interactive) {\n",
       "    // Turn the data on the canvas into data in the output cell.\n",
       "    var dataURL = this.canvas.toDataURL();\n",
       "    this.cell_info[1]['text/html'] = '<img src=\"' + dataURL + '\">';\n",
       "}\n",
       "\n",
       "mpl.figure.prototype.updated_canvas_event = function() {\n",
       "    // Tell IPython that the notebook contents must change.\n",
       "    IPython.notebook.set_dirty(true);\n",
       "    this.send_message(\"ack\", {});\n",
       "    var fig = this;\n",
       "    // Wait a second, then push the new image to the DOM so\n",
       "    // that it is saved nicely (might be nice to debounce this).\n",
       "    setTimeout(function () { fig.push_to_output() }, 1000);\n",
       "}\n",
       "\n",
       "mpl.figure.prototype._init_toolbar = function() {\n",
       "    var fig = this;\n",
       "\n",
       "    var nav_element = $('<div/>')\n",
       "    nav_element.attr('style', 'width: 100%');\n",
       "    this.root.append(nav_element);\n",
       "\n",
       "    // Define a callback function for later on.\n",
       "    function toolbar_event(event) {\n",
       "        return fig.toolbar_button_onclick(event['data']);\n",
       "    }\n",
       "    function toolbar_mouse_event(event) {\n",
       "        return fig.toolbar_button_onmouseover(event['data']);\n",
       "    }\n",
       "\n",
       "    for(var toolbar_ind in mpl.toolbar_items){\n",
       "        var name = mpl.toolbar_items[toolbar_ind][0];\n",
       "        var tooltip = mpl.toolbar_items[toolbar_ind][1];\n",
       "        var image = mpl.toolbar_items[toolbar_ind][2];\n",
       "        var method_name = mpl.toolbar_items[toolbar_ind][3];\n",
       "\n",
       "        if (!name) { continue; };\n",
       "\n",
       "        var button = $('<button class=\"btn btn-default\" href=\"#\" title=\"' + name + '\"><i class=\"fa ' + image + ' fa-lg\"></i></button>');\n",
       "        button.click(method_name, toolbar_event);\n",
       "        button.mouseover(tooltip, toolbar_mouse_event);\n",
       "        nav_element.append(button);\n",
       "    }\n",
       "\n",
       "    // Add the status bar.\n",
       "    var status_bar = $('<span class=\"mpl-message\" style=\"text-align:right; float: right;\"/>');\n",
       "    nav_element.append(status_bar);\n",
       "    this.message = status_bar[0];\n",
       "\n",
       "    // Add the close button to the window.\n",
       "    var buttongrp = $('<div class=\"btn-group inline pull-right\"></div>');\n",
       "    var button = $('<button class=\"btn btn-mini btn-primary\" href=\"#\" title=\"Stop Interaction\"><i class=\"fa fa-power-off icon-remove icon-large\"></i></button>');\n",
       "    button.click(function (evt) { fig.handle_close(fig, {}); } );\n",
       "    button.mouseover('Stop Interaction', toolbar_mouse_event);\n",
       "    buttongrp.append(button);\n",
       "    var titlebar = this.root.find($('.ui-dialog-titlebar'));\n",
       "    titlebar.prepend(buttongrp);\n",
       "}\n",
       "\n",
       "mpl.figure.prototype._root_extra_style = function(el){\n",
       "    var fig = this\n",
       "    el.on(\"remove\", function(){\n",
       "\tfig.close_ws(fig, {});\n",
       "    });\n",
       "}\n",
       "\n",
       "mpl.figure.prototype._canvas_extra_style = function(el){\n",
       "    // this is important to make the div 'focusable\n",
       "    el.attr('tabindex', 0)\n",
       "    // reach out to IPython and tell the keyboard manager to turn it's self\n",
       "    // off when our div gets focus\n",
       "\n",
       "    // location in version 3\n",
       "    if (IPython.notebook.keyboard_manager) {\n",
       "        IPython.notebook.keyboard_manager.register_events(el);\n",
       "    }\n",
       "    else {\n",
       "        // location in version 2\n",
       "        IPython.keyboard_manager.register_events(el);\n",
       "    }\n",
       "\n",
       "}\n",
       "\n",
       "mpl.figure.prototype._key_event_extra = function(event, name) {\n",
       "    var manager = IPython.notebook.keyboard_manager;\n",
       "    if (!manager)\n",
       "        manager = IPython.keyboard_manager;\n",
       "\n",
       "    // Check for shift+enter\n",
       "    if (event.shiftKey && event.which == 13) {\n",
       "        this.canvas_div.blur();\n",
       "        event.shiftKey = false;\n",
       "        // Send a \"J\" for go to next cell\n",
       "        event.which = 74;\n",
       "        event.keyCode = 74;\n",
       "        manager.command_mode();\n",
       "        manager.handle_keydown(event);\n",
       "    }\n",
       "}\n",
       "\n",
       "mpl.figure.prototype.handle_save = function(fig, msg) {\n",
       "    fig.ondownload(fig, null);\n",
       "}\n",
       "\n",
       "\n",
       "mpl.find_output_cell = function(html_output) {\n",
       "    // Return the cell and output element which can be found *uniquely* in the notebook.\n",
       "    // Note - this is a bit hacky, but it is done because the \"notebook_saving.Notebook\"\n",
       "    // IPython event is triggered only after the cells have been serialised, which for\n",
       "    // our purposes (turning an active figure into a static one), is too late.\n",
       "    var cells = IPython.notebook.get_cells();\n",
       "    var ncells = cells.length;\n",
       "    for (var i=0; i<ncells; i++) {\n",
       "        var cell = cells[i];\n",
       "        if (cell.cell_type === 'code'){\n",
       "            for (var j=0; j<cell.output_area.outputs.length; j++) {\n",
       "                var data = cell.output_area.outputs[j];\n",
       "                if (data.data) {\n",
       "                    // IPython >= 3 moved mimebundle to data attribute of output\n",
       "                    data = data.data;\n",
       "                }\n",
       "                if (data['text/html'] == html_output) {\n",
       "                    return [cell, data, j];\n",
       "                }\n",
       "            }\n",
       "        }\n",
       "    }\n",
       "}\n",
       "\n",
       "// Register the function which deals with the matplotlib target/channel.\n",
       "// The kernel may be null if the page has been refreshed.\n",
       "if (IPython.notebook.kernel != null) {\n",
       "    IPython.notebook.kernel.comm_manager.register_target('matplotlib', mpl.mpl_figure_comm);\n",
       "}\n"
      ],
      "text/plain": [
       "<IPython.core.display.Javascript object>"
      ]
     },
     "metadata": {},
     "output_type": "display_data"
    },
    {
     "data": {
      "text/html": [
       "<img src=\"data:image/png;base64,iVBORw0KGgoAAAANSUhEUgAABGAAAAHgCAYAAADqhhvWAAAgAElEQVR4XuzdB5wlVZk34JecgyigIgiKSkZWUFCXYBoQdRE+YV1WweyKyooZAyKKqwImMGGC1dVdc2YUcEV2cVUUFBRBCYIiqGQJA8N850xNOz1ND3TP7Tpdp+q5v9+hb3ffW+e8z1sz3fOnwnLhQYAAAQIECBAgQIAAAQIECBAg0KrAcq1u3cYJECBAgAABAgQIECBAgAABAgRCAGMnIECAAAECBAgQIECAAAECBAi0LCCAaRnY5gkQIECAAAECBAgQIECAAAECAhj7AAECBAgQIECAAAECBAgQIECgZQEBTMvANk+AAAECBAgQIECAAAECBAgQEMDYBwgQIECAAAECBAgQIECAAAECLQsIYFoGtnkCBAgQIECAAAECBAgQIECAgADGPkCAAAECBAgQIECAAAECBAgQaFlAANMysM0TIECAAAECBAgQIECAAAECBAQw9gECBAgQIECAAAECBAgQIECAQMsCApiWgW2eAAECBAgQIECAAAECBAgQICCAsQ8QIECAAAECBAgQIECAAAECBFoWEMC0DGzzBAgQIECAAAECBAgQIECAAAEBjH2AAAECBAgQIECAAAECBAgQINCygACmZWCbJ0CAAAECBAgQIECAAAECBAgIYOwDBAgQIECAAAECBAgQIECAAIGWBQQwLQPbPAECBAgQIECAAAECBAgQIEBAAGMfIECAAAECBAgQIECAAAECBAi0LCCAaRnY5gkQIECAAAECBAgQIECAAAECAhj7AAECBAgQIECAAAECBAgQIECgZQEBTMvANk+AAAECBAgQIECAAAECBAgQEMDYBwgQIECAAAECBAgQIECAAAECLQsIYFoGtnkCBAgQIECAAAECBAgQIECAgADGPkCAAAECBAgQIECAAAECBAgQaFlAANMysM0TIECAAAECBAgQIECAAAECBAQw9gECBAgQIECAAAECBAgQIECAQMsCApiWgW2eAAECBAgQIECAAAECBAgQICCAsQ8QIECAAAECBAgQIECAAAECBFoWEMC0DGzzBAgQIECAAAECBAgQIECAAAEBjH2AAAECBAgQIECAAAECBAgQINCygACmZWCbJ0CAAAECBAgQIECAAAECBAgIYOwDBAgQIECAAAECBAgQIECAAIGWBQQwLQPbPAECBAgQIECAAAECBAgQIEBAAGMfIECAAAECBAgQIECAAAECBAi0LCCAaRm4p5t/eqrrkDR2TGOtNFZK484p1vrA9LpL0liQxvj9L3++YRp/nuJ2vIwAAQIECBAgQIAAAQIECFQjIICpplWdWuiBaTWbLApdjp5mAJP3ufUnVPO+9PlGaezaqSothgABAgQIECBAgAABAgQIzJCAAGaGIAe6md1S3adPEsD8XfrasWk8Ko0b0jg5jdctCmwmUq2avvDHNA5L4xMDdVQ2AQIECBAgQIAAAQIECPRcQADT8wa3XN5kAcwD0pznpPHWNL6cRj6yJQcrn0/jiEnWk4+m+Uga903jppbXa/MECBAgQIAAAQIECBAgQGBWBAQws8Lem0knC2DelqrbLI0crIw9npGeHJfGxpNUPjd97eo0ntUbFYUQIECAAAECBAgQIECAAIEJAgIYu8QoApMFMN9IG3xiGvPGbXiF9HzlNFacMFk+OuayNOakcdooC/FeAgQIECBAgAABAgQIECDQZQEBTJe70/21TRbAfCst+4o03pHGxP3r4gklHZ4+f1Ea+c5IHgQIECBAgAABAgQIECBAoLcCApj+tXY6t4i+Vyr/39LIR6zka7dclUa+YO6b05g/BZrJApgcvDw2jb+fwvsvSK/J14Z50xRe6yUECBAgQIAAAQIECBAgQKBaAQFMta1b6sKnc4vordNWXpPGSWn8Oo2tFj3/ZPr4hruhycFNvg31Tml8NI0d08iBzW/SyN87N43PpHFCGremke+K9NA03jlum7uk52emsUUaF/WvDSoiQIAAAQIECBAgQIAAAQKLBQQw/d0blnaL6Huq+FXpBQensc3dvPCg9L0c0iyY8Jo90udnpJGDnWPSeEwa+bov56dxfBo56Bl7fCg92TaNfLSMBwECBAgQIECAAAECBAgQ6LWAAKa/7V3WAOboRaHIrv2lURkBAgQIECBAgAABAgQIECgrIIAp611ytmUJYB6UFvjTNF6QRr42iwcBAgQIECBAgAABAgQIECAwAwICmBlA7OgmphvAbJDq+H4a+XbQL11KTXl/uX8aN3a0ZssiQIAAAQIECBAgQIBAnwXWSsX9IY2Jl4Poc829qU0A05tW3qWQ6QQw907vPj2Nc9LI13dZ2mOj9I18i2kPAgQIECBAgAABAgQIEJgdgXwH29/PztRmHUVAADOKXrffO9UAZt1URj7q5dI0npHGnXdT1trpe9dffvnlsfba+WmZx+GHHx5HH50vTVPuYc72rNm2Y8u1Hde8VbZsRxWwD40quPT3s+2PrV72p5d+drbXyxtuuCE23njjPME6adzQ3ky23JaAAKYt2dnb7t3dIjr/Qc1hy7PS+Eka+fC1/Hm+hfT+acxbtOz8+Z8nKWFhAJMeRQOYww47LI477riiouZsj5ttO7Zc23HNW2XLdlQB+9Cogkt/P9v+2Oplf3rpZ2d7vcwBzDrr5H/SCWDaU253ywKYdn1nY+t3d4voy9KCLk5j7HbRY0fJTFxnfl2+IO/EhwCmxY76xaM93CHYDqFGv9C192eELduZEPD30EwoTr6NIdgOoUZ/17b3Z2QotgKYdvehElsXwJRQ7s8csxLAzJ07N+bMmVNU0ZztcbNtx5ZrO655q2zZjipgHxpVcOnvZ9sfW73sTy/97GyvlwKY9mxLbVkAU0q6H/PMSgDTDzpVECBAgAABAgQIECBAYNkFBDDLbteVdwpgutKJOtYhgKmjT1ZJgAABAgQIECBAgEDPBAQw9TdUAFN/D0tWIIApqW0uAgQIECBAgAABAgQILBIQwNS/Kwhg6u9hyQoEMCW1zUWAAAECBAgQIECAAAEBTG/2AQFMb1pZpBABTBFmkxAgQIAAAQIECBAgQGBJAUfA1L9HCGDq72HJCgQwJbXNRYAAAQIECBAgQIAAgUUCApj6dwUBTP09LFmBAKaktrkIECBAgAABAgQIECAggOnNPiCA6U0rixQigCnCbBICBAgQIECAAAECBAgsKeAImPr3CAFM/T0sWYEApqS2uQgQIECAAAECBAgQILBIQABT/64ggKm/hyUrEMCU1DYXAQIECBAgQIAAAQIEBDC92QcEML1pZZFCBDBFmE1CgAABAgQIECBAgACBJQUcAVP/HiGAqb+HJSsQwJTUNhcBAgQIECBAgAABAgQWCQhg6t8VBDD197BkBQKYktrmIkCAAAECBAgQIECAgACmN/uAAKY3rSxSiACmCLNJCBAgQIAAAQIECBAgsKSAI2Dq3yMEMPX3sGQFApiS2uYiQIAAAQIECBAgQIDAIgEBTP27ggCm/h6WrEAAU1LbXAQIECBAgAABAgQIEBDA9GYfEMD0ppVFChHAFGE2CQECBAgQIECAAAECBJYUcARM/XuEAKb+HpasQABTUttcBAgQIECAAAECBAgQWCQggKl/VxDA1N/DkhUIYEpqm4sAAQIECBAgQIAAAQICmN7sAwKY3rSySCECmCLMJiFAgAABAgQIECBAgMCSAo6AqX+PEMDU38OSFQhgSmqbiwABAgQIECBAgAABAosEBDD17woCmPp7WLICAUxJbXMRIECAAAECBAgQIEBAANObfUAA05tWFilEAFOE2SQECBAgQIAAAQIECBBYUsARMPXvEQKY+ntYsgIBTEltcxEgQIAAAQIECBAgQGCRgACm/l1BAFN/D0tWIIApqW0uAgQIECBAgAABAgQICGB6sw8IYHrTyiKFCGCKMJuEAAECBAgQIECAAAECSwo4Aqb+PUIAU38PS1YggCmpbS4CBAgQIECAAAECBAgsEhDA1L8rCGDq72HJCgQwJbXNRYAAAQIECBAgQIAAAQFMb/YBAUxvWlmkEAFMEWaTECBAgAABAgQIECBAYEkBR8DUv0cIYOrvYckKBDAltc1FgAABAgQIECBAgACBRQICmPp3BQFM/T0sWYEApqS2uQgQIECAAAECBAgQIJAE/vrXiB/+8IZ4whPWyR75PzeAqU9AAFNfz2ZzxQKY2dQ3NwECBAgQIECAAAECvRe46qqIc85pxs9+1ny88MKIe93rhrjmGgFMzTuAAKbm7pVfuwCmvLkZCRAgQIAAAQIECBDoocCdd0b89rdLBi05bLnyyojNN494+MObscMOzcc11rgh1l1XAFPzriCAqbl75dcugClvbkYCBAgQIECAAAECBCoXuPXWiPPOW3xkSw5azj03Yt68iG22WTJo2W67iLXzv7wmPFwDpvKdIC1fAFN/D0tWIIApqW0uAgQIECBAgAABAgSqE7jmmrueQvSrX0WstdaSQUs+qmXLLSNWWmlqJQpgpubU5VcJYLrcne6tTQDTvZ5YEQECBAgQIECAAAECsyCwYEHEZZfd9RSi3/0uYpNNFp86NHYaUf7aciP8C1wAMwtNnuEpR2j/DK/E5moQEMDU0CVrJECAAAECBAgQIEBgRgXGrtdy9tkRYyNfIPfGGyO22mrJI1u23z5ivfVmdPqFGxPAzLxp6S0KYEqLtz/f09MUh6SxYxrpILfIB7Slyzst9fGG9J2npZH+mogfpbHr3bxWANN+/8xAgAABAgQIECBAgMAsCuSw5Te/WRy05MDlpz+NyNdxyddnecQjmvF3fxex9dYRq65aZrECmDLObc4igGlTd3a2fWCaNh3ctjB0OXoKAcyb02vSWYoLA5sHCWBmp2lmJUCAAAECBAgQIECgvEAOWy66aMmwJR/ZksOWfCTLWNiSP+awZeWVy69xbEYBzOzZz9TMApiZkuzednZLSzp9CgHM2MqPSE8eL4DpXiOtiAABAgQIECBAgACB0QVy2HLhhXcNW/KdiCYLW6Z6cdzRVza1LQhgpubU5VcJYLrcndHWJoAZzc+7CRAgQIAAAQIECBCoVGD+/MnDlttvXxy27JjOAchHtuRruHQtbJmMXQBT6c44btkCmPp7uLQKBDD97a3KCBAgQIAAAQIECBBYJDAxbPnJT5o7E91xx12PbKklbBHA9HP3FsD0s6+5KgFMf3urMgIECBAgQIAAAQKDFMhhywUXLHkaUQ5b8tfz7Z7HX7Mlhy0rrtgfJkfA1N9LAUz9PVxaBa0FMIcccki6+FRz9ak5c+YsHB4ECBAgQIAAAQIECBCYSYF8BMuvfrVk2HLuuc0M48OWfDeiLbfsV9gy5jh37tzIIz/mpYvVnHDCCfnpOmncMJPWtlVGQABTxnk2ZmktgLn++utj7bXzHak9CBAgQIAAAQIECBAgMLpAvjbLL39517BlhRUidthhyVs/b7FFRP760B6OgKm/4wKY+ns4sYJ7pS/k21DvlMZH08i3l04H5EW6k/3CpPS0NJ6VRjozcuFj4zTuncaL0nhkGs9d9PVF2fISm8+pS8pfBDD9221URIAAAQIECBAgQKCMQL7r0PnnLw5bfvrTiHxkSz7IfmLY8tCHDjNsmawTApgy+2ebswhg2tSdnW0flKb9ZBoLJky/R/r8sjQuTiM/P2PR9/Nrnz3utXmfyO+dLFMWwMxOT81KgAABAgQIECBAoEqB226LOO+8JcOWn/88YtVVI/KpQ+Ov2bL55hHLL19lmUUWLYApwtzqJAKYVnl7t3EBTO9aqiACBAgQIECAAAECMyNwyy0Rv/hFRD6iJY+zz24+X2ONu4YtD3qQsGW66gKY6Yp17/UCmO71pMsrEsB0uTvWRoAAAQIECBAgQKCQwHXXNbd6/tnPFo98wdx1113yNKJ8hMtmm0Us51+eI3dGADMy4axvwB+DWW9BVQsQwFTVLoslQIAAAQIECBAgMLrAlVcuGbTko1suuSRdTDJdTTJfs2Vs5FOKHvAAYcvo4pNvQQDTlmy57Qpgyln3YSYBTB+6qAYCBAgQIECAAAECkwgsSFeCvDhdMXL8US05bLn66oh8MdzxYUt+fp/7YCwpIIApqd3OXAKYdlz7ulUBTF87qy4CBAgQIECAAIFBCdxxR0Q+ZWh82JKf5+u4bLPNkmHL9ttHrLnmoHg6WawAppNtmdaiBDDT4hr8iwUwg98FABAgQIAAAQIECNQmkEOVfOehsbAlH9WSL4674ooRD3/4kmHL1ls3t4P26J6AAKZ7PZnuigQw0xUb9usFMMPuv+oJECBAgAABAgQ6LnDNNYsvjjt2kdx8pMt66931ei1u+9zxZk5YngCmrn5NtloBTP09LFmBAKaktrkIECBAgAABAgQILEUgX6/liisWH9UyFrZcdlnEAx+4OGzJR7jki+NutJGL49a+Mwlgau9g+jNYfwkqKCgggCmIbSoCBAgQIECAAAECWWD+/IgLL2zClvG3fr722ogtt2zClrFTifLHfLSLR/8EBDD191QAU38PS1YggCmpbS4CBAgQIECAAIHBCdx6a3N9lvFBS75+Sz7iZbvtlrxmy7bbRqy22uCIBluwAKb+1gtg6u9hyQoEMCW1zUWAAAECBAgQINBrgXwEy7nnLnknony9lrXTb90Tb/mcbwOdL5rrMVwBAUz9vRfA1N/DkhUIYEpqm4sAAQIECBAgQKAXAvnolSuvjMh3Hxp/2+dLL43YeOO7hi35a8v5l1ovej+TRQhgZlJzdrblj/XsuNc6qwCm1s5ZNwECBAgQIECAQBGBHLbkC+HmsGX8+NOfIh72sCXDlny9lnvfu8iyTNIDAQFM/U0UwNTfw5IVCGBKapuLAAECBAgQIECg0wJ33hnxm9/cNWy58caIbbZp7j40NvL1W9ZYo9PlWFzHBQQwHW/QFJYngJkCkpf8TUAAY2cgQIAAAQIECBAYpMAdd0RccMGSYUs+nej22yO2337JsGXrrSNWXXWQTIpuUUAA0yJuoU0LYApB92QaAUxPGqkMAgQIECBAgACBpQvcdlvE+ecvGbbki+WusEJzF6JHPGJx4LLFFhErrUSTQPsCApj2jdueQQDTtnC/ti+A6Vc/VUOAAAECBAgQGLzAzTdH5Ns8j79ey3nnRay++pJHteRTiR7ykCaE8SAwGwICmNlQn9k5BTAz69n3rQlg+t5h9REgQIAAAQIEeixwww0R55yzZNiSb/u83npLHtWSw5bNNnMnoh7vClWWJoCpsm1LLFoAU38PS1YggCmpbS4CBAgQIECAAIFlFrjmmuaWz+OPbLnoooj73785smWHHRaHLhttJGxZZmhvLCYggClG3dpEApjWaHu5YQFML9uqKAIECBAgQIBA3QJXX33XOxFdcknEppve9TSiDTesu1arH66AAKb+3gtg6u9hyQoEMCW1zUWAAAECBAgQILCEwIIFEX/4w5Jhy9lnR/z+9831Wcbf9jk/z6cWeRDoi4AApv5OCmDq72HJCgQwJbXNRYAAAQIECBAYsEAOWy677K5hy5//HJHvPDQ+bMmnE62df1P1INBjAQFM/c0VwNTfw5IVCGBKapuLAAECBAgQIDAQgTvvjPjtb+96GlG+aO7WWy8OW/Ltn7fbLmKNNQYCo0wC4wQEMPXvDgKY+ntYsgIBTEltcxEgQIAAAQIEeiiQw5Z8Mdx86tDYyBfLvfXWJlwZO7Ilhy3bbBOx6qo9RFASgWUQEMAsA1rH3iKA6VhDOr4cAUzHG2R5BAgQIECAAIEuCYwPW37ykyZwyWHLvHkR22/f3IVobOQjXVZaqUurtxYC3RIQwHSrH8uyGgHMsqgN9z0CmOH2XuUECBAgQIAAgbsVyGHLhRfe9ciW8WHLjjs2gctWWwlb7E4EpisggJmuWPdeL4DpXk+6vCIBTJe7Y20ECBAgQIAAgUIC48OW8Ue23H57xMMfvuSRLcKWQk0xTe8FBDD1t1gAU38PS1YggCmpbS4CBAgQIECAQAcE5s+f/MiWO+6462lEwpYONMwSeisggKm/tQKY+ntYsgIBTEltcxEgQIAAAQIECguMHdkydlTL2DVbxoctY6cRbbml04gKt8d0AxcQwNS/Awhg6u9hyQoEMCW1zUWAAAECBAgQaFngmmsi/u//In74w2bk57fdNvlpRCuu2PJibJ4AgbsVEMDUv4MIYOrvYckKBDAltc1FgAABAgQIEJhBgXwUyy9+sThsyYFLvmju5ptH7Lzz4pFvBe1uRDMIb1MEZkhAADNDkLO4GQHMLOJXOLUApsKmWTIBAgQIECAwTIErr1wybMmnFa2wQsSjHrU4bMnP73OfYfqomkBtAgKY2jp21/UKYOrvYckKBDAltc1FgAABAgQIEJiiwK23RvzsZ0sGLpdfHrHNNksGLlts0YQwHgQI1CcggKmvZxNXLICpv4clKxDAlNQ2FwECBAgQIEBgEoEFCyIuvXTJsCWHL+usE7HLLouPbskXy107//bmQYBALwQEMPW3UQBTfw9LViCAKaltLgIECBAgQIBAErjxxoh8+tDYhXLzx3zx3B12WPLaLZttFrGc3+7tMwR6KyCAqb+1/oquv4clKxDAlNQ2FwECBAgQIDBIgWuvjfj+9yO+973mY75w7kYbLRm25PBltdUGyaNoAoMVEMDU33oBTP09LFmBAKaktrkIECBAgACBQQjccEPEGWc0gUse554b8dCHRuyxRzMe/egmgPEgQGDYAgKY+vsvgKm/hyUrEMCU1DYXAQIECBAg0EuBm26KOPPMxYHLT38akU8fGgtcdt894n7362XpiiJAYAQBAcwIeB15qwCmI42YwWU8PW3rkDTSZddirTRWSuPOu9n+Gul7x6exbxrz0vj3NF61lPcIYGawUTZFgAABAgQIDEPgllsi/vd/FwcuP/pRxAMesDhwycFL/tyDAAECdycggKl//xDA1N/DiRUcmL6wyaIA5egpBDAnpdekGxTGQWnkMOazaZycxlsmoRHA9G9/UREBAgQIECAwwwK33dZcMHfslKL8fIMNlgxcNt10hie1OQIEei8ggKm/xQKY+nu4tAp2S984/R4CmHul71+dxu5p/M+iDf1T+vjeNDZMI93kcImHAKa/+4vKCBAgQIAAgWUUmJeOIf7xjxcHLvlol3xL6Mc9bnHo8uAHu0PRMvJ6GwECiwQEMPXvCgKY+ns4SgDz+PTmb6WRr6E/dppSvsTb5Wk8LI2LBDD93UFURoAAAQIECCybwB13RJx99uLAJV/PZfXV0//R2n1x4LLFFgKXZdP1LgIEliYggKl/3xDA1N/DUQKYZ6Y3H5vG/cdtZMX0PF8L5u/TGDsqZuzbjoDp7/6iMgIECBAgQGApAgvSMcEXXBDx7W9HnHZaxA9+ELFi+o1pt3S88diFc7feOmL55RESIECgPQEBTHu2pbYsgCklXX6eqZyCNFkAs0Ja6u0CmPINMyMBAgQIECDQHYGbb26OcPlWOlY4jz/+sTnC5YlPbEKX7baLWCH/1uRBgACBQgICmELQLU4jgGkRd5Y3PZUAJp+C9M000kGzUz8F6ZBDDomVV155YXlz5sxZODwIECBAgAABArULXHzx4sAlhy/3vW/E3ntHPPnJTfiSTzPyIECAQEmBuXPnRh75MS9dcOqEE07IT9NVpuKGkusw18wICGBmxrGLW5lKAJMvwntVGun/4/ztdKN8VMz70nAR3i521ZoIECBAgACBGRPIdyvKpxONHeWSA5hdd20Clzwelq6It5zflmfM24YIEBhNwBEwo/l14d1+pHShCzO7hhyq5NtQ75TGR9PYMY35afwmjZyUpjOX41lp/GTRtJ9KH9NZy/HcNPJtqD+TRr4N9ZGTLMs1YGa2V7ZGgAABAgQIFBa44ormWi45dDn11Ii10283Y4HL49OxwflzDwIECHRRQADTxa5Mb00CmOl51fDqg9IiP5nGxFtI56NcLksj/b+dhUe8nLGomBy6HJ/Gvmnka7+clMar0xi7K9L4mgUwNewB1kiAAAECBAj8TSDfseissxYf5XL++RG77LI4dMnXcnGUix2GAIEaBAQwNXTp7tcogKm/hyUrEMCU1DYXAQIECBAgsEwCV18dccop6UJ36Up33/lOc8eivfZqQpcnPSlivfWWabPeRIAAgVkVEMDMKv+MTC6AmRHGwWxEADOYViuUAAECBAjUI3BnOm73J+nk6rFruZx9dsQjHrH4KJcd0wnZbhFdTz+tlACByQUEMPXvGQKY+ntYsgIBTEltcxEgQIAAAQJLFbj22ubolnyUSz7aJd0cJN2ZsQld9twz3U0g307AgwABAj0SEMDU30wBTP09LFmBAKaktrkIECBAgACBJQTyXYq+9rWIr3414swzI7baavFRLvm6LvlUIw8CBAj0VUAAU39nBTD197BkBQKYktrmIkCAAAECAxfIpxb9+MeLQ5cLL4zYffeIf/iHiKc+Nd32Md/30YMAAQIDERDA1N9oAUz9PSxZgQCmpLa5CBAgQIDAAAVuuSXitNOa0OXrX4+49dbmKJenPa05tWiddQaIomQCBAgkAQFM/buBAKb+HpasQABTUttcBAgQIEBgIAJ/+lPEN77RhC75ui4bbNAc5ZJDl7//+4iVVhoIhDIJECBwNwICmPp3DwFM/T0sWYEApqS2uQgQIECAQI8Ffv3r5louOXT54Q+buxblwCWPbbaJWM5vqT3uvtIIEFgWAQHMsqh16z1+tHWrH11fjQCm6x2yPgIECBAg0FGB+fMjzjprcehy2WURT3hCE7g85SkR979/RxduWQQIEOiIgACmI40YYRkCmBHwBvhWAcwAm65kAgQIECCwrAI33RTx3e82oUu+XXR+5LAlhy5PfGLEmmsu65a9jwABAsMTEMDU33MBTP09LFmBAKaktrkIECBAgECFAn/4w+LruZx6asQDH7j4ei75VlhAHMsAACAASURBVNErrFBhUZZMgACBDggIYDrQhBGXIIAZEXBgbxfADKzhyiVAgAABAlMROP/8iK98pTnS5ac/jdh55+Yol3wh3Yc9bCpb8BoCBAgQuCcBAcw9CXX/+wKY7veoSysUwHSpG9ZCgAABAgRmUeBXv4r4r/9qxiWXRMyZ04Que+/d3MXIgwABAgRmVkAAM7Oes7E1AcxsqNc7pwCm3t5ZOQECBAgQGFngwgsj/vM/m9DlN7+JePKTI/bfvwldXM9lZF4bIECAwN0KCGDq30EEMPX3sGQFApiS2uYiQIAAAQIdEMhBy9iRLvmol732akKXpz41Yq21OrBASyBAgMBABAQw9TdaAFN/D0tWIIApqW0uAgQIECAwSwIXXxzx+c83wct550U86UkRBxzQhC7rrDNLizItAQIEBi4ggKl/BxDA1N/DkhUIYEpqm4sAAQIECBQUuOyyxaHLOec0t4nOR7rkC+muu27BhZiKAAECBCYVEMDUv2MIYOrvYckKBDAltc1FgAABAgRaFrj88ogvfKG5rsvZZ0c8/vFN6LLPPhHrrdfy5DZPgAABAtMSEMBMi6uTLxbAdLItnV2UAKazrbEwAgQIECAwNYHf/74JXfLpRT/6UcTuuzenF+XQ5T73mdo2vIoAAQIEygsIYMqbz/SMApiZFu339gQw/e6v6ggQIECgpwJXXhnxxS82octZZ0XsumtzpMu++0asv35Pi1YWAQIEeiYggKm/oQKY+ntYsgIBTEltcxEgQIAAgREErroq4ktfak4v+p//iXjMY5rQZb/9IjbccIQNeysBAgQIzIqAAGZW2Gd0UgHMjHL2fmMCmN63WIEECBAgULPAjTc2gctnPxtxxhkRO+/cnF6UQ5f73a/myqydAAECBAQw9e8DApj6e1iyAgFMSW1zESBAgACBKQgsWNCcVvSxjzWnGD3sYRHPelbEM54RsdFGU9iAlxAgQIBAFQICmCradLeLFMDU38OSFQhgSmqbiwABAgQI3I3A1VdHnHxyxMc/HvHHP0YceGDE854XscMO2AgQIECgjwICmPq7KoCpv4clKxDAlNQ2FwECBAgQmCAwf37Ed77THO3yjW8013V5/vMjnv70iNVWw0WAAAECfRYQwNTfXQFM/T0sWYEApqS2uQgQIECAwCKBSy6J+MQnIj71qYg774w4+OCI5z434sEPRkSAAAECQxEQwNTfaQFM/T0sWYEApqS2uQgQIEBg0AK33hrx5S83pxjlC+ruvXdzitGee0asuOKgaRRPgACBQQoIYOpvuwCm/h6WrEAAU1LbXAQIECAwSIGf/7w5xejTn45Yf/0mdHn2syPue99BciiaAAECBBYJCGDq3xUEMPX3sGQFApiS2uYiQIAAgcEIXH99c+vofLTL+edH7L9/E7w89rERy/ltbTD7gUIJECBwdwICmPr3Dz/S6+9hyQoEMCW1zUWAAAECvRbIt48+88zmaJfPfz5i662bC+r+4z9GrLNOr0tXHAECBAgsg4AAZhnQOvYWAUzHGtLx5QhgOt4gyyNAgACB7gvkW0aP3T76T3+KeNazmqNdttuu+2u3QgIECBCYPQEBzOzZz9TMApiZkhzGdgQww+izKgkQIEBghgXuuCPilFOao12+9a2I3XZrQpd99olYddUZnszmCBAgQKCXAgKY+tsqgKm/hyUrEMCU1DYXAQIECFQvkG8fnUOXT34yYvnlm1tHP+c5EZttVn1pCiBAgACBwgICmMLgLUwngGkBtcebFMD0uLlKI0CAAIGZEzjrrIhjj434+teb20e/4AURT3pSxAorzNwctkSAAAECwxIQwNTfbwFM/T0sWYEApqS2uQgQIECgKoH58yO++tWIY46JOO+85oK6hx4a8cAHVlWGxRIgQIBARwUEMB1tzDSWJYCZBpaXhgDGTkCAAAECBCYI/PWvzSlG731vxG23NaFLPuLFnYzsKgQIECAwkwICmJnUnJ1tCWBmx73WWQUwtXbOugkQIEBgxgWuvDLiAx+I+PCHm2u6vPKVEc94RsRKK834VDZIgAABAgRCAFP/TiCAqb+HJSsQwJTUNhcBAgQIdFLgF7+IOO64iM9+NuKJT2yCl3xXo+X8VtXJflkUAQIE+iIggKm/k35VqL+Hk1XwuvTFl6WxbhqnpvHCNK5aSqm7pq+/M40d0vhzGh9N461Lea0App/7i6oIECBA4B4EFiyI+O53mwvrnnFGxLOeFfGKV0RsuSU6AgQIECBQRkAAU8a5zVkEMG3qzs62080tI/16GAekcWka709jtTR2n2Q5+bKAv0zjXWmks9dj0zROWvSe90zyegHM7PTUrAQIECAwSwLz5jVHuuTgJZ9ydMghES95ScQGG8zSgkxLgAABAoMVEMDU33oBTP09nFjB2ekLX0rj7Yu+sVH6+Ls08hEuP5/w4penz9OvkbHFuK/no2XelMbGApj+7RwqIkCAAIGpCVxzTcRHPtJc42WttZrTjPJRL6vl/6XhQYAAAQIEZkFAADML6DM8pQBmhkFneXMrp/lvTmOPNH4wbi0Xpef5KJcTJ6zv1enzA9N4+LivPzs9z0fDPCiNyya83hEws9xg0xMgQIBAuwK//W1zN6N8V6Mdd2yCl733jlh++XbntXUCBAgQIHBPAgKYexLq/vcFMN3v0XRWeL/04ivSyGekXzjujWem599OY+yomLFv/V168qM08mlL/57GA9L4Whrbp/HoNP5vwuQCmOl0w2sJECBAoBqBs85qTjP6+tcj9tsv4rDDmgDGgwABAgQIdEVAANOVTiz7OgQwy27XxXfmAOb3aeRTisYHMPlomFPSmBjA5BryKUj56/mg6lvSyNeMeWMaO6fx4wlFCmC62HVrIkCAAIFlEpg/P+IrX2mCl/POi3jBCyIOPTRik02WaXPeRIAAAQIEWhUQwLTKW2TjApgizMUmme4pSGMLWyE9yeFNvlPS49L4Vhr3TeNPkwUwh6QrEK68cp4qYs6cOQuHBwECBAgQqEXgr39tTjF6T7rc/O23N6HL858fsc46tVRgnQQIECAwFIG5c+dGHvkxL10Z/oQTTshP80+sG4Zi0Kc6BTB96mZTy3QuwjtZ9R9LX9w6jV0m+aYjYPq3v6iIAAECgxH44x/TYZ7pOM8Pfzhd6Cxd6Sxf3+X//b+IlVYaDIFCCRAgQKBiAUfAVNy8RUsXwNTfw4kVHJy+cEwaz0wj3/3ouDRWTyNfmHenNE5OIx/lkm6mufDx4jS+n8ataeQL8h6exuPTSGfD3+UhgOnf/qIiAgQI9F7g9+nk3He+M+Jj6X8xPD79hHvVqyJ23TViOb8F9b73CiRAgECfBAQw9XfTrx7193CyCl6bvpgOqI4cmHw3jRelcXUau6VxehqbpZHDmfz4QhpPSCP//7+fpvH6NPJFeyd7CGD6ub+oigABAr0UuPzyiH/7t4hPfKK5k9Eb0xXOHj7+vn+9rFpRBAgQINBXAQFM/Z0VwNTfw5IVCGBKapuLAAECBJZJ4NJLm+DlU5+K+Id/aIKXbbddpk15EwECBAgQ6IyAAKYzrVjmhQhglplukG8UwAyy7YomQIBAHQIXXxxx9NERn/50xL77NsHLVlvVsXarJECAAAEC9yQggLknoe5/XwDT/R51aYUCmC51w1oIECBAYKHAb34T8fa3R3z2sxH7758uZpauZrbFFnAIECBAgEC/BAQw9fdTAFN/D0tWIIApqW0uAgQIELhbgV//ugle/uu/0pXn06Xnc/DykIdAI0CAAAEC/RQQwNTfVwFM/T0sWYEApqS2uQgQIEBgUoFf/rIJXr74xYh//ucmeMm3lfYgQIAAAQJ9FhDA1N9dAUz9PSxZgQCmpLa5CBAgQGAJgfPOizjqqIivfjXioIPSbfvSffs23RQSAQIECBAYhoAApv4+C2Dq72HJCgQwJbXNRYAAAQILBc49twlevvnNiOc8J+J1r4vYZBM4BAgQIEBgWAICmPr7LYCpv4clKxDAlNQ2FwECBAYu8NOfNsHLKadEvOAFEa95TcQDHjBwFOUTIECAwGAFBDD1t14AU38PS1YggCmpbS4CBAgMVODHP45461sjTjst4kUvaoKX+91voBjKJkCAAAECiwQEMPXvCgKY+ntYsgIBTEltcxEgQGBgAj/8YRO8fP/7Ef/yLxGvelXEfe87MATlEiBAgACBpQgIYOrfNQQw9fewZAUCmJLa5iJAgMBABP7nf5rgJX986UsjDjssYoMNBlK8MgkQIECAwBQFBDBThOrwywQwHW5OB5cmgOlgUyyJAAECtQqccUbEkUdG5FOOXvayiFe8IuI+96m1GusmQIAAAQLtCghg2vUtsXUBTAnl/swhgOlPL1VCgACBWRO44IKIf/3XiLPOijj00Ob5euvN2nJMTIAAAQIEqhAQwFTRprtdpACm/h6WrEAAU1LbXAQIEOiZwI03NqcaHX98xPOf3xz9InjpWZOVQ4AAAQKtCQhgWqMttmEBTDHqXkwkgOlFGxVBgACBsgILFkR85jPN3Ywe8pCID3wgYrvtyq7BbAQIECBAoHYBAUztHYwQwNTfw5IVCGBKapuLAAECPRD42c+a67tcemnEMcdEHHBA+uXDbx896KwSCBAgQKC0gACmtPjMz+dXoJk37fMWBTB97q7aCBAgMIMCf/lLxBvfGHHSSc01Xg4/PGLNNWdwApsiQIAAAQIDExDA1N9wAUz9PSxZgQCmpLa5CBAgUKHA/PkRH/1oE77sskvEe97TnHbkQYAAAQIECIwmIIAZza8L7xbAdKEL9axBAFNPr6yUAAECxQXOPLM53ShfbPe97414ylOKL8GEBAgQIECgtwICmPpbK4Cpv4clKxDAlNQ2FwECBCoR+MMfmgvsfuUrzalGhx0WseqqlSzeMgkQIECAQCUCAphKGnU3yxTA1N/DkhUIYEpqm4sAAQIdF5g3rznS5aijIvbeO+Ld747YeOOOL9ryCBAgQIBApQICmEobN27ZApj6e1iyAgFMSW1zESBAoMMCp5wSceihEausEvH+90fsvnuHF2tpBAgQIECgBwICmPqbKICpv4clKxDAlNQ2FwECBDoocPHFEa94RcQZZ0S89a0R//IvESuu2MGFWhIBAgQIEOiZgACm/oYKYOrvYckKBDAltc1FgACBDgncfHPEO94RceyxEQceGHH00RHrr9+hBVoKAQIECBDouYAApv4GC2Dq72HJCgQwJbXNRYAAgQ4ILFgQ8YUvRLzylRH3v3/E8cdH7LhjBxZmCQQIECBAYGACApj6Gy6Aqb+HJSsQwJTUNhcBAgRmWeD88yNe/vKI886LeOc7I5797Ijll5/lRZmeAAECBAgMVEAAU3/jBTD197BkBQKYktrmIkCAwCwJXH99xFveEvHhDzfXeDniiIh11pmlxZiWAAECBAgQWCgggKl/RxDA1N/DkhUIYEpqm4sAAQKFBe68M+KkkyJe97qIbbdt7m601VaFF2E6AgQIECBAYFIBAUz9O4YApv4elqxAAFNS21wECBAoKPDjH0e87GURV14ZcdxxEfvuG7Gc3xIKdsBUBAgQIEDg7gUEMPXvIX61qr+HJSsQwJTUNhcBAgQKCNx+e8TrXx/xoQ9FvOpVEa99bcTqqxeY2BQECBAgQIDAtAQEMNPi6uSLBTCdbEtnFyWA6WxrLIwAAQLTF8hHuxxwQMR11zV3OnroQ6e/De8gQIAAAQIEyggIYMo4tzmLAKZN3f5tWwDTv56qiACBgQr84AcR++8f8cQnNhfbddTLQHcEZRMgQIBANQICmGpatdSFCmDq72HJCgQwJbXNRYAAgRYEFiyIeM97It70pohjjol48Ytd66UFZpskQIAAAQIzLiCAmXHS4hsUwBQnr3pCAUzV7bN4AgSGLnDjjRHPe17EWWc1pxw96lFDF1E/AQIECBCoR0AAU0+vlrZSAUz9PSxZgQCmpLa5CBAgMIMCv/xlxH77RTzgARH/8R8R668/gxu3KQIECBAgQKB1AQFM68StTyCAaZ24VxMIYHrVTsUQIDAUgf/8z4jnPz/i0EMjjjwyYoUVhlK5OgkQIECAQH8EBDD191IAU38PS1YggCmpbS4CBAiMKJBvMf3qV0ecdFLEySdHPPWpI27Q2wkQIECAAIFZExDAzBr9jE0sgJkxykFsSAAziDYrkgCBPgj84Q/NXY5uuinii1+MePCD+1CVGggQIECAwHAFBDD1914AU38PJ6vgdemLL0tj3TROTeOFaVy1lFLTDUjj6DS2TeOWNE5J46Vp/GWS1wtg+rm/qIoAgZ4JfP/7EQccELHnnhEf/KBbTPesvcohQIAAgYEKCGDqb7wApv4eTqzgOekLx6aRfvWOS9N4fxqrpbH7JKXeO33td2l8JI0PpHGfNE5M46I0niGA6d/OoSICBPotkG8xfWz6CXDEERHHHZfS9xS/L+cnfb+brjoCBAgQGIyAAKb+Vvu1rP4eTqzg7PSFL6Xx9kXf2GhRyLJD+vjzCS9+ZPo83Yw07pXGDYu+d0j6mI+e2UIA07+dQ0UECPRX4Ib0t/hzUgT/k580t5jeaaf+1qoyAgQIECAwRAEBTP1dF8DU38PxFaycPrk5jT3S+MG4b+QjWt6VRj66Zfxj9fTJr9N4dxrHp7FeGuleGQuDmldMQuMUpH7tL6ohQKAnAuefH7HvvhGbbhrxmc+kwxnz8YweBAgQIECAQK8EBDD1t1MAU38Px1dwv/TJFWlsmcaF475xZnr+7TTGjooZ/57tFn1vg/Qx35j0G2nsk8adk9AIYPq1v6iGAIEeCHz2s82pRq9IsXk+9cgtpnvQVCUQIECAAIFJBAQw9e8WApj6ezgxgPl9+kI+fWh8AJOPhskX150YwOT/R/rjNPJRL/+eRj4V6Zg0zknjxQKYfu0cqiFAoF8C8+ZFvOpV6S/v9Lf3pz8dsffe/apPNQQIECBAgMCSAgKY+vcIAUz9PRxfwXRPQcrXenlJGvmImbFHvmrAD9PI4cy1E3gWHgFzyCGHxMor56ki5syZs3B4ECBAgEA5gSvSsY75FtO3pHvX5VtMP+hB5eY2EwECBAgQIFBOYO7cuZFHfsxL//flhBNOyE/XSWPsGp7lFmOmkQUEMCMTdm4D07kI7yvT6vNdk7YZV8Uj0vMfpZFPZ7p6QnVOQepcuy2IAIGhCZx+esQ//mPEU54S6ZewdJu7fJ87DwIECBAgQKD3Ao6Aqb/FApj6ezixgoPTF/JpRM9MI99iOt2INPLFdvOFefPRLSen8bg0rkxj6zR+lsbb0jgpjXwR3vemsWoaj5qERgDTv/1FRQQIVCKQbzH9rnQ59be+NeJ974t4/vMrWbhlEiBAgAABAjMiIICZEcZZ3YgAZlb5W5v8tWnLh6aRA5PvpvGiNPLRLLulkf7faWyWRg5n8uNpabwlja3SSAezx2lp/Gsa+WK+Ex8CmNZaZsMECBBYusD110ccfHBKzFNknk85ekQ+VtGDAAECBAgQGJSAAKb+dgtg6u9hyQoEMCW1zUWAAIEk8POfR+y3X8TmmzcX2733vbEQIECAAAECQxQQwNTfdQFM/T0sWYEApqS2uQgQGLxADlxenO5Jl+929OY3Ryy//OBJABAgQIAAgcEKCGDqb70Apv4elqxAAFNS21wECAxW4LbbIg47LOJzn2uOetlrr8FSKJwAAQIECBBYJCCAqX9XEMDU38OSFQhgSmqbiwCBQQr8Ll2hK99i+o47Ir7whYhNNx0kg6IJECBAgACBCQICmPp3CQFM/T0sWYEApqS2uQgQGJRAvsvRZz4T8dKXRhxwQHOno1XzPek8CBAgQIAAAQJJQABT/24ggKm/hyUrEMCU1DYXAQKDEbj22oh/+Zd0m7p0n7qPfSzdni7fn86DAAECBAgQIDBOQABT/+4ggKm/hyUrEMCU1DYXAQKDEDjttIiDDop4+MMjPv7xiA03HETZiiRAgAABAgSmKSCAmSZYB18ugOlgUzq8JAFMh5tjaQQI1CVw660Rr399xIknRhx7bMQLXxixnJ/KdTXRagkQIECAQEEBAUxB7Jam8qteS7A93awApqeNVRYBAmUFzj034sADI1ZfvbnL0UMfWnZ+sxEgQIAAAQL1CQhg6uvZxBULYOrvYckKBDAltc1FgEDvBObPjzjuuIgjjoh49asj3vjGiJVW6l2ZCiJAgAABAgRaEBDAtIBaeJMCmMLglU8ngKm8gZZPgMDsCVx2WXOtlyuuaI562Xnn2VuLmQkQIECAAIH6BAQw9fVs4ooFMPX3sGQFApiS2uYiQKAXAuNvL73//s0RMGuu2YvSFEGAAAECBAgUFBDAFMRuaSoBTEuwPd2sAKanjVUWAQLtCFxzTXN76e99z+2l2xG2VQIECBAgMBwBAUz9vRbA1N/DkhUIYEpqm4sAgaoFTj014uCD3V666iZaPAECBAgQ6JCAAKZDzVjGpQhglhFuoG8TwAy08comQGDqAm4vPXUrryRAgAABAgSmLiCAmbpVV18pgOlqZ7q5LgFMN/tiVQQIdETA7aU70gjLIECAAAECPRQQwNTfVAFM/T0sWYEApqS2uQgQqEYg31762GMj3vIWt5eupmkWSoAAAQIEKhMQwFTWsEmWK4Cpv4clKxDAlNQ2FwECVQi4vXQVbbJIAgQIECBQvYAApvoWhgCm/h6WrEAAU1LbXAQIdFrA7aU73R6LI0CAAAECvRMQwNTfUgFM/T0sWYEApqS2uQgQ6KyA20t3tjUWRoAAAQIEeisggKm/tQKY+ntYsgIBTEltcxEg0EkBt5fuZFssigABAgQI9F5AAFN/iwUw9fewZAUCmJLa5iJAoFMCt9wS8frXR3zsY80Fd1/4wojl/BTtVI8shgABAgQI9FlAAFN/d/3qWH8PS1YggCmpbS4CBDoj4PbSnWmFhRAgQIAAgcEKCGDqb70Apv4elqxAAFNS21wECMy6wB13RLznPRFHHOH20rPeDAsgQIAAAQIDFxDA1L8DCGDq72HJCgQwJbXNRYDArAlcfnlzqtHHPx6x+uoRJ58csfPOs7YcExMgQIAAAQIEQgBT/04ggKm/hyUrEMCU1DYXAQJFBebPjzjllIgPfzhi7tyIPfeMeNGLmo8rrFB0KSYjQIAAAQIECNxFQABT/04hgKm/hyUrEMCU1DYXAQJFBP7wh+ZIl3zESz7l6PnPb8bGGxeZ3iQECBAgQIAAgSkJCGCmxNTpFwlgOt2ezi1OANO5llgQAQLLInDnnRHf/W5ztMs3vxnx+MdHvPjFEXvvHbHiisuyRe8hQIAAAQIECLQrIIBp17fE1gUwJZT7M4cApj+9VAmBQQpcdVXEJz4RceKJETffHPG850W84AURm246SA5FEyBAgAABAhUJCGAqatZSliqAqb+HJSsQwJTUNhcBAjMikI92+d73Ij7ykYivfjVi112bo12e9rSIlVaakSlshAABAgQIECDQuoAApnXi1icQwLRO3KsJBDC9aqdiCPRb4E9/ivjUpyI++tGI66+PeM5zmqNdNt+833WrjgABAgQIEOingACm/r4KYOrvYckKBDAltc1FgMC0BRYsiDjjjOZoly99KWKXXZqjXfbZJ2KVVaa9OW8gQIAAAQIECHRGQADTmVYs80IEMMtMN8g3CmAG2XZFE+i+wDXXRJx0UnO0y9VXRxx8cMQLXxjxsId1f+1WSIAAAQIECBCYioAAZipK3X6NAKbb/ena6gQwXeuI9RAYsEA+2uV//7c52uXzn4/YccfmaJf99otYddUBwyidAAECBAgQ6KWAAKb+tgpg6u9hyQoEMCW1zUWAwKQC110X8elPN8HLFVdEPPvZzdEuW28NjAABAgQIECDQXwEBTP29FcDU38OSFQhgSmqbiwCBvwn85S/NtV2+/vWIz30uYvvtm6NdnvGMiNVXB0WAAAECBAgQ6L+AAKb+Hgtg6u9hyQoEMCW1zUVgwAJXXdUELt//fjPOPz9iq60invCEiOc+N2K77QaMo3QCBAgQIEBgkAICmPrbLoCpv4clKxDAlNQ2F4EBCfzhD4vDlhy4XHhhxLbbRuy2WzP+/u8j1l9/QCBKJUCAAAECBAhMEBDA1L9LCGDq7+FkFbwuffFlaaybxqlppKsjRPr/yXd5pH/WxPfSSJeyjPH7ws3p8zUneb0App/7i6oIFBf43e+WDFwuvjji4Q+P2H33JnB57GMj1luv+LJMSIAAAQIECBDorIAAprOtmfLCBDBTpqrmhc9JKz02jQPSuDSN96exWhrpnzV3eayYvjLxnzhfSl/7bRoHTfJ6AUw1u4GFEuiOQL5b0aXpb6N8ZMt//3fz8fLLIx7xiMVHuOTAZZ11urNmKyFAgAABAgQIdE1AANO1jkx/PQKY6Zt1/R1npwXmEOXtixa6UfqY/l9z7JDGz+9h8Run71+SxpPSOF0A0/VWWx+BbgrkwOU3v1nyCJcrr4x45CMXBy6PfnTEWmt1c/1WRYAAAQIECBDoooAApotdmd6aBDDT8+r6q1dOC8ynD+2Rxg/GLfai9PxdaZx4DwW8IX3/BWlsupTXOQKm63uA9RGYBYEcuFxwwZKBS75r0aMetThw2WWXiDXWmIXFmZIAAQIECBAg0BMBAUz9jRTA1N/D8RXcL31yRRpbppEuYfm3x5np2bfTGDsqZmlVp39CxX+l8WYBTL92DNUQmGmBm26KOPnkdBGpdBWpfLeiG26IyCHL2EVzc/iyWj750YMAAQIECBAgQGBGBAQwM8I4qxsRwMwq/4xPngOY36exRRrjA5h8NMwp9xDApBMCFh4187A00skDkz4cATPjLbNBAnUJ3HlnxEknRRx+eMTG6aTFpz2tCV3y6UWrrFJXLVZLgAABAgQIEKhJQABTU7cmX6sApv4ejq9glFOQPpo2tFUa6VKYf0vz1AAAIABJREFUS30sDGAOOeSQWHnlPFXEnDlzFg4PAgT6L5CPdPnXf4245pqId7874v/9v3T7ND9F+t94FRIgQIAAAQKzJjB37tzIIz/mzZsXJ5xwQn6ab12Qjj/2qE3Ar861deye17ssF+HN/9/6j2m8Ko2P380UjoC5Z3+vINA7gXyL6Ne8JtIP/4g3pCtF5RBm1VV7V6aCCBAgQIAAAQKdFnAETKfbM6XFCWCmxFTViw5Oqz0mjWemke9+dFwaq6eRL8y7Uxrpqg3xuDTSPUn+9siv/Vga903jxrupVgBT1a5gsQRGE8jXdXl7unLUBz4Q8U//FPG2t6W/JPLfEh4ECBAgQIAAAQLFBQQwxclnfEIBzIyTdmKDr02rODSNHJh8N40XpXF1GulKDQtvL71ZGjmcGXvkC/Sme5bEP9/D6gUwnWivRRBoV2D+/IhPfCLijW9MV/ROl/R+z3vSfezzjew9CBAgQIAAAQIEZk1AADNr9DM2sQBmxigHsSEBzCDarMghC5yeItpXvCIi3+XomHQs3T77uM7LkPcHtRMgQIAAAQLdERDAdKcXy7oSAcyyyg3zfQKYYfZd1QMQuOiiiFe/urmt9JveFPGyl7mr0QDarkQCBAgQIECgIgEBTEXNWspSBTD197BkBQKYktrmIlBA4LrrIo46KuKDH4w46KCIt741YoMNCkxsCgIECBAgQIAAgWkJCGCmxdXJFwtgOtmWzi5KANPZ1lgYgekJ3HFHxIknRrz5zRHbb99c52Xbbae3Da8mQIAAAQIECBAoJyCAKWfd1kwCmLZk+7ldAUw/+6qqgQl85zsRhx0WMW9exLHHRjzlKa7zMrBdQLkECBAgQIBAhQICmAqbNmHJApj6e1iyAgFMSW1zEZhhgQsuiHjVqyL+538ijjgi4iUviVh55RmexOYIECBAgAABAgRaERDAtMJadKMCmKLc1U8mgKm+hQoYosA110QceWTERz8a8bznRbzlLRH3uc8QJdRMgAABAgQIEKhXQABTb+/GVi6Aqb+HJSsQwJTUNheBEQVuvz3iwx9ujnZ51KOa04222mrEjXo7AQIECBAgQIDArAgIYGaFfUYnFcDMKGfvNyaA6X2LFdgXgW9/u7nOS34cd1zEXnv1pTJ1ECBAgAABAgSGKSCAqb/vApj6e1iyAgFMSW1zEVgGgfPPj3jlKyN+/OPmtKMXvShipZWWYUPeQoAAAQIECBAg0CkBAUyn2rFMixHALBPbYN8kgBls6xXedYE//7m5tsvHP96ELvn20uut1/VVWx8BAgQIECBAgMBUBQQwU5Xq7usEMN3tTRdXJoDpYlesabACCxZE/O//Rvz7v0d89rMRu+4accwxEQ972GBJFE6AAAECBAgQ6K2AAKb+1gpg6u9hyQoEMCW1zUVgKQIXXhjx6U8347rrIvbfP+KggyJ22QUZAQIECBAgQIBAXwUEMPV3VgBTfw9LViCAKaltLgLjBP70p4j//M/maJdzzonYe++IZz0r4slPjlhlFVQECBAgQIAAAQJ9FxDA1N9hAUz9PSxZgQCmpLa5Bi9wyy0RX/96E7rMnRvxyEc2ocsznuH6LoPfOQAQIECAAAECgxMQwNTfcgFM/T0sWYEApqS2uQYpcOedEWec0YQuX/hCxIYbNqHLgQdGPOhBgyRRNAECBAgQIECAQBIQwNS/Gwhg6u9hyQoEMCW1zTUogV/+srmmy2c+E3HzzRH/+I9N8LLTThHL+Zt6UPuCYgkQIECAAAECkwkIYOrfL/xaX38PS1YggCmpba7eC/zxjxGf+1xztEsOYJ72tCZ0mTMnYqWVel++AgkQIECAAAECBKYhIICZBlZHXyqA6WhjOrosAUxHG2NZ9Qj89a8RX/1qE7qcemrEYx/bhC777Rexzjr11GGlBAgQIECAAAECZQUEMGW925hNANOGan+3KYDpb29V1qLA/PkR3/teE7p86UsRm2zShC7/9E/Ncw8CBAgQIECAAAEC9yQggLknoe5/XwDT/R51aYUCmC51w1o6L/Dznzehy3/8R0QOYXLg8s//HLHDDq7r0vnmWSABAgQIECBAoGMCApiONWQZliOAWQa0Ab9FADPg5iv9ngXyHYzOPTfiO99pLqb7299GPP3pTejyhCdErLjiPW/DKwgQIECAAAECBAhMJiCAqX+/EMDU38OSFQhgSmqbq/MCOXA577zm9KI88u2jb789YtddIw44oAlf1lqr82VYIAECBAgQIECAQAUCApgKmnQPSxTA1N/DkhUIYEpqm6tzAgsWRJx/fhO2/Pd/R3z/+xG33tpcSHePPSJ23z3iEY9wpEvnGmdBBAgQIECAAIEeCAhg6m+iAKb+HpasQABTUttcsy6QA5df/aoJW3LokgOXfBejxzxmceCy445uGT3rjbIAAgQIECBAgMAABAQw9TdZAFN/D0tWIIApqW2u4gI5cLnwwsWnFOXg5YYbmsAlH92Sj3LZaaeIlVcuvjQTEiBAgAABAgQIDFxAAFP/DiCAqb+HJSsQwJTU7tFcN93UXJh27tzm9JwNNmjGhhsu+XzttIctV/BvpRy4/OY3i08pyoHLNddEPPrRiwOXRz4yYpVVetQMpRAgQIAAAQIECFQpIICpsm1LLLrgP3Xqx1JBCGDsBFMWuOqqiK9/PeIrX4k49dSITTeN2Hvv5nSdq6+OyN/PH8ee33Zbc2TJxGBmsqAmf2399ad/6k8OXC6+ePEpRTlw+dOfInbeefEpRfn5qqtOuUwvJECAAAECBAgQIFBEQABThLnVSQQwrfL2buMCmN61dGYL+vWvI7761SZ0+dGPIvLRI//wD83YYoulz5WDkRtvnDyYGR/SjD3PR6nkx3rrLT6CZmlBTb4L0dlnLw5d/vjHiEc9anHgsssuEautNrMOtkaAAAECBAgQIEBgpgUEMDMtWn57Apjy5jXPKICpuXstrD3fhvn//m9x6HLppRFPeEITuDz1qRH3vW8Lk6ZNzpsX8ec/Lz2wGX90zbXXRmy//eJTinLgssYa7azLVgkQIECAAAECBAi0JSCAaUu23HYFMOWs+zCTAKYPXRyxhnzb5dNOa0KXfIpRPnXoKU9pQpc5cyLWXHPECbydAAECBAgQIECAAIG7CAhg6t8pBDD197BkBQKYktodmiuf8vPNbzahyymnRNznPhH77NOELo997PSvxdKh0iyFAAECBAgQIECAQBUCApgq2nS3ixTA1N/DkhUIYEpqz/Jc+XSiHLjk8YMfRGy77eLQZbvtyt6taJYpTE+AAAECBAgQIEBg1gUEMLPegpEXIIAZmXBQGxDA9Ljd+UK455zTXEA3hy7nnx+x225N6PK0p0VsskmPi1caAQIECBAgQIAAgY4LCGA63qApLE8AMwUkL/mbgACmZzvD7bdHnHHG4iNd8qlGe+3VhC75473u1bOClUOAAAECBAgQIECgUgEBTKWNG7dsAUz9PSxZgQCmpHaLc11+ecSRR0Z88YvNLZjzES45dNljj4hVVmlxYpsmQIAAAQIECBAgQGCZBAQwy8TWqTcJYDrVjs4vRgDT+Rbd/QJvuinine+MOO64iKc/PeLlL4/YcceI5ZevvDDLJ0CAAAECBAgQINBzAQFM/Q0WwNTfw5IVCGBKas/gXPPnR3zqUxFvfGPE5ps3AcxOO83gBDZFgAABAgQIECBAgECrAgKYVnmLbFwAU4S5+CSvSzO+LI110zg1jRemcdXdrCIdBxEvTWPTNP6YxuFpfHqS1wtgirdy9AlPOy3isMMi8tEv73pXxL77uoPR6Kq2QIAAAQIECBAgQKCsgACmrHcbswlg2lCd3W0+J01/bBoHpHFpGu9PI13lI3ZfyrLelL7+rDRyAHNeGvdNI+8XZ0/yegHM7PZ2WrP/+tcRr351c5HdN6UuvzR12PVdpkXoxQQIECBAgAABAgQ6IyCA6UwrlnkhAphlpuvsG3Nw8qU03r5ohRulj79LY4c0fj5h1fdOn1+RxmOXErhMLFIA09m2L17YX/7SXGD3xBMjnve8iCOOiFh//QoWbokECBAgQIAAAQIECCxVQABT/84hgKm/h+MrWDl9cnMa6V428YNx37goPU8nn0T6J/kSj3yUzIfSeGUa+bSjNdP4ehqvSOOvk9AIYDq8v8ybF3H88RFHHRXxmMdEvPvdEVtu2eEFWxoBAgQIECBAgAABAlMWEMBMmaqzLxTAdLY1y7Sw+6V35SNa8j+7Lxy3hTPT82+nMXZUzNi3XpuevDWNfGRMPgVppTQ+msZP0nj2JCsQwCxTW9p904IFEV/+csRrXhOx+urp/LN0AtoTn9junLZOgAABAgQIECBAgEBZAQFMWe82ZhPAtKE6e9vMAczv09gijfEBTD4a5pQ0JgYwr09fe1sau6Txo0XL3it9/Eoa66Rx64RSBDCz19tJZz47nXCWL7B7wQWpkamTz31uxAordGyRlkOAAAECBAgQIECAwMgCApiRCWd9AwKYWW/BjC5guqcgpX+uLzwt6T5pXLtoJQ9OH3N4s2kal08WwBxyyCGx8sp5qog5c+YsHB5lBa5Ixzm94Q0Rn/98Ol8snTD2unTfq7XWKrsGsxEgQIAAAQIECBAg0K7A3LlzI4/8mJeuOXDCCSfkp/l/lt/Q7sy23oaAAKYN1dnd5nQuwrtVWuov0nhUGvm0o/zIacrXFv2hdgTM7PbyLrP/NV2ZJ99K+phjIvbZJ+LooyMe+MCOLdJyCBAgQIAAAQIECBCYcQFHwMw4afENCmCKk7c+4cFphvTP83hmGvnuR8elka4MsvDCvDulcXIaj0vjykUryXFqvvjui9LIh7V8Io2fppGPjpn4cApS6+2bfII770yNS507PF0qedNNU1NTV3feeZYWY1oCBAgQIECAAAECBIoLCGCKk8/4hAKYGSftxAbzxXUPTSMHJt9dFK5cnT7ulsbpaWyWRg5n8uNeaXwwjb3TuCON/0oj3wXplkkqEcDMQnu/9710m6p0n6pr00li73xnxDOeEbGcP7mz0AlTEiBAgAABAgQIEJg9AQHM7NnP1Mz+GTdTksPYjgCmYJ8vTFfiyXc2ygFMvt7Ly18eseqqBRdgKgIECBAgQIAAAQIEOiMggOlMK5Z5IQKYZaYb5BsFMAXafs01EUcdFfHhD0c85zkRb3lLxAYbFJjYFAQIECBAgAABAgQIdFZAANPZ1kx5YQKYKVN5YRIQwLS4G6SLmseHPhRx5JHpqsjpssj5Qrtbb93ihDZNgAABAgQIECBAgEA1AgKYalq11IUKYOrvYckKBDAtaZ9ySnOKUb67dw5e9tyzpYlslgABAgQIECBAgACBKgUEMFW2bYlFC2Dq72HJCgQwLWi/730Rb3xjc3vpF7wgYsUVW5jEJgkQIECAAAECBAgQqFpAAFN1+xYuXgBTfw9LViCAmUHtfGvpfJHdk06K+OY3Ix75yBncuE0RIECAAAECBAgQINArAQFM/e0UwNTfw5IVCGBmSPu22yIOPjjixz+OyKcfbb75DG3YZggQIECAAAECBAgQ6KWAAKb+tgpg6u9hyQoEMDOgfd11EfvsE3HzzRHf+IY7HM0AqU0QIECAAAECBAgQ6L2AAKb+Fgtg6u9hyQoEMCNqX355xF57RWy2WcTnPhexxhojbtDbCRAgQIAAAQIECBAYhIAApv42C2Dq72HJCgQwI2j/4hdN+LL33hEnnOBiuyNQeisBAgQIECBAgACBwQkIYOpvuQCm/h6WrEAAs4zap58ese++Ea9+dcThh6erX/uTt4yS3kaAAAECBAgQIEBgmAICmPr77p+B9fewZAUCmGXQ/o//aG4v/cEPRhx00DJswFsIECBAgAABAgQIEBi8gACm/l1AAFN/D0tWIICZhvaCBRHvfnfE294W8YUvRDzpSdN4s5cSIECAAAECBAgQIEBgnIAApv7dQQBTfw9LViCAmaL2/PkRhx4a8cUvRnzrWxE77DDFN3oZAQIECBAgQIAAAQIEJhEQwNS/Wwhg6u9hyQoEMFPQvuWWiAMPjPjVryK+/e2ITTedwpu8hAABAgQIECBAgAABAncjIICpf/cQwNTfw5IVCGDuQfsvf4l46lMjll8+4mtfi1hvvZLtMRcBAgQIECBAgAABAn0VEMDU31kBTP09LFmBAOZutC+5JGLPPSO22Sbi05+OWG21kq0xFwECBAgQIECAAAECfRYQwNTfXQFM/T0sWYEAZinaZ58dsffeEQccEHHccRErrFCyLeYiQIAAAQIECBAgQKDvAgKY+jssgKm/hyUrEMBMon3KKRH77x/x5jdHvPKVEcv5U1VynzQXAQIECBAgQIAAgUEICGDqb7N/Ktbfw5IVCGAmaH/ykxEvfWnExz4W8cxnlmyFuQgQIECAAAECBAgQGJKAAKb+bgtg6u9hyQoEMIu0FyyIOOqo5nSjL385Yo89SrbBXAQIECBAgAABAgQIDE1AAFN/xwUw9fewZAUCmKR9xx0RL3lJxLe+1dxmetttS7bAXAQIECBAgAABAgQIDFFAAFN/1wUw9fewZAWDD2D++tfmQruXXdaELw94QEl+cxEgQIAAAQIECBAgMFQBAUz9nRfA1N/DkhUMOoC5+urmTkdrrtmcdrTuuiXpzUWAAAECBAgQIECAwJAFBDD1d18AU38PS1Yw2ADmoosi9twz4pGPjPjUpyJWWaUku7kIECBAgAABAgQIEBi6gACm/j1AAFN/D0tWMMgA5v/+L+IpT4l47nMj3vGOiOWXL0luLgIECBAgQIAAAQIECEQIYOrfCwQw9fewZAWDC2C+9rWIAw9sgpd8u2kPAgQIECBAgAABAgQIzIaAAGY21Gd2TgHMzHr2fWuDCmA+9KGIV7864uSTI/bdt++tVR8BAgQIECBAgAABAl0WEMB0uTtTW5sAZmpOXtUIDCKAWbAg4g1viPjIRyLyETCPeYz2EyBAgAABAgQIECBAYHYFBDCz6z8TswtgZkJxONvofQBz8cURr3xlxDnnNLeZ3mKL4TRXpQQIECBAgAABAgQIdFdAANPd3kx1ZQKYqUp5XRbobQCTbzH9trdFnHhic82Xt789YsMNNZ0AAQIECBAgQIAAAQLdEBDAdKMPo6xCADOK3vDe27sA5qabIo47LuLd74543OMijj46Yuuth9dYFRMgQIAAAQIECBAg0G0BAUy3+zOV1QlgpqLkNWMCvQlgbr894mMfizjyyIgHPzjine+MeOxjNZoAAQIECBAgQIAAAQLdFBDAdLMv01mVAGY6Wl5bfQCTL7D7hS9EHH54xIorRvzbv0U87WkRy/mTYO8mQIAAAQIECBAgQKDDAgKYDjdnikvzz84pQnnZQoGqA5jvfS/ita+N+P3vmyNfDj64CWE8CBAgQIAAAQIECBAg0HUBAUzXO3TP6xPA3LORVywWqDKAOffciNe9LuKss5qPL395xOqraysBAgQIECBAgAABAgTqERDA1NOrpa1UAFN/D0tWUFUAc+mlEW9+c8TnPx/xkpc0px3d+94lucxFgAABAgQIECBAgACBmREQwMyM42xuRQAzm/r1zV1FAPPnPzd3M/rQhyL23z/irW+NeOAD68O2YgIECBAgQIAAAQIECIwJCGDq3xcEMPX3cLIK0ok28bI01k3j1DRemMZVSyn10vT1TcZ9L12mNp6extcmeX2nA5ibb45473sX39HoHe+I2G67fjZYVQQIECBAgAABAgQIDEtAAFN/vwUw9fdwYgXPSV84No0D0sjhyvvTWC2N3ZdS6iXp6ym2iP9IY2x/uDY9TzdqvsujkwHMHXdEfPKTEUccEbHxxk0As/vSqu1fv1VEgAABAgQIECBAgMAABAQw9TdZAFN/DydWcHb6wpfSePuib2yUPv4ujR3S+Pkk5eYA5qg0PjEFik4FMPmW0l/5SsTrXx9x553NaUf77eeW0lPoo5cQIECAAAECBAgQIFCZgACmsoZNslwBTP09HF/ByumTdCJO7JHGD8Z946L0/F1pnLiUAGaV9PVV00g3aI505ZT44FJYOhPA/CBV95rXRFyS4qO3vCXiec+LWGmlfjVTNQQIECBAgAABAgQIEBgTEMDUvy8IYOrv4fgK7pc+uSKNLdO4cNw3zkzPv53G2FEx49/zL+mTfNTMDWk8Po13p/HaND4wCc2sBzDnn98c8fLf/90EMP/6rxFrrtmvJqqGAAECBAgQIECAAAECEwUEMPXvEwKY+ns4MYDJR7FsMSGAyUfDnLKUAGaiQLpZc+TryDykSwHM5Zc313j57GfTFYXTJYXf+MaI9dfvV/NUQ4AAAQIECBAgQIAAgaUJCGDq3zcEMPX3cHwFy3IK0kSBPdMX0pVVFp6SNPGx8AiYQw45JFZeOU8VMWfOnIWjrce16XLA+W5Gxx+fbs2U7s10VLpazYMe1NZstkuAAAECBAgQIECAAIHuCMydOzfyyI958+bFCSeckJ+uk0Y+g8GjMgEBTGUNm8Jyp3sR3ombTCf2xIvTmCzmKHYK0nXXRbznPc1tpR/5yObORn/3d1Oo3ksIECBAgAABAgQIECDQQwFHwNTfVAFM/T2cWMHB6QvHpPHMNPLdj45LY/U08oV5d0rj5DQel8aVaaRoI7ZP4/tp3JJGvgZMvm31kWnkW1lPfLQewOTgJYcueeTAJV9gd9dd+9ckFREgQIAAAQIECBAgQGA6AgKY6Wh187UCmG72ZdRV5YvoHppGDky+m8aL0rg6jd3SOD2NzdIYuzX1R9PzfM2YfE7RxWnkOyBNdgHevKbWApjrr29Cl3zUyw7phtk5eNktr9aDAAECBAgQIECAAAECBEIAU/9OIICpv4clK5jxACYHL+97XxO8bLddOvQmHXuz++4lSzIXAQIECBAgQIAAAQIEui8ggOl+j+5phQKYexLy/fECMxbA3JAuGZWDl+PSCVLbbtsEL3vkk6Q8CBAgQIAAAQIECBAgQOAuAgKY+ncKAUz9PSxZwcgBTA5e3p+uMpODl623Xhy8LGdPLNlHcxEgQIAAAQIECBAgUJmAAKayhk2yXP/srb+HJStY5gDmxhvThWXSlWWOTZf23XLLJnh5XLoUsOClZPvMRYAAAQIECBAgQIBArQICmFo7t3jdApj6e1iygmkHMDl4Of74dFumdF+mLdKlfnPw8vh0ryXBS8m2mYsAAQIECBAgQIAAgdoFBDC1dzD9O7j+ElRQUGDKAUwOXk44oQleHvrQJnh5whMELwV7ZSoCBAgQIECAAAECBHokIICpv5kCmPp7WLKCewxgbrqpCV7e/e6IzTdvgpcnPUnwUrJJ5iJAgAABAgQIECBAoH8CApj6eyqAqb+HJStYagCTg5cPfrAJXh784Ii3vCVizhzBS8nmmIsAAQIECBAgQIAAgf4KCGDq760Apv4elqzgLgHMX//aBC/velfEgx7UBC977il4KdkUcxEgQIAAAQIECBAg0H8BAUz9PRbA1N/DkhX8LYBZYYW140MfaoKXBz6wOdVor70ELyWbYS4CBAgQIECAAAECBIYjIICpv9cCmPp7WLKChQHM2952fbz//WvHJps0R7w8+cmCl5JNMBcBAgQIECBAgAABAsMTEMDU33MBTP09LFnBwgDm4Q+/Po46au3Ye2/BS0l8cxEgQIAAAQIECBAgMFwBAUz9vRfA1N/DkhUsDGCuu+76WGed/NSDAAECBAgQIECAAAECBEoICGBKKLc7hwCmXd++bf0eb0Pdt4LVQ4AAAQIECBAgQIAAgS4ICGC60IXR1iCAGc1vaO8WwAyt4+olQIAAAQIECBAgQKATAgKYTrRhpEUIYEbiG9ybBTCDa7mCCRAgQIAAAQIECBDogoAApgtdGG0NApjR/Ib2bgHM0DquXgIECBAgQIAAAQIEOiEggOlEG0ZahABmJL7BvVkAM7iWK5gAAQIECBAgQIAAgS4ICGC60IXR1iCAGc1vaO8WwAyt4+olQIAAAQIECBAgQKATAgKYTrRhpEUIYEbiG9ybBTCDa7mCCRAgQIAAAQIECBDogoAApgtdGG0NApjR/Ib2bgHM0DquXgIECBAgQIAAAQIEOiEggOlEG0ZahABmJL7BvVkAM7iWK5gAAQIECBAgQIAAgS4ICGC60IXR1iCAGc1vaO8WwAyt4+olQIAAAQIECBAgQKATAgKYTrRhpEUIYEbiG9ybBTCDa7mCCRAgQIAAAQIECBDogoAApgtdGG0NApjR/Ib2bgHM0DquXgIECBAgQIAAAQIEOiEggOlEG0ZahABmJL7BvVkAM7iWK5gAAQIECBAgQIAAgS4ICGC60IXR1iCAGc1vaO8WwAyt4+olQIAAAQIECBAgQKATAgKYTrRhpEUIYEbiG9ybBTCDa7mCCRAgQIAAAQIECBDogoAApgtdGG0NApjR/Ib2bgHM0DquXgIECBAgQIAAAQIEOiEggOlEG0ZahABmJL7BvVkAM7iWK5gAAQIECBAgQIAAgS4ICGC60IXR1iCAGc1vaO8WwAyt4+olQIAAAQIECBAgQKATAgKYTrRhpEUIYEbiG9ybBTCDa7mCCRAgQIAAAQIECBDogoAApgtdGG0NApjR/Ib2bgHM0DquXgIECBAgQIAAAQIEOiEggOlEG0ZahABmJL7BvVkAM7iWK5gAAQIECBAgQIAAgS4ICGC60IXR1iCAGc1vaO8WwAyt4+olQIAAAQIECBAgQKATAgKYTrRhpEUIYEbiG9ybBTCDa7mCCRAgQIAAAQIECBDogoAApgtdGG0NApjR/Ib2bgHM0DquXgIECBAgQIAAAQIEOiEggOlEG0ZahABmJL7BvVkAM7iWK5gAAQIECBAgQIAAgS4ICGC60IXR1iCAGc2vq+9+XVrYy9JYN41T03hhGlfdw2I3Sd//RRrXp5GfT/YQwHS149ZFgAABAgQIECBAgECvBQRgXmpLAAAI1klEQVQw9bdXAFN/DydW8Jz0hWPTOCCNS9N4fxqrpbH7PZR6evr+rWlsI4Dp306hIgIECBAgQIAAAQIE6hYQwNTdv7x6AUz9PZxYwdnpC19K4+2LvrFR+vi7NHZI4+dLKfew9PVd0vhGGkd1LYCZO3duzJkzp2inzNkeN9t2bLm245q3ypbtqAL2oVEFl/5+tv2x1cv+9NLPzvZ6KYBpz7bUlgUwpaTLzLNymubmNPZI4wfjprwoPX9XGidOsoyt0te+lcaOaezdxQDmsMMOi+OOO66M4KJZzNkeN9t2bLm245q3ypbtqAL2oVEFl/5+tv2x1cv+9NLPzvZ6KYBpz7bUlgUwpaTLzHO/NM0VaWyZxoXjpjwzPf92GmNHxYx9a8X05IeLvv7l9PEgAUxD45eA9nZYtu3Ycm3H1d8H7bmyZTsTAv7umwnFybdR2rb0fP4Oam/fYduerQCmPdtSWxbAlJIuM08OYH6fxhZpjA9g8tEwp0wSwByZvvaQNP5p0fIOTh/fmsbdXoT38ssvj7XXztfjLfM4/PDD4+ijjy4z2aJZzNkeN9t2bLm245q3ypbtqAL2oVEFl/5+tv2x1cv+9NLPzvZ6mQOYjTfeOE+wTho3tDeTLbclIIBpS3Z2tjvdU5C+l5b52HFLzfvD8mnckcaT08h3UBr/yNeTyUfYeBAgQIAAAQIECBAgQIDA7Ag8IE2b/8e7R2UCApjKGjaF5U7nIrwPTNtbY9w290nPX5rG49O4LI18PZnxj7y/3D+NG6ewDi8hQIAAAQIECBAgQIAAgZkVWCtt7g9pLJjZzdpaCQEBTAnlsnMcnKY7Jo1nppHvfpSvXrt6GvnCvDulcXIaj0vjykmWdU/XgClbidkIECBAgAABAgQIECBAgEBPBAQwPWnkhDJemz4/NI18oZbvpvGiNK5OY7c0Tk9jszRyODPxIYDp5/6gKgIECBAgQIAAAQIECBCYZQEBzCw3oKLp85E0T08jn7a0TRq/LLD2Icw5hBrzrqLO9v7ADMU2X2T839PIH/PPrgvSeGEaf26PduFcJecsPV+mM2d7OxBbtqMK2IdGFVz6+9m2Y8u1HdfZ+nndXjUD3rIAZsDNn2bpj0mvvzSNfEelpxQKYIYw5xBqzLuaOqf5B24aLx+K7QbJJN+h7SeLbI5NH9dP49nTsJruS0vPWXq+7GHO6e4VU38926lbTfeVbKcrNvXXs5261XRfOQTbIdQ4pJ+d093HvX4KAgKYKSB5yRICl6TP9i4UwIxNPIQ5h1Bj7qc62/sLZSi2Y4JPTU9emcbu7ZHeZcul5yw9Xy7YnO3tUGzZjipgHxpVcOnvZ9uOLdd2XGfr53V71QxoywKYATV7hkodyj/yStdZej5hyAz9gVjKZvSzXd/8s+vUNL6UxgntTvW3rZees/R8uVBztrczsWU7qoB9aFTBpb+fbTu2XNtxna2f1+1VM7AtC2AG1vAZKNc/LGcAcZJNcG3HVdDUnuts2eZ5P5TGemkc0G55S2y99Jyl5xuKqzrb/UNjv23Ply3bUQVK70Ol5/P3+6h7iPcXERDAFGHu1SSCgnbaybUd19kKCfSzvX6+P206XwtmvzTmtzfNElsuPWfp+XKx5mxvZ2LLdlQB+9Cogkt/P9t2bLm24zpbP6/bq2aAWxbADLDpI5bsH5YjAi7l7VzbcRXAtOc6G7b5F7oHpZHvyHZ7u6X9beul5yw939gvc313VWe7f2Dst+35smU7qkDpfaj0fP5+H3UP8f6iAgKYotxVT3Z8Wv0/pLFhGvm2rzel8dCWKxrCnEOoMe8m6mzvD8tQbB+dCPNd2PLtp+ct4rw4fcxHwrT1KD1n6fmymznb2nvY9unPpj8r/fq7Vj/b66efKf36mdJeNQPesgBmwM1XOgECBAgQIECAAAECBAgQIFBGQABTxtksBAgQIECAAAECBAgQIECAwIAFBDADbr7SCRAgQIAAAQIECBAgQIAAgTICApgyzmYhQIAAAQIECBAgQIDA/2/HjmkAAAAQhvl3jQueVQGhfBAgQCAs4IAJj686AQIECBAgQIAAAQIECBAg8BFwwHycpRAgQIAAAQIECBAgQIAAAQJhAQdMeHzVCRAgQIAAAQIECBAgQIAAgY+AA+bjLIUAAQIECBAgQIAAAQIECBAICzhgwuOrToAAAQIECBAgQIAAAQIECHwEHDAfZykECBAgQIAAAQIECBAgQIBAWMABEx5fdQIECBAgQIAAAQIECBAgQOAj4ID5OEshQIAAAQIECBAgQIAAAQIEwgIOmPD4qhMgQIAAAQIECBAgQIAAAQIfAQfMx1kKAQIECBAgQIAAAQIECBAgEBZwwITHV50AAQIECBAgQIAAAQIECBD4CDhgPs5SCBAgQIAAAQIECBAgQIAAgbCAAyY8vuoECBAgQIAAAQIECBAgQIDAR8AB83GWQoAAAQIECBAgQIAAAQIECIQFHDDh8VUnQIAAAQIECBAgQIAAAQIEPgIOmI+zFAIECBAgQIAAAQIECBAgQCAs4IAJj686AQIECBAgQIAAAQIECBAg8BFwwHycpRAgQIAAAQIECBAgQIAAAQJhAQdMeHzVCRAgQIAAAQIECBAgQIAAgY+AA+bjLIUAAQIECBAgQIAAAQIECBAICzhgwuOrToAAAQIECBAgQIAAAQIECHwEHDAfZykECBAgQIAAAQIECBAgQIBAWMABEx5fdQIECBAgQIAAAQIECBAgQOAj4ID5OEshQIAAAQIECBAgQIAAAQIEwgIOmPD4qhMgQIAAAQIECBAgQIAAAQIfAQfMx1kKAQIECBAgQIAAAQIECBAgEBZwwITHV50AAQIECBAgQIAAAQIECBD4CDhgPs5SCBAgQIAAAQIECBAgQIAAgbCAAyY8vuoECBAgQIAAAQIECBAgQIDAR8AB83GWQoAAAQIECBAgQIAAAQIECIQFHDDh8VUnQIAAAQIECBAgQIAAAQIEPgIOmI+zFAIECBAgQIAAAQIECBAgQCAsMKqmWZRKo8CzAAAAAElFTkSuQmCC\">"
      ],
      "text/plain": [
       "<IPython.core.display.HTML object>"
      ]
     },
     "metadata": {},
     "output_type": "display_data"
    }
   ],
   "source": [
    "plt.figure(figsize=(14,6))\n",
    "x_val = [x[0][1] for x in c_df]\n",
    "y_val = [x[1] for x in c_df]\n",
    "plt.plot(range(len(y_val)), y_val)\n",
    "plt.xticks(range(len(x_val)), x_val, size='small')\n",
    "plt.show()"
   ]
  },
  {
   "cell_type": "markdown",
   "metadata": {},
   "source": [
    "#### finally you can view the explain plan generated by catalyst optimizer"
   ]
  },
  {
   "cell_type": "code",
   "execution_count": 18,
   "metadata": {
    "collapsed": false
   },
   "outputs": [
    {
     "name": "stdout",
     "output_type": "stream",
     "text": [
      "== Physical Plan ==\n",
      "*Sort [Time#4 ASC NULLS FIRST], true, 0\n",
      "+- Exchange rangepartitioning(Time#4 ASC NULLS FIRST, 200)\n",
      "   +- *HashAggregate(keys=[Location#1, Time#4], functions=[sum((cast(Value#11 as double) * 1000.0))])\n",
      "      +- Exchange hashpartitioning(Location#1, Time#4, 200)\n",
      "         +- *HashAggregate(keys=[Location#1, Time#4], functions=[partial_sum((cast(Value#11 as double) * 1000.0))])\n",
      "            +- *Project [Location#1, Time#4, Value#11]\n",
      "               +- *Filter (isnotnull(Sex#7) && (Sex#7 = \"Both\"))\n",
      "                  +- *FileScan parquet [Location#1,Time#4,Sex#7,Value#11] Batched: true, Format: Parquet, Location: InMemoryFileIndex[file:/eos/user/p/pkothuri/sparkTraining/data/UN_Pop_Stats.parquet], PartitionFilters: [], PushedFilters: [IsNotNull(Sex), EqualTo(Sex,\"Both\")], ReadSchema: struct<Location:string,Time:string,Sex:string,Value:string>\n"
     ]
    }
   ],
   "source": [
    "y_df.explain()"
   ]
  },
  {
   "cell_type": "markdown",
   "metadata": {},
   "source": [
    "### Hands-On 3 - This demostrates how DataFrame can be persisted as table and issue queries against it"
   ]
  },
  {
   "cell_type": "markdown",
   "metadata": {},
   "source": [
    "#### persist the DataFrame as temporary table"
   ]
  },
  {
   "cell_type": "code",
   "execution_count": null,
   "metadata": {
    "collapsed": true
   },
   "outputs": [],
   "source": [
    "wh_df.registerTempTable(\"Vistor_Records\")"
   ]
  },
  {
   "cell_type": "markdown",
   "metadata": {},
   "source": [
    "#### You can now use issue the queries against this table using sqlContext.sql interface\n",
    "*Count the vistors by last name*"
   ]
  },
  {
   "cell_type": "code",
   "execution_count": null,
   "metadata": {
    "collapsed": false
   },
   "outputs": [],
   "source": [
    "count_by_name = sqlContext.sql(\"select NAMELAST, count(1) as count from Vistor_Records group by NAMELAST order by count desc\")"
   ]
  },
  {
   "cell_type": "code",
   "execution_count": null,
   "metadata": {
    "collapsed": false
   },
   "outputs": [],
   "source": [
    "count_by_name.show()"
   ]
  },
  {
   "cell_type": "markdown",
   "metadata": {},
   "source": [
    "*count the number of vistors by year*"
   ]
  },
  {
   "cell_type": "code",
   "execution_count": null,
   "metadata": {
    "collapsed": false
   },
   "outputs": [],
   "source": [
    "count_by_day = sqlContext.sql(\"select year(APPT_START_DATE), count(1) as count from Vistor_Records \\\n",
    "    where APPT_START_DATE is not null \\\n",
    "    group by year(APPT_START_DATE) \\\n",
    "    order by year(APPT_START_DATE)\").collect()"
   ]
  },
  {
   "cell_type": "code",
   "execution_count": null,
   "metadata": {
    "collapsed": false
   },
   "outputs": [],
   "source": [
    "plt.figure(figsize=(14,6))\n",
    "x_val = [x[0] for x in sorted(count_by_day)]\n",
    "y_val = [x[1] for x in sorted(count_by_day)]\n",
    "plt.bar(range(len(y_val)), y_val)\n",
    "plt.xticks(range(len(x_val)), x_val, size='small')\n",
    "plt.show()"
   ]
  },
  {
   "cell_type": "markdown",
   "metadata": {},
   "source": [
    "#### Count the number of vistors by weekday\n",
    "*This demonstrates how you can create UDF - user defined function*"
   ]
  },
  {
   "cell_type": "code",
   "execution_count": null,
   "metadata": {
    "collapsed": false
   },
   "outputs": [],
   "source": [
    "from datetime import datetime\n",
    "from pyspark.sql.types import StringType\n",
    "def get_weekday(str):\n",
    "    return str.strftime(\"%A\")\n",
    "sqlContext.registerFunction(\"get_weekday\", lambda x: \\\n",
    "                            get_weekday(x), \\\n",
    "                            StringType())"
   ]
  },
  {
   "cell_type": "code",
   "execution_count": null,
   "metadata": {
    "collapsed": false
   },
   "outputs": [],
   "source": [
    "count_by_wday = sqlContext.sql(\"select get_weekday(APPT_START_DATE), count(1) as count from Vistor_Records \\\n",
    "    where APPT_START_DATE is not null \\\n",
    "    group by get_weekday(APPT_START_DATE) \\\n",
    "    order by count desc\")"
   ]
  },
  {
   "cell_type": "code",
   "execution_count": null,
   "metadata": {
    "collapsed": false
   },
   "outputs": [],
   "source": [
    "count_by_wday.show()"
   ]
  },
  {
   "cell_type": "markdown",
   "metadata": {},
   "source": [
    "#### Finally lets produce histogram on the group size"
   ]
  },
  {
   "cell_type": "code",
   "execution_count": null,
   "metadata": {
    "collapsed": false
   },
   "outputs": [],
   "source": [
    "group_size = sqlContext.sql(\"select distinct UIN, Total_People from Vistor_Records \\\n",
    "    where Total_People > 30 \\\n",
    "    and Total_People < 200\").collect()"
   ]
  },
  {
   "cell_type": "code",
   "execution_count": null,
   "metadata": {
    "collapsed": false
   },
   "outputs": [],
   "source": [
    "import numpy as np\n",
    "plt.figure(figsize=(14,6))\n",
    "x_val = [int(x[1]) for x in group_size]\n",
    "print min(x_val),max(x_val)\n",
    "bins = np.arange(min(x_val), max(x_val), 10) \n",
    "n, bins, patches = plt.hist(x_val, bins=bins, facecolor='green')"
   ]
  },
  {
   "cell_type": "markdown",
   "metadata": {},
   "source": [
    "### Hands-On 4 - Construct the dataframes using json\n",
    "*This demonstrates how json can be manipulated using dataframes*"
   ]
  },
  {
   "cell_type": "markdown",
   "metadata": {},
   "source": [
    "#### Read a json into a dataframe"
   ]
  },
  {
   "cell_type": "code",
   "execution_count": 20,
   "metadata": {
    "collapsed": false,
    "scrolled": true
   },
   "outputs": [],
   "source": [
    "df_json = sqlContext.read.json('/eos/user/p/pkothuri/hadoop-tutorials-data/meetup-final.json')"
   ]
  },
  {
   "cell_type": "markdown",
   "metadata": {},
   "source": [
    "#### dataframe can infer schema from json file"
   ]
  },
  {
   "cell_type": "code",
   "execution_count": 21,
   "metadata": {
    "collapsed": false,
    "scrolled": true
   },
   "outputs": [
    {
     "name": "stdout",
     "output_type": "stream",
     "text": [
      "root\n",
      " |-- event: struct (nullable = true)\n",
      " |    |-- event_id: string (nullable = true)\n",
      " |    |-- event_name: string (nullable = true)\n",
      " |    |-- event_url: string (nullable = true)\n",
      " |    |-- time: long (nullable = true)\n",
      " |-- group: struct (nullable = true)\n",
      " |    |-- group_city: string (nullable = true)\n",
      " |    |-- group_country: string (nullable = true)\n",
      " |    |-- group_id: long (nullable = true)\n",
      " |    |-- group_lat: double (nullable = true)\n",
      " |    |-- group_lon: double (nullable = true)\n",
      " |    |-- group_name: string (nullable = true)\n",
      " |    |-- group_state: string (nullable = true)\n",
      " |    |-- group_topics: array (nullable = true)\n",
      " |    |    |-- element: struct (containsNull = true)\n",
      " |    |    |    |-- topic_name: string (nullable = true)\n",
      " |    |    |    |-- urlkey: string (nullable = true)\n",
      " |    |-- group_urlname: string (nullable = true)\n",
      " |-- guests: long (nullable = true)\n",
      " |-- member: struct (nullable = true)\n",
      " |    |-- member_id: long (nullable = true)\n",
      " |    |-- member_name: string (nullable = true)\n",
      " |    |-- other_services: struct (nullable = true)\n",
      " |    |    |-- facebook: struct (nullable = true)\n",
      " |    |    |    |-- identifier: string (nullable = true)\n",
      " |    |    |-- flickr: struct (nullable = true)\n",
      " |    |    |    |-- identifier: string (nullable = true)\n",
      " |    |    |-- linkedin: struct (nullable = true)\n",
      " |    |    |    |-- identifier: string (nullable = true)\n",
      " |    |    |-- tumblr: struct (nullable = true)\n",
      " |    |    |    |-- identifier: string (nullable = true)\n",
      " |    |    |-- twitter: struct (nullable = true)\n",
      " |    |    |    |-- identifier: string (nullable = true)\n",
      " |    |-- photo: string (nullable = true)\n",
      " |-- mtime: long (nullable = true)\n",
      " |-- response: string (nullable = true)\n",
      " |-- rsvp_id: long (nullable = true)\n",
      " |-- venue: struct (nullable = true)\n",
      " |    |-- lat: double (nullable = true)\n",
      " |    |-- lon: double (nullable = true)\n",
      " |    |-- venue_id: long (nullable = true)\n",
      " |    |-- venue_name: string (nullable = true)\n",
      " |-- visibility: string (nullable = true)\n",
      "\n"
     ]
    }
   ],
   "source": [
    "df_json.printSchema()"
   ]
  },
  {
   "cell_type": "markdown",
   "metadata": {},
   "source": [
    "#### Top events by rsvp's"
   ]
  },
  {
   "cell_type": "code",
   "execution_count": 28,
   "metadata": {
    "collapsed": false
   },
   "outputs": [
    {
     "name": "stdout",
     "output_type": "stream",
     "text": [
      "+--------------------+-------------------+--------------------+-----+\n",
      "| event['event_name']|group['group_city']| venue['venue_name']|count|\n",
      "+--------------------+-------------------+--------------------+-----+\n",
      "|Kundalini Yoga an...|          Las Vegas|RYK Yoga and Medi...| 1027|\n",
      "|    FRIDAY Badminton|             London|Chobham Academy, ...|  575|\n",
      "|July meetup (on a...|           New York|                null|  332|\n",
      "|Let's watch a mov...|        Los Angeles|                null|  288|\n",
      "|Singles Party * H...|    Fort Lauderdale|   Boca Resto Lounge|  253|\n",
      "|React Sydney July...|             Sydney|          BlueChilli|  253|\n",
      "|Election Extravag...|          Melbourne|                null|  215|\n",
      "|Professional Morn...|           New York|           Insperity|  196|\n",
      "|Data Science in t...|           New York|      Metis New York|  187|\n",
      "|Best of Criteo La...|              Paris|              Criteo|  181|\n",
      "|Mini Curso Gratui...|          São Paulo|         .NET CODERS|  172|\n",
      "|Fun & serious Lan...|              Tokyo|        Kaiteki Café|  165|\n",
      "|Age 30+ Winter Si...|          Melbourne|                null|  162|\n",
      "|     July Full Indie|          Vancouver|The Butcher and B...|  160|\n",
      "|Mammoth Language ...|             London|                null|  153|\n",
      "|Meet & Mingle @ M...|    Fort Lauderdale|             Mai-Kai|  151|\n",
      "|Come to FREE Engl...|           New York|St Giles Internat...|  150|\n",
      "|Easy 2 part Hike ...|        Los Angeles|intersection of C...|  143|\n",
      "|Entrepreneurs Bre...|           New York|           Insperity|  142|\n",
      "|Management of a G...|      Mountain View|                null|  140|\n",
      "+--------------------+-------------------+--------------------+-----+\n",
      "only showing top 20 rows\n",
      "\n"
     ]
    }
   ],
   "source": [
    "df_json.groupBy(df_json.event.event_name,df_json.group.group_city,df_json.venue.venue_name) \\\n",
    "    .count() \\\n",
    "    .orderBy(\"count\", ascending = False) \\\n",
    "    .show()"
   ]
  },
  {
   "cell_type": "markdown",
   "metadata": {},
   "source": [
    "#### what if the json contains an array, no problem we can explode it"
   ]
  },
  {
   "cell_type": "code",
   "execution_count": 29,
   "metadata": {
    "collapsed": true,
    "scrolled": true
   },
   "outputs": [],
   "source": [
    "from pyspark.sql.functions import explode"
   ]
  },
  {
   "cell_type": "code",
   "execution_count": 30,
   "metadata": {
    "collapsed": false,
    "scrolled": true
   },
   "outputs": [
    {
     "name": "stdout",
     "output_type": "stream",
     "text": [
      "+--------------------+--------------------+\n",
      "|    event.event_name|                 col|\n",
      "+--------------------+--------------------+\n",
      "|Saturday Morning ...|[Weight Loss,weig...|\n",
      "|Saturday Morning ...|[Nutrition,nutrit...|\n",
      "|Saturday Morning ...|[Half Marathon,ha...|\n",
      "|Saturday Morning ...|   [Fitness,fitness]|\n",
      "|Saturday Morning ...|    [Bicycling,bike]|\n",
      "|Saturday Morning ...|     [Hiking,hiking]|\n",
      "|Saturday Morning ...|   [Running,running]|\n",
      "|Saturday Morning ...|[Exercise,excercise]|\n",
      "|Saturday Morning ...|[Weight Loss Supp...|\n",
      "|Saturday Morning ...|[Outdoor  Fitness...|\n",
      "|Saturday Morning ...| [Marathon,marathon]|\n",
      "|Saturday Morning ...|[Racewalking,race...|\n",
      "|Saturday Morning ...|[stretching,stret...|\n",
      "|Saturday Morning ...|[Mountain Biking,...|\n",
      "|Saturday Morning ...|[Core Strength Tr...|\n",
      "|Last Minute Laser...|[Fun Times,fun-ti...|\n",
      "|Last Minute Laser...|[Activities,activ...|\n",
      "|Last Minute Laser...|[Game Night,game-...|\n",
      "|Last Minute Laser...|[Board Games,boar...|\n",
      "|Last Minute Laser...|[Games: Party Gam...|\n",
      "+--------------------+--------------------+\n",
      "only showing top 20 rows\n",
      "\n"
     ]
    }
   ],
   "source": [
    "df_json.select(df_json.event.event_name,explode(\"group.group_topics\")).show()"
   ]
  }
 ],
 "metadata": {
  "kernelspec": {
   "display_name": "Python 2",
   "language": "python",
   "name": "python2"
  },
  "language_info": {
   "codemirror_mode": {
    "name": "ipython",
    "version": 2
   },
   "file_extension": ".py",
   "mimetype": "text/x-python",
   "name": "python",
   "nbconvert_exporter": "python",
   "pygments_lexer": "ipython2",
   "version": "2.7.13"
  }
 },
 "nbformat": 4,
 "nbformat_minor": 0
}
