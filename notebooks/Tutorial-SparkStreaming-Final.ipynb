{
 "cells": [
  {
   "cell_type": "markdown",
   "metadata": {},
   "source": [
    "## This notebook is part of Hadoop and Spark training delivered by IT-DB group\n",
    "### SPARK Streaming Hands-On Lab\n",
    "_ by Prasanth Kothuri _"
   ]
  },
  {
   "cell_type": "markdown",
   "metadata": {},
   "source": [
    "### Hands-On 1 - Stream processing using Spark Streaming and Kafka\n",
    "*This demonstrates processing of unbounded data from Kafka topic and perform simple string manipulations and aggregations*"
   ]
  },
  {
   "cell_type": "markdown",
   "metadata": {},
   "source": [
    "#### Import the required modules"
   ]
  },
  {
   "cell_type": "code",
   "execution_count": 1,
   "metadata": {
    "collapsed": true
   },
   "outputs": [],
   "source": [
    "import os\n",
    "import json\n",
    "from pyspark import SparkConf, SparkContext\n",
    "from pyspark.sql import SparkSession\n",
    "from pyspark.streaming import StreamingContext\n",
    "from pyspark.streaming.kafka import KafkaUtils"
   ]
  },
  {
   "cell_type": "markdown",
   "metadata": {},
   "source": [
    "#### Make spark streaming kafka module available to Spark executors"
   ]
  },
  {
   "cell_type": "code",
   "execution_count": 2,
   "metadata": {
    "collapsed": true
   },
   "outputs": [],
   "source": [
    "os.environ['PYSPARK_SUBMIT_ARGS'] = '--packages org.apache.spark:spark-streaming-kafka-0-8_2.11:2.1.0 pyspark-shell'"
   ]
  },
  {
   "cell_type": "markdown",
   "metadata": {},
   "source": [
    "#### Create SparkContext"
   ]
  },
  {
   "cell_type": "code",
   "execution_count": 3,
   "metadata": {
    "collapsed": true
   },
   "outputs": [],
   "source": [
    "conf = SparkConf().setMaster(\"local[*]\").set(\"spark.driver.memory\", \"4g\")\n",
    "sc = SparkContext(conf = conf)"
   ]
  },
  {
   "cell_type": "markdown",
   "metadata": {},
   "source": [
    "#### Create streaming context"
   ]
  },
  {
   "cell_type": "code",
   "execution_count": 4,
   "metadata": {
    "collapsed": true
   },
   "outputs": [],
   "source": [
    "ssc = StreamingContext(sc, 60)"
   ]
  },
  {
   "cell_type": "markdown",
   "metadata": {},
   "source": [
    "#### Hook upto kafka topic"
   ]
  },
  {
   "cell_type": "code",
   "execution_count": 5,
   "metadata": {
    "collapsed": true
   },
   "outputs": [],
   "source": [
    "kafkaStream = KafkaUtils.createStream(ssc, 'sstreaming:2181', 'spark-streaming-pkothuri', {'twitter_json':1})"
   ]
  },
  {
   "cell_type": "markdown",
   "metadata": {},
   "source": [
    "#### Parse the messages into json"
   ]
  },
  {
   "cell_type": "code",
   "execution_count": 6,
   "metadata": {
    "collapsed": true
   },
   "outputs": [],
   "source": [
    "tweets_json = kafkaStream.map(lambda x: json.loads(x[1]))"
   ]
  },
  {
   "cell_type": "markdown",
   "metadata": {},
   "source": [
    "#### Number of tweets in each batch"
   ]
  },
  {
   "cell_type": "code",
   "execution_count": 7,
   "metadata": {
    "collapsed": true
   },
   "outputs": [],
   "source": [
    "tweets_json.count().map(lambda x:'Number of tweets in this batch: %s' % x).pprint()"
   ]
  },
  {
   "cell_type": "markdown",
   "metadata": {},
   "source": [
    "#### json returned from kafka\n",
    "```json\n",
    "{\n",
    "  \"payload\": {\n",
    "    \"id\": 935610640634449900,\n",
    "    \"created_at\": \"2017-11-28T20:45:34.000+0000\",\n",
    "    \"user\": {\n",
    "      \"id\": 290028823,\n",
    "      \"name\": \"TDB68\",\n",
    "      \"screen_name\": \"tbell1968\",\n",
    "      \"location\": \"Dallas\",\n",
    "      \"verified\": false,\n",
    "      \"friends_count\": 3031,\n",
    "      \"followers_count\": 2755,\n",
    "      \"statuses_count\": 60606\n",
    "    },\n",
    "    \"text\": \"RT @paulkrugman: At this point everyone should know that dynamic scoring won't make much difference; JCT estimate likely to look a l… \",\n",
    "    \"lang\": \"en\",\n",
    "    \"is_retweet\": true,\n",
    "    \"entities\": {\n",
    "      \"hashtags\": [],\n",
    "      \"media\": [],\n",
    "      \"urls\": [],\n",
    "      \"user_mentions\": [\n",
    "        {\n",
    "          \"id\": 17006157,\n",
    "          \"name\": \"Paul Krugman\",\n",
    "          \"screen_name\": \"paulkrugman\"\n",
    "        }\n",
    "      ]\n",
    "    }\n",
    "  }\n",
    "}\n",
    "```"
   ]
  },
  {
   "cell_type": "markdown",
   "metadata": {},
   "source": [
    "#### Count tweets by location"
   ]
  },
  {
   "cell_type": "code",
   "execution_count": 8,
   "metadata": {
    "collapsed": true
   },
   "outputs": [],
   "source": [
    "location_counts = tweets_json.map(lambda tweet: tweet['payload']['user']['location']).countByValue()"
   ]
  },
  {
   "cell_type": "code",
   "execution_count": 9,
   "metadata": {
    "collapsed": true
   },
   "outputs": [],
   "source": [
    "top_locations = location_counts \\\n",
    "    .transform( (lambda foo:foo .sortBy(lambda x:( -x[1]))) ) \\\n",
    "    .transform(lambda rdd:sc.parallelize(rdd.take(5)))"
   ]
  },
  {
   "cell_type": "code",
   "execution_count": 10,
   "metadata": {
    "collapsed": true
   },
   "outputs": [],
   "source": [
    "top_locations.pprint()"
   ]
  },
  {
   "cell_type": "markdown",
   "metadata": {},
   "source": [
    "#### High frequency words in the tweets"
   ]
  },
  {
   "cell_type": "code",
   "execution_count": 11,
   "metadata": {
    "collapsed": true
   },
   "outputs": [],
   "source": [
    "tweets_json \\\n",
    "    .flatMap(lambda tweet:tweet['payload']['text'].split(\" \")) \\\n",
    "    .countByValue() \\\n",
    "    .transform(lambda rdd:rdd.sortBy(lambda x:-x[1])) \\\n",
    "    .pprint()"
   ]
  },
  {
   "cell_type": "markdown",
   "metadata": {},
   "source": [
    "#### Start the streaming context"
   ]
  },
  {
   "cell_type": "code",
   "execution_count": null,
   "metadata": {},
   "outputs": [
    {
     "name": "stdout",
     "output_type": "stream",
     "text": [
      "-------------------------------------------\n",
      "Time: 2017-11-29 07:01:00\n",
      "-------------------------------------------\n",
      "Number of tweets in this batch: 1720\n",
      "\n",
      "-------------------------------------------\n",
      "Time: 2017-11-29 07:01:00\n",
      "-------------------------------------------\n",
      "(None, 548)\n",
      "(u'Los Angeles, CA', 23)\n",
      "(u'United States', 16)\n",
      "(u'Worldwide', 14)\n",
      "(u'Sydney, New South Wales', 13)\n",
      "\n",
      "-------------------------------------------\n",
      "Time: 2017-11-29 07:01:00\n",
      "-------------------------------------------\n",
      "(u'RT', 1000)\n",
      "(u'', 733)\n",
      "(u'the', 443)\n",
      "(u'to', 324)\n",
      "(u'a', 258)\n",
      "(u'of', 231)\n",
      "(u'and', 206)\n",
      "(u'in', 205)\n",
      "(u'-', 200)\n",
      "(u'is', 188)\n",
      "...\n",
      "\n",
      "-------------------------------------------\n",
      "Time: 2017-11-29 07:02:00\n",
      "-------------------------------------------\n",
      "Number of tweets in this batch: 2423\n",
      "\n",
      "-------------------------------------------\n",
      "Time: 2017-11-29 07:02:00\n",
      "-------------------------------------------\n",
      "(None, 829)\n",
      "(u'CN', 23)\n",
      "(u'United States', 19)\n",
      "(u'India', 17)\n",
      "(u'Gurgaon', 15)\n",
      "\n",
      "-------------------------------------------\n",
      "Time: 2017-11-29 07:02:00\n",
      "-------------------------------------------\n",
      "(u'RT', 1446)\n",
      "(u'', 1016)\n",
      "(u'the', 591)\n",
      "(u'to', 428)\n",
      "(u'a', 328)\n",
      "(u'of', 317)\n",
      "(u'in', 300)\n",
      "(u'and', 284)\n",
      "(u'-', 276)\n",
      "(u'is', 244)\n",
      "...\n",
      "\n"
     ]
    }
   ],
   "source": [
    "ssc.start()\n",
    "ssc.awaitTermination(timeout=180)"
   ]
  },
  {
   "cell_type": "markdown",
   "metadata": {},
   "source": [
    "#### stop the streaming context"
   ]
  },
  {
   "cell_type": "code",
   "execution_count": null,
   "metadata": {
    "collapsed": true
   },
   "outputs": [],
   "source": [
    "ssc.stop()"
   ]
  },
  {
   "cell_type": "markdown",
   "metadata": {},
   "source": [
    "### Hands-On 2 - Stream processing using Spark Streaming and Kafka\n",
    "*This demonstrates spark streaming window operations*"
   ]
  },
  {
   "cell_type": "markdown",
   "metadata": {},
   "source": [
    "#### Restart the kernel to clear all the variables; we are going to create streaming context again\n",
    "In the top menu, Kernel -> Restart"
   ]
  },
  {
   "cell_type": "markdown",
   "metadata": {},
   "source": [
    "#### Import the required modules"
   ]
  },
  {
   "cell_type": "code",
   "execution_count": null,
   "metadata": {
    "collapsed": true
   },
   "outputs": [],
   "source": [
    "import os\n",
    "import json\n",
    "from pyspark import SparkConf, SparkContext\n",
    "from pyspark.sql import SparkSession\n",
    "from pyspark.streaming import StreamingContext\n",
    "from pyspark.streaming.kafka import KafkaUtils"
   ]
  },
  {
   "cell_type": "markdown",
   "metadata": {},
   "source": [
    "#### Make spark streaming kafka module available to Spark executors"
   ]
  },
  {
   "cell_type": "code",
   "execution_count": null,
   "metadata": {
    "collapsed": true
   },
   "outputs": [],
   "source": [
    "os.environ['PYSPARK_SUBMIT_ARGS'] = '--packages org.apache.spark:spark-streaming-kafka-0-8_2.11:2.1.0 pyspark-shell'"
   ]
  },
  {
   "cell_type": "markdown",
   "metadata": {},
   "source": [
    "#### Window functionality stream processing code"
   ]
  },
  {
   "cell_type": "code",
   "execution_count": null,
   "metadata": {
    "collapsed": true
   },
   "outputs": [],
   "source": [
    "def createStreamingContext():  \n",
    "    conf = SparkConf().setMaster(\"local[*]\").set(\"spark.driver.memory\", \"2g\").set(\"spark.executor.memory\", \"2g\")\n",
    "    sc = SparkContext(conf = conf)\n",
    "    ssc = StreamingContext(sc, 10)\n",
    "\n",
    "    # Hook upto kafka topic (streamingcontext, zookeeper endpoint, consumer_name, dictionary of topic and offset)\n",
    "    kafkaStream = KafkaUtils.createStream(ssc, 'sstreaming:2181', 'spark-streaming-pkothuri', {'twitter_json':1})\n",
    "\n",
    "    # Extract and parse the tweets\n",
    "    tweets_json = kafkaStream.map(lambda x: json.loads(x[1]))\n",
    "    \n",
    "    # Number of tweets in this batch\n",
    "    count_this_batch = kafkaStream.count().map(lambda x:('Tweets this batch: %s' % x))\n",
    "\n",
    "    # One minute rolling counts\n",
    "    count_windowed = kafkaStream.countByWindow(60,10).map(lambda x:('Tweets total (One minute rolling count): %s' % x))\n",
    "    \n",
    "    # Top 10 hashtags\n",
    "    hashTags = tweets_json.map(lambda tweet: tweet['payload']['text']) \\\n",
    "                            .flatMap(lambda x : x.split(\" \")) \\\n",
    "                            .filter(lambda x: x.startswith(\"#\"))\n",
    "                                                  \n",
    "    count_hashTags = hashTags.countByValue() \\\n",
    "                                .transform(lambda rdd:rdd .sortBy(lambda x:-x[1])) \\\n",
    "                                .map(lambda x:\"hashTag counts this batch:\\tValue %s\\tCount %s\" % (x[0],x[1]))\n",
    "                                                  \n",
    "    count_hashTags_windowed = hashTags.countByValue() \\\n",
    "                                .transform(lambda rdd:rdd .sortBy(lambda x:-x[1])) \\\n",
    "                                .map(lambda x:\"hashTag counts one minute rolling:\\tValue %s\\tCount %s\" % (x[0],x[1]))\n",
    "\n",
    "    # Write totals to stdout\n",
    "    count_this_batch.pprint()\n",
    "    count_windowed.pprint()                              \n",
    "    count_hashTags.pprint(5)\n",
    "    count_hashTags_windowed.pprint(5)\n",
    "\n",
    "    return ssc"
   ]
  },
  {
   "cell_type": "markdown",
   "metadata": {},
   "source": [
    "#### Start the streaming context"
   ]
  },
  {
   "cell_type": "code",
   "execution_count": null,
   "metadata": {
    "collapsed": true
   },
   "outputs": [],
   "source": [
    "# checkpoint directory required for windowing functionality\n",
    "ssc = StreamingContext.getOrCreate('/tmp/checkpoint001',lambda: createStreamingContext())  \n",
    "ssc.start()  \n",
    "ssc.awaitTermination() "
   ]
  },
  {
   "cell_type": "code",
   "execution_count": null,
   "metadata": {
    "collapsed": true
   },
   "outputs": [],
   "source": [
    "ssc.stop()"
   ]
  }
 ],
 "metadata": {
  "kernelspec": {
   "display_name": "Python 2",
   "language": "python",
   "name": "python2"
  },
  "language_info": {
   "codemirror_mode": {
    "name": "ipython",
    "version": 2
   },
   "file_extension": ".py",
   "mimetype": "text/x-python",
   "name": "python",
   "nbconvert_exporter": "python",
   "pygments_lexer": "ipython2",
   "version": "2.7.13"
  }
 },
 "nbformat": 4,
 "nbformat_minor": 2
}
