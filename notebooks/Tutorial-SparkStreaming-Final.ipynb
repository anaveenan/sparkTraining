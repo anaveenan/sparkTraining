{
 "cells": [
  {
   "cell_type": "markdown",
   "metadata": {},
   "source": [
    "## This notebook is part of Hadoop and Spark training delivered by IT-DB group\n",
    "### SPARK Streaming Hands-On Lab\n",
    "_ by Prasanth Kothuri _"
   ]
  },
  {
   "cell_type": "markdown",
   "metadata": {},
   "source": [
    "### Hands-On 1 - Stream processing using Spark Streaming and Kafka\n",
    "*This demonstrates processing of unbounded data from Kafka topic and perform simple string manipulations and aggregations*"
   ]
  },
  {
   "cell_type": "markdown",
   "metadata": {},
   "source": [
    "#### Import the required modules"
   ]
  },
  {
   "cell_type": "code",
   "execution_count": null,
   "metadata": {
    "collapsed": true
   },
   "outputs": [],
   "source": [
    "import os\n",
    "import json\n",
    "from pyspark import SparkConf, SparkContext\n",
    "from pyspark.sql import SparkSession\n",
    "from pyspark.streaming import StreamingContext\n",
    "from pyspark.streaming.kafka import KafkaUtils"
   ]
  },
  {
   "cell_type": "markdown",
   "metadata": {},
   "source": [
    "#### Make spark streaming kafka module available to Spark executors"
   ]
  },
  {
   "cell_type": "code",
   "execution_count": null,
   "metadata": {
    "collapsed": true
   },
   "outputs": [],
   "source": [
    "os.environ['PYSPARK_SUBMIT_ARGS'] = '--packages org.apache.spark:spark-streaming-kafka-0-8_2.11:2.1.0 pyspark-shell'"
   ]
  },
  {
   "cell_type": "markdown",
   "metadata": {},
   "source": [
    "#### Create SparkContext"
   ]
  },
  {
   "cell_type": "code",
   "execution_count": null,
   "metadata": {
    "collapsed": true
   },
   "outputs": [],
   "source": [
    "conf = SparkConf().setMaster(\"local[*]\").set(\"spark.driver.memory\", \"2g\").set(\"spark.executor.memory\", \"2g\")\n",
    "sc = SparkContext(conf = conf)"
   ]
  },
  {
   "cell_type": "markdown",
   "metadata": {},
   "source": [
    "#### Create streaming context"
   ]
  },
  {
   "cell_type": "code",
   "execution_count": null,
   "metadata": {
    "collapsed": true
   },
   "outputs": [],
   "source": [
    "ssc = StreamingContext(sc, 60)"
   ]
  },
  {
   "cell_type": "markdown",
   "metadata": {},
   "source": [
    "#### Hook upto kafka topic"
   ]
  },
  {
   "cell_type": "code",
   "execution_count": null,
   "metadata": {
    "collapsed": true
   },
   "outputs": [],
   "source": [
    "kafkaStream = KafkaUtils.createStream(ssc, 'sstreaming:2181', 'spark-streaming-pkothuri', {'twitter_json':1})"
   ]
  },
  {
   "cell_type": "markdown",
   "metadata": {},
   "source": [
    "#### Parse the messages into json"
   ]
  },
  {
   "cell_type": "code",
   "execution_count": null,
   "metadata": {
    "collapsed": true
   },
   "outputs": [],
   "source": [
    "tweets_json = kafkaStream.map(lambda x: json.loads(x[1]))"
   ]
  },
  {
   "cell_type": "markdown",
   "metadata": {},
   "source": [
    "#### Number of tweets in each batch"
   ]
  },
  {
   "cell_type": "code",
   "execution_count": null,
   "metadata": {
    "collapsed": true
   },
   "outputs": [],
   "source": [
    "tweets_json.count().map(lambda x:'Number of tweets in this batch: %s' % x).pprint()"
   ]
  },
  {
   "cell_type": "markdown",
   "metadata": {},
   "source": [
    "#### Count tweets by location"
   ]
  },
  {
   "cell_type": "code",
   "execution_count": null,
   "metadata": {
    "collapsed": true
   },
   "outputs": [],
   "source": [
    "location_counts = tweets_json.map(lambda tweet: tweet['payload']['user']['location']).countByValue()"
   ]
  },
  {
   "cell_type": "code",
   "execution_count": null,
   "metadata": {
    "collapsed": true
   },
   "outputs": [],
   "source": [
    "top_locations = location_counts \\\n",
    "    .transform( (lambda foo:foo .sortBy(lambda x:( -x[1]))) ) \\\n",
    "    .transform(lambda rdd:sc.parallelize(rdd.take(5)))"
   ]
  },
  {
   "cell_type": "code",
   "execution_count": null,
   "metadata": {
    "collapsed": true
   },
   "outputs": [],
   "source": [
    "top_locations.pprint()"
   ]
  },
  {
   "cell_type": "markdown",
   "metadata": {},
   "source": [
    "#### High frequency words in the tweets"
   ]
  },
  {
   "cell_type": "code",
   "execution_count": null,
   "metadata": {
    "collapsed": true
   },
   "outputs": [],
   "source": [
    "tweets_json \\\n",
    "    .flatMap(lambda tweet:tweet['payload']['text'].split(\" \")) \\\n",
    "    .countByValue() \\\n",
    "    .transform(lambda rdd:rdd.sortBy(lambda x:-x[1])) \\\n",
    "    .pprint()"
   ]
  },
  {
   "cell_type": "markdown",
   "metadata": {},
   "source": [
    "#### Start the streaming context"
   ]
  },
  {
   "cell_type": "code",
   "execution_count": null,
   "metadata": {
    "collapsed": true
   },
   "outputs": [],
   "source": [
    "ssc.start()\n",
    "ssc.awaitTermination(timeout=180)"
   ]
  },
  {
   "cell_type": "markdown",
   "metadata": {},
   "source": [
    "#### stop the streaming context"
   ]
  },
  {
   "cell_type": "code",
   "execution_count": null,
   "metadata": {
    "collapsed": true
   },
   "outputs": [],
   "source": [
    "ssc.stop()"
   ]
  },
  {
   "cell_type": "markdown",
   "metadata": {},
   "source": [
    "### Hands-On 2 - Stream processing using Spark Streaming and Kafka\n",
    "*This demonstrates spark streaming window operations*"
   ]
  },
  {
   "cell_type": "markdown",
   "metadata": {},
   "source": [
    "#### Restart the kernel to clear all the variables; we are going to create streaming context again\n",
    "In the top menu, Kernel -> Restart"
   ]
  },
  {
   "cell_type": "markdown",
   "metadata": {},
   "source": [
    "#### Import the required modules"
   ]
  },
  {
   "cell_type": "code",
   "execution_count": null,
   "metadata": {
    "collapsed": true
   },
   "outputs": [],
   "source": [
    "import os\n",
    "import json\n",
    "from pyspark import SparkConf, SparkContext\n",
    "from pyspark.sql import SparkSession\n",
    "from pyspark.streaming import StreamingContext\n",
    "from pyspark.streaming.kafka import KafkaUtils"
   ]
  },
  {
   "cell_type": "markdown",
   "metadata": {},
   "source": [
    "#### Make spark streaming kafka module available to Spark executors"
   ]
  },
  {
   "cell_type": "code",
   "execution_count": null,
   "metadata": {
    "collapsed": true
   },
   "outputs": [],
   "source": [
    "os.environ['PYSPARK_SUBMIT_ARGS'] = '--packages org.apache.spark:spark-streaming-kafka-0-8_2.11:2.1.0 pyspark-shell'"
   ]
  },
  {
   "cell_type": "markdown",
   "metadata": {},
   "source": [
    "#### Window functionality stream processing code"
   ]
  },
  {
   "cell_type": "code",
   "execution_count": null,
   "metadata": {
    "collapsed": true
   },
   "outputs": [],
   "source": [
    "def createStreamingContext():  \n",
    "    conf = SparkConf().setMaster(\"local[*]\").set(\"spark.driver.memory\", \"2g\").set(\"spark.executor.memory\", \"2g\")\n",
    "    sc = SparkContext(conf = conf)\n",
    "    ssc = StreamingContext(sc, 10)\n",
    "\n",
    "    # Hook upto kafka topic (streamingcontext, zookeeper endpoint, consumer_name, dictionary of topic and offset)\n",
    "    kafkaStream = KafkaUtils.createStream(ssc, 'sstreaming:2181', 'spark-streaming-pkothuri', {'twitter_json':1})\n",
    "\n",
    "    # Extract and parse the tweets\n",
    "    tweets_json = kafkaStream.map(lambda x: json.loads(x[1]))\n",
    "    \n",
    "    # Number of tweets in this batch\n",
    "    count_this_batch = kafkaStream.count().map(lambda x:('Tweets this batch: %s' % x))\n",
    "\n",
    "    # One minute rolling counts\n",
    "    count_windowed = kafkaStream.countByWindow(60,10).map(lambda x:('Tweets total (One minute rolling count): %s' % x))\n",
    "    \n",
    "    # Top 10 hashtags\n",
    "    hashTags = tweets_json.map(lambda tweet: tweet['payload']['text']) \\\n",
    "                            .flatMap(lambda x : x.split(\" \")) \\\n",
    "                            .filter(lambda x: x.startswith(\"#\"))\n",
    "                                                  \n",
    "    count_hashTags = hashTags.countByValue() \\\n",
    "                                .transform(lambda rdd:rdd .sortBy(lambda x:-x[1])) \\\n",
    "                                .map(lambda x:\"hashTag counts this batch:\\tValue %s\\tCount %s\" % (x[0],x[1]))\n",
    "                                                  \n",
    "    count_hashTags_windowed = hashTags.countByValue() \\\n",
    "                                .transform(lambda rdd:rdd .sortBy(lambda x:-x[1])) \\\n",
    "                                .map(lambda x:\"hashTag counts one minute rolling:\\tValue %s\\tCount %s\" % (x[0],x[1]))\n",
    "\n",
    "    # Write totals to stdout\n",
    "    count_this_batch.pprint()\n",
    "    count_windowed.pprint()                              \n",
    "    count_hashTags.pprint(5)\n",
    "    count_hashTags_windowed.pprint(5)\n",
    "\n",
    "    return ssc"
   ]
  },
  {
   "cell_type": "markdown",
   "metadata": {},
   "source": [
    "#### Start the streaming context"
   ]
  },
  {
   "cell_type": "code",
   "execution_count": null,
   "metadata": {},
   "outputs": [],
   "source": [
    "# checkpoint directory required for windowing functionality\n",
    "ssc = StreamingContext.getOrCreate('/tmp/checkpoint001',lambda: createStreamingContext())  \n",
    "ssc.start()  \n",
    "ssc.awaitTermination() "
   ]
  },
  {
   "cell_type": "code",
   "execution_count": null,
   "metadata": {
    "collapsed": true
   },
   "outputs": [],
   "source": [
    "ssc.stop()"
   ]
  }
 ],
 "metadata": {
  "kernelspec": {
   "display_name": "Python 2",
   "language": "python",
   "name": "python2"
  },
  "language_info": {
   "codemirror_mode": {
    "name": "ipython",
    "version": 2
   },
   "file_extension": ".py",
   "mimetype": "text/x-python",
   "name": "python",
   "nbconvert_exporter": "python",
   "pygments_lexer": "ipython2",
   "version": "2.7.13"
  }
 },
 "nbformat": 4,
 "nbformat_minor": 2
}
