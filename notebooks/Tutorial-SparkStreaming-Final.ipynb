{
 "cells": [
  {
   "cell_type": "markdown",
   "metadata": {},
   "source": [
    "## This notebook is part of Hadoop and Spark training delivered by IT-DB group\n",
    "### SPARK Streaming Hands-On Lab\n",
    "_ by Prasanth Kothuri _"
   ]
  },
  {
   "cell_type": "markdown",
   "metadata": {},
   "source": [
    "### Hands-On 1 - Stream processing using Spark Streaming and Kafka\n",
    "*This demonstrates processing of unbounded data from Kafka topic and perform simple string manipulations and aggregations*"
   ]
  },
  {
   "cell_type": "markdown",
   "metadata": {},
   "source": [
    "#### Import the required modules"
   ]
  },
  {
   "cell_type": "code",
   "execution_count": 1,
   "metadata": {
    "collapsed": true
   },
   "outputs": [],
   "source": [
    "import os\n",
    "import json\n",
    "from pyspark import SparkConf, SparkContext\n",
    "from pyspark.sql import SparkSession\n",
    "from pyspark.streaming import StreamingContext\n",
    "from pyspark.streaming.kafka import KafkaUtils"
   ]
  },
  {
   "cell_type": "markdown",
   "metadata": {},
   "source": [
    "#### Make spark streaming kafka module available to Spark executors"
   ]
  },
  {
   "cell_type": "code",
   "execution_count": 2,
   "metadata": {
    "collapsed": true
   },
   "outputs": [],
   "source": [
    "os.environ['PYSPARK_SUBMIT_ARGS'] = '--packages org.apache.spark:spark-streaming-kafka-0-8_2.11:2.1.0 pyspark-shell'"
   ]
  },
  {
   "cell_type": "markdown",
   "metadata": {},
   "source": [
    "#### Create SparkContext"
   ]
  },
  {
   "cell_type": "code",
   "execution_count": 3,
   "metadata": {
    "collapsed": true
   },
   "outputs": [],
   "source": [
    "conf = SparkConf().setMaster(\"local[*]\").set(\"spark.driver.memory\", \"4g\")\n",
    "sc = SparkContext(conf = conf)"
   ]
  },
  {
   "cell_type": "markdown",
   "metadata": {},
   "source": [
    "#### Create streaming context"
   ]
  },
  {
   "cell_type": "code",
   "execution_count": 4,
   "metadata": {
    "collapsed": true
   },
   "outputs": [],
   "source": [
    "ssc = StreamingContext(sc, 60)"
   ]
  },
  {
   "cell_type": "markdown",
   "metadata": {},
   "source": [
    "#### Hook upto kafka topic"
   ]
  },
  {
   "cell_type": "code",
   "execution_count": 5,
   "metadata": {
    "collapsed": true
   },
   "outputs": [],
   "source": [
    "kafkaStream = KafkaUtils.createStream(ssc, 'sstreaming:2181', 'spark-streaming-pkothuri', {'twitter_json':1})"
   ]
  },
  {
   "cell_type": "markdown",
   "metadata": {},
   "source": [
    "#### Parse the messages into json"
   ]
  },
  {
   "cell_type": "code",
   "execution_count": 6,
   "metadata": {
    "collapsed": true
   },
   "outputs": [],
   "source": [
    "tweets_json = kafkaStream.map(lambda x: json.loads(x[1]))"
   ]
  },
  {
   "cell_type": "markdown",
   "metadata": {},
   "source": [
    "#### Number of tweets in each batch"
   ]
  },
  {
   "cell_type": "code",
   "execution_count": 7,
   "metadata": {
    "collapsed": true
   },
   "outputs": [],
   "source": [
    "tweets_json.count().map(lambda x:'Number of tweets in this batch: %s' % x).pprint()"
   ]
  },
  {
   "cell_type": "markdown",
   "metadata": {},
   "source": [
    "#### json returned from kafka\n",
    "```json\n",
    "{\n",
    "  \"payload\": {\n",
    "    \"id\": 935610640634449900,\n",
    "    \"created_at\": \"2017-11-28T20:45:34.000+0000\",\n",
    "    \"user\": {\n",
    "      \"id\": 290028823,\n",
    "      \"name\": \"TDB68\",\n",
    "      \"screen_name\": \"tbell1968\",\n",
    "      \"location\": \"Dallas\",\n",
    "      \"verified\": false,\n",
    "      \"friends_count\": 3031,\n",
    "      \"followers_count\": 2755,\n",
    "      \"statuses_count\": 60606\n",
    "    },\n",
    "    \"text\": \"RT @paulkrugman: At this point everyone should know that dynamic scoring won't make much difference; JCT estimate likely to look a l… \",\n",
    "    \"lang\": \"en\",\n",
    "    \"is_retweet\": true,\n",
    "    \"entities\": {\n",
    "      \"hashtags\": [],\n",
    "      \"media\": [],\n",
    "      \"urls\": [],\n",
    "      \"user_mentions\": [\n",
    "        {\n",
    "          \"id\": 17006157,\n",
    "          \"name\": \"Paul Krugman\",\n",
    "          \"screen_name\": \"paulkrugman\"\n",
    "        }\n",
    "      ]\n",
    "    }\n",
    "  }\n",
    "}\n",
    "```"
   ]
  },
  {
   "cell_type": "markdown",
   "metadata": {},
   "source": [
    "#### Count tweets by location"
   ]
  },
  {
   "cell_type": "code",
   "execution_count": 8,
   "metadata": {
    "collapsed": true
   },
   "outputs": [],
   "source": [
    "location_counts = tweets_json.map(lambda tweet: tweet['payload']['user']['location']).countByValue()"
   ]
  },
  {
   "cell_type": "code",
   "execution_count": 9,
   "metadata": {
    "collapsed": true
   },
   "outputs": [],
   "source": [
    "top_locations = location_counts \\\n",
    "    .transform( (lambda foo:foo .sortBy(lambda x:( -x[1]))) ) \\\n",
    "    .transform(lambda rdd:sc.parallelize(rdd.take(5)))"
   ]
  },
  {
   "cell_type": "code",
   "execution_count": 10,
   "metadata": {
    "collapsed": true
   },
   "outputs": [],
   "source": [
    "top_locations.pprint()"
   ]
  },
  {
   "cell_type": "markdown",
   "metadata": {},
   "source": [
    "#### High frequency words in the tweets"
   ]
  },
  {
   "cell_type": "code",
   "execution_count": 11,
   "metadata": {
    "collapsed": true
   },
   "outputs": [],
   "source": [
    "tweets_json \\\n",
    "    .flatMap(lambda tweet:tweet['payload']['text'].split(\" \")) \\\n",
    "    .countByValue() \\\n",
    "    .transform(lambda rdd:rdd.sortBy(lambda x:-x[1])) \\\n",
    "    .pprint()"
   ]
  },
  {
   "cell_type": "markdown",
   "metadata": {},
   "source": [
    "#### Start the streaming context"
   ]
  },
  {
   "cell_type": "code",
   "execution_count": 12,
   "metadata": {},
   "outputs": [
    {
     "name": "stdout",
     "output_type": "stream",
     "text": [
      "-------------------------------------------\n",
      "Time: 2018-04-17 21:18:00\n",
      "-------------------------------------------\n",
      "\n",
      "-------------------------------------------\n",
      "Time: 2018-04-17 21:18:00\n",
      "-------------------------------------------\n",
      "\n",
      "-------------------------------------------\n",
      "Time: 2018-04-17 21:18:00\n",
      "-------------------------------------------\n",
      "\n",
      "-------------------------------------------\n",
      "Time: 2018-04-17 21:19:00\n",
      "-------------------------------------------\n",
      "Number of tweets in this batch: 47878\n",
      "\n",
      "-------------------------------------------\n",
      "Time: 2018-04-17 21:19:00\n",
      "-------------------------------------------\n",
      "(None, 16016)\n",
      "(u'United States', 831)\n",
      "(u'London, England', 363)\n",
      "(u'UK', 357)\n",
      "(u'London', 335)\n",
      "\n",
      "-------------------------------------------\n",
      "Time: 2018-04-17 21:19:00\n",
      "-------------------------------------------\n",
      "(u'RT', 37387)\n",
      "(u'the', 25478)\n",
      "(u'to', 18257)\n",
      "(u'of', 15948)\n",
      "(u'in', 15876)\n",
      "(u'#Syria', 14461)\n",
      "(u'a', 10361)\n",
      "(u'and', 9853)\n",
      "(u'on', 8799)\n",
      "(u'is', 7407)\n",
      "...\n",
      "\n",
      "-------------------------------------------\n",
      "Time: 2018-04-17 21:20:00\n",
      "-------------------------------------------\n",
      "Number of tweets in this batch: 113\n",
      "\n",
      "-------------------------------------------\n",
      "Time: 2018-04-17 21:20:00\n",
      "-------------------------------------------\n",
      "(None, 40)\n",
      "(u'France', 7)\n",
      "(u'USA', 3)\n",
      "(u'\\u2764\\ufe0f', 2)\n",
      "(u'South West, England', 2)\n",
      "\n",
      "-------------------------------------------\n",
      "Time: 2018-04-17 21:20:00\n",
      "-------------------------------------------\n",
      "(u'RT', 94)\n",
      "(u'the', 44)\n",
      "(u'to', 33)\n",
      "(u'in', 32)\n",
      "(u'and', 25)\n",
      "(u'#Syria', 22)\n",
      "(u'of', 21)\n",
      "(u'on', 19)\n",
      "(u'a', 18)\n",
      "(u'with', 14)\n",
      "...\n",
      "\n"
     ]
    }
   ],
   "source": [
    "ssc.start()\n",
    "ssc.awaitTermination(timeout=180)"
   ]
  },
  {
   "cell_type": "markdown",
   "metadata": {},
   "source": [
    "#### stop the streaming context"
   ]
  },
  {
   "cell_type": "code",
   "execution_count": 13,
   "metadata": {
    "collapsed": true
   },
   "outputs": [],
   "source": [
    "ssc.stop()"
   ]
  },
  {
   "cell_type": "markdown",
   "metadata": {},
   "source": [
    "### Hands-On 2 - Stream processing using Spark Streaming and Kafka\n",
    "*This demonstrates spark streaming window operations*"
   ]
  },
  {
   "cell_type": "markdown",
   "metadata": {},
   "source": [
    "#### Restart the kernel to clear all the variables; we are going to create streaming context again\n",
    "In the top menu, Kernel -> Restart"
   ]
  },
  {
   "cell_type": "markdown",
   "metadata": {},
   "source": [
    "#### Import the required modules"
   ]
  },
  {
   "cell_type": "code",
   "execution_count": 1,
   "metadata": {
    "collapsed": true
   },
   "outputs": [],
   "source": [
    "import os\n",
    "import json\n",
    "from pyspark import SparkConf, SparkContext\n",
    "from pyspark.sql import SparkSession\n",
    "from pyspark.streaming import StreamingContext\n",
    "from pyspark.streaming.kafka import KafkaUtils"
   ]
  },
  {
   "cell_type": "markdown",
   "metadata": {},
   "source": [
    "#### Make spark streaming kafka module available to Spark executors"
   ]
  },
  {
   "cell_type": "code",
   "execution_count": 2,
   "metadata": {
    "collapsed": true
   },
   "outputs": [],
   "source": [
    "os.environ['PYSPARK_SUBMIT_ARGS'] = '--packages org.apache.spark:spark-streaming-kafka-0-8_2.11:2.1.0 pyspark-shell'"
   ]
  },
  {
   "cell_type": "markdown",
   "metadata": {},
   "source": [
    "#### Window functionality stream processing code"
   ]
  },
  {
   "cell_type": "code",
   "execution_count": 14,
   "metadata": {
    "collapsed": true
   },
   "outputs": [],
   "source": [
    "def createStreamingContext():  \n",
    "    conf = SparkConf().setMaster(\"local[*]\").set(\"spark.driver.memory\", \"2g\").set(\"spark.executor.memory\", \"2g\")\n",
    "    sc = SparkContext(conf = conf)\n",
    "    ssc = StreamingContext(sc, 10)\n",
    "\n",
    "    # Hook upto kafka topic (streamingcontext, zookeeper endpoint, consumer_name, dictionary of topic and offset)\n",
    "    kafkaStream = KafkaUtils.createStream(ssc, 'sstreaming:2181', 'spark-streaming-pkothuri', {'twitter_json':1})\n",
    "\n",
    "    # Extract and parse the tweets\n",
    "    tweets_json = kafkaStream.map(lambda x: json.loads(x[1]))\n",
    "    \n",
    "    # Number of tweets in this batch\n",
    "    count_this_batch = kafkaStream.count().map(lambda x:('Tweets this batch: %s' % x))\n",
    "\n",
    "    # One minute rolling counts\n",
    "    count_windowed = kafkaStream.countByWindow(60,10).map(lambda x:('Tweets total (One minute rolling count): %s' % x))\n",
    "    \n",
    "    # Top 10 hashtags\n",
    "    hashTags = tweets_json.map(lambda tweet: tweet['payload']['text']) \\\n",
    "                            .flatMap(lambda x : x.split(\" \")) \\\n",
    "                            .filter(lambda x: x.startswith(\"#\"))\n",
    "                                                  \n",
    "    count_hashTags = hashTags.countByValue() \\\n",
    "                                .transform(lambda rdd:rdd .sortBy(lambda x:-x[1])) \\\n",
    "                                .map(lambda x:\"hashTag counts this batch:\\tValue %s\\tCount %s\" % (x[0],x[1]))\n",
    "                                                  \n",
    "    count_hashTags_windowed = hashTags.countByValueAndWindow(60,10) \\\n",
    "                                .transform(lambda rdd:rdd .sortBy(lambda x:-x[1])) \\\n",
    "                                .map(lambda x:\"hashTag counts one minute rolling:\\tValue %s\\tCount %s\" % (x[0],x[1]))\n",
    "\n",
    "    # Write totals to stdout\n",
    "    count_this_batch.pprint()\n",
    "    count_windowed.pprint()                              \n",
    "    count_hashTags.pprint(5)\n",
    "    count_hashTags_windowed.pprint(5)\n",
    "\n",
    "    return ssc"
   ]
  },
  {
   "cell_type": "markdown",
   "metadata": {},
   "source": [
    "#### Start the streaming context"
   ]
  },
  {
   "cell_type": "code",
   "execution_count": null,
   "metadata": {},
   "outputs": [
    {
     "name": "stdout",
     "output_type": "stream",
     "text": [
      "-------------------------------------------\n",
      "Time: 2018-04-17 21:27:40\n",
      "-------------------------------------------\n",
      "Tweets this batch: 615\n",
      "\n",
      "-------------------------------------------\n",
      "Time: 2018-04-17 21:27:40\n",
      "-------------------------------------------\n",
      "Tweets total (One minute rolling count): 615\n",
      "\n",
      "-------------------------------------------\n",
      "Time: 2018-04-17 21:27:40\n",
      "-------------------------------------------\n",
      "hashTag counts this batch:\tValue #Syria\tCount 183\n",
      "hashTag counts this batch:\tValue #syria\tCount 27\n",
      "hashTag counts this batch:\tValue #Syria,\tCount 24\n",
      "hashTag counts this batch:\tValue #Douma\tCount 22\n",
      "hashTag counts this batch:\tValue #Syria:\tCount 15\n",
      "...\n",
      "\n",
      "-------------------------------------------\n",
      "Time: 2018-04-17 21:27:40\n",
      "-------------------------------------------\n",
      "hashTag counts one minute rolling:\tValue #Syria\tCount 183\n",
      "hashTag counts one minute rolling:\tValue #syria\tCount 27\n",
      "hashTag counts one minute rolling:\tValue #Syria,\tCount 24\n",
      "hashTag counts one minute rolling:\tValue #Douma\tCount 22\n",
      "hashTag counts one minute rolling:\tValue #Syria:\tCount 15\n",
      "...\n",
      "\n",
      "-------------------------------------------\n",
      "Time: 2018-04-17 21:27:50\n",
      "-------------------------------------------\n",
      "Tweets this batch: 18\n",
      "\n",
      "-------------------------------------------\n",
      "Time: 2018-04-17 21:27:50\n",
      "-------------------------------------------\n",
      "Tweets total (One minute rolling count): 633\n",
      "\n",
      "-------------------------------------------\n",
      "Time: 2018-04-17 21:27:50\n",
      "-------------------------------------------\n",
      "hashTag counts this batch:\tValue #Syria\tCount 10\n",
      "hashTag counts this batch:\tValue #SyriaStrike\n",
      "\tCount 3\n",
      "hashTag counts this batch:\tValue #SyriaStatement\tCount 1\n",
      "hashTag counts this batch:\tValue #France\tCount 1\n",
      "hashTag counts this batch:\tValue #Hama\tCount 1\n",
      "...\n",
      "\n",
      "-------------------------------------------\n",
      "Time: 2018-04-17 21:27:50\n",
      "-------------------------------------------\n",
      "hashTag counts one minute rolling:\tValue #Syria\tCount 193\n",
      "hashTag counts one minute rolling:\tValue #syria\tCount 27\n",
      "hashTag counts one minute rolling:\tValue #Syria,\tCount 24\n",
      "hashTag counts one minute rolling:\tValue #Douma\tCount 22\n",
      "hashTag counts one minute rolling:\tValue #SyriaStrike\n",
      "\tCount 16\n",
      "...\n",
      "\n",
      "-------------------------------------------\n",
      "Time: 2018-04-17 21:28:00\n",
      "-------------------------------------------\n",
      "Tweets this batch: 13\n",
      "\n",
      "-------------------------------------------\n",
      "Time: 2018-04-17 21:28:00\n",
      "-------------------------------------------\n",
      "Tweets total (One minute rolling count): 646\n",
      "\n",
      "-------------------------------------------\n",
      "Time: 2018-04-17 21:28:00\n",
      "-------------------------------------------\n",
      "hashTag counts this batch:\tValue #Syria\tCount 6\n",
      "hashTag counts this batch:\tValue #Syria's\tCount 1\n",
      "hashTag counts this batch:\tValue #EndAllWars\tCount 1\n",
      "hashTag counts this batch:\tValue #MH17\tCount 1\n",
      "hashTag counts this batch:\tValue #Iran's\tCount 1\n",
      "...\n",
      "\n",
      "-------------------------------------------\n",
      "Time: 2018-04-17 21:28:00\n",
      "-------------------------------------------\n",
      "hashTag counts one minute rolling:\tValue #Syria\tCount 199\n",
      "hashTag counts one minute rolling:\tValue #syria\tCount 27\n",
      "hashTag counts one minute rolling:\tValue #Syria,\tCount 24\n",
      "hashTag counts one minute rolling:\tValue #Douma\tCount 22\n",
      "hashTag counts one minute rolling:\tValue #SyriaStrike\n",
      "\tCount 17\n",
      "...\n",
      "\n",
      "-------------------------------------------\n",
      "Time: 2018-04-17 21:28:10\n",
      "-------------------------------------------\n",
      "Tweets this batch: 16\n",
      "\n",
      "-------------------------------------------\n",
      "Time: 2018-04-17 21:28:10\n",
      "-------------------------------------------\n",
      "Tweets total (One minute rolling count): 662\n",
      "\n",
      "-------------------------------------------\n",
      "Time: 2018-04-17 21:28:10\n",
      "-------------------------------------------\n",
      "hashTag counts this batch:\tValue #Syria\tCount 8\n",
      "hashTag counts this batch:\tValue #SyriaStrike\n",
      "\tCount 3\n",
      "hashTag counts this batch:\tValue #Zakharova:\tCount 2\n",
      "hashTag counts this batch:\tValue #Syria,\tCount 1\n",
      "hashTag counts this batch:\tValue #Hama\tCount 1\n",
      "...\n",
      "\n",
      "-------------------------------------------\n",
      "Time: 2018-04-17 21:28:10\n",
      "-------------------------------------------\n",
      "hashTag counts one minute rolling:\tValue #Syria\tCount 207\n",
      "hashTag counts one minute rolling:\tValue #syria\tCount 27\n",
      "hashTag counts one minute rolling:\tValue #Syria,\tCount 25\n",
      "hashTag counts one minute rolling:\tValue #Douma\tCount 22\n",
      "hashTag counts one minute rolling:\tValue #SyriaStrike\n",
      "\tCount 20\n",
      "...\n",
      "\n",
      "-------------------------------------------\n",
      "Time: 2018-04-17 21:28:20\n",
      "-------------------------------------------\n",
      "Tweets this batch: 22\n",
      "\n",
      "-------------------------------------------\n",
      "Time: 2018-04-17 21:28:20\n",
      "-------------------------------------------\n",
      "Tweets total (One minute rolling count): 684\n",
      "\n",
      "-------------------------------------------\n",
      "Time: 2018-04-17 21:28:20\n",
      "-------------------------------------------\n",
      "hashTag counts this batch:\tValue #Syria\tCount 4\n",
      "hashTag counts this batch:\tValue #GainWi…\tCount 2\n",
      "hashTag counts this batch:\tValue #SYRIA\tCount 1\n",
      "hashTag counts this batch:\tValue #Syria,\tCount 1\n",
      "hashTag counts this batch:\tValue #Israel\tCount 1\n",
      "...\n",
      "\n",
      "-------------------------------------------\n",
      "Time: 2018-04-17 21:28:20\n",
      "-------------------------------------------\n",
      "hashTag counts one minute rolling:\tValue #Syria\tCount 211\n",
      "hashTag counts one minute rolling:\tValue #syria\tCount 27\n",
      "hashTag counts one minute rolling:\tValue #Syria,\tCount 26\n",
      "hashTag counts one minute rolling:\tValue #Douma\tCount 23\n",
      "hashTag counts one minute rolling:\tValue #SyriaStrike\n",
      "\tCount 21\n",
      "...\n",
      "\n",
      "-------------------------------------------\n",
      "Time: 2018-04-17 21:28:30\n",
      "-------------------------------------------\n",
      "Tweets this batch: 18\n",
      "\n",
      "-------------------------------------------\n",
      "Time: 2018-04-17 21:28:30\n",
      "-------------------------------------------\n",
      "Tweets total (One minute rolling count): 702\n",
      "\n",
      "-------------------------------------------\n",
      "Time: 2018-04-17 21:28:30\n",
      "-------------------------------------------\n",
      "hashTag counts this batch:\tValue #Syria\tCount 9\n",
      "hashTag counts this batch:\tValue #Hama\tCount 3\n",
      "hashTag counts this batch:\tValue #SyriaStrike\n",
      "\tCount 2\n",
      "hashTag counts this batch:\tValue #syria\tCount 1\n",
      "hashTag counts this batch:\tValue #Syria,\tCount 1\n",
      "...\n",
      "\n",
      "-------------------------------------------\n",
      "Time: 2018-04-17 21:28:30\n",
      "-------------------------------------------\n",
      "hashTag counts one minute rolling:\tValue #Syria\tCount 220\n",
      "hashTag counts one minute rolling:\tValue #syria\tCount 28\n",
      "hashTag counts one minute rolling:\tValue #Syria,\tCount 27\n",
      "hashTag counts one minute rolling:\tValue #Douma\tCount 24\n",
      "hashTag counts one minute rolling:\tValue #SyriaStrike\n",
      "\tCount 23\n",
      "...\n",
      "\n",
      "-------------------------------------------\n",
      "Time: 2018-04-17 21:28:40\n",
      "-------------------------------------------\n",
      "Tweets this batch: 17\n",
      "\n",
      "-------------------------------------------\n",
      "Time: 2018-04-17 21:28:40\n",
      "-------------------------------------------\n",
      "Tweets total (One minute rolling count): 104\n",
      "\n",
      "-------------------------------------------\n",
      "Time: 2018-04-17 21:28:40\n",
      "-------------------------------------------\n",
      "hashTag counts this batch:\tValue #Syria\tCount 6\n",
      "hashTag counts this batch:\tValue #SyriaStrike\n",
      "\tCount 3\n",
      "hashTag counts this batch:\tValue #Syria,\tCount 2\n",
      "hashTag counts this batch:\tValue #Douma,\tCount 2\n",
      "hashTag counts this batch:\tValue #syria\tCount 1\n",
      "...\n",
      "\n",
      "-------------------------------------------\n",
      "Time: 2018-04-17 21:28:40\n",
      "-------------------------------------------\n",
      "hashTag counts one minute rolling:\tValue #Syria\tCount 43\n",
      "hashTag counts one minute rolling:\tValue #SyriaStrike\n",
      "\tCount 13\n",
      "hashTag counts one minute rolling:\tValue #Syria,\tCount 5\n",
      "hashTag counts one minute rolling:\tValue #Hama\tCount 5\n",
      "hashTag counts one minute rolling:\tValue #Zakharova:\tCount 5\n",
      "...\n",
      "\n",
      "-------------------------------------------\n",
      "Time: 2018-04-17 21:28:50\n",
      "-------------------------------------------\n",
      "Tweets this batch: 23\n",
      "\n",
      "-------------------------------------------\n",
      "Time: 2018-04-17 21:28:50\n",
      "-------------------------------------------\n",
      "Tweets total (One minute rolling count): 109\n",
      "\n",
      "-------------------------------------------\n",
      "Time: 2018-04-17 21:28:50\n",
      "-------------------------------------------\n",
      "hashTag counts this batch:\tValue #Syria\tCount 6\n",
      "hashTag counts this batch:\tValue #Syria,\tCount 2\n",
      "hashTag counts this batch:\tValue #patreon\tCount 1\n",
      "hashTag counts this batch:\tValue #Windrush\tCount 1\n",
      "hashTag counts this batch:\tValue #France\tCount 1\n",
      "...\n",
      "\n"
     ]
    },
    {
     "name": "stdout",
     "output_type": "stream",
     "text": [
      "-------------------------------------------\n",
      "Time: 2018-04-17 21:28:50\n",
      "-------------------------------------------\n",
      "hashTag counts one minute rolling:\tValue #Syria\tCount 39\n",
      "hashTag counts one minute rolling:\tValue #SyriaStrike\n",
      "\tCount 10\n",
      "hashTag counts one minute rolling:\tValue #Syria,\tCount 7\n",
      "hashTag counts one minute rolling:\tValue #Zakharova:\tCount 6\n",
      "hashTag counts one minute rolling:\tValue #Hama\tCount 4\n",
      "...\n",
      "\n",
      "-------------------------------------------\n",
      "Time: 2018-04-17 21:29:00\n",
      "-------------------------------------------\n",
      "Tweets this batch: 18\n",
      "\n",
      "-------------------------------------------\n",
      "Time: 2018-04-17 21:29:00\n",
      "-------------------------------------------\n",
      "Tweets total (One minute rolling count): 114\n",
      "\n",
      "-------------------------------------------\n",
      "Time: 2018-04-17 21:29:00\n",
      "-------------------------------------------\n",
      "hashTag counts this batch:\tValue #Syria\tCount 5\n",
      "hashTag counts this batch:\tValue #SyriaStrike\n",
      "\tCount 3\n",
      "hashTag counts this batch:\tValue #Syria,\tCount 2\n",
      "hashTag counts this batch:\tValue #MA…\tCount 1\n",
      "hashTag counts this batch:\tValue #Syria.\tCount 1\n",
      "...\n",
      "\n",
      "-------------------------------------------\n",
      "Time: 2018-04-17 21:29:00\n",
      "-------------------------------------------\n",
      "hashTag counts one minute rolling:\tValue #Syria\tCount 38\n",
      "hashTag counts one minute rolling:\tValue #SyriaStrike\n",
      "\tCount 12\n",
      "hashTag counts one minute rolling:\tValue #Syria,\tCount 9\n",
      "hashTag counts one minute rolling:\tValue #Zakharova:\tCount 6\n",
      "hashTag counts one minute rolling:\tValue #Hama\tCount 4\n",
      "...\n",
      "\n",
      "-------------------------------------------\n",
      "Time: 2018-04-17 21:29:10\n",
      "-------------------------------------------\n",
      "Tweets this batch: 29\n",
      "\n",
      "-------------------------------------------\n",
      "Time: 2018-04-17 21:29:10\n",
      "-------------------------------------------\n",
      "Tweets total (One minute rolling count): 127\n",
      "\n",
      "-------------------------------------------\n",
      "Time: 2018-04-17 21:29:10\n",
      "-------------------------------------------\n",
      "hashTag counts this batch:\tValue #Syria\tCount 12\n",
      "hashTag counts this batch:\tValue #syria\tCount 2\n",
      "hashTag counts this batch:\tValue #Syria's\tCount 2\n",
      "hashTag counts this batch:\tValue #Peace\tCount 2\n",
      "hashTag counts this batch:\tValue #SAA\tCount 2\n",
      "...\n",
      "\n",
      "-------------------------------------------\n",
      "Time: 2018-04-17 21:29:10\n",
      "-------------------------------------------\n",
      "hashTag counts one minute rolling:\tValue #Syria\tCount 42\n",
      "hashTag counts one minute rolling:\tValue #SyriaStrike\n",
      "\tCount 10\n",
      "hashTag counts one minute rolling:\tValue #Syria,\tCount 8\n",
      "hashTag counts one minute rolling:\tValue #Douma\tCount 5\n",
      "hashTag counts one minute rolling:\tValue #syria\tCount 4\n",
      "...\n",
      "\n"
     ]
    }
   ],
   "source": [
    "# checkpoint directory required for windowing functionality\n",
    "ssc = StreamingContext.getOrCreate('/tmp/checkpoint001',lambda: createStreamingContext())  \n",
    "ssc.start()  \n",
    "ssc.awaitTermination() "
   ]
  },
  {
   "cell_type": "code",
   "execution_count": null,
   "metadata": {
    "collapsed": true
   },
   "outputs": [],
   "source": [
    "ssc.stop()"
   ]
  }
 ],
 "metadata": {
  "kernelspec": {
   "display_name": "Python 2",
   "language": "python",
   "name": "python2"
  },
  "language_info": {
   "codemirror_mode": {
    "name": "ipython",
    "version": 2
   },
   "file_extension": ".py",
   "mimetype": "text/x-python",
   "name": "python",
   "nbconvert_exporter": "python",
   "pygments_lexer": "ipython2",
   "version": "2.7.13"
  }
 },
 "nbformat": 4,
 "nbformat_minor": 2
}
